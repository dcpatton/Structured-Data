{
  "nbformat": 4,
  "nbformat_minor": 0,
  "metadata": {
    "colab": {
      "name": "deep_solar.ipynb",
      "provenance": [],
      "authorship_tag": "ABX9TyMKQ7HkhqQFRoVIThQuE6dN",
      "include_colab_link": true
    },
    "kernelspec": {
      "name": "python3",
      "display_name": "Python 3"
    },
    "accelerator": "GPU"
  },
  "cells": [
    {
      "cell_type": "markdown",
      "metadata": {
        "id": "view-in-github",
        "colab_type": "text"
      },
      "source": [
        "<a href=\"https://colab.research.google.com/github/dcpatton/Structured-Data/blob/main/deep_solar.ipynb\" target=\"_parent\"><img src=\"https://colab.research.google.com/assets/colab-badge.svg\" alt=\"Open In Colab\"/></a>"
      ]
    },
    {
      "cell_type": "markdown",
      "metadata": {
        "id": "4aSGMNyQxG64"
      },
      "source": [
        "http://web.stanford.edu/group/deepsolar/home.html"
      ]
    },
    {
      "cell_type": "markdown",
      "metadata": {
        "id": "sy562WRhJCwP"
      },
      "source": [
        "TODO: \n",
        "\n",
        "1. Improve current model arch\n",
        "2. Predict a DeepSolar value and remove others.\n",
        "3. Predict multiple DeepSolar outputs\n",
        "\n"
      ]
    },
    {
      "cell_type": "code",
      "metadata": {
        "id": "p_XNDXK3WFI8",
        "outputId": "050abce3-9651-43cd-b557-12a137ab0175",
        "colab": {
          "base_uri": "https://localhost:8080/",
          "height": 35
        }
      },
      "source": [
        "import tensorflow as tf\n",
        "import random\n",
        "import pandas as pd\n",
        "pd.set_option('display.max_info_columns', 200)\n",
        "# pd.set_option('display.max_columns', 100)\n",
        "\n",
        "seed=53\n",
        "tf.random.set_seed(seed)\n",
        "random.seed(seed)\n",
        "\n",
        "tf.__version__"
      ],
      "execution_count": 1,
      "outputs": [
        {
          "output_type": "execute_result",
          "data": {
            "text/plain": [
              "'2.8.0'"
            ],
            "application/vnd.google.colaboratory.intrinsic+json": {
              "type": "string"
            }
          },
          "metadata": {},
          "execution_count": 1
        }
      ]
    },
    {
      "cell_type": "code",
      "metadata": {
        "id": "yDuH0hMDx_qd"
      },
      "source": [
        "# pd.reset_option('all')"
      ],
      "execution_count": 2,
      "outputs": []
    },
    {
      "cell_type": "markdown",
      "metadata": {
        "id": "zhz7jEl_Wbck"
      },
      "source": [
        "# Get the data"
      ]
    },
    {
      "cell_type": "code",
      "metadata": {
        "id": "B-_6QHxOWd6y",
        "outputId": "b174650a-7daa-429e-d628-85ed39cc5abe",
        "colab": {
          "base_uri": "https://localhost:8080/"
        }
      },
      "source": [
        "!curl http://web.stanford.edu/group/deepsolar/deepsolar_tract.csv -o deepsolar_tract.csv\n",
        "!curl http://web.stanford.edu/group/deepsolar/deepsolar_tract_meta.csv -o deepsolar_tract_meta.csv"
      ],
      "execution_count": 3,
      "outputs": [
        {
          "output_type": "stream",
          "name": "stdout",
          "text": [
            "  % Total    % Received % Xferd  Average Speed   Time    Time     Time  Current\n",
            "                                 Dload  Upload   Total   Spent    Left  Speed\n",
            "100  107M  100  107M    0     0  1785k      0  0:01:01  0:01:01 --:--:-- 1805k\n",
            "  % Total    % Received % Xferd  Average Speed   Time    Time     Time  Current\n",
            "                                 Dload  Upload   Total   Spent    Left  Speed\n",
            "100 15301  100 15301    0     0  55843      0 --:--:-- --:--:-- --:--:-- 55843\n"
          ]
        }
      ]
    },
    {
      "cell_type": "code",
      "metadata": {
        "id": "dLTXX1vIXhhs",
        "outputId": "e09dcb7b-ed30-445c-a7c1-2e6babb73179",
        "colab": {
          "base_uri": "https://localhost:8080/"
        }
      },
      "source": [
        "data_df = pd.read_csv('deepsolar_tract.csv', encoding='latin-1', index_col=0)\n",
        "data_df.shape"
      ],
      "execution_count": 4,
      "outputs": [
        {
          "output_type": "execute_result",
          "data": {
            "text/plain": [
              "(72537, 168)"
            ]
          },
          "metadata": {},
          "execution_count": 4
        }
      ]
    },
    {
      "cell_type": "code",
      "source": [
        "data_df.head()"
      ],
      "metadata": {
        "colab": {
          "base_uri": "https://localhost:8080/",
          "height": 386
        },
        "id": "PZI5J31iecb2",
        "outputId": "60b72f7f-7c87-47ea-f586-bfb597a9bbc3"
      },
      "execution_count": 5,
      "outputs": [
        {
          "output_type": "execute_result",
          "data": {
            "text/plain": [
              "   tile_count  solar_system_count  total_panel_area         fips  \\\n",
              "0         0.0                 0.0          0.000000  27145011200   \n",
              "1        25.0                21.0       1133.436461  27145011301   \n",
              "2         3.0                 3.0         64.505776  27145011302   \n",
              "3         0.0                 0.0          0.000000  27145011304   \n",
              "4         5.0                 5.0        164.583303  27145011400   \n",
              "\n",
              "   average_household_income          county  education_bachelor  \\\n",
              "0              70352.789869  Stearns County                 569   \n",
              "1              61727.085202  Stearns County                 674   \n",
              "2              71496.886583  Stearns County                 854   \n",
              "3              86840.152755  Stearns County                 640   \n",
              "4              89135.315597  Stearns County                 654   \n",
              "\n",
              "   education_college  education_doctoral  education_high_school_graduate  ...  \\\n",
              "0               1690                  13                            1757  ...   \n",
              "1               1434                 108                             767  ...   \n",
              "2               1459                  31                            1541  ...   \n",
              "3               1116                  68                            1095  ...   \n",
              "4               1314                  15                             982  ...   \n",
              "\n",
              "   incentive_count_nonresidential  incentive_residential_state_level  \\\n",
              "0                              39                                 11   \n",
              "1                              39                                 11   \n",
              "2                              39                                 11   \n",
              "3                              39                                 11   \n",
              "4                              39                                 11   \n",
              "\n",
              "   incentive_nonresidential_state_level  net_metering  feedin_tariff  \\\n",
              "0                                    13            34              0   \n",
              "1                                    13            34              0   \n",
              "2                                    13            34              0   \n",
              "3                                    13            34              0   \n",
              "4                                    13            34              0   \n",
              "\n",
              "   cooperate_tax  property_tax  sales_tax  rebate  avg_electricity_retail_rate  \n",
              "0              0            25         12       0                         9.46  \n",
              "1              0            25         12       0                         9.46  \n",
              "2              0            25         12       0                         9.46  \n",
              "3              0            25         12       0                         9.46  \n",
              "4              0            25         12       0                         9.46  \n",
              "\n",
              "[5 rows x 168 columns]"
            ],
            "text/html": [
              "\n",
              "  <div id=\"df-12b4fdb4-6a22-458b-acdc-e7cd5ca896cb\">\n",
              "    <div class=\"colab-df-container\">\n",
              "      <div>\n",
              "<style scoped>\n",
              "    .dataframe tbody tr th:only-of-type {\n",
              "        vertical-align: middle;\n",
              "    }\n",
              "\n",
              "    .dataframe tbody tr th {\n",
              "        vertical-align: top;\n",
              "    }\n",
              "\n",
              "    .dataframe thead th {\n",
              "        text-align: right;\n",
              "    }\n",
              "</style>\n",
              "<table border=\"1\" class=\"dataframe\">\n",
              "  <thead>\n",
              "    <tr style=\"text-align: right;\">\n",
              "      <th></th>\n",
              "      <th>tile_count</th>\n",
              "      <th>solar_system_count</th>\n",
              "      <th>total_panel_area</th>\n",
              "      <th>fips</th>\n",
              "      <th>average_household_income</th>\n",
              "      <th>county</th>\n",
              "      <th>education_bachelor</th>\n",
              "      <th>education_college</th>\n",
              "      <th>education_doctoral</th>\n",
              "      <th>education_high_school_graduate</th>\n",
              "      <th>...</th>\n",
              "      <th>incentive_count_nonresidential</th>\n",
              "      <th>incentive_residential_state_level</th>\n",
              "      <th>incentive_nonresidential_state_level</th>\n",
              "      <th>net_metering</th>\n",
              "      <th>feedin_tariff</th>\n",
              "      <th>cooperate_tax</th>\n",
              "      <th>property_tax</th>\n",
              "      <th>sales_tax</th>\n",
              "      <th>rebate</th>\n",
              "      <th>avg_electricity_retail_rate</th>\n",
              "    </tr>\n",
              "  </thead>\n",
              "  <tbody>\n",
              "    <tr>\n",
              "      <th>0</th>\n",
              "      <td>0.0</td>\n",
              "      <td>0.0</td>\n",
              "      <td>0.000000</td>\n",
              "      <td>27145011200</td>\n",
              "      <td>70352.789869</td>\n",
              "      <td>Stearns County</td>\n",
              "      <td>569</td>\n",
              "      <td>1690</td>\n",
              "      <td>13</td>\n",
              "      <td>1757</td>\n",
              "      <td>...</td>\n",
              "      <td>39</td>\n",
              "      <td>11</td>\n",
              "      <td>13</td>\n",
              "      <td>34</td>\n",
              "      <td>0</td>\n",
              "      <td>0</td>\n",
              "      <td>25</td>\n",
              "      <td>12</td>\n",
              "      <td>0</td>\n",
              "      <td>9.46</td>\n",
              "    </tr>\n",
              "    <tr>\n",
              "      <th>1</th>\n",
              "      <td>25.0</td>\n",
              "      <td>21.0</td>\n",
              "      <td>1133.436461</td>\n",
              "      <td>27145011301</td>\n",
              "      <td>61727.085202</td>\n",
              "      <td>Stearns County</td>\n",
              "      <td>674</td>\n",
              "      <td>1434</td>\n",
              "      <td>108</td>\n",
              "      <td>767</td>\n",
              "      <td>...</td>\n",
              "      <td>39</td>\n",
              "      <td>11</td>\n",
              "      <td>13</td>\n",
              "      <td>34</td>\n",
              "      <td>0</td>\n",
              "      <td>0</td>\n",
              "      <td>25</td>\n",
              "      <td>12</td>\n",
              "      <td>0</td>\n",
              "      <td>9.46</td>\n",
              "    </tr>\n",
              "    <tr>\n",
              "      <th>2</th>\n",
              "      <td>3.0</td>\n",
              "      <td>3.0</td>\n",
              "      <td>64.505776</td>\n",
              "      <td>27145011302</td>\n",
              "      <td>71496.886583</td>\n",
              "      <td>Stearns County</td>\n",
              "      <td>854</td>\n",
              "      <td>1459</td>\n",
              "      <td>31</td>\n",
              "      <td>1541</td>\n",
              "      <td>...</td>\n",
              "      <td>39</td>\n",
              "      <td>11</td>\n",
              "      <td>13</td>\n",
              "      <td>34</td>\n",
              "      <td>0</td>\n",
              "      <td>0</td>\n",
              "      <td>25</td>\n",
              "      <td>12</td>\n",
              "      <td>0</td>\n",
              "      <td>9.46</td>\n",
              "    </tr>\n",
              "    <tr>\n",
              "      <th>3</th>\n",
              "      <td>0.0</td>\n",
              "      <td>0.0</td>\n",
              "      <td>0.000000</td>\n",
              "      <td>27145011304</td>\n",
              "      <td>86840.152755</td>\n",
              "      <td>Stearns County</td>\n",
              "      <td>640</td>\n",
              "      <td>1116</td>\n",
              "      <td>68</td>\n",
              "      <td>1095</td>\n",
              "      <td>...</td>\n",
              "      <td>39</td>\n",
              "      <td>11</td>\n",
              "      <td>13</td>\n",
              "      <td>34</td>\n",
              "      <td>0</td>\n",
              "      <td>0</td>\n",
              "      <td>25</td>\n",
              "      <td>12</td>\n",
              "      <td>0</td>\n",
              "      <td>9.46</td>\n",
              "    </tr>\n",
              "    <tr>\n",
              "      <th>4</th>\n",
              "      <td>5.0</td>\n",
              "      <td>5.0</td>\n",
              "      <td>164.583303</td>\n",
              "      <td>27145011400</td>\n",
              "      <td>89135.315597</td>\n",
              "      <td>Stearns County</td>\n",
              "      <td>654</td>\n",
              "      <td>1314</td>\n",
              "      <td>15</td>\n",
              "      <td>982</td>\n",
              "      <td>...</td>\n",
              "      <td>39</td>\n",
              "      <td>11</td>\n",
              "      <td>13</td>\n",
              "      <td>34</td>\n",
              "      <td>0</td>\n",
              "      <td>0</td>\n",
              "      <td>25</td>\n",
              "      <td>12</td>\n",
              "      <td>0</td>\n",
              "      <td>9.46</td>\n",
              "    </tr>\n",
              "  </tbody>\n",
              "</table>\n",
              "<p>5 rows × 168 columns</p>\n",
              "</div>\n",
              "      <button class=\"colab-df-convert\" onclick=\"convertToInteractive('df-12b4fdb4-6a22-458b-acdc-e7cd5ca896cb')\"\n",
              "              title=\"Convert this dataframe to an interactive table.\"\n",
              "              style=\"display:none;\">\n",
              "        \n",
              "  <svg xmlns=\"http://www.w3.org/2000/svg\" height=\"24px\"viewBox=\"0 0 24 24\"\n",
              "       width=\"24px\">\n",
              "    <path d=\"M0 0h24v24H0V0z\" fill=\"none\"/>\n",
              "    <path d=\"M18.56 5.44l.94 2.06.94-2.06 2.06-.94-2.06-.94-.94-2.06-.94 2.06-2.06.94zm-11 1L8.5 8.5l.94-2.06 2.06-.94-2.06-.94L8.5 2.5l-.94 2.06-2.06.94zm10 10l.94 2.06.94-2.06 2.06-.94-2.06-.94-.94-2.06-.94 2.06-2.06.94z\"/><path d=\"M17.41 7.96l-1.37-1.37c-.4-.4-.92-.59-1.43-.59-.52 0-1.04.2-1.43.59L10.3 9.45l-7.72 7.72c-.78.78-.78 2.05 0 2.83L4 21.41c.39.39.9.59 1.41.59.51 0 1.02-.2 1.41-.59l7.78-7.78 2.81-2.81c.8-.78.8-2.07 0-2.86zM5.41 20L4 18.59l7.72-7.72 1.47 1.35L5.41 20z\"/>\n",
              "  </svg>\n",
              "      </button>\n",
              "      \n",
              "  <style>\n",
              "    .colab-df-container {\n",
              "      display:flex;\n",
              "      flex-wrap:wrap;\n",
              "      gap: 12px;\n",
              "    }\n",
              "\n",
              "    .colab-df-convert {\n",
              "      background-color: #E8F0FE;\n",
              "      border: none;\n",
              "      border-radius: 50%;\n",
              "      cursor: pointer;\n",
              "      display: none;\n",
              "      fill: #1967D2;\n",
              "      height: 32px;\n",
              "      padding: 0 0 0 0;\n",
              "      width: 32px;\n",
              "    }\n",
              "\n",
              "    .colab-df-convert:hover {\n",
              "      background-color: #E2EBFA;\n",
              "      box-shadow: 0px 1px 2px rgba(60, 64, 67, 0.3), 0px 1px 3px 1px rgba(60, 64, 67, 0.15);\n",
              "      fill: #174EA6;\n",
              "    }\n",
              "\n",
              "    [theme=dark] .colab-df-convert {\n",
              "      background-color: #3B4455;\n",
              "      fill: #D2E3FC;\n",
              "    }\n",
              "\n",
              "    [theme=dark] .colab-df-convert:hover {\n",
              "      background-color: #434B5C;\n",
              "      box-shadow: 0px 1px 3px 1px rgba(0, 0, 0, 0.15);\n",
              "      filter: drop-shadow(0px 1px 2px rgba(0, 0, 0, 0.3));\n",
              "      fill: #FFFFFF;\n",
              "    }\n",
              "  </style>\n",
              "\n",
              "      <script>\n",
              "        const buttonEl =\n",
              "          document.querySelector('#df-12b4fdb4-6a22-458b-acdc-e7cd5ca896cb button.colab-df-convert');\n",
              "        buttonEl.style.display =\n",
              "          google.colab.kernel.accessAllowed ? 'block' : 'none';\n",
              "\n",
              "        async function convertToInteractive(key) {\n",
              "          const element = document.querySelector('#df-12b4fdb4-6a22-458b-acdc-e7cd5ca896cb');\n",
              "          const dataTable =\n",
              "            await google.colab.kernel.invokeFunction('convertToInteractive',\n",
              "                                                     [key], {});\n",
              "          if (!dataTable) return;\n",
              "\n",
              "          const docLinkHtml = 'Like what you see? Visit the ' +\n",
              "            '<a target=\"_blank\" href=https://colab.research.google.com/notebooks/data_table.ipynb>data table notebook</a>'\n",
              "            + ' to learn more about interactive tables.';\n",
              "          element.innerHTML = '';\n",
              "          dataTable['output_type'] = 'display_data';\n",
              "          await google.colab.output.renderOutput(dataTable, element);\n",
              "          const docLink = document.createElement('div');\n",
              "          docLink.innerHTML = docLinkHtml;\n",
              "          element.appendChild(docLink);\n",
              "        }\n",
              "      </script>\n",
              "    </div>\n",
              "  </div>\n",
              "  "
            ]
          },
          "metadata": {},
          "execution_count": 5
        }
      ]
    },
    {
      "cell_type": "code",
      "metadata": {
        "id": "WgbvU0JhaOud"
      },
      "source": [
        "assert data_df.fips.nunique() == data_df.shape[0]"
      ],
      "execution_count": 6,
      "outputs": []
    },
    {
      "cell_type": "code",
      "metadata": {
        "id": "1k-BbL0yagZB",
        "outputId": "1f5ad676-9736-47a0-b78c-02a34bdff6f9",
        "colab": {
          "base_uri": "https://localhost:8080/"
        }
      },
      "source": [
        "# predict total_panel_area, so remove tile_count, solar_system_count, heating fuel data, solar panel , tile_count_, solar_system_, total_panel_area_, number_of_solar\n",
        "data_df.info()"
      ],
      "execution_count": 7,
      "outputs": [
        {
          "output_type": "stream",
          "name": "stdout",
          "text": [
            "<class 'pandas.core.frame.DataFrame'>\n",
            "Int64Index: 72537 entries, 0 to 72537\n",
            "Data columns (total 168 columns):\n",
            " #    Column                                   Non-Null Count  Dtype  \n",
            "---   ------                                   --------------  -----  \n",
            " 0    tile_count                               72537 non-null  float64\n",
            " 1    solar_system_count                       72537 non-null  float64\n",
            " 2    total_panel_area                         72537 non-null  float64\n",
            " 3    fips                                     72537 non-null  int64  \n",
            " 4    average_household_income                 71651 non-null  float64\n",
            " 5    county                                   72537 non-null  object \n",
            " 6    education_bachelor                       72537 non-null  int64  \n",
            " 7    education_college                        72537 non-null  int64  \n",
            " 8    education_doctoral                       72537 non-null  int64  \n",
            " 9    education_high_school_graduate           72537 non-null  int64  \n",
            " 10   education_less_than_high_school          72537 non-null  int64  \n",
            " 11   education_master                         72537 non-null  int64  \n",
            " 12   education_population                     72537 non-null  int64  \n",
            " 13   education_professional_school            72537 non-null  int64  \n",
            " 14   employed                                 72537 non-null  int64  \n",
            " 15   gini_index                               71690 non-null  float64\n",
            " 16   heating_fuel_coal_coke                   72537 non-null  int64  \n",
            " 17   heating_fuel_electricity                 72537 non-null  int64  \n",
            " 18   heating_fuel_fuel_oil_kerosene           72537 non-null  int64  \n",
            " 19   heating_fuel_gas                         72537 non-null  int64  \n",
            " 20   heating_fuel_housing_unit_count          72537 non-null  int64  \n",
            " 21   heating_fuel_none                        72537 non-null  int64  \n",
            " 22   heating_fuel_other                       72537 non-null  int64  \n",
            " 23   heating_fuel_solar                       72537 non-null  int64  \n",
            " 24   land_area                                72513 non-null  float64\n",
            " 25   per_capita_income                        71894 non-null  float64\n",
            " 26   population                               72537 non-null  int64  \n",
            " 27   population_density                       72221 non-null  float64\n",
            " 28   poverty_family_below_poverty_level       72537 non-null  int64  \n",
            " 29   poverty_family_count                     72537 non-null  int64  \n",
            " 30   race_asian                               72537 non-null  int64  \n",
            " 31   race_black_africa                        72537 non-null  int64  \n",
            " 32   race_indian_alaska                       72537 non-null  int64  \n",
            " 33   race_islander                            72537 non-null  int64  \n",
            " 34   race_other                               72537 non-null  int64  \n",
            " 35   race_two_more                            72537 non-null  int64  \n",
            " 36   race_white                               72537 non-null  int64  \n",
            " 37   state                                    72537 non-null  object \n",
            " 38   total_area                               72513 non-null  float64\n",
            " 39   unemployed                               72537 non-null  int64  \n",
            " 40   water_area                               72513 non-null  float64\n",
            " 41   education_less_than_high_school_rate     71930 non-null  float64\n",
            " 42   education_high_school_graduate_rate      71930 non-null  float64\n",
            " 43   education_college_rate                   71930 non-null  float64\n",
            " 44   education_bachelor_rate                  71930 non-null  float64\n",
            " 45   education_master_rate                    71930 non-null  float64\n",
            " 46   education_professional_school_rate       71930 non-null  float64\n",
            " 47   education_doctoral_rate                  71930 non-null  float64\n",
            " 48   race_white_rate                          71940 non-null  float64\n",
            " 49   race_black_africa_rate                   71940 non-null  float64\n",
            " 50   race_indian_alaska_rate                  71940 non-null  float64\n",
            " 51   race_asian_rate                          71940 non-null  float64\n",
            " 52   race_islander_rate                       71940 non-null  float64\n",
            " 53   race_other_rate                          71940 non-null  float64\n",
            " 54   race_two_more_rate                       71940 non-null  float64\n",
            " 55   employ_rate                              71831 non-null  float64\n",
            " 56   poverty_family_below_poverty_level_rate  71714 non-null  float64\n",
            " 57   heating_fuel_gas_rate                    71766 non-null  float64\n",
            " 58   heating_fuel_electricity_rate            71766 non-null  float64\n",
            " 59   heating_fuel_fuel_oil_kerosene_rate      71766 non-null  float64\n",
            " 60   heating_fuel_coal_coke_rate              71766 non-null  float64\n",
            " 61   heating_fuel_solar_rate                  71766 non-null  float64\n",
            " 62   heating_fuel_other_rate                  71766 non-null  float64\n",
            " 63   heating_fuel_none_rate                   71766 non-null  float64\n",
            " 64   solar_panel_area_divided_by_area         72513 non-null  float64\n",
            " 65   solar_panel_area_per_capita              72074 non-null  float64\n",
            " 66   tile_count_residential                   72537 non-null  float64\n",
            " 67   tile_count_nonresidential                72537 non-null  float64\n",
            " 68   solar_system_count_residential           72537 non-null  float64\n",
            " 69   solar_system_count_nonresidential        72537 non-null  float64\n",
            " 70   total_panel_area_residential             72537 non-null  float64\n",
            " 71   total_panel_area_nonresidential          72537 non-null  float64\n",
            " 72   median_household_income                  71580 non-null  float64\n",
            " 73   electricity_price_residential            72537 non-null  float64\n",
            " 74   electricity_price_commercial             72537 non-null  float64\n",
            " 75   electricity_price_industrial             72537 non-null  float64\n",
            " 76   electricity_price_transportation         72537 non-null  object \n",
            " 77   electricity_price_overall                72537 non-null  float64\n",
            " 78   electricity_consume_residential          72537 non-null  int64  \n",
            " 79   electricity_consume_commercial           72537 non-null  int64  \n",
            " 80   electricity_consume_industrial           72537 non-null  int64  \n",
            " 81   electricity_consume_total                72537 non-null  int64  \n",
            " 82   household_count                          72537 non-null  int64  \n",
            " 83   average_household_size                   71729 non-null  float64\n",
            " 84   housing_unit_count                       72537 non-null  int64  \n",
            " 85   housing_unit_occupied_count              72537 non-null  int64  \n",
            " 86   housing_unit_median_value                70643 non-null  float64\n",
            " 87   housing_unit_median_gross_rent           70561 non-null  float64\n",
            " 88   lat                                      66735 non-null  float64\n",
            " 89   lon                                      66735 non-null  float64\n",
            " 90   elevation                                66735 non-null  float64\n",
            " 91   heating_design_temperature               66735 non-null  float64\n",
            " 92   cooling_design_temperature               66735 non-null  float64\n",
            " 93   earth_temperature_amplitude              66735 non-null  float64\n",
            " 94   frost_days                               66735 non-null  float64\n",
            " 95   air_temperature                          66735 non-null  float64\n",
            " 96   relative_humidity                        66735 non-null  float64\n",
            " 97   daily_solar_radiation                    66735 non-null  float64\n",
            " 98   atmospheric_pressure                     66735 non-null  float64\n",
            " 99   wind_speed                               66735 non-null  float64\n",
            " 100  earth_temperature                        66735 non-null  float64\n",
            " 101  heating_degree_days                      66735 non-null  float64\n",
            " 102  cooling_degree_days                      66735 non-null  float64\n",
            " 103  age_18_24_rate                           71940 non-null  float64\n",
            " 104  age_25_34_rate                           71940 non-null  float64\n",
            " 105  age_more_than_85_rate                    71940 non-null  float64\n",
            " 106  age_75_84_rate                           71940 non-null  float64\n",
            " 107  age_35_44_rate                           71940 non-null  float64\n",
            " 108  age_45_54_rate                           71940 non-null  float64\n",
            " 109  age_65_74_rate                           71940 non-null  float64\n",
            " 110  age_55_64_rate                           71940 non-null  float64\n",
            " 111  age_10_14_rate                           71940 non-null  float64\n",
            " 112  age_15_17_rate                           71940 non-null  float64\n",
            " 113  age_5_9_rate                             71940 non-null  float64\n",
            " 114  household_type_family_rate               71766 non-null  float64\n",
            " 115  dropout_16_19_inschool_rate              71476 non-null  float64\n",
            " 116  occupation_construction_rate             71826 non-null  float64\n",
            " 117  occupation_public_rate                   71826 non-null  float64\n",
            " 118  occupation_information_rate              71826 non-null  float64\n",
            " 119  occupation_finance_rate                  71826 non-null  float64\n",
            " 120  occupation_education_rate                71826 non-null  float64\n",
            " 121  occupation_administrative_rate           71826 non-null  float64\n",
            " 122  occupation_manufacturing_rate            71826 non-null  float64\n",
            " 123  occupation_wholesale_rate                71826 non-null  float64\n",
            " 124  occupation_retail_rate                   71826 non-null  float64\n",
            " 125  occupation_transportation_rate           71826 non-null  float64\n",
            " 126  occupation_arts_rate                     71826 non-null  float64\n",
            " 127  occupation_agriculture_rate              71826 non-null  float64\n",
            " 128  occupancy_vacant_rate                    71791 non-null  float64\n",
            " 129  occupancy_owner_rate                     71791 non-null  float64\n",
            " 130  mortgage_with_rate                       71401 non-null  float64\n",
            " 131  transportation_home_rate                 71836 non-null  float64\n",
            " 132  transportation_car_alone_rate            71836 non-null  float64\n",
            " 133  transportation_walk_rate                 71836 non-null  float64\n",
            " 134  transportation_carpool_rate              71836 non-null  float64\n",
            " 135  transportation_motorcycle_rate           71836 non-null  float64\n",
            " 136  transportation_bicycle_rate              71836 non-null  float64\n",
            " 137  transportation_public_rate               71836 non-null  float64\n",
            " 138  travel_time_less_than_10_rate            71832 non-null  float64\n",
            " 139  travel_time_10_19_rate                   71832 non-null  float64\n",
            " 140  travel_time_20_29_rate                   71832 non-null  float64\n",
            " 141  travel_time_30_39_rate                   71832 non-null  float64\n",
            " 142  travel_time_40_59_rate                   71832 non-null  float64\n",
            " 143  travel_time_60_89_rate                   71832 non-null  float64\n",
            " 144  health_insurance_public_rate             71836 non-null  float64\n",
            " 145  health_insurance_none_rate               71836 non-null  float64\n",
            " 146  age_median                               71907 non-null  float64\n",
            " 147  travel_time_average                      71690 non-null  float64\n",
            " 148  voting_2016_dem_percentage               72534 non-null  float64\n",
            " 149  voting_2016_gop_percentage               72534 non-null  float64\n",
            " 150  voting_2016_dem_win                      72537 non-null  bool   \n",
            " 151  voting_2012_dem_percentage               61983 non-null  float64\n",
            " 152  voting_2012_gop_percentage               61983 non-null  float64\n",
            " 153  voting_2012_dem_win                      72537 non-null  bool   \n",
            " 154  number_of_years_of_education             71930 non-null  float64\n",
            " 155  diversity                                71940 non-null  float64\n",
            " 156  number_of_solar_system_per_household     71991 non-null  float64\n",
            " 157  incentive_count_residential              72537 non-null  int64  \n",
            " 158  incentive_count_nonresidential           72537 non-null  int64  \n",
            " 159  incentive_residential_state_level        72537 non-null  int64  \n",
            " 160  incentive_nonresidential_state_level     72537 non-null  int64  \n",
            " 161  net_metering                             72537 non-null  int64  \n",
            " 162  feedin_tariff                            72537 non-null  int64  \n",
            " 163  cooperate_tax                            72537 non-null  int64  \n",
            " 164  property_tax                             72537 non-null  int64  \n",
            " 165  sales_tax                                72537 non-null  int64  \n",
            " 166  rebate                                   72537 non-null  int64  \n",
            " 167  avg_electricity_retail_rate              72537 non-null  float64\n",
            "dtypes: bool(2), float64(117), int64(46), object(3)\n",
            "memory usage: 92.6+ MB\n"
          ]
        }
      ]
    },
    {
      "cell_type": "markdown",
      "metadata": {
        "id": "3Q-IP4qtf6WL"
      },
      "source": [
        "# Clean data"
      ]
    },
    {
      "cell_type": "code",
      "metadata": {
        "id": "Qt0AavTfywRK"
      },
      "source": [
        "# has values of inf\n",
        "data_df.drop(['solar_panel_area_per_capita'], axis='columns', inplace=True)"
      ],
      "execution_count": 8,
      "outputs": []
    },
    {
      "cell_type": "code",
      "metadata": {
        "id": "6qyInS1nf07l",
        "outputId": "46977434-e6ec-459c-a5a6-dd4a332a5e30",
        "colab": {
          "base_uri": "https://localhost:8080/"
        }
      },
      "source": [
        "counts = data_df.isna().sum()\n",
        "counts[counts > 0]"
      ],
      "execution_count": 9,
      "outputs": [
        {
          "output_type": "execute_result",
          "data": {
            "text/plain": [
              "average_household_income                  886\n",
              "gini_index                                847\n",
              "land_area                                  24\n",
              "per_capita_income                         643\n",
              "population_density                        316\n",
              "                                        ...  \n",
              "voting_2012_dem_percentage              10554\n",
              "voting_2012_gop_percentage              10554\n",
              "number_of_years_of_education              607\n",
              "diversity                                 597\n",
              "number_of_solar_system_per_household      546\n",
              "Length: 102, dtype: int64"
            ]
          },
          "metadata": {},
          "execution_count": 9
        }
      ]
    },
    {
      "cell_type": "code",
      "metadata": {
        "id": "ckgI5GvGiark"
      },
      "source": [
        "data_df.drop(['number_of_solar_system_per_household', 'voting_2012_dem_percentage', \n",
        "              'voting_2012_gop_percentage'], axis='columns', inplace=True)"
      ],
      "execution_count": 10,
      "outputs": []
    },
    {
      "cell_type": "code",
      "metadata": {
        "id": "T10bZJRbj1Hw"
      },
      "source": [
        "def impute_with_county_mean(column_name):\n",
        "  missing_df = data_df.loc[data_df[column_name].isna()]\n",
        "\n",
        "  for _,row in missing_df.iterrows():\n",
        "    temp_df = data_df.loc[(data_df['county'] == row.county) & (data_df['state'] == row.state) & \n",
        "                          (data_df[column_name].notna())]\n",
        "    value = temp_df.average_household_income.mean()\n",
        "    data_df.loc[data_df['fips'] == row.fips, [column_name]] = value"
      ],
      "execution_count": 11,
      "outputs": []
    },
    {
      "cell_type": "code",
      "metadata": {
        "id": "CV8zhdHsp8Y-",
        "outputId": "f35eeba3-2a63-46f2-a69e-a0559e5b9e86",
        "colab": {
          "base_uri": "https://localhost:8080/"
        }
      },
      "source": [
        "%%time\n",
        "counts = data_df.isna().sum()\n",
        "counts = counts[counts > 0]\n",
        "counts = list(counts.index)\n",
        "for column_name in counts:\n",
        "  print(column_name)\n",
        "  impute_with_county_mean(column_name)\n"
      ],
      "execution_count": 12,
      "outputs": [
        {
          "output_type": "stream",
          "name": "stdout",
          "text": [
            "average_household_income\n",
            "gini_index\n",
            "land_area\n",
            "per_capita_income\n",
            "population_density\n",
            "total_area\n",
            "water_area\n",
            "education_less_than_high_school_rate\n",
            "education_high_school_graduate_rate\n",
            "education_college_rate\n",
            "education_bachelor_rate\n",
            "education_master_rate\n",
            "education_professional_school_rate\n",
            "education_doctoral_rate\n",
            "race_white_rate\n",
            "race_black_africa_rate\n",
            "race_indian_alaska_rate\n",
            "race_asian_rate\n",
            "race_islander_rate\n",
            "race_other_rate\n",
            "race_two_more_rate\n",
            "employ_rate\n",
            "poverty_family_below_poverty_level_rate\n",
            "heating_fuel_gas_rate\n",
            "heating_fuel_electricity_rate\n",
            "heating_fuel_fuel_oil_kerosene_rate\n",
            "heating_fuel_coal_coke_rate\n",
            "heating_fuel_solar_rate\n",
            "heating_fuel_other_rate\n",
            "heating_fuel_none_rate\n",
            "solar_panel_area_divided_by_area\n",
            "median_household_income\n",
            "average_household_size\n",
            "housing_unit_median_value\n",
            "housing_unit_median_gross_rent\n",
            "lat\n",
            "lon\n",
            "elevation\n",
            "heating_design_temperature\n",
            "cooling_design_temperature\n",
            "earth_temperature_amplitude\n",
            "frost_days\n",
            "air_temperature\n",
            "relative_humidity\n",
            "daily_solar_radiation\n",
            "atmospheric_pressure\n",
            "wind_speed\n",
            "earth_temperature\n",
            "heating_degree_days\n",
            "cooling_degree_days\n",
            "age_18_24_rate\n",
            "age_25_34_rate\n",
            "age_more_than_85_rate\n",
            "age_75_84_rate\n",
            "age_35_44_rate\n",
            "age_45_54_rate\n",
            "age_65_74_rate\n",
            "age_55_64_rate\n",
            "age_10_14_rate\n",
            "age_15_17_rate\n",
            "age_5_9_rate\n",
            "household_type_family_rate\n",
            "dropout_16_19_inschool_rate\n",
            "occupation_construction_rate\n",
            "occupation_public_rate\n",
            "occupation_information_rate\n",
            "occupation_finance_rate\n",
            "occupation_education_rate\n",
            "occupation_administrative_rate\n",
            "occupation_manufacturing_rate\n",
            "occupation_wholesale_rate\n",
            "occupation_retail_rate\n",
            "occupation_transportation_rate\n",
            "occupation_arts_rate\n",
            "occupation_agriculture_rate\n",
            "occupancy_vacant_rate\n",
            "occupancy_owner_rate\n",
            "mortgage_with_rate\n",
            "transportation_home_rate\n",
            "transportation_car_alone_rate\n",
            "transportation_walk_rate\n",
            "transportation_carpool_rate\n",
            "transportation_motorcycle_rate\n",
            "transportation_bicycle_rate\n",
            "transportation_public_rate\n",
            "travel_time_less_than_10_rate\n",
            "travel_time_10_19_rate\n",
            "travel_time_20_29_rate\n",
            "travel_time_30_39_rate\n",
            "travel_time_40_59_rate\n",
            "travel_time_60_89_rate\n",
            "health_insurance_public_rate\n",
            "health_insurance_none_rate\n",
            "age_median\n",
            "travel_time_average\n",
            "voting_2016_dem_percentage\n",
            "voting_2016_gop_percentage\n",
            "number_of_years_of_education\n",
            "diversity\n",
            "CPU times: user 25min 10s, sys: 7.54 s, total: 25min 17s\n",
            "Wall time: 25min 17s\n"
          ]
        }
      ]
    },
    {
      "cell_type": "code",
      "metadata": {
        "id": "6OTAArUdodB2",
        "outputId": "52c2e42e-8da5-471c-9fe3-5f5b49d23e50",
        "colab": {
          "base_uri": "https://localhost:8080/"
        }
      },
      "source": [
        "counts = data_df.isna().sum()\n",
        "counts = counts[counts > 0]\n",
        "counts"
      ],
      "execution_count": 13,
      "outputs": [
        {
          "output_type": "execute_result",
          "data": {
            "text/plain": [
              "land_area                            3\n",
              "population_density                   3\n",
              "total_area                           3\n",
              "water_area                           3\n",
              "solar_panel_area_divided_by_area     3\n",
              "median_household_income              1\n",
              "housing_unit_median_value            2\n",
              "housing_unit_median_gross_rent       1\n",
              "lat                                 11\n",
              "lon                                 11\n",
              "elevation                           11\n",
              "heating_design_temperature          11\n",
              "cooling_design_temperature          11\n",
              "earth_temperature_amplitude         11\n",
              "frost_days                          11\n",
              "air_temperature                     11\n",
              "relative_humidity                   11\n",
              "daily_solar_radiation               11\n",
              "atmospheric_pressure                11\n",
              "wind_speed                          11\n",
              "earth_temperature                   11\n",
              "heating_degree_days                 11\n",
              "cooling_degree_days                 11\n",
              "dropout_16_19_inschool_rate          1\n",
              "voting_2016_dem_percentage           3\n",
              "voting_2016_gop_percentage           3\n",
              "dtype: int64"
            ]
          },
          "metadata": {},
          "execution_count": 13
        }
      ]
    },
    {
      "cell_type": "code",
      "metadata": {
        "id": "Sh6dkW7oIY2M",
        "outputId": "250c30a9-b7bf-4d71-e240-22c8baaa4173",
        "colab": {
          "base_uri": "https://localhost:8080/"
        }
      },
      "source": [
        "# drop remaining rows with missing values\n",
        "print(data_df.shape)\n",
        "data_df = data_df.loc[data_df['land_area'].notna()]\n",
        "data_df = data_df.loc[data_df['lat'].notna()]\n",
        "data_df = data_df.loc[data_df['housing_unit_median_value'].notna()]\n",
        "data_df = data_df.loc[data_df['median_household_income'].notna()]\n",
        "data_df = data_df.loc[data_df['housing_unit_median_gross_rent'].notna()]\n",
        "print(data_df.shape)"
      ],
      "execution_count": 14,
      "outputs": [
        {
          "output_type": "stream",
          "name": "stdout",
          "text": [
            "(72537, 164)\n",
            "(72519, 164)\n"
          ]
        }
      ]
    },
    {
      "cell_type": "code",
      "metadata": {
        "id": "7HdfsdwfPxyO",
        "outputId": "f513c71d-de8c-4620-ebaa-964de3451f76",
        "colab": {
          "base_uri": "https://localhost:8080/"
        }
      },
      "source": [
        "counts = data_df.isna().sum()\n",
        "counts = counts[counts > 0] \n",
        "counts"
      ],
      "execution_count": 15,
      "outputs": [
        {
          "output_type": "execute_result",
          "data": {
            "text/plain": [
              "Series([], dtype: int64)"
            ]
          },
          "metadata": {},
          "execution_count": 15
        }
      ]
    },
    {
      "cell_type": "code",
      "metadata": {
        "id": "BlYLE6Z_cbbt"
      },
      "source": [
        "# county, state, \n",
        "# combine them and then ?"
      ],
      "execution_count": 16,
      "outputs": []
    },
    {
      "cell_type": "code",
      "metadata": {
        "id": "z3ZlbMHDQiC3"
      },
      "source": [
        "import numpy as np\n",
        "# data_df.replace(r'^\\s*$', np.nan, regex=True, inplace=True)\n",
        "# data_df['electricity_price_transportation'] = data_df['electricity_price_transportation'].astype(np.float64)"
      ],
      "execution_count": 17,
      "outputs": []
    },
    {
      "cell_type": "code",
      "metadata": {
        "id": "y91nFMGLZDso"
      },
      "source": [
        "# counts = data_df.isna().sum()\n",
        "# counts = counts[counts > 0] \n",
        "# counts"
      ],
      "execution_count": 18,
      "outputs": []
    },
    {
      "cell_type": "code",
      "metadata": {
        "id": "nXkL6VyyZK7Q"
      },
      "source": [
        "# impute_with_county_mean('electricity_price_transportation')"
      ],
      "execution_count": 19,
      "outputs": []
    },
    {
      "cell_type": "code",
      "metadata": {
        "id": "p5auyBtbZQDO"
      },
      "source": [
        "# counts = data_df.isna().sum()\n",
        "# counts = counts[counts > 0] \n",
        "# counts"
      ],
      "execution_count": 20,
      "outputs": []
    },
    {
      "cell_type": "code",
      "metadata": {
        "id": "x4E-_fqLZRad"
      },
      "source": [
        "data_df.drop(['electricity_price_transportation'], axis='columns', inplace=True)"
      ],
      "execution_count": 21,
      "outputs": []
    },
    {
      "cell_type": "code",
      "metadata": {
        "id": "G-67u1fjsrxq"
      },
      "source": [
        "data_df['voting_2016_dem_win'] = data_df['voting_2016_dem_win'].astype(int)\n",
        "data_df['voting_2012_dem_win'] = data_df['voting_2012_dem_win'].astype(int)"
      ],
      "execution_count": 22,
      "outputs": []
    },
    {
      "cell_type": "markdown",
      "metadata": {
        "id": "9EbQ2-O1aHn5"
      },
      "source": [
        "# Prepare Data"
      ]
    },
    {
      "cell_type": "code",
      "metadata": {
        "id": "jMLkwgRmaGkm",
        "outputId": "c314b703-46ae-4db0-9f52-e95079448da5",
        "colab": {
          "base_uri": "https://localhost:8080/"
        }
      },
      "source": [
        "from sklearn.model_selection import train_test_split\n",
        "train, test = train_test_split(data_df, test_size=0.2)\n",
        "print(len(train), 'train examples')\n",
        "print(len(test), 'test examples')"
      ],
      "execution_count": 23,
      "outputs": [
        {
          "output_type": "stream",
          "name": "stdout",
          "text": [
            "58015 train examples\n",
            "14504 test examples\n"
          ]
        }
      ]
    },
    {
      "cell_type": "code",
      "metadata": {
        "id": "B_2N_nSqal1n"
      },
      "source": [
        "def df_to_dataset(dataframe, shuffle=True, batch_size=32):\n",
        "  dataframe = dataframe.copy()\n",
        "  labels = dataframe.pop('total_panel_area')\n",
        "  ds = tf.data.Dataset.from_tensor_slices((dict(dataframe), labels))\n",
        "  if shuffle:\n",
        "    ds = ds.shuffle(buffer_size=1024)\n",
        "  ds = ds.batch(batch_size)\n",
        "  ds = ds.prefetch(tf.data.experimental.AUTOTUNE)\n",
        "  return ds"
      ],
      "execution_count": 24,
      "outputs": []
    },
    {
      "cell_type": "code",
      "metadata": {
        "id": "BUzaUJvBcQN6"
      },
      "source": [
        "numeric_columns = list(data_df.columns)\n",
        "numeric_columns.remove('total_panel_area') # target\n",
        "numeric_columns.remove('county') # used as cross column with state later?\n",
        "numeric_columns.remove('state') # used as cross column with county later?\n",
        "numeric_columns.remove('voting_2016_dem_win') # indicator\n",
        "numeric_columns.remove('voting_2012_dem_win') # indicator"
      ],
      "execution_count": 25,
      "outputs": []
    },
    {
      "cell_type": "code",
      "metadata": {
        "id": "OmstwzRHwiZU",
        "outputId": "fd414f15-c905-4718-f47d-2c5812c71b17",
        "colab": {
          "base_uri": "https://localhost:8080/"
        }
      },
      "source": [
        "from sklearn.preprocessing import StandardScaler\n",
        "scaler = StandardScaler()\n",
        "for column in numeric_columns:  \n",
        "  print(column)\n",
        "  train[[column]] = scaler.fit_transform(train[[column]])\n",
        "  test[[column]] = scaler.transform(test[[column]])"
      ],
      "execution_count": 26,
      "outputs": [
        {
          "output_type": "stream",
          "name": "stdout",
          "text": [
            "tile_count\n",
            "solar_system_count\n",
            "fips\n",
            "average_household_income\n",
            "education_bachelor\n",
            "education_college\n",
            "education_doctoral\n",
            "education_high_school_graduate\n",
            "education_less_than_high_school\n",
            "education_master\n",
            "education_population\n",
            "education_professional_school\n",
            "employed\n",
            "gini_index\n",
            "heating_fuel_coal_coke\n",
            "heating_fuel_electricity\n",
            "heating_fuel_fuel_oil_kerosene\n",
            "heating_fuel_gas\n",
            "heating_fuel_housing_unit_count\n",
            "heating_fuel_none\n",
            "heating_fuel_other\n",
            "heating_fuel_solar\n",
            "land_area\n",
            "per_capita_income\n",
            "population\n",
            "population_density\n",
            "poverty_family_below_poverty_level\n",
            "poverty_family_count\n",
            "race_asian\n",
            "race_black_africa\n",
            "race_indian_alaska\n",
            "race_islander\n",
            "race_other\n",
            "race_two_more\n",
            "race_white\n",
            "total_area\n",
            "unemployed\n",
            "water_area\n",
            "education_less_than_high_school_rate\n",
            "education_high_school_graduate_rate\n",
            "education_college_rate\n",
            "education_bachelor_rate\n",
            "education_master_rate\n",
            "education_professional_school_rate\n",
            "education_doctoral_rate\n",
            "race_white_rate\n",
            "race_black_africa_rate\n",
            "race_indian_alaska_rate\n",
            "race_asian_rate\n",
            "race_islander_rate\n",
            "race_other_rate\n",
            "race_two_more_rate\n",
            "employ_rate\n",
            "poverty_family_below_poverty_level_rate\n",
            "heating_fuel_gas_rate\n",
            "heating_fuel_electricity_rate\n",
            "heating_fuel_fuel_oil_kerosene_rate\n",
            "heating_fuel_coal_coke_rate\n",
            "heating_fuel_solar_rate\n",
            "heating_fuel_other_rate\n",
            "heating_fuel_none_rate\n",
            "solar_panel_area_divided_by_area\n",
            "tile_count_residential\n",
            "tile_count_nonresidential\n",
            "solar_system_count_residential\n",
            "solar_system_count_nonresidential\n",
            "total_panel_area_residential\n",
            "total_panel_area_nonresidential\n",
            "median_household_income\n",
            "electricity_price_residential\n",
            "electricity_price_commercial\n",
            "electricity_price_industrial\n",
            "electricity_price_overall\n",
            "electricity_consume_residential\n",
            "electricity_consume_commercial\n",
            "electricity_consume_industrial\n",
            "electricity_consume_total\n",
            "household_count\n",
            "average_household_size\n",
            "housing_unit_count\n",
            "housing_unit_occupied_count\n",
            "housing_unit_median_value\n",
            "housing_unit_median_gross_rent\n",
            "lat\n",
            "lon\n",
            "elevation\n",
            "heating_design_temperature\n",
            "cooling_design_temperature\n",
            "earth_temperature_amplitude\n",
            "frost_days\n",
            "air_temperature\n",
            "relative_humidity\n",
            "daily_solar_radiation\n",
            "atmospheric_pressure\n",
            "wind_speed\n",
            "earth_temperature\n",
            "heating_degree_days\n",
            "cooling_degree_days\n",
            "age_18_24_rate\n",
            "age_25_34_rate\n",
            "age_more_than_85_rate\n",
            "age_75_84_rate\n",
            "age_35_44_rate\n",
            "age_45_54_rate\n",
            "age_65_74_rate\n",
            "age_55_64_rate\n",
            "age_10_14_rate\n",
            "age_15_17_rate\n",
            "age_5_9_rate\n",
            "household_type_family_rate\n",
            "dropout_16_19_inschool_rate\n",
            "occupation_construction_rate\n",
            "occupation_public_rate\n",
            "occupation_information_rate\n",
            "occupation_finance_rate\n",
            "occupation_education_rate\n",
            "occupation_administrative_rate\n",
            "occupation_manufacturing_rate\n",
            "occupation_wholesale_rate\n",
            "occupation_retail_rate\n",
            "occupation_transportation_rate\n",
            "occupation_arts_rate\n",
            "occupation_agriculture_rate\n",
            "occupancy_vacant_rate\n",
            "occupancy_owner_rate\n",
            "mortgage_with_rate\n",
            "transportation_home_rate\n",
            "transportation_car_alone_rate\n",
            "transportation_walk_rate\n",
            "transportation_carpool_rate\n",
            "transportation_motorcycle_rate\n",
            "transportation_bicycle_rate\n",
            "transportation_public_rate\n",
            "travel_time_less_than_10_rate\n",
            "travel_time_10_19_rate\n",
            "travel_time_20_29_rate\n",
            "travel_time_30_39_rate\n",
            "travel_time_40_59_rate\n",
            "travel_time_60_89_rate\n",
            "health_insurance_public_rate\n",
            "health_insurance_none_rate\n",
            "age_median\n",
            "travel_time_average\n",
            "voting_2016_dem_percentage\n",
            "voting_2016_gop_percentage\n",
            "number_of_years_of_education\n",
            "diversity\n",
            "incentive_count_residential\n",
            "incentive_count_nonresidential\n",
            "incentive_residential_state_level\n",
            "incentive_nonresidential_state_level\n",
            "net_metering\n",
            "feedin_tariff\n",
            "cooperate_tax\n",
            "property_tax\n",
            "sales_tax\n",
            "rebate\n",
            "avg_electricity_retail_rate\n"
          ]
        }
      ]
    },
    {
      "cell_type": "code",
      "metadata": {
        "id": "salIlLEcbGWd"
      },
      "source": [
        "from tensorflow import feature_column\n",
        "\n",
        "feature_columns = []\n",
        "\n",
        "for column in numeric_columns:\n",
        "  feature_columns.append(feature_column.numeric_column(column))\n",
        "\n",
        "indicator_column_names = ['voting_2016_dem_win', 'voting_2012_dem_win']\n",
        "for col_name in indicator_column_names:\n",
        "  categorical_column = feature_column.categorical_column_with_vocabulary_list(\n",
        "      col_name, data_df[col_name].unique())\n",
        "  indicator_column = feature_column.indicator_column(categorical_column)\n",
        "  feature_columns.append(indicator_column)\n",
        "\n",
        "state = feature_column.categorical_column_with_vocabulary_list(\n",
        "      'state', data_df.state.unique())\n",
        "state_embedding = feature_column.embedding_column(state, dimension=8)\n",
        "feature_columns.append(state_embedding)\n",
        "\n",
        "county = feature_column.categorical_column_with_hash_bucket(\n",
        "      'county', hash_bucket_size=128)\n",
        "hashed_column = feature_column.indicator_column(county)\n",
        "feature_columns.append(hashed_column)"
      ],
      "execution_count": 27,
      "outputs": []
    },
    {
      "cell_type": "code",
      "metadata": {
        "id": "2pIimNQ7tFOQ"
      },
      "source": [
        "feature_layer = tf.keras.layers.DenseFeatures(feature_columns)"
      ],
      "execution_count": 28,
      "outputs": []
    },
    {
      "cell_type": "code",
      "metadata": {
        "id": "aN0EZZ8NtK1a"
      },
      "source": [
        "batch_size = 8\n",
        "train_ds = df_to_dataset(train, batch_size=batch_size)\n",
        "test_ds = df_to_dataset(test, shuffle=False, batch_size=batch_size)"
      ],
      "execution_count": 29,
      "outputs": []
    },
    {
      "cell_type": "markdown",
      "metadata": {
        "id": "mdeU2hP-tlrz"
      },
      "source": [
        "# Model"
      ]
    },
    {
      "cell_type": "code",
      "metadata": {
        "id": "89OotbFItSj4"
      },
      "source": [
        "tf.keras.backend.clear_session()\n",
        "from tensorflow.keras.layers import Dense, Dropout\n",
        "\n",
        "model = tf.keras.Sequential([\n",
        "  feature_layer,\n",
        "  Dense(512, activation='relu'),\n",
        "  Dense(256, activation='relu'),\n",
        "  Dense(128, activation='relu'),\n",
        "  Dense(1)\n",
        "])\n",
        "\n",
        "model.compile(optimizer='adam', loss='mse', metrics=['mae'])"
      ],
      "execution_count": 30,
      "outputs": []
    },
    {
      "cell_type": "code",
      "metadata": {
        "id": "qQBWHMidtqAP",
        "outputId": "2aad124c-db06-4124-e485-f2f5edf5cb39",
        "colab": {
          "base_uri": "https://localhost:8080/"
        }
      },
      "source": [
        "filepath = 'model.h5'\n",
        "\n",
        "mc = tf.keras.callbacks.ModelCheckpoint(filepath, monitor='val_loss', save_best_only=True, \n",
        "                                        save_weights_only=True, mode='auto')\n",
        "\n",
        "es = tf.keras.callbacks.EarlyStopping(monitor='val_loss', patience=10, verbose=1, mode='auto')\n",
        "\n",
        "history = model.fit(train_ds, epochs=200, validation_data=test_ds, callbacks=[mc, es],\n",
        "                    verbose=1)"
      ],
      "execution_count": 31,
      "outputs": [
        {
          "output_type": "stream",
          "name": "stdout",
          "text": [
            "Epoch 1/200\n",
            "WARNING:tensorflow:Layers in a Sequential model should only have a single input tensor. Received: inputs={'tile_count': <tf.Tensor 'IteratorGetNext:135' shape=(None,) dtype=float64>, 'solar_system_count': <tf.Tensor 'IteratorGetNext:131' shape=(None,) dtype=float64>, 'fips': <tf.Tensor 'IteratorGetNext:53' shape=(None,) dtype=float64>, 'average_household_income': <tf.Tensor 'IteratorGetNext:14' shape=(None,) dtype=float64>, 'county': <tf.Tensor 'IteratorGetNext:20' shape=(None,) dtype=string>, 'education_bachelor': <tf.Tensor 'IteratorGetNext:26' shape=(None,) dtype=float64>, 'education_college': <tf.Tensor 'IteratorGetNext:28' shape=(None,) dtype=float64>, 'education_doctoral': <tf.Tensor 'IteratorGetNext:30' shape=(None,) dtype=float64>, 'education_high_school_graduate': <tf.Tensor 'IteratorGetNext:32' shape=(None,) dtype=float64>, 'education_less_than_high_school': <tf.Tensor 'IteratorGetNext:34' shape=(None,) dtype=float64>, 'education_master': <tf.Tensor 'IteratorGetNext:36' shape=(None,) dtype=float64>, 'education_population': <tf.Tensor 'IteratorGetNext:38' shape=(None,) dtype=float64>, 'education_professional_school': <tf.Tensor 'IteratorGetNext:39' shape=(None,) dtype=float64>, 'employed': <tf.Tensor 'IteratorGetNext:51' shape=(None,) dtype=float64>, 'gini_index': <tf.Tensor 'IteratorGetNext:55' shape=(None,) dtype=float64>, 'heating_fuel_coal_coke': <tf.Tensor 'IteratorGetNext:60' shape=(None,) dtype=float64>, 'heating_fuel_electricity': <tf.Tensor 'IteratorGetNext:62' shape=(None,) dtype=float64>, 'heating_fuel_fuel_oil_kerosene': <tf.Tensor 'IteratorGetNext:64' shape=(None,) dtype=float64>, 'heating_fuel_gas': <tf.Tensor 'IteratorGetNext:66' shape=(None,) dtype=float64>, 'heating_fuel_housing_unit_count': <tf.Tensor 'IteratorGetNext:68' shape=(None,) dtype=float64>, 'heating_fuel_none': <tf.Tensor 'IteratorGetNext:69' shape=(None,) dtype=float64>, 'heating_fuel_other': <tf.Tensor 'IteratorGetNext:71' shape=(None,) dtype=float64>, 'heating_fuel_solar': <tf.Tensor 'IteratorGetNext:73' shape=(None,) dtype=float64>, 'land_area': <tf.Tensor 'IteratorGetNext:85' shape=(None,) dtype=float64>, 'per_capita_income': <tf.Tensor 'IteratorGetNext:106' shape=(None,) dtype=float64>, 'population': <tf.Tensor 'IteratorGetNext:107' shape=(None,) dtype=float64>, 'population_density': <tf.Tensor 'IteratorGetNext:108' shape=(None,) dtype=float64>, 'poverty_family_below_poverty_level': <tf.Tensor 'IteratorGetNext:109' shape=(None,) dtype=float64>, 'poverty_family_count': <tf.Tensor 'IteratorGetNext:111' shape=(None,) dtype=float64>, 'race_asian': <tf.Tensor 'IteratorGetNext:113' shape=(None,) dtype=float64>, 'race_black_africa': <tf.Tensor 'IteratorGetNext:115' shape=(None,) dtype=float64>, 'race_indian_alaska': <tf.Tensor 'IteratorGetNext:117' shape=(None,) dtype=float64>, 'race_islander': <tf.Tensor 'IteratorGetNext:119' shape=(None,) dtype=float64>, 'race_other': <tf.Tensor 'IteratorGetNext:121' shape=(None,) dtype=float64>, 'race_two_more': <tf.Tensor 'IteratorGetNext:123' shape=(None,) dtype=float64>, 'race_white': <tf.Tensor 'IteratorGetNext:125' shape=(None,) dtype=float64>, 'state': <tf.Tensor 'IteratorGetNext:134' shape=(None,) dtype=string>, 'total_area': <tf.Tensor 'IteratorGetNext:138' shape=(None,) dtype=float64>, 'unemployed': <tf.Tensor 'IteratorGetNext:155' shape=(None,) dtype=float64>, 'water_area': <tf.Tensor 'IteratorGetNext:160' shape=(None,) dtype=float64>, 'education_less_than_high_school_rate': <tf.Tensor 'IteratorGetNext:35' shape=(None,) dtype=float64>, 'education_high_school_graduate_rate': <tf.Tensor 'IteratorGetNext:33' shape=(None,) dtype=float64>, 'education_college_rate': <tf.Tensor 'IteratorGetNext:29' shape=(None,) dtype=float64>, 'education_bachelor_rate': <tf.Tensor 'IteratorGetNext:27' shape=(None,) dtype=float64>, 'education_master_rate': <tf.Tensor 'IteratorGetNext:37' shape=(None,) dtype=float64>, 'education_professional_school_rate': <tf.Tensor 'IteratorGetNext:40' shape=(None,) dtype=float64>, 'education_doctoral_rate': <tf.Tensor 'IteratorGetNext:31' shape=(None,) dtype=float64>, 'race_white_rate': <tf.Tensor 'IteratorGetNext:126' shape=(None,) dtype=float64>, 'race_black_africa_rate': <tf.Tensor 'IteratorGetNext:116' shape=(None,) dtype=float64>, 'race_indian_alaska_rate': <tf.Tensor 'IteratorGetNext:118' shape=(None,) dtype=float64>, 'race_asian_rate': <tf.Tensor 'IteratorGetNext:114' shape=(None,) dtype=float64>, 'race_islander_rate': <tf.Tensor 'IteratorGetNext:120' shape=(None,) dtype=float64>, 'race_other_rate': <tf.Tensor 'IteratorGetNext:122' shape=(None,) dtype=float64>, 'race_two_more_rate': <tf.Tensor 'IteratorGetNext:124' shape=(None,) dtype=float64>, 'employ_rate': <tf.Tensor 'IteratorGetNext:50' shape=(None,) dtype=float64>, 'poverty_family_below_poverty_level_rate': <tf.Tensor 'IteratorGetNext:110' shape=(None,) dtype=float64>, 'heating_fuel_gas_rate': <tf.Tensor 'IteratorGetNext:67' shape=(None,) dtype=float64>, 'heating_fuel_electricity_rate': <tf.Tensor 'IteratorGetNext:63' shape=(None,) dtype=float64>, 'heating_fuel_fuel_oil_kerosene_rate': <tf.Tensor 'IteratorGetNext:65' shape=(None,) dtype=float64>, 'heating_fuel_coal_coke_rate': <tf.Tensor 'IteratorGetNext:61' shape=(None,) dtype=float64>, 'heating_fuel_solar_rate': <tf.Tensor 'IteratorGetNext:74' shape=(None,) dtype=float64>, 'heating_fuel_other_rate': <tf.Tensor 'IteratorGetNext:72' shape=(None,) dtype=float64>, 'heating_fuel_none_rate': <tf.Tensor 'IteratorGetNext:70' shape=(None,) dtype=float64>, 'solar_panel_area_divided_by_area': <tf.Tensor 'IteratorGetNext:130' shape=(None,) dtype=float64>, 'tile_count_residential': <tf.Tensor 'IteratorGetNext:137' shape=(None,) dtype=float64>, 'tile_count_nonresidential': <tf.Tensor 'IteratorGetNext:136' shape=(None,) dtype=float64>, 'solar_system_count_residential': <tf.Tensor 'IteratorGetNext:133' shape=(None,) dtype=float64>, 'solar_system_count_nonresidential': <tf.Tensor 'IteratorGetNext:132' shape=(None,) dtype=float64>, 'total_panel_area_residential': <tf.Tensor 'IteratorGetNext:140' shape=(None,) dtype=float64>, 'total_panel_area_nonresidential': <tf.Tensor 'IteratorGetNext:139' shape=(None,) dtype=float64>, 'median_household_income': <tf.Tensor 'IteratorGetNext:88' shape=(None,) dtype=float64>, 'electricity_price_residential': <tf.Tensor 'IteratorGetNext:48' shape=(None,) dtype=float64>, 'electricity_price_commercial': <tf.Tensor 'IteratorGetNext:45' shape=(None,) dtype=float64>, 'electricity_price_industrial': <tf.Tensor 'IteratorGetNext:46' shape=(None,) dtype=float64>, 'electricity_price_overall': <tf.Tensor 'IteratorGetNext:47' shape=(None,) dtype=float64>, 'electricity_consume_residential': <tf.Tensor 'IteratorGetNext:43' shape=(None,) dtype=float64>, 'electricity_consume_commercial': <tf.Tensor 'IteratorGetNext:41' shape=(None,) dtype=float64>, 'electricity_consume_industrial': <tf.Tensor 'IteratorGetNext:42' shape=(None,) dtype=float64>, 'electricity_consume_total': <tf.Tensor 'IteratorGetNext:44' shape=(None,) dtype=float64>, 'household_count': <tf.Tensor 'IteratorGetNext:75' shape=(None,) dtype=float64>, 'average_household_size': <tf.Tensor 'IteratorGetNext:15' shape=(None,) dtype=float64>, 'housing_unit_count': <tf.Tensor 'IteratorGetNext:77' shape=(None,) dtype=float64>, 'housing_unit_occupied_count': <tf.Tensor 'IteratorGetNext:80' shape=(None,) dtype=float64>, 'housing_unit_median_value': <tf.Tensor 'IteratorGetNext:79' shape=(None,) dtype=float64>, 'housing_unit_median_gross_rent': <tf.Tensor 'IteratorGetNext:78' shape=(None,) dtype=float64>, 'lat': <tf.Tensor 'IteratorGetNext:86' shape=(None,) dtype=float64>, 'lon': <tf.Tensor 'IteratorGetNext:87' shape=(None,) dtype=float64>, 'elevation': <tf.Tensor 'IteratorGetNext:49' shape=(None,) dtype=float64>, 'heating_design_temperature': <tf.Tensor 'IteratorGetNext:59' shape=(None,) dtype=float64>, 'cooling_design_temperature': <tf.Tensor 'IteratorGetNext:18' shape=(None,) dtype=float64>, 'earth_temperature_amplitude': <tf.Tensor 'IteratorGetNext:25' shape=(None,) dtype=float64>, 'frost_days': <tf.Tensor 'IteratorGetNext:54' shape=(None,) dtype=float64>, 'air_temperature': <tf.Tensor 'IteratorGetNext:12' shape=(None,) dtype=float64>, 'relative_humidity': <tf.Tensor 'IteratorGetNext:128' shape=(None,) dtype=float64>, 'daily_solar_radiation': <tf.Tensor 'IteratorGetNext:21' shape=(None,) dtype=float64>, 'atmospheric_pressure': <tf.Tensor 'IteratorGetNext:13' shape=(None,) dtype=float64>, 'wind_speed': <tf.Tensor 'IteratorGetNext:161' shape=(None,) dtype=float64>, 'earth_temperature': <tf.Tensor 'IteratorGetNext:24' shape=(None,) dtype=float64>, 'heating_degree_days': <tf.Tensor 'IteratorGetNext:58' shape=(None,) dtype=float64>, 'cooling_degree_days': <tf.Tensor 'IteratorGetNext:17' shape=(None,) dtype=float64>, 'age_18_24_rate': <tf.Tensor 'IteratorGetNext:2' shape=(None,) dtype=float64>, 'age_25_34_rate': <tf.Tensor 'IteratorGetNext:3' shape=(None,) dtype=float64>, 'age_more_than_85_rate': <tf.Tensor 'IteratorGetNext:11' shape=(None,) dtype=float64>, 'age_75_84_rate': <tf.Tensor 'IteratorGetNext:9' shape=(None,) dtype=float64>, 'age_35_44_rate': <tf.Tensor 'IteratorGetNext:4' shape=(None,) dtype=float64>, 'age_45_54_rate': <tf.Tensor 'IteratorGetNext:5' shape=(None,) dtype=float64>, 'age_65_74_rate': <tf.Tensor 'IteratorGetNext:8' shape=(None,) dtype=float64>, 'age_55_64_rate': <tf.Tensor 'IteratorGetNext:6' shape=(None,) dtype=float64>, 'age_10_14_rate': <tf.Tensor 'IteratorGetNext:0' shape=(None,) dtype=float64>, 'age_15_17_rate': <tf.Tensor 'IteratorGetNext:1' shape=(None,) dtype=float64>, 'age_5_9_rate': <tf.Tensor 'IteratorGetNext:7' shape=(None,) dtype=float64>, 'household_type_family_rate': <tf.Tensor 'IteratorGetNext:76' shape=(None,) dtype=float64>, 'dropout_16_19_inschool_rate': <tf.Tensor 'IteratorGetNext:23' shape=(None,) dtype=float64>, 'occupation_construction_rate': <tf.Tensor 'IteratorGetNext:97' shape=(None,) dtype=float64>, 'occupation_public_rate': <tf.Tensor 'IteratorGetNext:102' shape=(None,) dtype=float64>, 'occupation_information_rate': <tf.Tensor 'IteratorGetNext:100' shape=(None,) dtype=float64>, 'occupation_finance_rate': <tf.Tensor 'IteratorGetNext:99' shape=(None,) dtype=float64>, 'occupation_education_rate': <tf.Tensor 'IteratorGetNext:98' shape=(None,) dtype=float64>, 'occupation_administrative_rate': <tf.Tensor 'IteratorGetNext:94' shape=(None,) dtype=float64>, 'occupation_manufacturing_rate': <tf.Tensor 'IteratorGetNext:101' shape=(None,) dtype=float64>, 'occupation_wholesale_rate': <tf.Tensor 'IteratorGetNext:105' shape=(None,) dtype=float64>, 'occupation_retail_rate': <tf.Tensor 'IteratorGetNext:103' shape=(None,) dtype=float64>, 'occupation_transportation_rate': <tf.Tensor 'IteratorGetNext:104' shape=(None,) dtype=float64>, 'occupation_arts_rate': <tf.Tensor 'IteratorGetNext:96' shape=(None,) dtype=float64>, 'occupation_agriculture_rate': <tf.Tensor 'IteratorGetNext:95' shape=(None,) dtype=float64>, 'occupancy_vacant_rate': <tf.Tensor 'IteratorGetNext:93' shape=(None,) dtype=float64>, 'occupancy_owner_rate': <tf.Tensor 'IteratorGetNext:92' shape=(None,) dtype=float64>, 'mortgage_with_rate': <tf.Tensor 'IteratorGetNext:89' shape=(None,) dtype=float64>, 'transportation_home_rate': <tf.Tensor 'IteratorGetNext:144' shape=(None,) dtype=float64>, 'transportation_car_alone_rate': <tf.Tensor 'IteratorGetNext:142' shape=(None,) dtype=float64>, 'transportation_walk_rate': <tf.Tensor 'IteratorGetNext:147' shape=(None,) dtype=float64>, 'transportation_carpool_rate': <tf.Tensor 'IteratorGetNext:143' shape=(None,) dtype=float64>, 'transportation_motorcycle_rate': <tf.Tensor 'IteratorGetNext:145' shape=(None,) dtype=float64>, 'transportation_bicycle_rate': <tf.Tensor 'IteratorGetNext:141' shape=(None,) dtype=float64>, 'transportation_public_rate': <tf.Tensor 'IteratorGetNext:146' shape=(None,) dtype=float64>, 'travel_time_less_than_10_rate': <tf.Tensor 'IteratorGetNext:154' shape=(None,) dtype=float64>, 'travel_time_10_19_rate': <tf.Tensor 'IteratorGetNext:148' shape=(None,) dtype=float64>, 'travel_time_20_29_rate': <tf.Tensor 'IteratorGetNext:149' shape=(None,) dtype=float64>, 'travel_time_30_39_rate': <tf.Tensor 'IteratorGetNext:150' shape=(None,) dtype=float64>, 'travel_time_40_59_rate': <tf.Tensor 'IteratorGetNext:151' shape=(None,) dtype=float64>, 'travel_time_60_89_rate': <tf.Tensor 'IteratorGetNext:152' shape=(None,) dtype=float64>, 'health_insurance_public_rate': <tf.Tensor 'IteratorGetNext:57' shape=(None,) dtype=float64>, 'health_insurance_none_rate': <tf.Tensor 'IteratorGetNext:56' shape=(None,) dtype=float64>, 'age_median': <tf.Tensor 'IteratorGetNext:10' shape=(None,) dtype=float64>, 'travel_time_average': <tf.Tensor 'IteratorGetNext:153' shape=(None,) dtype=float64>, 'voting_2016_dem_percentage': <tf.Tensor 'IteratorGetNext:157' shape=(None,) dtype=float64>, 'voting_2016_gop_percentage': <tf.Tensor 'IteratorGetNext:159' shape=(None,) dtype=float64>, 'voting_2016_dem_win': <tf.Tensor 'IteratorGetNext:158' shape=(None,) dtype=int64>, 'voting_2012_dem_win': <tf.Tensor 'IteratorGetNext:156' shape=(None,) dtype=int64>, 'number_of_years_of_education': <tf.Tensor 'IteratorGetNext:91' shape=(None,) dtype=float64>, 'diversity': <tf.Tensor 'IteratorGetNext:22' shape=(None,) dtype=float64>, 'incentive_count_residential': <tf.Tensor 'IteratorGetNext:82' shape=(None,) dtype=float64>, 'incentive_count_nonresidential': <tf.Tensor 'IteratorGetNext:81' shape=(None,) dtype=float64>, 'incentive_residential_state_level': <tf.Tensor 'IteratorGetNext:84' shape=(None,) dtype=float64>, 'incentive_nonresidential_state_level': <tf.Tensor 'IteratorGetNext:83' shape=(None,) dtype=float64>, 'net_metering': <tf.Tensor 'IteratorGetNext:90' shape=(None,) dtype=float64>, 'feedin_tariff': <tf.Tensor 'IteratorGetNext:52' shape=(None,) dtype=float64>, 'cooperate_tax': <tf.Tensor 'IteratorGetNext:19' shape=(None,) dtype=float64>, 'property_tax': <tf.Tensor 'IteratorGetNext:112' shape=(None,) dtype=float64>, 'sales_tax': <tf.Tensor 'IteratorGetNext:129' shape=(None,) dtype=float64>, 'rebate': <tf.Tensor 'IteratorGetNext:127' shape=(None,) dtype=float64>, 'avg_electricity_retail_rate': <tf.Tensor 'IteratorGetNext:16' shape=(None,) dtype=float64>}. Consider rewriting this model with the Functional API.\n",
            "WARNING:tensorflow:Layers in a Sequential model should only have a single input tensor. Received: inputs={'tile_count': <tf.Tensor 'IteratorGetNext:135' shape=(None,) dtype=float64>, 'solar_system_count': <tf.Tensor 'IteratorGetNext:131' shape=(None,) dtype=float64>, 'fips': <tf.Tensor 'IteratorGetNext:53' shape=(None,) dtype=float64>, 'average_household_income': <tf.Tensor 'IteratorGetNext:14' shape=(None,) dtype=float64>, 'county': <tf.Tensor 'IteratorGetNext:20' shape=(None,) dtype=string>, 'education_bachelor': <tf.Tensor 'IteratorGetNext:26' shape=(None,) dtype=float64>, 'education_college': <tf.Tensor 'IteratorGetNext:28' shape=(None,) dtype=float64>, 'education_doctoral': <tf.Tensor 'IteratorGetNext:30' shape=(None,) dtype=float64>, 'education_high_school_graduate': <tf.Tensor 'IteratorGetNext:32' shape=(None,) dtype=float64>, 'education_less_than_high_school': <tf.Tensor 'IteratorGetNext:34' shape=(None,) dtype=float64>, 'education_master': <tf.Tensor 'IteratorGetNext:36' shape=(None,) dtype=float64>, 'education_population': <tf.Tensor 'IteratorGetNext:38' shape=(None,) dtype=float64>, 'education_professional_school': <tf.Tensor 'IteratorGetNext:39' shape=(None,) dtype=float64>, 'employed': <tf.Tensor 'IteratorGetNext:51' shape=(None,) dtype=float64>, 'gini_index': <tf.Tensor 'IteratorGetNext:55' shape=(None,) dtype=float64>, 'heating_fuel_coal_coke': <tf.Tensor 'IteratorGetNext:60' shape=(None,) dtype=float64>, 'heating_fuel_electricity': <tf.Tensor 'IteratorGetNext:62' shape=(None,) dtype=float64>, 'heating_fuel_fuel_oil_kerosene': <tf.Tensor 'IteratorGetNext:64' shape=(None,) dtype=float64>, 'heating_fuel_gas': <tf.Tensor 'IteratorGetNext:66' shape=(None,) dtype=float64>, 'heating_fuel_housing_unit_count': <tf.Tensor 'IteratorGetNext:68' shape=(None,) dtype=float64>, 'heating_fuel_none': <tf.Tensor 'IteratorGetNext:69' shape=(None,) dtype=float64>, 'heating_fuel_other': <tf.Tensor 'IteratorGetNext:71' shape=(None,) dtype=float64>, 'heating_fuel_solar': <tf.Tensor 'IteratorGetNext:73' shape=(None,) dtype=float64>, 'land_area': <tf.Tensor 'IteratorGetNext:85' shape=(None,) dtype=float64>, 'per_capita_income': <tf.Tensor 'IteratorGetNext:106' shape=(None,) dtype=float64>, 'population': <tf.Tensor 'IteratorGetNext:107' shape=(None,) dtype=float64>, 'population_density': <tf.Tensor 'IteratorGetNext:108' shape=(None,) dtype=float64>, 'poverty_family_below_poverty_level': <tf.Tensor 'IteratorGetNext:109' shape=(None,) dtype=float64>, 'poverty_family_count': <tf.Tensor 'IteratorGetNext:111' shape=(None,) dtype=float64>, 'race_asian': <tf.Tensor 'IteratorGetNext:113' shape=(None,) dtype=float64>, 'race_black_africa': <tf.Tensor 'IteratorGetNext:115' shape=(None,) dtype=float64>, 'race_indian_alaska': <tf.Tensor 'IteratorGetNext:117' shape=(None,) dtype=float64>, 'race_islander': <tf.Tensor 'IteratorGetNext:119' shape=(None,) dtype=float64>, 'race_other': <tf.Tensor 'IteratorGetNext:121' shape=(None,) dtype=float64>, 'race_two_more': <tf.Tensor 'IteratorGetNext:123' shape=(None,) dtype=float64>, 'race_white': <tf.Tensor 'IteratorGetNext:125' shape=(None,) dtype=float64>, 'state': <tf.Tensor 'IteratorGetNext:134' shape=(None,) dtype=string>, 'total_area': <tf.Tensor 'IteratorGetNext:138' shape=(None,) dtype=float64>, 'unemployed': <tf.Tensor 'IteratorGetNext:155' shape=(None,) dtype=float64>, 'water_area': <tf.Tensor 'IteratorGetNext:160' shape=(None,) dtype=float64>, 'education_less_than_high_school_rate': <tf.Tensor 'IteratorGetNext:35' shape=(None,) dtype=float64>, 'education_high_school_graduate_rate': <tf.Tensor 'IteratorGetNext:33' shape=(None,) dtype=float64>, 'education_college_rate': <tf.Tensor 'IteratorGetNext:29' shape=(None,) dtype=float64>, 'education_bachelor_rate': <tf.Tensor 'IteratorGetNext:27' shape=(None,) dtype=float64>, 'education_master_rate': <tf.Tensor 'IteratorGetNext:37' shape=(None,) dtype=float64>, 'education_professional_school_rate': <tf.Tensor 'IteratorGetNext:40' shape=(None,) dtype=float64>, 'education_doctoral_rate': <tf.Tensor 'IteratorGetNext:31' shape=(None,) dtype=float64>, 'race_white_rate': <tf.Tensor 'IteratorGetNext:126' shape=(None,) dtype=float64>, 'race_black_africa_rate': <tf.Tensor 'IteratorGetNext:116' shape=(None,) dtype=float64>, 'race_indian_alaska_rate': <tf.Tensor 'IteratorGetNext:118' shape=(None,) dtype=float64>, 'race_asian_rate': <tf.Tensor 'IteratorGetNext:114' shape=(None,) dtype=float64>, 'race_islander_rate': <tf.Tensor 'IteratorGetNext:120' shape=(None,) dtype=float64>, 'race_other_rate': <tf.Tensor 'IteratorGetNext:122' shape=(None,) dtype=float64>, 'race_two_more_rate': <tf.Tensor 'IteratorGetNext:124' shape=(None,) dtype=float64>, 'employ_rate': <tf.Tensor 'IteratorGetNext:50' shape=(None,) dtype=float64>, 'poverty_family_below_poverty_level_rate': <tf.Tensor 'IteratorGetNext:110' shape=(None,) dtype=float64>, 'heating_fuel_gas_rate': <tf.Tensor 'IteratorGetNext:67' shape=(None,) dtype=float64>, 'heating_fuel_electricity_rate': <tf.Tensor 'IteratorGetNext:63' shape=(None,) dtype=float64>, 'heating_fuel_fuel_oil_kerosene_rate': <tf.Tensor 'IteratorGetNext:65' shape=(None,) dtype=float64>, 'heating_fuel_coal_coke_rate': <tf.Tensor 'IteratorGetNext:61' shape=(None,) dtype=float64>, 'heating_fuel_solar_rate': <tf.Tensor 'IteratorGetNext:74' shape=(None,) dtype=float64>, 'heating_fuel_other_rate': <tf.Tensor 'IteratorGetNext:72' shape=(None,) dtype=float64>, 'heating_fuel_none_rate': <tf.Tensor 'IteratorGetNext:70' shape=(None,) dtype=float64>, 'solar_panel_area_divided_by_area': <tf.Tensor 'IteratorGetNext:130' shape=(None,) dtype=float64>, 'tile_count_residential': <tf.Tensor 'IteratorGetNext:137' shape=(None,) dtype=float64>, 'tile_count_nonresidential': <tf.Tensor 'IteratorGetNext:136' shape=(None,) dtype=float64>, 'solar_system_count_residential': <tf.Tensor 'IteratorGetNext:133' shape=(None,) dtype=float64>, 'solar_system_count_nonresidential': <tf.Tensor 'IteratorGetNext:132' shape=(None,) dtype=float64>, 'total_panel_area_residential': <tf.Tensor 'IteratorGetNext:140' shape=(None,) dtype=float64>, 'total_panel_area_nonresidential': <tf.Tensor 'IteratorGetNext:139' shape=(None,) dtype=float64>, 'median_household_income': <tf.Tensor 'IteratorGetNext:88' shape=(None,) dtype=float64>, 'electricity_price_residential': <tf.Tensor 'IteratorGetNext:48' shape=(None,) dtype=float64>, 'electricity_price_commercial': <tf.Tensor 'IteratorGetNext:45' shape=(None,) dtype=float64>, 'electricity_price_industrial': <tf.Tensor 'IteratorGetNext:46' shape=(None,) dtype=float64>, 'electricity_price_overall': <tf.Tensor 'IteratorGetNext:47' shape=(None,) dtype=float64>, 'electricity_consume_residential': <tf.Tensor 'IteratorGetNext:43' shape=(None,) dtype=float64>, 'electricity_consume_commercial': <tf.Tensor 'IteratorGetNext:41' shape=(None,) dtype=float64>, 'electricity_consume_industrial': <tf.Tensor 'IteratorGetNext:42' shape=(None,) dtype=float64>, 'electricity_consume_total': <tf.Tensor 'IteratorGetNext:44' shape=(None,) dtype=float64>, 'household_count': <tf.Tensor 'IteratorGetNext:75' shape=(None,) dtype=float64>, 'average_household_size': <tf.Tensor 'IteratorGetNext:15' shape=(None,) dtype=float64>, 'housing_unit_count': <tf.Tensor 'IteratorGetNext:77' shape=(None,) dtype=float64>, 'housing_unit_occupied_count': <tf.Tensor 'IteratorGetNext:80' shape=(None,) dtype=float64>, 'housing_unit_median_value': <tf.Tensor 'IteratorGetNext:79' shape=(None,) dtype=float64>, 'housing_unit_median_gross_rent': <tf.Tensor 'IteratorGetNext:78' shape=(None,) dtype=float64>, 'lat': <tf.Tensor 'IteratorGetNext:86' shape=(None,) dtype=float64>, 'lon': <tf.Tensor 'IteratorGetNext:87' shape=(None,) dtype=float64>, 'elevation': <tf.Tensor 'IteratorGetNext:49' shape=(None,) dtype=float64>, 'heating_design_temperature': <tf.Tensor 'IteratorGetNext:59' shape=(None,) dtype=float64>, 'cooling_design_temperature': <tf.Tensor 'IteratorGetNext:18' shape=(None,) dtype=float64>, 'earth_temperature_amplitude': <tf.Tensor 'IteratorGetNext:25' shape=(None,) dtype=float64>, 'frost_days': <tf.Tensor 'IteratorGetNext:54' shape=(None,) dtype=float64>, 'air_temperature': <tf.Tensor 'IteratorGetNext:12' shape=(None,) dtype=float64>, 'relative_humidity': <tf.Tensor 'IteratorGetNext:128' shape=(None,) dtype=float64>, 'daily_solar_radiation': <tf.Tensor 'IteratorGetNext:21' shape=(None,) dtype=float64>, 'atmospheric_pressure': <tf.Tensor 'IteratorGetNext:13' shape=(None,) dtype=float64>, 'wind_speed': <tf.Tensor 'IteratorGetNext:161' shape=(None,) dtype=float64>, 'earth_temperature': <tf.Tensor 'IteratorGetNext:24' shape=(None,) dtype=float64>, 'heating_degree_days': <tf.Tensor 'IteratorGetNext:58' shape=(None,) dtype=float64>, 'cooling_degree_days': <tf.Tensor 'IteratorGetNext:17' shape=(None,) dtype=float64>, 'age_18_24_rate': <tf.Tensor 'IteratorGetNext:2' shape=(None,) dtype=float64>, 'age_25_34_rate': <tf.Tensor 'IteratorGetNext:3' shape=(None,) dtype=float64>, 'age_more_than_85_rate': <tf.Tensor 'IteratorGetNext:11' shape=(None,) dtype=float64>, 'age_75_84_rate': <tf.Tensor 'IteratorGetNext:9' shape=(None,) dtype=float64>, 'age_35_44_rate': <tf.Tensor 'IteratorGetNext:4' shape=(None,) dtype=float64>, 'age_45_54_rate': <tf.Tensor 'IteratorGetNext:5' shape=(None,) dtype=float64>, 'age_65_74_rate': <tf.Tensor 'IteratorGetNext:8' shape=(None,) dtype=float64>, 'age_55_64_rate': <tf.Tensor 'IteratorGetNext:6' shape=(None,) dtype=float64>, 'age_10_14_rate': <tf.Tensor 'IteratorGetNext:0' shape=(None,) dtype=float64>, 'age_15_17_rate': <tf.Tensor 'IteratorGetNext:1' shape=(None,) dtype=float64>, 'age_5_9_rate': <tf.Tensor 'IteratorGetNext:7' shape=(None,) dtype=float64>, 'household_type_family_rate': <tf.Tensor 'IteratorGetNext:76' shape=(None,) dtype=float64>, 'dropout_16_19_inschool_rate': <tf.Tensor 'IteratorGetNext:23' shape=(None,) dtype=float64>, 'occupation_construction_rate': <tf.Tensor 'IteratorGetNext:97' shape=(None,) dtype=float64>, 'occupation_public_rate': <tf.Tensor 'IteratorGetNext:102' shape=(None,) dtype=float64>, 'occupation_information_rate': <tf.Tensor 'IteratorGetNext:100' shape=(None,) dtype=float64>, 'occupation_finance_rate': <tf.Tensor 'IteratorGetNext:99' shape=(None,) dtype=float64>, 'occupation_education_rate': <tf.Tensor 'IteratorGetNext:98' shape=(None,) dtype=float64>, 'occupation_administrative_rate': <tf.Tensor 'IteratorGetNext:94' shape=(None,) dtype=float64>, 'occupation_manufacturing_rate': <tf.Tensor 'IteratorGetNext:101' shape=(None,) dtype=float64>, 'occupation_wholesale_rate': <tf.Tensor 'IteratorGetNext:105' shape=(None,) dtype=float64>, 'occupation_retail_rate': <tf.Tensor 'IteratorGetNext:103' shape=(None,) dtype=float64>, 'occupation_transportation_rate': <tf.Tensor 'IteratorGetNext:104' shape=(None,) dtype=float64>, 'occupation_arts_rate': <tf.Tensor 'IteratorGetNext:96' shape=(None,) dtype=float64>, 'occupation_agriculture_rate': <tf.Tensor 'IteratorGetNext:95' shape=(None,) dtype=float64>, 'occupancy_vacant_rate': <tf.Tensor 'IteratorGetNext:93' shape=(None,) dtype=float64>, 'occupancy_owner_rate': <tf.Tensor 'IteratorGetNext:92' shape=(None,) dtype=float64>, 'mortgage_with_rate': <tf.Tensor 'IteratorGetNext:89' shape=(None,) dtype=float64>, 'transportation_home_rate': <tf.Tensor 'IteratorGetNext:144' shape=(None,) dtype=float64>, 'transportation_car_alone_rate': <tf.Tensor 'IteratorGetNext:142' shape=(None,) dtype=float64>, 'transportation_walk_rate': <tf.Tensor 'IteratorGetNext:147' shape=(None,) dtype=float64>, 'transportation_carpool_rate': <tf.Tensor 'IteratorGetNext:143' shape=(None,) dtype=float64>, 'transportation_motorcycle_rate': <tf.Tensor 'IteratorGetNext:145' shape=(None,) dtype=float64>, 'transportation_bicycle_rate': <tf.Tensor 'IteratorGetNext:141' shape=(None,) dtype=float64>, 'transportation_public_rate': <tf.Tensor 'IteratorGetNext:146' shape=(None,) dtype=float64>, 'travel_time_less_than_10_rate': <tf.Tensor 'IteratorGetNext:154' shape=(None,) dtype=float64>, 'travel_time_10_19_rate': <tf.Tensor 'IteratorGetNext:148' shape=(None,) dtype=float64>, 'travel_time_20_29_rate': <tf.Tensor 'IteratorGetNext:149' shape=(None,) dtype=float64>, 'travel_time_30_39_rate': <tf.Tensor 'IteratorGetNext:150' shape=(None,) dtype=float64>, 'travel_time_40_59_rate': <tf.Tensor 'IteratorGetNext:151' shape=(None,) dtype=float64>, 'travel_time_60_89_rate': <tf.Tensor 'IteratorGetNext:152' shape=(None,) dtype=float64>, 'health_insurance_public_rate': <tf.Tensor 'IteratorGetNext:57' shape=(None,) dtype=float64>, 'health_insurance_none_rate': <tf.Tensor 'IteratorGetNext:56' shape=(None,) dtype=float64>, 'age_median': <tf.Tensor 'IteratorGetNext:10' shape=(None,) dtype=float64>, 'travel_time_average': <tf.Tensor 'IteratorGetNext:153' shape=(None,) dtype=float64>, 'voting_2016_dem_percentage': <tf.Tensor 'IteratorGetNext:157' shape=(None,) dtype=float64>, 'voting_2016_gop_percentage': <tf.Tensor 'IteratorGetNext:159' shape=(None,) dtype=float64>, 'voting_2016_dem_win': <tf.Tensor 'IteratorGetNext:158' shape=(None,) dtype=int64>, 'voting_2012_dem_win': <tf.Tensor 'IteratorGetNext:156' shape=(None,) dtype=int64>, 'number_of_years_of_education': <tf.Tensor 'IteratorGetNext:91' shape=(None,) dtype=float64>, 'diversity': <tf.Tensor 'IteratorGetNext:22' shape=(None,) dtype=float64>, 'incentive_count_residential': <tf.Tensor 'IteratorGetNext:82' shape=(None,) dtype=float64>, 'incentive_count_nonresidential': <tf.Tensor 'IteratorGetNext:81' shape=(None,) dtype=float64>, 'incentive_residential_state_level': <tf.Tensor 'IteratorGetNext:84' shape=(None,) dtype=float64>, 'incentive_nonresidential_state_level': <tf.Tensor 'IteratorGetNext:83' shape=(None,) dtype=float64>, 'net_metering': <tf.Tensor 'IteratorGetNext:90' shape=(None,) dtype=float64>, 'feedin_tariff': <tf.Tensor 'IteratorGetNext:52' shape=(None,) dtype=float64>, 'cooperate_tax': <tf.Tensor 'IteratorGetNext:19' shape=(None,) dtype=float64>, 'property_tax': <tf.Tensor 'IteratorGetNext:112' shape=(None,) dtype=float64>, 'sales_tax': <tf.Tensor 'IteratorGetNext:129' shape=(None,) dtype=float64>, 'rebate': <tf.Tensor 'IteratorGetNext:127' shape=(None,) dtype=float64>, 'avg_electricity_retail_rate': <tf.Tensor 'IteratorGetNext:16' shape=(None,) dtype=float64>}. Consider rewriting this model with the Functional API.\n",
            "7250/7252 [============================>.] - ETA: 0s - loss: 4536490.5000 - mae: 500.7739WARNING:tensorflow:Layers in a Sequential model should only have a single input tensor. Received: inputs={'tile_count': <tf.Tensor 'IteratorGetNext:135' shape=(None,) dtype=float64>, 'solar_system_count': <tf.Tensor 'IteratorGetNext:131' shape=(None,) dtype=float64>, 'fips': <tf.Tensor 'IteratorGetNext:53' shape=(None,) dtype=float64>, 'average_household_income': <tf.Tensor 'IteratorGetNext:14' shape=(None,) dtype=float64>, 'county': <tf.Tensor 'IteratorGetNext:20' shape=(None,) dtype=string>, 'education_bachelor': <tf.Tensor 'IteratorGetNext:26' shape=(None,) dtype=float64>, 'education_college': <tf.Tensor 'IteratorGetNext:28' shape=(None,) dtype=float64>, 'education_doctoral': <tf.Tensor 'IteratorGetNext:30' shape=(None,) dtype=float64>, 'education_high_school_graduate': <tf.Tensor 'IteratorGetNext:32' shape=(None,) dtype=float64>, 'education_less_than_high_school': <tf.Tensor 'IteratorGetNext:34' shape=(None,) dtype=float64>, 'education_master': <tf.Tensor 'IteratorGetNext:36' shape=(None,) dtype=float64>, 'education_population': <tf.Tensor 'IteratorGetNext:38' shape=(None,) dtype=float64>, 'education_professional_school': <tf.Tensor 'IteratorGetNext:39' shape=(None,) dtype=float64>, 'employed': <tf.Tensor 'IteratorGetNext:51' shape=(None,) dtype=float64>, 'gini_index': <tf.Tensor 'IteratorGetNext:55' shape=(None,) dtype=float64>, 'heating_fuel_coal_coke': <tf.Tensor 'IteratorGetNext:60' shape=(None,) dtype=float64>, 'heating_fuel_electricity': <tf.Tensor 'IteratorGetNext:62' shape=(None,) dtype=float64>, 'heating_fuel_fuel_oil_kerosene': <tf.Tensor 'IteratorGetNext:64' shape=(None,) dtype=float64>, 'heating_fuel_gas': <tf.Tensor 'IteratorGetNext:66' shape=(None,) dtype=float64>, 'heating_fuel_housing_unit_count': <tf.Tensor 'IteratorGetNext:68' shape=(None,) dtype=float64>, 'heating_fuel_none': <tf.Tensor 'IteratorGetNext:69' shape=(None,) dtype=float64>, 'heating_fuel_other': <tf.Tensor 'IteratorGetNext:71' shape=(None,) dtype=float64>, 'heating_fuel_solar': <tf.Tensor 'IteratorGetNext:73' shape=(None,) dtype=float64>, 'land_area': <tf.Tensor 'IteratorGetNext:85' shape=(None,) dtype=float64>, 'per_capita_income': <tf.Tensor 'IteratorGetNext:106' shape=(None,) dtype=float64>, 'population': <tf.Tensor 'IteratorGetNext:107' shape=(None,) dtype=float64>, 'population_density': <tf.Tensor 'IteratorGetNext:108' shape=(None,) dtype=float64>, 'poverty_family_below_poverty_level': <tf.Tensor 'IteratorGetNext:109' shape=(None,) dtype=float64>, 'poverty_family_count': <tf.Tensor 'IteratorGetNext:111' shape=(None,) dtype=float64>, 'race_asian': <tf.Tensor 'IteratorGetNext:113' shape=(None,) dtype=float64>, 'race_black_africa': <tf.Tensor 'IteratorGetNext:115' shape=(None,) dtype=float64>, 'race_indian_alaska': <tf.Tensor 'IteratorGetNext:117' shape=(None,) dtype=float64>, 'race_islander': <tf.Tensor 'IteratorGetNext:119' shape=(None,) dtype=float64>, 'race_other': <tf.Tensor 'IteratorGetNext:121' shape=(None,) dtype=float64>, 'race_two_more': <tf.Tensor 'IteratorGetNext:123' shape=(None,) dtype=float64>, 'race_white': <tf.Tensor 'IteratorGetNext:125' shape=(None,) dtype=float64>, 'state': <tf.Tensor 'IteratorGetNext:134' shape=(None,) dtype=string>, 'total_area': <tf.Tensor 'IteratorGetNext:138' shape=(None,) dtype=float64>, 'unemployed': <tf.Tensor 'IteratorGetNext:155' shape=(None,) dtype=float64>, 'water_area': <tf.Tensor 'IteratorGetNext:160' shape=(None,) dtype=float64>, 'education_less_than_high_school_rate': <tf.Tensor 'IteratorGetNext:35' shape=(None,) dtype=float64>, 'education_high_school_graduate_rate': <tf.Tensor 'IteratorGetNext:33' shape=(None,) dtype=float64>, 'education_college_rate': <tf.Tensor 'IteratorGetNext:29' shape=(None,) dtype=float64>, 'education_bachelor_rate': <tf.Tensor 'IteratorGetNext:27' shape=(None,) dtype=float64>, 'education_master_rate': <tf.Tensor 'IteratorGetNext:37' shape=(None,) dtype=float64>, 'education_professional_school_rate': <tf.Tensor 'IteratorGetNext:40' shape=(None,) dtype=float64>, 'education_doctoral_rate': <tf.Tensor 'IteratorGetNext:31' shape=(None,) dtype=float64>, 'race_white_rate': <tf.Tensor 'IteratorGetNext:126' shape=(None,) dtype=float64>, 'race_black_africa_rate': <tf.Tensor 'IteratorGetNext:116' shape=(None,) dtype=float64>, 'race_indian_alaska_rate': <tf.Tensor 'IteratorGetNext:118' shape=(None,) dtype=float64>, 'race_asian_rate': <tf.Tensor 'IteratorGetNext:114' shape=(None,) dtype=float64>, 'race_islander_rate': <tf.Tensor 'IteratorGetNext:120' shape=(None,) dtype=float64>, 'race_other_rate': <tf.Tensor 'IteratorGetNext:122' shape=(None,) dtype=float64>, 'race_two_more_rate': <tf.Tensor 'IteratorGetNext:124' shape=(None,) dtype=float64>, 'employ_rate': <tf.Tensor 'IteratorGetNext:50' shape=(None,) dtype=float64>, 'poverty_family_below_poverty_level_rate': <tf.Tensor 'IteratorGetNext:110' shape=(None,) dtype=float64>, 'heating_fuel_gas_rate': <tf.Tensor 'IteratorGetNext:67' shape=(None,) dtype=float64>, 'heating_fuel_electricity_rate': <tf.Tensor 'IteratorGetNext:63' shape=(None,) dtype=float64>, 'heating_fuel_fuel_oil_kerosene_rate': <tf.Tensor 'IteratorGetNext:65' shape=(None,) dtype=float64>, 'heating_fuel_coal_coke_rate': <tf.Tensor 'IteratorGetNext:61' shape=(None,) dtype=float64>, 'heating_fuel_solar_rate': <tf.Tensor 'IteratorGetNext:74' shape=(None,) dtype=float64>, 'heating_fuel_other_rate': <tf.Tensor 'IteratorGetNext:72' shape=(None,) dtype=float64>, 'heating_fuel_none_rate': <tf.Tensor 'IteratorGetNext:70' shape=(None,) dtype=float64>, 'solar_panel_area_divided_by_area': <tf.Tensor 'IteratorGetNext:130' shape=(None,) dtype=float64>, 'tile_count_residential': <tf.Tensor 'IteratorGetNext:137' shape=(None,) dtype=float64>, 'tile_count_nonresidential': <tf.Tensor 'IteratorGetNext:136' shape=(None,) dtype=float64>, 'solar_system_count_residential': <tf.Tensor 'IteratorGetNext:133' shape=(None,) dtype=float64>, 'solar_system_count_nonresidential': <tf.Tensor 'IteratorGetNext:132' shape=(None,) dtype=float64>, 'total_panel_area_residential': <tf.Tensor 'IteratorGetNext:140' shape=(None,) dtype=float64>, 'total_panel_area_nonresidential': <tf.Tensor 'IteratorGetNext:139' shape=(None,) dtype=float64>, 'median_household_income': <tf.Tensor 'IteratorGetNext:88' shape=(None,) dtype=float64>, 'electricity_price_residential': <tf.Tensor 'IteratorGetNext:48' shape=(None,) dtype=float64>, 'electricity_price_commercial': <tf.Tensor 'IteratorGetNext:45' shape=(None,) dtype=float64>, 'electricity_price_industrial': <tf.Tensor 'IteratorGetNext:46' shape=(None,) dtype=float64>, 'electricity_price_overall': <tf.Tensor 'IteratorGetNext:47' shape=(None,) dtype=float64>, 'electricity_consume_residential': <tf.Tensor 'IteratorGetNext:43' shape=(None,) dtype=float64>, 'electricity_consume_commercial': <tf.Tensor 'IteratorGetNext:41' shape=(None,) dtype=float64>, 'electricity_consume_industrial': <tf.Tensor 'IteratorGetNext:42' shape=(None,) dtype=float64>, 'electricity_consume_total': <tf.Tensor 'IteratorGetNext:44' shape=(None,) dtype=float64>, 'household_count': <tf.Tensor 'IteratorGetNext:75' shape=(None,) dtype=float64>, 'average_household_size': <tf.Tensor 'IteratorGetNext:15' shape=(None,) dtype=float64>, 'housing_unit_count': <tf.Tensor 'IteratorGetNext:77' shape=(None,) dtype=float64>, 'housing_unit_occupied_count': <tf.Tensor 'IteratorGetNext:80' shape=(None,) dtype=float64>, 'housing_unit_median_value': <tf.Tensor 'IteratorGetNext:79' shape=(None,) dtype=float64>, 'housing_unit_median_gross_rent': <tf.Tensor 'IteratorGetNext:78' shape=(None,) dtype=float64>, 'lat': <tf.Tensor 'IteratorGetNext:86' shape=(None,) dtype=float64>, 'lon': <tf.Tensor 'IteratorGetNext:87' shape=(None,) dtype=float64>, 'elevation': <tf.Tensor 'IteratorGetNext:49' shape=(None,) dtype=float64>, 'heating_design_temperature': <tf.Tensor 'IteratorGetNext:59' shape=(None,) dtype=float64>, 'cooling_design_temperature': <tf.Tensor 'IteratorGetNext:18' shape=(None,) dtype=float64>, 'earth_temperature_amplitude': <tf.Tensor 'IteratorGetNext:25' shape=(None,) dtype=float64>, 'frost_days': <tf.Tensor 'IteratorGetNext:54' shape=(None,) dtype=float64>, 'air_temperature': <tf.Tensor 'IteratorGetNext:12' shape=(None,) dtype=float64>, 'relative_humidity': <tf.Tensor 'IteratorGetNext:128' shape=(None,) dtype=float64>, 'daily_solar_radiation': <tf.Tensor 'IteratorGetNext:21' shape=(None,) dtype=float64>, 'atmospheric_pressure': <tf.Tensor 'IteratorGetNext:13' shape=(None,) dtype=float64>, 'wind_speed': <tf.Tensor 'IteratorGetNext:161' shape=(None,) dtype=float64>, 'earth_temperature': <tf.Tensor 'IteratorGetNext:24' shape=(None,) dtype=float64>, 'heating_degree_days': <tf.Tensor 'IteratorGetNext:58' shape=(None,) dtype=float64>, 'cooling_degree_days': <tf.Tensor 'IteratorGetNext:17' shape=(None,) dtype=float64>, 'age_18_24_rate': <tf.Tensor 'IteratorGetNext:2' shape=(None,) dtype=float64>, 'age_25_34_rate': <tf.Tensor 'IteratorGetNext:3' shape=(None,) dtype=float64>, 'age_more_than_85_rate': <tf.Tensor 'IteratorGetNext:11' shape=(None,) dtype=float64>, 'age_75_84_rate': <tf.Tensor 'IteratorGetNext:9' shape=(None,) dtype=float64>, 'age_35_44_rate': <tf.Tensor 'IteratorGetNext:4' shape=(None,) dtype=float64>, 'age_45_54_rate': <tf.Tensor 'IteratorGetNext:5' shape=(None,) dtype=float64>, 'age_65_74_rate': <tf.Tensor 'IteratorGetNext:8' shape=(None,) dtype=float64>, 'age_55_64_rate': <tf.Tensor 'IteratorGetNext:6' shape=(None,) dtype=float64>, 'age_10_14_rate': <tf.Tensor 'IteratorGetNext:0' shape=(None,) dtype=float64>, 'age_15_17_rate': <tf.Tensor 'IteratorGetNext:1' shape=(None,) dtype=float64>, 'age_5_9_rate': <tf.Tensor 'IteratorGetNext:7' shape=(None,) dtype=float64>, 'household_type_family_rate': <tf.Tensor 'IteratorGetNext:76' shape=(None,) dtype=float64>, 'dropout_16_19_inschool_rate': <tf.Tensor 'IteratorGetNext:23' shape=(None,) dtype=float64>, 'occupation_construction_rate': <tf.Tensor 'IteratorGetNext:97' shape=(None,) dtype=float64>, 'occupation_public_rate': <tf.Tensor 'IteratorGetNext:102' shape=(None,) dtype=float64>, 'occupation_information_rate': <tf.Tensor 'IteratorGetNext:100' shape=(None,) dtype=float64>, 'occupation_finance_rate': <tf.Tensor 'IteratorGetNext:99' shape=(None,) dtype=float64>, 'occupation_education_rate': <tf.Tensor 'IteratorGetNext:98' shape=(None,) dtype=float64>, 'occupation_administrative_rate': <tf.Tensor 'IteratorGetNext:94' shape=(None,) dtype=float64>, 'occupation_manufacturing_rate': <tf.Tensor 'IteratorGetNext:101' shape=(None,) dtype=float64>, 'occupation_wholesale_rate': <tf.Tensor 'IteratorGetNext:105' shape=(None,) dtype=float64>, 'occupation_retail_rate': <tf.Tensor 'IteratorGetNext:103' shape=(None,) dtype=float64>, 'occupation_transportation_rate': <tf.Tensor 'IteratorGetNext:104' shape=(None,) dtype=float64>, 'occupation_arts_rate': <tf.Tensor 'IteratorGetNext:96' shape=(None,) dtype=float64>, 'occupation_agriculture_rate': <tf.Tensor 'IteratorGetNext:95' shape=(None,) dtype=float64>, 'occupancy_vacant_rate': <tf.Tensor 'IteratorGetNext:93' shape=(None,) dtype=float64>, 'occupancy_owner_rate': <tf.Tensor 'IteratorGetNext:92' shape=(None,) dtype=float64>, 'mortgage_with_rate': <tf.Tensor 'IteratorGetNext:89' shape=(None,) dtype=float64>, 'transportation_home_rate': <tf.Tensor 'IteratorGetNext:144' shape=(None,) dtype=float64>, 'transportation_car_alone_rate': <tf.Tensor 'IteratorGetNext:142' shape=(None,) dtype=float64>, 'transportation_walk_rate': <tf.Tensor 'IteratorGetNext:147' shape=(None,) dtype=float64>, 'transportation_carpool_rate': <tf.Tensor 'IteratorGetNext:143' shape=(None,) dtype=float64>, 'transportation_motorcycle_rate': <tf.Tensor 'IteratorGetNext:145' shape=(None,) dtype=float64>, 'transportation_bicycle_rate': <tf.Tensor 'IteratorGetNext:141' shape=(None,) dtype=float64>, 'transportation_public_rate': <tf.Tensor 'IteratorGetNext:146' shape=(None,) dtype=float64>, 'travel_time_less_than_10_rate': <tf.Tensor 'IteratorGetNext:154' shape=(None,) dtype=float64>, 'travel_time_10_19_rate': <tf.Tensor 'IteratorGetNext:148' shape=(None,) dtype=float64>, 'travel_time_20_29_rate': <tf.Tensor 'IteratorGetNext:149' shape=(None,) dtype=float64>, 'travel_time_30_39_rate': <tf.Tensor 'IteratorGetNext:150' shape=(None,) dtype=float64>, 'travel_time_40_59_rate': <tf.Tensor 'IteratorGetNext:151' shape=(None,) dtype=float64>, 'travel_time_60_89_rate': <tf.Tensor 'IteratorGetNext:152' shape=(None,) dtype=float64>, 'health_insurance_public_rate': <tf.Tensor 'IteratorGetNext:57' shape=(None,) dtype=float64>, 'health_insurance_none_rate': <tf.Tensor 'IteratorGetNext:56' shape=(None,) dtype=float64>, 'age_median': <tf.Tensor 'IteratorGetNext:10' shape=(None,) dtype=float64>, 'travel_time_average': <tf.Tensor 'IteratorGetNext:153' shape=(None,) dtype=float64>, 'voting_2016_dem_percentage': <tf.Tensor 'IteratorGetNext:157' shape=(None,) dtype=float64>, 'voting_2016_gop_percentage': <tf.Tensor 'IteratorGetNext:159' shape=(None,) dtype=float64>, 'voting_2016_dem_win': <tf.Tensor 'IteratorGetNext:158' shape=(None,) dtype=int64>, 'voting_2012_dem_win': <tf.Tensor 'IteratorGetNext:156' shape=(None,) dtype=int64>, 'number_of_years_of_education': <tf.Tensor 'IteratorGetNext:91' shape=(None,) dtype=float64>, 'diversity': <tf.Tensor 'IteratorGetNext:22' shape=(None,) dtype=float64>, 'incentive_count_residential': <tf.Tensor 'IteratorGetNext:82' shape=(None,) dtype=float64>, 'incentive_count_nonresidential': <tf.Tensor 'IteratorGetNext:81' shape=(None,) dtype=float64>, 'incentive_residential_state_level': <tf.Tensor 'IteratorGetNext:84' shape=(None,) dtype=float64>, 'incentive_nonresidential_state_level': <tf.Tensor 'IteratorGetNext:83' shape=(None,) dtype=float64>, 'net_metering': <tf.Tensor 'IteratorGetNext:90' shape=(None,) dtype=float64>, 'feedin_tariff': <tf.Tensor 'IteratorGetNext:52' shape=(None,) dtype=float64>, 'cooperate_tax': <tf.Tensor 'IteratorGetNext:19' shape=(None,) dtype=float64>, 'property_tax': <tf.Tensor 'IteratorGetNext:112' shape=(None,) dtype=float64>, 'sales_tax': <tf.Tensor 'IteratorGetNext:129' shape=(None,) dtype=float64>, 'rebate': <tf.Tensor 'IteratorGetNext:127' shape=(None,) dtype=float64>, 'avg_electricity_retail_rate': <tf.Tensor 'IteratorGetNext:16' shape=(None,) dtype=float64>}. Consider rewriting this model with the Functional API.\n",
            "7252/7252 [==============================] - 144s 19ms/step - loss: 4535400.0000 - mae: 500.7239 - val_loss: 2367528.5000 - val_mae: 347.7760\n",
            "Epoch 2/200\n",
            "7252/7252 [==============================] - 144s 20ms/step - loss: 2712286.0000 - mae: 379.4484 - val_loss: 1798111.5000 - val_mae: 324.6808\n",
            "Epoch 3/200\n",
            "7252/7252 [==============================] - 137s 19ms/step - loss: 1911710.7500 - mae: 331.8267 - val_loss: 1163106.5000 - val_mae: 276.6219\n",
            "Epoch 4/200\n",
            "7252/7252 [==============================] - 142s 20ms/step - loss: 2748916.2500 - mae: 291.2501 - val_loss: 1147287.8750 - val_mae: 252.5910\n",
            "Epoch 5/200\n",
            "7252/7252 [==============================] - 144s 20ms/step - loss: 2041180.3750 - mae: 247.1236 - val_loss: 1315393.3750 - val_mae: 255.3778\n",
            "Epoch 6/200\n",
            "7252/7252 [==============================] - 146s 20ms/step - loss: 1232775.6250 - mae: 235.8497 - val_loss: 827819.0625 - val_mae: 214.9782\n",
            "Epoch 7/200\n",
            "7252/7252 [==============================] - 144s 20ms/step - loss: 1545327.8750 - mae: 232.7002 - val_loss: 803204.9375 - val_mae: 209.3910\n",
            "Epoch 8/200\n",
            "7252/7252 [==============================] - 149s 21ms/step - loss: 1467870.7500 - mae: 214.0940 - val_loss: 779050.0625 - val_mae: 195.1527\n",
            "Epoch 9/200\n",
            "7252/7252 [==============================] - 146s 20ms/step - loss: 909253.6875 - mae: 197.5939 - val_loss: 539414.1875 - val_mae: 205.2265\n",
            "Epoch 10/200\n",
            "7252/7252 [==============================] - 148s 20ms/step - loss: 846619.7500 - mae: 199.8021 - val_loss: 743304.1250 - val_mae: 187.1636\n",
            "Epoch 11/200\n",
            "7252/7252 [==============================] - 146s 20ms/step - loss: 1575513.0000 - mae: 196.6142 - val_loss: 780929.4375 - val_mae: 177.1802\n",
            "Epoch 12/200\n",
            "7252/7252 [==============================] - 149s 21ms/step - loss: 808745.6875 - mae: 176.3955 - val_loss: 526117.6250 - val_mae: 185.3182\n",
            "Epoch 13/200\n",
            "7252/7252 [==============================] - 144s 20ms/step - loss: 1144111.2500 - mae: 187.0751 - val_loss: 702086.1250 - val_mae: 185.1399\n",
            "Epoch 14/200\n",
            "7252/7252 [==============================] - 145s 20ms/step - loss: 991916.5000 - mae: 187.0458 - val_loss: 445957.7500 - val_mae: 181.9056\n",
            "Epoch 15/200\n",
            "7252/7252 [==============================] - 142s 20ms/step - loss: 639640.9375 - mae: 175.5153 - val_loss: 460613.2812 - val_mae: 158.2943\n",
            "Epoch 16/200\n",
            "7252/7252 [==============================] - 141s 19ms/step - loss: 688620.2500 - mae: 184.0468 - val_loss: 267672.1562 - val_mae: 174.6855\n",
            "Epoch 17/200\n",
            "7252/7252 [==============================] - 143s 20ms/step - loss: 738605.2500 - mae: 166.9193 - val_loss: 300217.6875 - val_mae: 135.8630\n",
            "Epoch 18/200\n",
            "7252/7252 [==============================] - 148s 20ms/step - loss: 534095.4375 - mae: 163.7805 - val_loss: 710679.7500 - val_mae: 149.8974\n",
            "Epoch 19/200\n",
            "7252/7252 [==============================] - 145s 20ms/step - loss: 695582.0000 - mae: 173.5958 - val_loss: 469990.9062 - val_mae: 152.5419\n",
            "Epoch 20/200\n",
            "7252/7252 [==============================] - 148s 20ms/step - loss: 340858.3750 - mae: 152.3248 - val_loss: 551911.5625 - val_mae: 146.7260\n",
            "Epoch 21/200\n",
            "7252/7252 [==============================] - 147s 20ms/step - loss: 476616.4062 - mae: 155.9770 - val_loss: 500797.5000 - val_mae: 148.2515\n",
            "Epoch 22/200\n",
            "7252/7252 [==============================] - 146s 20ms/step - loss: 555606.0000 - mae: 154.6067 - val_loss: 482287.6562 - val_mae: 147.9675\n",
            "Epoch 23/200\n",
            "7252/7252 [==============================] - 145s 20ms/step - loss: 663540.1250 - mae: 151.6564 - val_loss: 372212.3125 - val_mae: 143.6208\n",
            "Epoch 24/200\n",
            "7252/7252 [==============================] - 145s 20ms/step - loss: 803563.5625 - mae: 139.4464 - val_loss: 621927.9375 - val_mae: 148.7943\n",
            "Epoch 25/200\n",
            "7252/7252 [==============================] - 140s 19ms/step - loss: 539603.8125 - mae: 131.1977 - val_loss: 349246.4062 - val_mae: 128.9383\n",
            "Epoch 26/200\n",
            "7252/7252 [==============================] - 142s 20ms/step - loss: 603883.2500 - mae: 141.9463 - val_loss: 557638.0000 - val_mae: 156.8663\n",
            "Epoch 26: early stopping\n"
          ]
        }
      ]
    },
    {
      "cell_type": "code",
      "metadata": {
        "id": "7q2gZ4uL2wOD",
        "outputId": "5447fa76-ab67-4d61-d14c-37d593374541",
        "colab": {
          "base_uri": "https://localhost:8080/",
          "height": 839
        }
      },
      "source": [
        "import matplotlib.pyplot as plt\n",
        "import seaborn as sns\n",
        "\n",
        "history = history.history\n",
        "\n",
        "fig, (ax1, ax2) = plt.subplots(2, 1, sharex='col', figsize=(20, 14))\n",
        "\n",
        "ax1.plot(history['loss'], label='Train loss')\n",
        "ax1.plot(history['val_loss'], label='Validation loss')\n",
        "ax1.legend(loc='best')\n",
        "ax1.set_title('Loss')\n",
        "\n",
        "ax2.plot(history['mae'], label='Train accuracy')\n",
        "ax2.plot(history['val_mae'], label='Validation accuracy')\n",
        "ax2.legend(loc='best')\n",
        "ax2.set_title('MAE')\n",
        "\n",
        "plt.xlabel('Epochs')\n",
        "sns.despine()\n",
        "plt.show()"
      ],
      "execution_count": 32,
      "outputs": [
        {
          "output_type": "display_data",
          "data": {
            "text/plain": [
              "<Figure size 1440x1008 with 2 Axes>"
            ],
            "image/png": "[encoded data removed]"
          },
          "metadata": {
            "needs_background": "light"
          }
        }
      ]
    },
    {
      "cell_type": "code",
      "metadata": {
        "id": "6cIjAgWP0879",
        "outputId": "7d3bd6d5-de0a-4439-c749-3746824a0b10",
        "colab": {
          "base_uri": "https://localhost:8080/"
        }
      },
      "source": [
        "model.load_weights('model.h5')\n",
        "model.evaluate(test_ds)"
      ],
      "execution_count": 33,
      "outputs": [
        {
          "output_type": "stream",
          "name": "stdout",
          "text": [
            "1813/1813 [==============================] - 24s 13ms/step - loss: 267672.1562 - mae: 174.6855\n"
          ]
        },
        {
          "output_type": "execute_result",
          "data": {
            "text/plain": [
              "[267672.15625, 174.685546875]"
            ]
          },
          "metadata": {},
          "execution_count": 33
        }
      ]
    },
    {
      "cell_type": "markdown",
      "metadata": {
        "id": "SjnxfNThJxLd"
      },
      "source": [
        "# Results\n",
        "\n",
        "* MinMaxScalar:   loss: 349852.2500 - mae: 217.9379\n",
        "* No scaling:     loss: 39541308.0000 - mae: 1853.0940\n",
        "* RobustScaler:   loss: 2973207.7500 - mae: 192.8916\n",
        "* StandardScaler: **loss: 42956.1250 - mae: 76.7915**\n",
        "* deeper NN:      loss: 147935.1406 - mae: 126.3681\n",
        "* thicker NN:     loss: 39153.5625 - mae: 78.8219\n",
        "* new arch:       loss: 582790.4375 - mae: 286.8643\n",
        "\n"
      ]
    }
  ]
}