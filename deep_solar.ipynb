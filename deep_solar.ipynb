{
  "nbformat": 4,
  "nbformat_minor": 0,
  "metadata": {
    "colab": {
      "name": "deep_solar.ipynb",
      "provenance": [],
      "authorship_tag": "ABX9TyO1jb5VoLyDLcyT+h5FMlKt",
      "include_colab_link": true
    },
    "kernelspec": {
      "name": "python3",
      "display_name": "Python 3"
    },
    "gpuClass": "standard"
  },
  "cells": [
    {
      "cell_type": "markdown",
      "metadata": {
        "id": "view-in-github",
        "colab_type": "text"
      },
      "source": [
        "<a href=\"https://colab.research.google.com/github/dcpatton/Structured-Data/blob/main/deep_solar.ipynb\" target=\"_parent\"><img src=\"https://colab.research.google.com/assets/colab-badge.svg\" alt=\"Open In Colab\"/></a>"
      ]
    },
    {
      "cell_type": "markdown",
      "metadata": {
        "id": "4aSGMNyQxG64"
      },
      "source": [
        "http://web.stanford.edu/group/deepsolar/home.html"
      ]
    },
    {
      "cell_type": "markdown",
      "metadata": {
        "id": "sy562WRhJCwP"
      },
      "source": [
        "TODO: \n",
        "\n",
        "1. Improve current model arch\n",
        "2. Predict a DeepSolar value and remove others.\n",
        "3. Predict multiple DeepSolar outputs\n",
        "\n"
      ]
    },
    {
      "cell_type": "code",
      "metadata": {
        "id": "p_XNDXK3WFI8",
        "outputId": "350c622d-5e98-45e6-e3b8-389019bbdf82",
        "colab": {
          "base_uri": "https://localhost:8080/",
          "height": 35
        }
      },
      "source": [
        "import tensorflow as tf\n",
        "import random\n",
        "\n",
        "seed=53\n",
        "tf.random.set_seed(seed)\n",
        "random.seed(seed)\n",
        "\n",
        "tf.__version__"
      ],
      "execution_count": 4,
      "outputs": [
        {
          "output_type": "execute_result",
          "data": {
            "text/plain": [
              "'2.8.2'"
            ],
            "application/vnd.google.colaboratory.intrinsic+json": {
              "type": "string"
            }
          },
          "metadata": {},
          "execution_count": 4
        }
      ]
    },
    {
      "cell_type": "markdown",
      "metadata": {
        "id": "zhz7jEl_Wbck"
      },
      "source": [
        "# Get the data"
      ]
    },
    {
      "cell_type": "code",
      "metadata": {
        "id": "B-_6QHxOWd6y",
        "outputId": "dbccead7-6929-4223-818c-d1032d1f1fa2",
        "colab": {
          "base_uri": "https://localhost:8080/"
        }
      },
      "source": [
        "!curl http://web.stanford.edu/group/deepsolar/deepsolar_tract.csv -o deepsolar_tract.csv\n",
        "!curl http://web.stanford.edu/group/deepsolar/deepsolar_tract_meta.csv -o deepsolar_tract_meta.csv"
      ],
      "execution_count": 5,
      "outputs": [
        {
          "output_type": "stream",
          "name": "stdout",
          "text": [
            "  % Total    % Received % Xferd  Average Speed   Time    Time     Time  Current\n",
            "                                 Dload  Upload   Total   Spent    Left  Speed\n",
            "100  107M  100  107M    0     0   811k      0  0:02:15  0:02:15 --:--:--  889k\n",
            "  % Total    % Received % Xferd  Average Speed   Time    Time     Time  Current\n",
            "                                 Dload  Upload   Total   Spent    Left  Speed\n",
            "100 15301  100 15301    0     0  32555      0 --:--:-- --:--:-- --:--:-- 32555\n"
          ]
        }
      ]
    },
    {
      "cell_type": "code",
      "metadata": {
        "id": "dLTXX1vIXhhs",
        "outputId": "4e7c7139-c93a-4700-86d1-3ab2ee7c0563",
        "colab": {
          "base_uri": "https://localhost:8080/"
        }
      },
      "source": [
        "import pandas as pd\n",
        "data = pd.read_csv('deepsolar_tract.csv', encoding='latin-1', index_col=0)\n",
        "metadata = pd.read_csv('deepsolar_tract_meta.csv')\n",
        "data.shape"
      ],
      "execution_count": 6,
      "outputs": [
        {
          "output_type": "execute_result",
          "data": {
            "text/plain": [
              "(72537, 168)"
            ]
          },
          "metadata": {},
          "execution_count": 6
        }
      ]
    },
    {
      "cell_type": "code",
      "source": [
        "data.info(verbose=True, show_counts=True)"
      ],
      "metadata": {
        "colab": {
          "base_uri": "https://localhost:8080/"
        },
        "id": "qBDMsdKC4P7y",
        "outputId": "46b455d4-c502-4c2f-b5b4-9a28cf97d4c5"
      },
      "execution_count": 7,
      "outputs": [
        {
          "output_type": "stream",
          "name": "stdout",
          "text": [
            "<class 'pandas.core.frame.DataFrame'>\n",
            "Int64Index: 72537 entries, 0 to 72537\n",
            "Data columns (total 168 columns):\n",
            " #    Column                                   Non-Null Count  Dtype  \n",
            "---   ------                                   --------------  -----  \n",
            " 0    tile_count                               72537 non-null  float64\n",
            " 1    solar_system_count                       72537 non-null  float64\n",
            " 2    total_panel_area                         72537 non-null  float64\n",
            " 3    fips                                     72537 non-null  int64  \n",
            " 4    average_household_income                 71651 non-null  float64\n",
            " 5    county                                   72537 non-null  object \n",
            " 6    education_bachelor                       72537 non-null  int64  \n",
            " 7    education_college                        72537 non-null  int64  \n",
            " 8    education_doctoral                       72537 non-null  int64  \n",
            " 9    education_high_school_graduate           72537 non-null  int64  \n",
            " 10   education_less_than_high_school          72537 non-null  int64  \n",
            " 11   education_master                         72537 non-null  int64  \n",
            " 12   education_population                     72537 non-null  int64  \n",
            " 13   education_professional_school            72537 non-null  int64  \n",
            " 14   employed                                 72537 non-null  int64  \n",
            " 15   gini_index                               71690 non-null  float64\n",
            " 16   heating_fuel_coal_coke                   72537 non-null  int64  \n",
            " 17   heating_fuel_electricity                 72537 non-null  int64  \n",
            " 18   heating_fuel_fuel_oil_kerosene           72537 non-null  int64  \n",
            " 19   heating_fuel_gas                         72537 non-null  int64  \n",
            " 20   heating_fuel_housing_unit_count          72537 non-null  int64  \n",
            " 21   heating_fuel_none                        72537 non-null  int64  \n",
            " 22   heating_fuel_other                       72537 non-null  int64  \n",
            " 23   heating_fuel_solar                       72537 non-null  int64  \n",
            " 24   land_area                                72513 non-null  float64\n",
            " 25   per_capita_income                        71894 non-null  float64\n",
            " 26   population                               72537 non-null  int64  \n",
            " 27   population_density                       72221 non-null  float64\n",
            " 28   poverty_family_below_poverty_level       72537 non-null  int64  \n",
            " 29   poverty_family_count                     72537 non-null  int64  \n",
            " 30   race_asian                               72537 non-null  int64  \n",
            " 31   race_black_africa                        72537 non-null  int64  \n",
            " 32   race_indian_alaska                       72537 non-null  int64  \n",
            " 33   race_islander                            72537 non-null  int64  \n",
            " 34   race_other                               72537 non-null  int64  \n",
            " 35   race_two_more                            72537 non-null  int64  \n",
            " 36   race_white                               72537 non-null  int64  \n",
            " 37   state                                    72537 non-null  object \n",
            " 38   total_area                               72513 non-null  float64\n",
            " 39   unemployed                               72537 non-null  int64  \n",
            " 40   water_area                               72513 non-null  float64\n",
            " 41   education_less_than_high_school_rate     71930 non-null  float64\n",
            " 42   education_high_school_graduate_rate      71930 non-null  float64\n",
            " 43   education_college_rate                   71930 non-null  float64\n",
            " 44   education_bachelor_rate                  71930 non-null  float64\n",
            " 45   education_master_rate                    71930 non-null  float64\n",
            " 46   education_professional_school_rate       71930 non-null  float64\n",
            " 47   education_doctoral_rate                  71930 non-null  float64\n",
            " 48   race_white_rate                          71940 non-null  float64\n",
            " 49   race_black_africa_rate                   71940 non-null  float64\n",
            " 50   race_indian_alaska_rate                  71940 non-null  float64\n",
            " 51   race_asian_rate                          71940 non-null  float64\n",
            " 52   race_islander_rate                       71940 non-null  float64\n",
            " 53   race_other_rate                          71940 non-null  float64\n",
            " 54   race_two_more_rate                       71940 non-null  float64\n",
            " 55   employ_rate                              71831 non-null  float64\n",
            " 56   poverty_family_below_poverty_level_rate  71714 non-null  float64\n",
            " 57   heating_fuel_gas_rate                    71766 non-null  float64\n",
            " 58   heating_fuel_electricity_rate            71766 non-null  float64\n",
            " 59   heating_fuel_fuel_oil_kerosene_rate      71766 non-null  float64\n",
            " 60   heating_fuel_coal_coke_rate              71766 non-null  float64\n",
            " 61   heating_fuel_solar_rate                  71766 non-null  float64\n",
            " 62   heating_fuel_other_rate                  71766 non-null  float64\n",
            " 63   heating_fuel_none_rate                   71766 non-null  float64\n",
            " 64   solar_panel_area_divided_by_area         72513 non-null  float64\n",
            " 65   solar_panel_area_per_capita              72074 non-null  float64\n",
            " 66   tile_count_residential                   72537 non-null  float64\n",
            " 67   tile_count_nonresidential                72537 non-null  float64\n",
            " 68   solar_system_count_residential           72537 non-null  float64\n",
            " 69   solar_system_count_nonresidential        72537 non-null  float64\n",
            " 70   total_panel_area_residential             72537 non-null  float64\n",
            " 71   total_panel_area_nonresidential          72537 non-null  float64\n",
            " 72   median_household_income                  71580 non-null  float64\n",
            " 73   electricity_price_residential            72537 non-null  float64\n",
            " 74   electricity_price_commercial             72537 non-null  float64\n",
            " 75   electricity_price_industrial             72537 non-null  float64\n",
            " 76   electricity_price_transportation         72537 non-null  object \n",
            " 77   electricity_price_overall                72537 non-null  float64\n",
            " 78   electricity_consume_residential          72537 non-null  int64  \n",
            " 79   electricity_consume_commercial           72537 non-null  int64  \n",
            " 80   electricity_consume_industrial           72537 non-null  int64  \n",
            " 81   electricity_consume_total                72537 non-null  int64  \n",
            " 82   household_count                          72537 non-null  int64  \n",
            " 83   average_household_size                   71729 non-null  float64\n",
            " 84   housing_unit_count                       72537 non-null  int64  \n",
            " 85   housing_unit_occupied_count              72537 non-null  int64  \n",
            " 86   housing_unit_median_value                70643 non-null  float64\n",
            " 87   housing_unit_median_gross_rent           70561 non-null  float64\n",
            " 88   lat                                      66735 non-null  float64\n",
            " 89   lon                                      66735 non-null  float64\n",
            " 90   elevation                                66735 non-null  float64\n",
            " 91   heating_design_temperature               66735 non-null  float64\n",
            " 92   cooling_design_temperature               66735 non-null  float64\n",
            " 93   earth_temperature_amplitude              66735 non-null  float64\n",
            " 94   frost_days                               66735 non-null  float64\n",
            " 95   air_temperature                          66735 non-null  float64\n",
            " 96   relative_humidity                        66735 non-null  float64\n",
            " 97   daily_solar_radiation                    66735 non-null  float64\n",
            " 98   atmospheric_pressure                     66735 non-null  float64\n",
            " 99   wind_speed                               66735 non-null  float64\n",
            " 100  earth_temperature                        66735 non-null  float64\n",
            " 101  heating_degree_days                      66735 non-null  float64\n",
            " 102  cooling_degree_days                      66735 non-null  float64\n",
            " 103  age_18_24_rate                           71940 non-null  float64\n",
            " 104  age_25_34_rate                           71940 non-null  float64\n",
            " 105  age_more_than_85_rate                    71940 non-null  float64\n",
            " 106  age_75_84_rate                           71940 non-null  float64\n",
            " 107  age_35_44_rate                           71940 non-null  float64\n",
            " 108  age_45_54_rate                           71940 non-null  float64\n",
            " 109  age_65_74_rate                           71940 non-null  float64\n",
            " 110  age_55_64_rate                           71940 non-null  float64\n",
            " 111  age_10_14_rate                           71940 non-null  float64\n",
            " 112  age_15_17_rate                           71940 non-null  float64\n",
            " 113  age_5_9_rate                             71940 non-null  float64\n",
            " 114  household_type_family_rate               71766 non-null  float64\n",
            " 115  dropout_16_19_inschool_rate              71476 non-null  float64\n",
            " 116  occupation_construction_rate             71826 non-null  float64\n",
            " 117  occupation_public_rate                   71826 non-null  float64\n",
            " 118  occupation_information_rate              71826 non-null  float64\n",
            " 119  occupation_finance_rate                  71826 non-null  float64\n",
            " 120  occupation_education_rate                71826 non-null  float64\n",
            " 121  occupation_administrative_rate           71826 non-null  float64\n",
            " 122  occupation_manufacturing_rate            71826 non-null  float64\n",
            " 123  occupation_wholesale_rate                71826 non-null  float64\n",
            " 124  occupation_retail_rate                   71826 non-null  float64\n",
            " 125  occupation_transportation_rate           71826 non-null  float64\n",
            " 126  occupation_arts_rate                     71826 non-null  float64\n",
            " 127  occupation_agriculture_rate              71826 non-null  float64\n",
            " 128  occupancy_vacant_rate                    71791 non-null  float64\n",
            " 129  occupancy_owner_rate                     71791 non-null  float64\n",
            " 130  mortgage_with_rate                       71401 non-null  float64\n",
            " 131  transportation_home_rate                 71836 non-null  float64\n",
            " 132  transportation_car_alone_rate            71836 non-null  float64\n",
            " 133  transportation_walk_rate                 71836 non-null  float64\n",
            " 134  transportation_carpool_rate              71836 non-null  float64\n",
            " 135  transportation_motorcycle_rate           71836 non-null  float64\n",
            " 136  transportation_bicycle_rate              71836 non-null  float64\n",
            " 137  transportation_public_rate               71836 non-null  float64\n",
            " 138  travel_time_less_than_10_rate            71832 non-null  float64\n",
            " 139  travel_time_10_19_rate                   71832 non-null  float64\n",
            " 140  travel_time_20_29_rate                   71832 non-null  float64\n",
            " 141  travel_time_30_39_rate                   71832 non-null  float64\n",
            " 142  travel_time_40_59_rate                   71832 non-null  float64\n",
            " 143  travel_time_60_89_rate                   71832 non-null  float64\n",
            " 144  health_insurance_public_rate             71836 non-null  float64\n",
            " 145  health_insurance_none_rate               71836 non-null  float64\n",
            " 146  age_median                               71907 non-null  float64\n",
            " 147  travel_time_average                      71690 non-null  float64\n",
            " 148  voting_2016_dem_percentage               72534 non-null  float64\n",
            " 149  voting_2016_gop_percentage               72534 non-null  float64\n",
            " 150  voting_2016_dem_win                      72537 non-null  bool   \n",
            " 151  voting_2012_dem_percentage               61983 non-null  float64\n",
            " 152  voting_2012_gop_percentage               61983 non-null  float64\n",
            " 153  voting_2012_dem_win                      72537 non-null  bool   \n",
            " 154  number_of_years_of_education             71930 non-null  float64\n",
            " 155  diversity                                71940 non-null  float64\n",
            " 156  number_of_solar_system_per_household     71991 non-null  float64\n",
            " 157  incentive_count_residential              72537 non-null  int64  \n",
            " 158  incentive_count_nonresidential           72537 non-null  int64  \n",
            " 159  incentive_residential_state_level        72537 non-null  int64  \n",
            " 160  incentive_nonresidential_state_level     72537 non-null  int64  \n",
            " 161  net_metering                             72537 non-null  int64  \n",
            " 162  feedin_tariff                            72537 non-null  int64  \n",
            " 163  cooperate_tax                            72537 non-null  int64  \n",
            " 164  property_tax                             72537 non-null  int64  \n",
            " 165  sales_tax                                72537 non-null  int64  \n",
            " 166  rebate                                   72537 non-null  int64  \n",
            " 167  avg_electricity_retail_rate              72537 non-null  float64\n",
            "dtypes: bool(2), float64(117), int64(46), object(3)\n",
            "memory usage: 92.6+ MB\n"
          ]
        }
      ]
    },
    {
      "cell_type": "code",
      "source": [
        "def get_column_explanation(column_name):\n",
        "  explanation = metadata[metadata['column_name'] == column_name]['explanation'].values\n",
        "  return explanation[0]"
      ],
      "metadata": {
        "id": "tQ1N270-9NOh"
      },
      "execution_count": 8,
      "outputs": []
    },
    {
      "cell_type": "code",
      "source": [
        "get_column_explanation('land_area')"
      ],
      "metadata": {
        "colab": {
          "base_uri": "https://localhost:8080/",
          "height": 35
        },
        "id": "SlSo9YnA90vH",
        "outputId": "253f3074-3568-438c-d40c-6fa4e636dd94"
      },
      "execution_count": 9,
      "outputs": [
        {
          "output_type": "execute_result",
          "data": {
            "text/plain": [
              "'total land area (mile^2)'"
            ],
            "application/vnd.google.colaboratory.intrinsic+json": {
              "type": "string"
            }
          },
          "metadata": {},
          "execution_count": 9
        }
      ]
    },
    {
      "cell_type": "code",
      "source": [
        "get_column_explanation('total_area')"
      ],
      "metadata": {
        "colab": {
          "base_uri": "https://localhost:8080/",
          "height": 35
        },
        "id": "yeRJWtH0-GOG",
        "outputId": "255b49d4-b9de-44ef-9e08-e5a1793a95d2"
      },
      "execution_count": 10,
      "outputs": [
        {
          "output_type": "execute_result",
          "data": {
            "text/plain": [
              "'total area (mile^2)'"
            ],
            "application/vnd.google.colaboratory.intrinsic+json": {
              "type": "string"
            }
          },
          "metadata": {},
          "execution_count": 10
        }
      ]
    },
    {
      "cell_type": "code",
      "source": [
        "# Predict solar_panel_area_divided_by_area\n",
        "data.rename(columns={'solar_panel_area_divided_by_area':'target'}, inplace=True)\n",
        "data = data[data['target'].notna()]\n",
        "data.target.hist()"
      ],
      "metadata": {
        "colab": {
          "base_uri": "https://localhost:8080/",
          "height": 284
        },
        "id": "YBz6x3--5T70",
        "outputId": "f786af09-a5da-479b-9ee5-35f03a334880"
      },
      "execution_count": 11,
      "outputs": [
        {
          "output_type": "execute_result",
          "data": {
            "text/plain": [
              "<matplotlib.axes._subplots.AxesSubplot at 0x7f264dfd4ad0>"
            ]
          },
          "metadata": {},
          "execution_count": 11
        },
        {
          "output_type": "display_data",
          "data": {
            "text/plain": [
              "<Figure size 432x288 with 1 Axes>"
            ],
            "image/png": "[encoded data removed]"
          },
          "metadata": {
            "needs_background": "light"
          }
        }
      ]
    },
    {
      "cell_type": "code",
      "source": [
        "# some outliers\n",
        "# num_outliers = 0\n",
        "# for index, row in data.iterrows():\n",
        "#   if row.target > 10000 :\n",
        "#     print(str(index) + ' : ' + str(row.target))\n",
        "#     num_outliers += 1\n",
        "# print(num_outliers)"
      ],
      "metadata": {
        "id": "uLi_st486dlC"
      },
      "execution_count": 12,
      "outputs": []
    },
    {
      "cell_type": "code",
      "source": [
        "get_column_explanation('fips')"
      ],
      "metadata": {
        "colab": {
          "base_uri": "https://localhost:8080/",
          "height": 35
        },
        "id": "Y9-h7nb49bxx",
        "outputId": "1a371ee9-a3d0-418c-d21d-309ab361cc2d"
      },
      "execution_count": 13,
      "outputs": [
        {
          "output_type": "execute_result",
          "data": {
            "text/plain": [
              "'census tract FIPS number'"
            ],
            "application/vnd.google.colaboratory.intrinsic+json": {
              "type": "string"
            }
          },
          "metadata": {},
          "execution_count": 13
        }
      ]
    },
    {
      "cell_type": "code",
      "source": [
        "assert data.fips.nunique() == data.shape[0]\n",
        "data.drop('fips', axis='columns', inplace=True)"
      ],
      "metadata": {
        "id": "4B9yl1o34g7C"
      },
      "execution_count": 14,
      "outputs": []
    },
    {
      "cell_type": "code",
      "source": [
        "# data.electricity_price_transportation.value_counts(dropna=False)"
      ],
      "metadata": {
        "id": "jGUKvXJ0FMqR"
      },
      "execution_count": 15,
      "outputs": []
    },
    {
      "cell_type": "code",
      "source": [
        "import numpy as np\n",
        "# data['electricity_price_transportation'] = data.electricity_price_transportation.replace(' ', np.nan).astype(float)\n",
        "# apparently very little data available\n",
        "data.drop('electricity_price_transportation', axis='columns', inplace=True)\n",
        "data.drop('voting_2012_dem_percentage', axis='columns', inplace=True)\n",
        "data.drop('voting_2012_gop_percentage', axis='columns', inplace=True)"
      ],
      "metadata": {
        "id": "dyjiiu6hP233"
      },
      "execution_count": 16,
      "outputs": []
    },
    {
      "cell_type": "code",
      "source": [
        "# dropping columns which leak target information\n",
        "data.drop(['tile_count_residential', 'solar_system_count_residential', 'total_panel_area_residential',\n",
        "           'solar_system_count', 'tile_count', 'solar_panel_area_per_capita', 'number_of_solar_system_per_household',\n",
        "           'total_panel_area', 'tile_count_nonresidential', 'solar_system_count_nonresidential',\n",
        "           'total_panel_area_nonresidential'], axis='columns', inplace=True)"
      ],
      "metadata": {
        "id": "cN1LBaytEB_i"
      },
      "execution_count": 17,
      "outputs": []
    },
    {
      "cell_type": "code",
      "source": [
        "data['voting_2012_dem_win'] = data.voting_2012_dem_win.astype(int)\n",
        "data['voting_2016_dem_win'] = data.voting_2016_dem_win.astype(int)"
      ],
      "metadata": {
        "id": "7w3OAivWfdUt"
      },
      "execution_count": 18,
      "outputs": []
    },
    {
      "cell_type": "code",
      "source": [
        "def impute_with_county_mean(column_name):\n",
        "  missing = data.loc[data[column_name].isna()]\n",
        "\n",
        "  for idx,row in missing.iterrows():\n",
        "    temp = data.loc[(data['county'] == row.county) & (data['state'] == row.state) & \n",
        "                          (data[column_name].notna())]\n",
        "    value = temp[column_name].mean()\n",
        "    data.loc[idx, column_name] = value\n",
        "\n",
        "def impute_with_state_mean(column_name):\n",
        "  missing = data.loc[data[column_name].isna()]\n",
        "\n",
        "  for idx,row in missing.iterrows():\n",
        "    temp = data.loc[(data['county'] == row.county) & \n",
        "                          (data[column_name].notna())]\n",
        "    value = temp[column_name].mean()\n",
        "    data.loc[idx, column_name] = value"
      ],
      "metadata": {
        "id": "nDtBzaJgKAZk"
      },
      "execution_count": 19,
      "outputs": []
    },
    {
      "cell_type": "code",
      "metadata": {
        "id": "CV8zhdHsp8Y-",
        "outputId": "a3f6789a-b1c8-4315-a3b7-e5f216d6a2a8",
        "colab": {
          "base_uri": "https://localhost:8080/"
        }
      },
      "source": [
        "%%time\n",
        "counts = data.isna().sum()\n",
        "counts = counts[counts > 0]\n",
        "for column_name in counts.index:\n",
        "  print(column_name)\n",
        "  impute_with_county_mean(column_name)\n"
      ],
      "execution_count": 20,
      "outputs": [
        {
          "output_type": "stream",
          "name": "stdout",
          "text": [
            "average_household_income\n",
            "gini_index\n",
            "per_capita_income\n",
            "population_density\n",
            "education_less_than_high_school_rate\n",
            "education_high_school_graduate_rate\n",
            "education_college_rate\n",
            "education_bachelor_rate\n",
            "education_master_rate\n",
            "education_professional_school_rate\n",
            "education_doctoral_rate\n",
            "race_white_rate\n",
            "race_black_africa_rate\n",
            "race_indian_alaska_rate\n",
            "race_asian_rate\n",
            "race_islander_rate\n",
            "race_other_rate\n",
            "race_two_more_rate\n",
            "employ_rate\n",
            "poverty_family_below_poverty_level_rate\n",
            "heating_fuel_gas_rate\n",
            "heating_fuel_electricity_rate\n",
            "heating_fuel_fuel_oil_kerosene_rate\n",
            "heating_fuel_coal_coke_rate\n",
            "heating_fuel_solar_rate\n",
            "heating_fuel_other_rate\n",
            "heating_fuel_none_rate\n",
            "median_household_income\n",
            "average_household_size\n",
            "housing_unit_median_value\n",
            "housing_unit_median_gross_rent\n",
            "lat\n",
            "lon\n",
            "elevation\n",
            "heating_design_temperature\n",
            "cooling_design_temperature\n",
            "earth_temperature_amplitude\n",
            "frost_days\n",
            "air_temperature\n",
            "relative_humidity\n",
            "daily_solar_radiation\n",
            "atmospheric_pressure\n",
            "wind_speed\n",
            "earth_temperature\n",
            "heating_degree_days\n",
            "cooling_degree_days\n",
            "age_18_24_rate\n",
            "age_25_34_rate\n",
            "age_more_than_85_rate\n",
            "age_75_84_rate\n",
            "age_35_44_rate\n",
            "age_45_54_rate\n",
            "age_65_74_rate\n",
            "age_55_64_rate\n",
            "age_10_14_rate\n",
            "age_15_17_rate\n",
            "age_5_9_rate\n",
            "household_type_family_rate\n",
            "dropout_16_19_inschool_rate\n",
            "occupation_construction_rate\n",
            "occupation_public_rate\n",
            "occupation_information_rate\n",
            "occupation_finance_rate\n",
            "occupation_education_rate\n",
            "occupation_administrative_rate\n",
            "occupation_manufacturing_rate\n",
            "occupation_wholesale_rate\n",
            "occupation_retail_rate\n",
            "occupation_transportation_rate\n",
            "occupation_arts_rate\n",
            "occupation_agriculture_rate\n",
            "occupancy_vacant_rate\n",
            "occupancy_owner_rate\n",
            "mortgage_with_rate\n",
            "transportation_home_rate\n",
            "transportation_car_alone_rate\n",
            "transportation_walk_rate\n",
            "transportation_carpool_rate\n",
            "transportation_motorcycle_rate\n",
            "transportation_bicycle_rate\n",
            "transportation_public_rate\n",
            "travel_time_less_than_10_rate\n",
            "travel_time_10_19_rate\n",
            "travel_time_20_29_rate\n",
            "travel_time_30_39_rate\n",
            "travel_time_40_59_rate\n",
            "travel_time_60_89_rate\n",
            "health_insurance_public_rate\n",
            "health_insurance_none_rate\n",
            "age_median\n",
            "travel_time_average\n",
            "number_of_years_of_education\n",
            "diversity\n",
            "CPU times: user 26min 30s, sys: 7.71 s, total: 26min 38s\n",
            "Wall time: 26min 37s\n"
          ]
        }
      ]
    },
    {
      "cell_type": "code",
      "source": [
        "counts = data.isna().sum()\n",
        "counts[counts > 0]"
      ],
      "metadata": {
        "colab": {
          "base_uri": "https://localhost:8080/"
        },
        "id": "fc9F6p3IVUMw",
        "outputId": "31e46837-c117-46c5-8b40-2feaf71ad1ec"
      },
      "execution_count": 21,
      "outputs": [
        {
          "output_type": "execute_result",
          "data": {
            "text/plain": [
              "median_household_income            1\n",
              "housing_unit_median_value          2\n",
              "housing_unit_median_gross_rent     1\n",
              "lat                               11\n",
              "lon                               11\n",
              "elevation                         11\n",
              "heating_design_temperature        11\n",
              "cooling_design_temperature        11\n",
              "earth_temperature_amplitude       11\n",
              "frost_days                        11\n",
              "air_temperature                   11\n",
              "relative_humidity                 11\n",
              "daily_solar_radiation             11\n",
              "atmospheric_pressure              11\n",
              "wind_speed                        11\n",
              "earth_temperature                 11\n",
              "heating_degree_days               11\n",
              "cooling_degree_days               11\n",
              "dropout_16_19_inschool_rate        1\n",
              "dtype: int64"
            ]
          },
          "metadata": {},
          "execution_count": 21
        }
      ]
    },
    {
      "cell_type": "code",
      "source": [
        "counts = data.isna().sum()\n",
        "counts = counts[counts > 0]\n",
        "for column_name in counts.index:\n",
        "  print(column_name)\n",
        "  impute_with_state_mean(column_name)"
      ],
      "metadata": {
        "colab": {
          "base_uri": "https://localhost:8080/"
        },
        "id": "R4KWX1cGjsFS",
        "outputId": "fc5e4e5a-0b3a-4b44-b74c-17914cb75744"
      },
      "execution_count": 22,
      "outputs": [
        {
          "output_type": "stream",
          "name": "stdout",
          "text": [
            "median_household_income\n",
            "housing_unit_median_value\n",
            "housing_unit_median_gross_rent\n",
            "lat\n",
            "lon\n",
            "elevation\n",
            "heating_design_temperature\n",
            "cooling_design_temperature\n",
            "earth_temperature_amplitude\n",
            "frost_days\n",
            "air_temperature\n",
            "relative_humidity\n",
            "daily_solar_radiation\n",
            "atmospheric_pressure\n",
            "wind_speed\n",
            "earth_temperature\n",
            "heating_degree_days\n",
            "cooling_degree_days\n",
            "dropout_16_19_inschool_rate\n"
          ]
        }
      ]
    },
    {
      "cell_type": "code",
      "source": [
        "counts = data.isna().sum()\n",
        "counts[counts > 0]"
      ],
      "metadata": {
        "colab": {
          "base_uri": "https://localhost:8080/"
        },
        "id": "MOWWu7bojyD7",
        "outputId": "b5106bf1-3537-467d-ef20-ce5261f4bb4f"
      },
      "execution_count": 23,
      "outputs": [
        {
          "output_type": "execute_result",
          "data": {
            "text/plain": [
              "median_household_income           1\n",
              "housing_unit_median_value         2\n",
              "housing_unit_median_gross_rent    1\n",
              "lat                               4\n",
              "lon                               4\n",
              "elevation                         4\n",
              "heating_design_temperature        4\n",
              "cooling_design_temperature        4\n",
              "earth_temperature_amplitude       4\n",
              "frost_days                        4\n",
              "air_temperature                   4\n",
              "relative_humidity                 4\n",
              "daily_solar_radiation             4\n",
              "atmospheric_pressure              4\n",
              "wind_speed                        4\n",
              "earth_temperature                 4\n",
              "heating_degree_days               4\n",
              "cooling_degree_days               4\n",
              "dropout_16_19_inschool_rate       1\n",
              "dtype: int64"
            ]
          },
          "metadata": {},
          "execution_count": 23
        }
      ]
    },
    {
      "cell_type": "code",
      "source": [
        "# drop the other rows with missing\n",
        "data.dropna(inplace=True)"
      ],
      "metadata": {
        "id": "ZwgiFPYDp2MA"
      },
      "execution_count": 24,
      "outputs": []
    },
    {
      "cell_type": "code",
      "source": [
        "data = pd.get_dummies(data, columns=['state'])"
      ],
      "metadata": {
        "id": "szwoExbzLUxH"
      },
      "execution_count": 25,
      "outputs": []
    },
    {
      "cell_type": "code",
      "source": [
        "cols = data.columns\n",
        "cols = cols.drop('county')\n",
        "# cols = cols.drop('electricity_price_transportation')\n",
        "\n",
        "correlations = pd.Series(dtype=float)\n",
        "for c in cols:\n",
        "  # print(c)\n",
        "  # print(data.target.corr(data[c]))\n",
        "  correlations[c] = data.target.corr(data[c])\n",
        "\n",
        "correlations = correlations.sort_values(ascending=False)\n",
        "correlations = correlations.drop('target')\n",
        "print(correlations.head(10))\n",
        "print('')\n",
        "print(correlations.tail(10))"
      ],
      "metadata": {
        "colab": {
          "base_uri": "https://localhost:8080/"
        },
        "id": "UXYIIy965UBD",
        "outputId": "fd89d764-74d3-427c-e13f-9df5b5daa1c8"
      },
      "execution_count": 26,
      "outputs": [
        {
          "output_type": "stream",
          "name": "stdout",
          "text": [
            "state_ca                             0.554795\n",
            "incentive_count_nonresidential       0.509081\n",
            "incentive_count_residential          0.498916\n",
            "feedin_tariff                        0.474948\n",
            "electricity_price_industrial         0.425127\n",
            "rebate                               0.422419\n",
            "daily_solar_radiation                0.421982\n",
            "electricity_price_commercial         0.408567\n",
            "electricity_price_overall            0.378943\n",
            "incentive_residential_state_level    0.366352\n",
            "dtype: float64\n",
            "\n",
            "lat                                   -0.150722\n",
            "travel_time_less_than_10_rate         -0.157015\n",
            "occupancy_vacant_rate                 -0.162703\n",
            "education_high_school_graduate_rate   -0.219415\n",
            "voting_2016_gop_percentage            -0.247091\n",
            "heating_degree_days                   -0.259020\n",
            "electricity_consume_residential       -0.302190\n",
            "frost_days                            -0.315227\n",
            "lon                                   -0.398568\n",
            "relative_humidity                     -0.468520\n",
            "dtype: float64\n"
          ]
        }
      ]
    },
    {
      "cell_type": "code",
      "source": [
        "get_column_explanation('heating_degree_days')"
      ],
      "metadata": {
        "colab": {
          "base_uri": "https://localhost:8080/",
          "height": 35
        },
        "id": "c1kVm-3sEB9A",
        "outputId": "c526a05d-9e30-443f-bf39-3b29fd511514"
      },
      "execution_count": 27,
      "outputs": [
        {
          "output_type": "execute_result",
          "data": {
            "text/plain": [
              "'heating degree days'"
            ],
            "application/vnd.google.colaboratory.intrinsic+json": {
              "type": "string"
            }
          },
          "metadata": {},
          "execution_count": 27
        }
      ]
    },
    {
      "cell_type": "code",
      "source": [
        "data.info(verbose=True, show_counts=True)"
      ],
      "metadata": {
        "colab": {
          "base_uri": "https://localhost:8080/"
        },
        "id": "PZI5J31iecb2",
        "outputId": "e7372e51-f078-4c40-ffd2-bccb2d4a69fd"
      },
      "execution_count": 28,
      "outputs": [
        {
          "output_type": "stream",
          "name": "stdout",
          "text": [
            "<class 'pandas.core.frame.DataFrame'>\n",
            "Int64Index: 72505 entries, 0 to 72537\n",
            "Data columns (total 201 columns):\n",
            " #    Column                                   Non-Null Count  Dtype  \n",
            "---   ------                                   --------------  -----  \n",
            " 0    average_household_income                 72505 non-null  float64\n",
            " 1    county                                   72505 non-null  object \n",
            " 2    education_bachelor                       72505 non-null  int64  \n",
            " 3    education_college                        72505 non-null  int64  \n",
            " 4    education_doctoral                       72505 non-null  int64  \n",
            " 5    education_high_school_graduate           72505 non-null  int64  \n",
            " 6    education_less_than_high_school          72505 non-null  int64  \n",
            " 7    education_master                         72505 non-null  int64  \n",
            " 8    education_population                     72505 non-null  int64  \n",
            " 9    education_professional_school            72505 non-null  int64  \n",
            " 10   employed                                 72505 non-null  int64  \n",
            " 11   gini_index                               72505 non-null  float64\n",
            " 12   heating_fuel_coal_coke                   72505 non-null  int64  \n",
            " 13   heating_fuel_electricity                 72505 non-null  int64  \n",
            " 14   heating_fuel_fuel_oil_kerosene           72505 non-null  int64  \n",
            " 15   heating_fuel_gas                         72505 non-null  int64  \n",
            " 16   heating_fuel_housing_unit_count          72505 non-null  int64  \n",
            " 17   heating_fuel_none                        72505 non-null  int64  \n",
            " 18   heating_fuel_other                       72505 non-null  int64  \n",
            " 19   heating_fuel_solar                       72505 non-null  int64  \n",
            " 20   land_area                                72505 non-null  float64\n",
            " 21   per_capita_income                        72505 non-null  float64\n",
            " 22   population                               72505 non-null  int64  \n",
            " 23   population_density                       72505 non-null  float64\n",
            " 24   poverty_family_below_poverty_level       72505 non-null  int64  \n",
            " 25   poverty_family_count                     72505 non-null  int64  \n",
            " 26   race_asian                               72505 non-null  int64  \n",
            " 27   race_black_africa                        72505 non-null  int64  \n",
            " 28   race_indian_alaska                       72505 non-null  int64  \n",
            " 29   race_islander                            72505 non-null  int64  \n",
            " 30   race_other                               72505 non-null  int64  \n",
            " 31   race_two_more                            72505 non-null  int64  \n",
            " 32   race_white                               72505 non-null  int64  \n",
            " 33   total_area                               72505 non-null  float64\n",
            " 34   unemployed                               72505 non-null  int64  \n",
            " 35   water_area                               72505 non-null  float64\n",
            " 36   education_less_than_high_school_rate     72505 non-null  float64\n",
            " 37   education_high_school_graduate_rate      72505 non-null  float64\n",
            " 38   education_college_rate                   72505 non-null  float64\n",
            " 39   education_bachelor_rate                  72505 non-null  float64\n",
            " 40   education_master_rate                    72505 non-null  float64\n",
            " 41   education_professional_school_rate       72505 non-null  float64\n",
            " 42   education_doctoral_rate                  72505 non-null  float64\n",
            " 43   race_white_rate                          72505 non-null  float64\n",
            " 44   race_black_africa_rate                   72505 non-null  float64\n",
            " 45   race_indian_alaska_rate                  72505 non-null  float64\n",
            " 46   race_asian_rate                          72505 non-null  float64\n",
            " 47   race_islander_rate                       72505 non-null  float64\n",
            " 48   race_other_rate                          72505 non-null  float64\n",
            " 49   race_two_more_rate                       72505 non-null  float64\n",
            " 50   employ_rate                              72505 non-null  float64\n",
            " 51   poverty_family_below_poverty_level_rate  72505 non-null  float64\n",
            " 52   heating_fuel_gas_rate                    72505 non-null  float64\n",
            " 53   heating_fuel_electricity_rate            72505 non-null  float64\n",
            " 54   heating_fuel_fuel_oil_kerosene_rate      72505 non-null  float64\n",
            " 55   heating_fuel_coal_coke_rate              72505 non-null  float64\n",
            " 56   heating_fuel_solar_rate                  72505 non-null  float64\n",
            " 57   heating_fuel_other_rate                  72505 non-null  float64\n",
            " 58   heating_fuel_none_rate                   72505 non-null  float64\n",
            " 59   target                                   72505 non-null  float64\n",
            " 60   median_household_income                  72505 non-null  float64\n",
            " 61   electricity_price_residential            72505 non-null  float64\n",
            " 62   electricity_price_commercial             72505 non-null  float64\n",
            " 63   electricity_price_industrial             72505 non-null  float64\n",
            " 64   electricity_price_overall                72505 non-null  float64\n",
            " 65   electricity_consume_residential          72505 non-null  int64  \n",
            " 66   electricity_consume_commercial           72505 non-null  int64  \n",
            " 67   electricity_consume_industrial           72505 non-null  int64  \n",
            " 68   electricity_consume_total                72505 non-null  int64  \n",
            " 69   household_count                          72505 non-null  int64  \n",
            " 70   average_household_size                   72505 non-null  float64\n",
            " 71   housing_unit_count                       72505 non-null  int64  \n",
            " 72   housing_unit_occupied_count              72505 non-null  int64  \n",
            " 73   housing_unit_median_value                72505 non-null  float64\n",
            " 74   housing_unit_median_gross_rent           72505 non-null  float64\n",
            " 75   lat                                      72505 non-null  float64\n",
            " 76   lon                                      72505 non-null  float64\n",
            " 77   elevation                                72505 non-null  float64\n",
            " 78   heating_design_temperature               72505 non-null  float64\n",
            " 79   cooling_design_temperature               72505 non-null  float64\n",
            " 80   earth_temperature_amplitude              72505 non-null  float64\n",
            " 81   frost_days                               72505 non-null  float64\n",
            " 82   air_temperature                          72505 non-null  float64\n",
            " 83   relative_humidity                        72505 non-null  float64\n",
            " 84   daily_solar_radiation                    72505 non-null  float64\n",
            " 85   atmospheric_pressure                     72505 non-null  float64\n",
            " 86   wind_speed                               72505 non-null  float64\n",
            " 87   earth_temperature                        72505 non-null  float64\n",
            " 88   heating_degree_days                      72505 non-null  float64\n",
            " 89   cooling_degree_days                      72505 non-null  float64\n",
            " 90   age_18_24_rate                           72505 non-null  float64\n",
            " 91   age_25_34_rate                           72505 non-null  float64\n",
            " 92   age_more_than_85_rate                    72505 non-null  float64\n",
            " 93   age_75_84_rate                           72505 non-null  float64\n",
            " 94   age_35_44_rate                           72505 non-null  float64\n",
            " 95   age_45_54_rate                           72505 non-null  float64\n",
            " 96   age_65_74_rate                           72505 non-null  float64\n",
            " 97   age_55_64_rate                           72505 non-null  float64\n",
            " 98   age_10_14_rate                           72505 non-null  float64\n",
            " 99   age_15_17_rate                           72505 non-null  float64\n",
            " 100  age_5_9_rate                             72505 non-null  float64\n",
            " 101  household_type_family_rate               72505 non-null  float64\n",
            " 102  dropout_16_19_inschool_rate              72505 non-null  float64\n",
            " 103  occupation_construction_rate             72505 non-null  float64\n",
            " 104  occupation_public_rate                   72505 non-null  float64\n",
            " 105  occupation_information_rate              72505 non-null  float64\n",
            " 106  occupation_finance_rate                  72505 non-null  float64\n",
            " 107  occupation_education_rate                72505 non-null  float64\n",
            " 108  occupation_administrative_rate           72505 non-null  float64\n",
            " 109  occupation_manufacturing_rate            72505 non-null  float64\n",
            " 110  occupation_wholesale_rate                72505 non-null  float64\n",
            " 111  occupation_retail_rate                   72505 non-null  float64\n",
            " 112  occupation_transportation_rate           72505 non-null  float64\n",
            " 113  occupation_arts_rate                     72505 non-null  float64\n",
            " 114  occupation_agriculture_rate              72505 non-null  float64\n",
            " 115  occupancy_vacant_rate                    72505 non-null  float64\n",
            " 116  occupancy_owner_rate                     72505 non-null  float64\n",
            " 117  mortgage_with_rate                       72505 non-null  float64\n",
            " 118  transportation_home_rate                 72505 non-null  float64\n",
            " 119  transportation_car_alone_rate            72505 non-null  float64\n",
            " 120  transportation_walk_rate                 72505 non-null  float64\n",
            " 121  transportation_carpool_rate              72505 non-null  float64\n",
            " 122  transportation_motorcycle_rate           72505 non-null  float64\n",
            " 123  transportation_bicycle_rate              72505 non-null  float64\n",
            " 124  transportation_public_rate               72505 non-null  float64\n",
            " 125  travel_time_less_than_10_rate            72505 non-null  float64\n",
            " 126  travel_time_10_19_rate                   72505 non-null  float64\n",
            " 127  travel_time_20_29_rate                   72505 non-null  float64\n",
            " 128  travel_time_30_39_rate                   72505 non-null  float64\n",
            " 129  travel_time_40_59_rate                   72505 non-null  float64\n",
            " 130  travel_time_60_89_rate                   72505 non-null  float64\n",
            " 131  health_insurance_public_rate             72505 non-null  float64\n",
            " 132  health_insurance_none_rate               72505 non-null  float64\n",
            " 133  age_median                               72505 non-null  float64\n",
            " 134  travel_time_average                      72505 non-null  float64\n",
            " 135  voting_2016_dem_percentage               72505 non-null  float64\n",
            " 136  voting_2016_gop_percentage               72505 non-null  float64\n",
            " 137  voting_2016_dem_win                      72505 non-null  int64  \n",
            " 138  voting_2012_dem_win                      72505 non-null  int64  \n",
            " 139  number_of_years_of_education             72505 non-null  float64\n",
            " 140  diversity                                72505 non-null  float64\n",
            " 141  incentive_count_residential              72505 non-null  int64  \n",
            " 142  incentive_count_nonresidential           72505 non-null  int64  \n",
            " 143  incentive_residential_state_level        72505 non-null  int64  \n",
            " 144  incentive_nonresidential_state_level     72505 non-null  int64  \n",
            " 145  net_metering                             72505 non-null  int64  \n",
            " 146  feedin_tariff                            72505 non-null  int64  \n",
            " 147  cooperate_tax                            72505 non-null  int64  \n",
            " 148  property_tax                             72505 non-null  int64  \n",
            " 149  sales_tax                                72505 non-null  int64  \n",
            " 150  rebate                                   72505 non-null  int64  \n",
            " 151  avg_electricity_retail_rate              72505 non-null  float64\n",
            " 152  state_al                                 72505 non-null  uint8  \n",
            " 153  state_ar                                 72505 non-null  uint8  \n",
            " 154  state_az                                 72505 non-null  uint8  \n",
            " 155  state_ca                                 72505 non-null  uint8  \n",
            " 156  state_co                                 72505 non-null  uint8  \n",
            " 157  state_ct                                 72505 non-null  uint8  \n",
            " 158  state_dc                                 72505 non-null  uint8  \n",
            " 159  state_de                                 72505 non-null  uint8  \n",
            " 160  state_fl                                 72505 non-null  uint8  \n",
            " 161  state_ga                                 72505 non-null  uint8  \n",
            " 162  state_ia                                 72505 non-null  uint8  \n",
            " 163  state_id                                 72505 non-null  uint8  \n",
            " 164  state_il                                 72505 non-null  uint8  \n",
            " 165  state_in                                 72505 non-null  uint8  \n",
            " 166  state_ks                                 72505 non-null  uint8  \n",
            " 167  state_ky                                 72505 non-null  uint8  \n",
            " 168  state_la                                 72505 non-null  uint8  \n",
            " 169  state_ma                                 72505 non-null  uint8  \n",
            " 170  state_md                                 72505 non-null  uint8  \n",
            " 171  state_me                                 72505 non-null  uint8  \n",
            " 172  state_mi                                 72505 non-null  uint8  \n",
            " 173  state_mn                                 72505 non-null  uint8  \n",
            " 174  state_mo                                 72505 non-null  uint8  \n",
            " 175  state_ms                                 72505 non-null  uint8  \n",
            " 176  state_mt                                 72505 non-null  uint8  \n",
            " 177  state_nc                                 72505 non-null  uint8  \n",
            " 178  state_nd                                 72505 non-null  uint8  \n",
            " 179  state_ne                                 72505 non-null  uint8  \n",
            " 180  state_nh                                 72505 non-null  uint8  \n",
            " 181  state_nj                                 72505 non-null  uint8  \n",
            " 182  state_nm                                 72505 non-null  uint8  \n",
            " 183  state_nv                                 72505 non-null  uint8  \n",
            " 184  state_ny                                 72505 non-null  uint8  \n",
            " 185  state_oh                                 72505 non-null  uint8  \n",
            " 186  state_ok                                 72505 non-null  uint8  \n",
            " 187  state_or                                 72505 non-null  uint8  \n",
            " 188  state_pa                                 72505 non-null  uint8  \n",
            " 189  state_ri                                 72505 non-null  uint8  \n",
            " 190  state_sc                                 72505 non-null  uint8  \n",
            " 191  state_sd                                 72505 non-null  uint8  \n",
            " 192  state_tn                                 72505 non-null  uint8  \n",
            " 193  state_tx                                 72505 non-null  uint8  \n",
            " 194  state_ut                                 72505 non-null  uint8  \n",
            " 195  state_va                                 72505 non-null  uint8  \n",
            " 196  state_vt                                 72505 non-null  uint8  \n",
            " 197  state_wa                                 72505 non-null  uint8  \n",
            " 198  state_wi                                 72505 non-null  uint8  \n",
            " 199  state_wv                                 72505 non-null  uint8  \n",
            " 200  state_wy                                 72505 non-null  uint8  \n",
            "dtypes: float64(104), int64(47), object(1), uint8(49)\n",
            "memory usage: 88.0+ MB\n"
          ]
        }
      ]
    },
    {
      "cell_type": "code",
      "metadata": {
        "id": "6qyInS1nf07l"
      },
      "source": [
        "# TODO: how do fips relate to county, any other way to use county?\n",
        "data.county.nunique()\n",
        "data.drop('county', axis='columns', inplace=True)"
      ],
      "execution_count": 29,
      "outputs": []
    },
    {
      "cell_type": "code",
      "source": [
        "from sklearn.model_selection import train_test_split\n",
        "train, test = train_test_split(data, test_size=0.2, random_state=seed)\n",
        "test, val = train_test_split(test, test_size=0.5, random_state=seed)\n",
        "train.shape, val.shape, test.shape"
      ],
      "metadata": {
        "colab": {
          "base_uri": "https://localhost:8080/"
        },
        "id": "4BPXNSH1KAcA",
        "outputId": "1c4d023e-b1b4-4624-8584-143f48d63e43"
      },
      "execution_count": 30,
      "outputs": [
        {
          "output_type": "execute_result",
          "data": {
            "text/plain": [
              "((58004, 200), (7251, 200), (7250, 200))"
            ]
          },
          "metadata": {},
          "execution_count": 30
        }
      ]
    },
    {
      "cell_type": "code",
      "metadata": {
        "id": "WgbvU0JhaOud"
      },
      "source": [
        "x_train = train.drop('target', axis='columns')\n",
        "y_train = train.target.values\n",
        "x_val = val.drop('target', axis='columns')\n",
        "y_val = val.target.values\n",
        "x_test = test.drop('target', axis='columns')\n",
        "y_test = test.target.values"
      ],
      "execution_count": 31,
      "outputs": []
    },
    {
      "cell_type": "code",
      "source": [
        "from sklearn.preprocessing import StandardScaler, MinMaxScaler, RobustScaler\n",
        "scaler = StandardScaler()\n",
        "x_train = scaler.fit_transform(x_train)\n",
        "x_val = scaler.transform(x_val)\n",
        "x_test = scaler.transform(x_test)"
      ],
      "metadata": {
        "id": "ywigBrrbrkjz"
      },
      "execution_count": 32,
      "outputs": []
    },
    {
      "cell_type": "code",
      "source": [
        "tf.keras.backend.clear_session()\n",
        "\n",
        "inp = tf.keras.Input(shape=(x_train.shape[1],))\n",
        "x = tf.keras.layers.Dense(512, activation='swish')(inp)\n",
        "x = tf.keras.layers.Dropout(0.1)(x)\n",
        "x = tf.keras.layers.Dense(512, activation='swish')(x)\n",
        "x = tf.keras.layers.Dropout(0.1)(x)\n",
        "x = tf.keras.layers.Dense(512, activation='swish')(x)\n",
        "x = tf.keras.layers.Dropout(0.1)(x)\n",
        "x = tf.keras.layers.Dense(512, activation='swish')(x)\n",
        "x = tf.keras.layers.Dropout(0.1)(x)\n",
        "x = tf.keras.layers.Dense(512, activation='swish')(x)\n",
        "x = tf.keras.layers.Dropout(0.1)(x)\n",
        "x = tf.keras.layers.Dense(512, activation='swish')(x)\n",
        "x = tf.keras.layers.Dropout(0.1)(x)\n",
        "x = tf.keras.layers.Dense(512, activation='swish')(x)\n",
        "x = tf.keras.layers.Dropout(0.1)(x)\n",
        "x = tf.keras.layers.Dense(512, activation='swish')(x)\n",
        "x = tf.keras.layers.Dropout(0.1)(x)\n",
        "x = tf.keras.layers.Dense(512, activation='swish')(x)\n",
        "\n",
        "# x = tf.keras.layers.Dense(512, activation='swish')(x)\n",
        "# x = tf.keras.layers.Dense(512, activation='swish')(x)\n",
        "# x = tf.keras.layers.Dense(512, activation='swish')(x)\n",
        "# x = tf.keras.layers.Dense(512, activation='swish')(x)\n",
        "# x = tf.keras.layers.Dense(512, activation='swish')(x)\n",
        "# x = tf.keras.layers.Dense(512, activation='swish')(x)\n",
        "\n",
        "out = tf.keras.layers.Dense(1)(x)\n",
        "\n",
        "model = tf.keras.Model(inp, out)\n",
        "model.summary()"
      ],
      "metadata": {
        "colab": {
          "base_uri": "https://localhost:8080/"
        },
        "id": "zgxQoPWFrknE",
        "outputId": "c71d9ce0-0f2b-4055-a0c9-142fb87dc9e0"
      },
      "execution_count": 33,
      "outputs": [
        {
          "output_type": "stream",
          "name": "stdout",
          "text": [
            "Model: \"model\"\n",
            "_________________________________________________________________\n",
            " Layer (type)                Output Shape              Param #   \n",
            "=================================================================\n",
            " input_1 (InputLayer)        [(None, 199)]             0         \n",
            "                                                                 \n",
            " dense (Dense)               (None, 512)               102400    \n",
            "                                                                 \n",
            " dropout (Dropout)           (None, 512)               0         \n",
            "                                                                 \n",
            " dense_1 (Dense)             (None, 512)               262656    \n",
            "                                                                 \n",
            " dropout_1 (Dropout)         (None, 512)               0         \n",
            "                                                                 \n",
            " dense_2 (Dense)             (None, 512)               262656    \n",
            "                                                                 \n",
            " dropout_2 (Dropout)         (None, 512)               0         \n",
            "                                                                 \n",
            " dense_3 (Dense)             (None, 512)               262656    \n",
            "                                                                 \n",
            " dropout_3 (Dropout)         (None, 512)               0         \n",
            "                                                                 \n",
            " dense_4 (Dense)             (None, 512)               262656    \n",
            "                                                                 \n",
            " dropout_4 (Dropout)         (None, 512)               0         \n",
            "                                                                 \n",
            " dense_5 (Dense)             (None, 512)               262656    \n",
            "                                                                 \n",
            " dropout_5 (Dropout)         (None, 512)               0         \n",
            "                                                                 \n",
            " dense_6 (Dense)             (None, 512)               262656    \n",
            "                                                                 \n",
            " dropout_6 (Dropout)         (None, 512)               0         \n",
            "                                                                 \n",
            " dense_7 (Dense)             (None, 512)               262656    \n",
            "                                                                 \n",
            " dropout_7 (Dropout)         (None, 512)               0         \n",
            "                                                                 \n",
            " dense_8 (Dense)             (None, 512)               262656    \n",
            "                                                                 \n",
            " dense_9 (Dense)             (None, 1)                 513       \n",
            "                                                                 \n",
            "=================================================================\n",
            "Total params: 2,204,161\n",
            "Trainable params: 2,204,161\n",
            "Non-trainable params: 0\n",
            "_________________________________________________________________\n"
          ]
        }
      ]
    },
    {
      "cell_type": "code",
      "source": [
        "model.compile(optimizer=tf.keras.optimizers.Adam(learning_rate=1e-5),\n",
        "              loss='mse',\n",
        "              metrics=['mae'])\n",
        "es = tf.keras.callbacks.EarlyStopping(patience=19, verbose=1, restore_best_weights=True)\n",
        "history = model.fit(x_train, y_train, epochs=500, batch_size=128, validation_data=(x_val, y_val),\n",
        "                    callbacks=[es], verbose=2)"
      ],
      "metadata": {
        "colab": {
          "base_uri": "https://localhost:8080/"
        },
        "id": "OSO_ZwEcrlHi",
        "outputId": "e1b160b2-0ed8-4a22-ef03-2d8b605abc85"
      },
      "execution_count": 34,
      "outputs": [
        {
          "output_type": "stream",
          "name": "stdout",
          "text": [
            "Epoch 1/500\n",
            "454/454 - 26s - loss: 788097.9375 - mae: 333.9293 - val_loss: 480943.1250 - val_mae: 304.6456 - 26s/epoch - 56ms/step\n",
            "Epoch 2/500\n",
            "454/454 - 24s - loss: 483708.4375 - mae: 286.2112 - val_loss: 430505.0000 - val_mae: 275.8751 - 24s/epoch - 53ms/step\n",
            "Epoch 3/500\n",
            "454/454 - 23s - loss: 443679.1875 - mae: 268.4156 - val_loss: 410210.9375 - val_mae: 270.9860 - 23s/epoch - 52ms/step\n",
            "Epoch 4/500\n",
            "454/454 - 24s - loss: 420181.9062 - mae: 259.3745 - val_loss: 388129.0312 - val_mae: 260.5923 - 24s/epoch - 53ms/step\n",
            "Epoch 5/500\n",
            "454/454 - 24s - loss: 401498.7188 - mae: 253.0894 - val_loss: 374127.1875 - val_mae: 255.2944 - 24s/epoch - 53ms/step\n",
            "Epoch 6/500\n",
            "454/454 - 24s - loss: 385065.5312 - mae: 246.1200 - val_loss: 360368.1250 - val_mae: 250.8113 - 24s/epoch - 53ms/step\n",
            "Epoch 7/500\n",
            "454/454 - 24s - loss: 375575.0312 - mae: 244.0879 - val_loss: 348959.5312 - val_mae: 245.9729 - 24s/epoch - 53ms/step\n",
            "Epoch 8/500\n",
            "454/454 - 24s - loss: 364328.6562 - mae: 240.6567 - val_loss: 350450.0938 - val_mae: 247.8049 - 24s/epoch - 53ms/step\n",
            "Epoch 9/500\n",
            "454/454 - 24s - loss: 358872.5312 - mae: 237.4320 - val_loss: 337370.0312 - val_mae: 242.1039 - 24s/epoch - 53ms/step\n",
            "Epoch 10/500\n",
            "454/454 - 24s - loss: 350756.7500 - mae: 234.8472 - val_loss: 323308.5312 - val_mae: 233.2915 - 24s/epoch - 53ms/step\n",
            "Epoch 11/500\n",
            "454/454 - 24s - loss: 343142.6875 - mae: 232.5874 - val_loss: 318596.3750 - val_mae: 232.4224 - 24s/epoch - 53ms/step\n",
            "Epoch 12/500\n",
            "454/454 - 24s - loss: 341012.0625 - mae: 230.9855 - val_loss: 312403.8438 - val_mae: 228.5721 - 24s/epoch - 53ms/step\n",
            "Epoch 13/500\n",
            "454/454 - 24s - loss: 334713.5938 - mae: 229.5852 - val_loss: 305926.3438 - val_mae: 222.5888 - 24s/epoch - 52ms/step\n",
            "Epoch 14/500\n",
            "454/454 - 24s - loss: 330281.6250 - mae: 227.0605 - val_loss: 301114.6875 - val_mae: 222.4957 - 24s/epoch - 52ms/step\n",
            "Epoch 15/500\n",
            "454/454 - 24s - loss: 323962.1875 - mae: 224.5905 - val_loss: 302546.1875 - val_mae: 226.2211 - 24s/epoch - 52ms/step\n",
            "Epoch 16/500\n",
            "454/454 - 24s - loss: 320128.3125 - mae: 223.2899 - val_loss: 309366.5000 - val_mae: 230.7106 - 24s/epoch - 52ms/step\n",
            "Epoch 17/500\n",
            "454/454 - 24s - loss: 314682.3750 - mae: 222.0706 - val_loss: 296927.0938 - val_mae: 224.8761 - 24s/epoch - 53ms/step\n",
            "Epoch 18/500\n",
            "454/454 - 24s - loss: 310638.0312 - mae: 220.1165 - val_loss: 287535.6875 - val_mae: 219.4154 - 24s/epoch - 52ms/step\n",
            "Epoch 19/500\n",
            "454/454 - 24s - loss: 311738.0312 - mae: 219.6252 - val_loss: 285515.5312 - val_mae: 218.2089 - 24s/epoch - 52ms/step\n",
            "Epoch 20/500\n",
            "454/454 - 24s - loss: 305788.5000 - mae: 218.3298 - val_loss: 284705.5625 - val_mae: 219.7570 - 24s/epoch - 52ms/step\n",
            "Epoch 21/500\n",
            "454/454 - 24s - loss: 304148.1875 - mae: 217.3001 - val_loss: 282044.3125 - val_mae: 218.1897 - 24s/epoch - 52ms/step\n",
            "Epoch 22/500\n",
            "454/454 - 24s - loss: 300588.8750 - mae: 216.1093 - val_loss: 295849.7188 - val_mae: 225.5745 - 24s/epoch - 52ms/step\n",
            "Epoch 23/500\n",
            "454/454 - 25s - loss: 297857.3750 - mae: 214.8143 - val_loss: 272490.5312 - val_mae: 212.6376 - 25s/epoch - 55ms/step\n",
            "Epoch 24/500\n",
            "454/454 - 24s - loss: 295828.6250 - mae: 213.8163 - val_loss: 272557.7812 - val_mae: 214.1979 - 24s/epoch - 52ms/step\n",
            "Epoch 25/500\n",
            "454/454 - 24s - loss: 291999.5625 - mae: 212.6976 - val_loss: 277437.0938 - val_mae: 216.4882 - 24s/epoch - 52ms/step\n",
            "Epoch 26/500\n",
            "454/454 - 24s - loss: 291979.4062 - mae: 212.1617 - val_loss: 267495.2188 - val_mae: 211.2142 - 24s/epoch - 53ms/step\n",
            "Epoch 27/500\n",
            "454/454 - 24s - loss: 289581.0312 - mae: 210.8766 - val_loss: 264971.6250 - val_mae: 209.5419 - 24s/epoch - 53ms/step\n",
            "Epoch 28/500\n",
            "454/454 - 24s - loss: 285904.6875 - mae: 209.9296 - val_loss: 263630.1562 - val_mae: 209.7159 - 24s/epoch - 53ms/step\n",
            "Epoch 29/500\n",
            "454/454 - 25s - loss: 286866.0938 - mae: 209.6916 - val_loss: 264388.5312 - val_mae: 209.5399 - 25s/epoch - 55ms/step\n",
            "Epoch 30/500\n",
            "454/454 - 24s - loss: 280838.4062 - mae: 208.3785 - val_loss: 263556.2812 - val_mae: 208.7414 - 24s/epoch - 53ms/step\n",
            "Epoch 31/500\n",
            "454/454 - 24s - loss: 279247.6562 - mae: 208.1539 - val_loss: 262722.9062 - val_mae: 209.5231 - 24s/epoch - 52ms/step\n",
            "Epoch 32/500\n",
            "454/454 - 24s - loss: 276413.8750 - mae: 207.7452 - val_loss: 259828.0781 - val_mae: 207.9028 - 24s/epoch - 53ms/step\n",
            "Epoch 33/500\n",
            "454/454 - 24s - loss: 274994.5000 - mae: 206.5008 - val_loss: 256835.8906 - val_mae: 204.3920 - 24s/epoch - 53ms/step\n",
            "Epoch 34/500\n",
            "454/454 - 24s - loss: 272467.7500 - mae: 206.2388 - val_loss: 256805.1719 - val_mae: 204.7033 - 24s/epoch - 52ms/step\n",
            "Epoch 35/500\n",
            "454/454 - 25s - loss: 272458.4062 - mae: 205.8209 - val_loss: 256929.7812 - val_mae: 205.3941 - 25s/epoch - 55ms/step\n",
            "Epoch 36/500\n",
            "454/454 - 24s - loss: 269692.0000 - mae: 204.3528 - val_loss: 251963.6094 - val_mae: 204.0540 - 24s/epoch - 52ms/step\n",
            "Epoch 37/500\n",
            "454/454 - 24s - loss: 265397.0000 - mae: 204.4299 - val_loss: 252854.2812 - val_mae: 205.2527 - 24s/epoch - 52ms/step\n",
            "Epoch 38/500\n",
            "454/454 - 24s - loss: 267141.6562 - mae: 204.3782 - val_loss: 255649.2031 - val_mae: 206.7516 - 24s/epoch - 53ms/step\n",
            "Epoch 39/500\n",
            "454/454 - 24s - loss: 265250.0938 - mae: 204.3289 - val_loss: 253263.2812 - val_mae: 205.6882 - 24s/epoch - 53ms/step\n",
            "Epoch 40/500\n",
            "454/454 - 25s - loss: 261520.2969 - mae: 202.9507 - val_loss: 249767.5781 - val_mae: 202.4621 - 25s/epoch - 54ms/step\n",
            "Epoch 41/500\n",
            "454/454 - 24s - loss: 261552.6562 - mae: 201.9650 - val_loss: 253114.4062 - val_mae: 207.5947 - 24s/epoch - 52ms/step\n",
            "Epoch 42/500\n",
            "454/454 - 24s - loss: 258026.8438 - mae: 201.5691 - val_loss: 251032.9688 - val_mae: 205.3725 - 24s/epoch - 52ms/step\n",
            "Epoch 43/500\n",
            "454/454 - 24s - loss: 257765.7031 - mae: 201.6723 - val_loss: 248121.3750 - val_mae: 202.5828 - 24s/epoch - 52ms/step\n",
            "Epoch 44/500\n",
            "454/454 - 24s - loss: 254092.7344 - mae: 200.6931 - val_loss: 247965.3906 - val_mae: 203.6319 - 24s/epoch - 52ms/step\n",
            "Epoch 45/500\n",
            "454/454 - 24s - loss: 254347.3906 - mae: 201.1546 - val_loss: 246990.3594 - val_mae: 202.4310 - 24s/epoch - 52ms/step\n",
            "Epoch 46/500\n",
            "454/454 - 25s - loss: 254013.2656 - mae: 200.3756 - val_loss: 254790.6875 - val_mae: 207.5856 - 25s/epoch - 54ms/step\n",
            "Epoch 47/500\n",
            "454/454 - 24s - loss: 251723.6406 - mae: 200.5653 - val_loss: 245957.4844 - val_mae: 202.6182 - 24s/epoch - 52ms/step\n",
            "Epoch 48/500\n",
            "454/454 - 24s - loss: 250452.7188 - mae: 199.1951 - val_loss: 242686.8750 - val_mae: 200.0797 - 24s/epoch - 52ms/step\n",
            "Epoch 49/500\n",
            "454/454 - 24s - loss: 250976.6250 - mae: 199.0676 - val_loss: 242848.4062 - val_mae: 199.9842 - 24s/epoch - 52ms/step\n",
            "Epoch 50/500\n",
            "454/454 - 24s - loss: 243968.2344 - mae: 198.0954 - val_loss: 247007.5781 - val_mae: 202.7676 - 24s/epoch - 52ms/step\n",
            "Epoch 51/500\n",
            "454/454 - 25s - loss: 246349.5312 - mae: 198.0965 - val_loss: 239398.9062 - val_mae: 197.5385 - 25s/epoch - 55ms/step\n",
            "Epoch 52/500\n",
            "454/454 - 24s - loss: 243579.0312 - mae: 196.1824 - val_loss: 256564.4844 - val_mae: 207.2377 - 24s/epoch - 52ms/step\n",
            "Epoch 53/500\n",
            "454/454 - 24s - loss: 245114.4531 - mae: 198.3093 - val_loss: 242216.9844 - val_mae: 200.2314 - 24s/epoch - 52ms/step\n",
            "Epoch 54/500\n",
            "454/454 - 24s - loss: 238582.2188 - mae: 195.8392 - val_loss: 240094.5156 - val_mae: 199.2581 - 24s/epoch - 53ms/step\n",
            "Epoch 55/500\n",
            "454/454 - 24s - loss: 236157.8906 - mae: 195.2390 - val_loss: 241195.2812 - val_mae: 199.6212 - 24s/epoch - 52ms/step\n",
            "Epoch 56/500\n",
            "454/454 - 24s - loss: 238945.0469 - mae: 194.7133 - val_loss: 235614.8125 - val_mae: 196.9312 - 24s/epoch - 52ms/step\n",
            "Epoch 57/500\n",
            "454/454 - 25s - loss: 239333.1875 - mae: 195.7397 - val_loss: 243074.5781 - val_mae: 202.4586 - 25s/epoch - 55ms/step\n",
            "Epoch 58/500\n",
            "454/454 - 24s - loss: 236939.8906 - mae: 195.2460 - val_loss: 238901.5000 - val_mae: 198.7003 - 24s/epoch - 52ms/step\n",
            "Epoch 59/500\n",
            "454/454 - 24s - loss: 240218.9062 - mae: 195.4985 - val_loss: 234946.2500 - val_mae: 196.5041 - 24s/epoch - 53ms/step\n",
            "Epoch 60/500\n",
            "454/454 - 24s - loss: 237642.0938 - mae: 194.7758 - val_loss: 235256.3750 - val_mae: 195.9563 - 24s/epoch - 53ms/step\n",
            "Epoch 61/500\n",
            "454/454 - 24s - loss: 233425.5000 - mae: 193.4316 - val_loss: 235328.0938 - val_mae: 199.2067 - 24s/epoch - 53ms/step\n",
            "Epoch 62/500\n",
            "454/454 - 24s - loss: 232002.7031 - mae: 193.2906 - val_loss: 235345.8906 - val_mae: 197.7211 - 24s/epoch - 53ms/step\n",
            "Epoch 63/500\n",
            "454/454 - 25s - loss: 236416.5625 - mae: 194.4947 - val_loss: 235770.1562 - val_mae: 198.7896 - 25s/epoch - 55ms/step\n",
            "Epoch 64/500\n",
            "454/454 - 24s - loss: 232952.5000 - mae: 194.2702 - val_loss: 236640.0469 - val_mae: 198.6084 - 24s/epoch - 53ms/step\n",
            "Epoch 65/500\n",
            "454/454 - 24s - loss: 232428.3281 - mae: 193.4753 - val_loss: 232504.7188 - val_mae: 195.6821 - 24s/epoch - 52ms/step\n",
            "Epoch 66/500\n",
            "454/454 - 24s - loss: 228989.1562 - mae: 191.9919 - val_loss: 232817.3594 - val_mae: 194.9815 - 24s/epoch - 53ms/step\n",
            "Epoch 67/500\n",
            "454/454 - 24s - loss: 223200.7031 - mae: 190.8517 - val_loss: 230871.0469 - val_mae: 193.5443 - 24s/epoch - 53ms/step\n",
            "Epoch 68/500\n",
            "454/454 - 25s - loss: 226930.7656 - mae: 192.2268 - val_loss: 235192.2812 - val_mae: 197.2730 - 25s/epoch - 55ms/step\n",
            "Epoch 69/500\n",
            "454/454 - 24s - loss: 226834.3438 - mae: 191.8536 - val_loss: 229160.2344 - val_mae: 194.3646 - 24s/epoch - 53ms/step\n",
            "Epoch 70/500\n",
            "454/454 - 24s - loss: 223012.5469 - mae: 190.0471 - val_loss: 232715.7031 - val_mae: 196.3170 - 24s/epoch - 52ms/step\n",
            "Epoch 71/500\n",
            "454/454 - 24s - loss: 228311.5156 - mae: 191.8193 - val_loss: 229856.8125 - val_mae: 194.7676 - 24s/epoch - 53ms/step\n",
            "Epoch 72/500\n",
            "454/454 - 24s - loss: 221921.0312 - mae: 190.6206 - val_loss: 231537.4375 - val_mae: 195.0887 - 24s/epoch - 52ms/step\n",
            "Epoch 73/500\n",
            "454/454 - 24s - loss: 225616.2188 - mae: 190.1412 - val_loss: 228701.4531 - val_mae: 193.0332 - 24s/epoch - 53ms/step\n",
            "Epoch 74/500\n",
            "454/454 - 25s - loss: 224537.6719 - mae: 190.3926 - val_loss: 228950.1094 - val_mae: 192.8974 - 25s/epoch - 55ms/step\n",
            "Epoch 75/500\n",
            "454/454 - 24s - loss: 221745.1875 - mae: 189.8053 - val_loss: 227653.1562 - val_mae: 194.0489 - 24s/epoch - 53ms/step\n",
            "Epoch 76/500\n",
            "454/454 - 24s - loss: 215999.8281 - mae: 187.7183 - val_loss: 228961.1406 - val_mae: 194.5418 - 24s/epoch - 53ms/step\n",
            "Epoch 77/500\n",
            "454/454 - 24s - loss: 217015.2656 - mae: 189.1476 - val_loss: 226601.3281 - val_mae: 192.1325 - 24s/epoch - 53ms/step\n",
            "Epoch 78/500\n",
            "454/454 - 24s - loss: 220468.1562 - mae: 189.4374 - val_loss: 229929.7969 - val_mae: 194.0559 - 24s/epoch - 52ms/step\n",
            "Epoch 79/500\n",
            "454/454 - 24s - loss: 218112.5625 - mae: 188.9482 - val_loss: 227878.6250 - val_mae: 194.7492 - 24s/epoch - 52ms/step\n",
            "Epoch 80/500\n",
            "454/454 - 25s - loss: 215564.7969 - mae: 188.1886 - val_loss: 225989.5156 - val_mae: 191.0222 - 25s/epoch - 55ms/step\n",
            "Epoch 81/500\n",
            "454/454 - 24s - loss: 214231.5312 - mae: 187.5724 - val_loss: 224558.7031 - val_mae: 191.2022 - 24s/epoch - 52ms/step\n",
            "Epoch 82/500\n",
            "454/454 - 24s - loss: 213543.5625 - mae: 186.8777 - val_loss: 224954.1406 - val_mae: 192.1179 - 24s/epoch - 52ms/step\n",
            "Epoch 83/500\n",
            "454/454 - 24s - loss: 212389.4531 - mae: 186.7613 - val_loss: 233946.3594 - val_mae: 198.4955 - 24s/epoch - 52ms/step\n",
            "Epoch 84/500\n",
            "454/454 - 24s - loss: 216935.1562 - mae: 187.8326 - val_loss: 227801.0781 - val_mae: 195.1590 - 24s/epoch - 52ms/step\n",
            "Epoch 85/500\n",
            "454/454 - 25s - loss: 211700.6562 - mae: 186.6096 - val_loss: 225714.0156 - val_mae: 191.2533 - 25s/epoch - 54ms/step\n",
            "Epoch 86/500\n",
            "454/454 - 24s - loss: 213090.6094 - mae: 186.9675 - val_loss: 223926.7188 - val_mae: 192.5246 - 24s/epoch - 53ms/step\n",
            "Epoch 87/500\n",
            "454/454 - 24s - loss: 213821.5469 - mae: 186.8405 - val_loss: 234005.6406 - val_mae: 196.8339 - 24s/epoch - 52ms/step\n",
            "Epoch 88/500\n",
            "454/454 - 24s - loss: 210040.4531 - mae: 186.0408 - val_loss: 227470.7344 - val_mae: 194.9984 - 24s/epoch - 52ms/step\n",
            "Epoch 89/500\n",
            "454/454 - 24s - loss: 209281.4531 - mae: 185.2727 - val_loss: 221667.1094 - val_mae: 189.6604 - 24s/epoch - 52ms/step\n",
            "Epoch 90/500\n",
            "454/454 - 24s - loss: 208355.9688 - mae: 184.9323 - val_loss: 219978.9688 - val_mae: 189.6373 - 24s/epoch - 52ms/step\n",
            "Epoch 91/500\n",
            "454/454 - 25s - loss: 208927.9844 - mae: 184.8495 - val_loss: 226542.8906 - val_mae: 194.3406 - 25s/epoch - 55ms/step\n",
            "Epoch 92/500\n",
            "454/454 - 24s - loss: 205844.6250 - mae: 184.9304 - val_loss: 220189.6875 - val_mae: 189.0889 - 24s/epoch - 52ms/step\n",
            "Epoch 93/500\n",
            "454/454 - 24s - loss: 207727.8438 - mae: 185.5839 - val_loss: 222582.6250 - val_mae: 190.4632 - 24s/epoch - 52ms/step\n",
            "Epoch 94/500\n",
            "454/454 - 24s - loss: 208391.5312 - mae: 184.6951 - val_loss: 222439.7812 - val_mae: 191.7437 - 24s/epoch - 52ms/step\n",
            "Epoch 95/500\n",
            "454/454 - 24s - loss: 202359.2344 - mae: 183.2038 - val_loss: 220389.2031 - val_mae: 187.5534 - 24s/epoch - 52ms/step\n",
            "Epoch 96/500\n",
            "454/454 - 24s - loss: 205530.4844 - mae: 183.5725 - val_loss: 235164.7969 - val_mae: 197.5185 - 24s/epoch - 52ms/step\n",
            "Epoch 97/500\n",
            "454/454 - 25s - loss: 201990.8125 - mae: 183.2849 - val_loss: 220618.7188 - val_mae: 189.9899 - 25s/epoch - 55ms/step\n",
            "Epoch 98/500\n",
            "454/454 - 24s - loss: 205013.4688 - mae: 183.7534 - val_loss: 220011.2188 - val_mae: 188.4387 - 24s/epoch - 53ms/step\n",
            "Epoch 99/500\n",
            "454/454 - 24s - loss: 198275.0625 - mae: 181.8442 - val_loss: 219496.0781 - val_mae: 187.7450 - 24s/epoch - 53ms/step\n",
            "Epoch 100/500\n",
            "454/454 - 24s - loss: 201280.7031 - mae: 183.1839 - val_loss: 218365.5625 - val_mae: 187.2447 - 24s/epoch - 52ms/step\n",
            "Epoch 101/500\n",
            "454/454 - 24s - loss: 202277.0781 - mae: 182.7724 - val_loss: 219778.1719 - val_mae: 190.5166 - 24s/epoch - 53ms/step\n",
            "Epoch 102/500\n",
            "454/454 - 24s - loss: 198005.8750 - mae: 182.3342 - val_loss: 217547.5781 - val_mae: 187.3223 - 24s/epoch - 53ms/step\n",
            "Epoch 103/500\n",
            "454/454 - 25s - loss: 197066.2500 - mae: 181.7807 - val_loss: 222299.6719 - val_mae: 190.2654 - 25s/epoch - 55ms/step\n",
            "Epoch 104/500\n",
            "454/454 - 24s - loss: 197681.0312 - mae: 181.2926 - val_loss: 219665.5000 - val_mae: 190.7828 - 24s/epoch - 53ms/step\n",
            "Epoch 105/500\n",
            "454/454 - 24s - loss: 199607.8281 - mae: 182.2159 - val_loss: 218626.8438 - val_mae: 189.3766 - 24s/epoch - 53ms/step\n",
            "Epoch 106/500\n",
            "454/454 - 24s - loss: 196378.2188 - mae: 181.3511 - val_loss: 218271.5312 - val_mae: 188.4822 - 24s/epoch - 53ms/step\n",
            "Epoch 107/500\n",
            "454/454 - 24s - loss: 198574.3281 - mae: 181.6409 - val_loss: 217686.6094 - val_mae: 187.8029 - 24s/epoch - 52ms/step\n",
            "Epoch 108/500\n",
            "454/454 - 24s - loss: 192882.2344 - mae: 180.0097 - val_loss: 217780.1094 - val_mae: 188.4282 - 24s/epoch - 54ms/step\n",
            "Epoch 109/500\n",
            "454/454 - 24s - loss: 192920.9844 - mae: 180.4423 - val_loss: 218441.7812 - val_mae: 188.2299 - 24s/epoch - 53ms/step\n",
            "Epoch 110/500\n",
            "454/454 - 24s - loss: 195374.9062 - mae: 180.8761 - val_loss: 216347.2812 - val_mae: 186.7344 - 24s/epoch - 53ms/step\n",
            "Epoch 111/500\n",
            "454/454 - 24s - loss: 194147.2656 - mae: 180.5261 - val_loss: 224282.2812 - val_mae: 193.0976 - 24s/epoch - 52ms/step\n",
            "Epoch 112/500\n",
            "454/454 - 24s - loss: 193301.5000 - mae: 179.8013 - val_loss: 221683.6719 - val_mae: 191.6230 - 24s/epoch - 53ms/step\n",
            "Epoch 113/500\n",
            "454/454 - 24s - loss: 192835.9219 - mae: 179.7087 - val_loss: 214101.5156 - val_mae: 186.3008 - 24s/epoch - 53ms/step\n",
            "Epoch 114/500\n",
            "454/454 - 25s - loss: 190314.3594 - mae: 179.4409 - val_loss: 213996.6719 - val_mae: 185.7560 - 25s/epoch - 55ms/step\n",
            "Epoch 115/500\n",
            "454/454 - 24s - loss: 190758.5625 - mae: 179.4973 - val_loss: 218764.7500 - val_mae: 190.0305 - 24s/epoch - 53ms/step\n",
            "Epoch 116/500\n",
            "454/454 - 24s - loss: 188291.0625 - mae: 178.3670 - val_loss: 219751.7656 - val_mae: 190.0654 - 24s/epoch - 53ms/step\n",
            "Epoch 117/500\n",
            "454/454 - 24s - loss: 187244.7500 - mae: 178.2568 - val_loss: 223399.8750 - val_mae: 192.8669 - 24s/epoch - 53ms/step\n",
            "Epoch 118/500\n",
            "454/454 - 24s - loss: 186165.2344 - mae: 177.7099 - val_loss: 214787.4375 - val_mae: 185.4618 - 24s/epoch - 53ms/step\n",
            "Epoch 119/500\n",
            "454/454 - 24s - loss: 190765.6875 - mae: 178.5323 - val_loss: 211414.1875 - val_mae: 184.4442 - 24s/epoch - 53ms/step\n",
            "Epoch 120/500\n",
            "454/454 - 25s - loss: 186786.4375 - mae: 177.3521 - val_loss: 212545.2031 - val_mae: 185.4171 - 25s/epoch - 55ms/step\n",
            "Epoch 121/500\n",
            "454/454 - 24s - loss: 188937.0312 - mae: 177.8286 - val_loss: 222404.6875 - val_mae: 191.8180 - 24s/epoch - 52ms/step\n",
            "Epoch 122/500\n",
            "454/454 - 24s - loss: 187390.4531 - mae: 178.3681 - val_loss: 212827.3906 - val_mae: 186.3129 - 24s/epoch - 52ms/step\n",
            "Epoch 123/500\n",
            "454/454 - 24s - loss: 187846.3125 - mae: 177.9150 - val_loss: 217141.3438 - val_mae: 187.9676 - 24s/epoch - 53ms/step\n",
            "Epoch 124/500\n",
            "454/454 - 24s - loss: 187204.3438 - mae: 176.7605 - val_loss: 212856.3594 - val_mae: 184.2351 - 24s/epoch - 53ms/step\n",
            "Epoch 125/500\n",
            "454/454 - 24s - loss: 186617.7500 - mae: 177.3903 - val_loss: 223832.0156 - val_mae: 191.0538 - 24s/epoch - 53ms/step\n",
            "Epoch 126/500\n",
            "454/454 - 25s - loss: 183990.2344 - mae: 176.4655 - val_loss: 211785.0625 - val_mae: 185.3699 - 25s/epoch - 55ms/step\n",
            "Epoch 127/500\n",
            "454/454 - 24s - loss: 184239.7500 - mae: 177.1078 - val_loss: 210216.5312 - val_mae: 183.8996 - 24s/epoch - 53ms/step\n",
            "Epoch 128/500\n",
            "454/454 - 24s - loss: 182923.8906 - mae: 176.7248 - val_loss: 212285.2031 - val_mae: 185.9300 - 24s/epoch - 53ms/step\n",
            "Epoch 129/500\n",
            "454/454 - 24s - loss: 183620.6719 - mae: 175.9834 - val_loss: 212742.2344 - val_mae: 185.7089 - 24s/epoch - 53ms/step\n",
            "Epoch 130/500\n",
            "454/454 - 24s - loss: 181247.6250 - mae: 176.2022 - val_loss: 216026.5938 - val_mae: 188.6482 - 24s/epoch - 53ms/step\n",
            "Epoch 131/500\n",
            "454/454 - 24s - loss: 181730.2500 - mae: 175.4468 - val_loss: 212073.7344 - val_mae: 184.8630 - 24s/epoch - 53ms/step\n",
            "Epoch 132/500\n",
            "454/454 - 25s - loss: 182244.2656 - mae: 175.8180 - val_loss: 217698.4062 - val_mae: 189.6021 - 25s/epoch - 55ms/step\n",
            "Epoch 133/500\n",
            "454/454 - 24s - loss: 183416.0938 - mae: 176.1382 - val_loss: 212403.3281 - val_mae: 185.6536 - 24s/epoch - 53ms/step\n",
            "Epoch 134/500\n",
            "454/454 - 24s - loss: 181107.6719 - mae: 175.2428 - val_loss: 214170.1719 - val_mae: 187.6732 - 24s/epoch - 53ms/step\n",
            "Epoch 135/500\n",
            "454/454 - 24s - loss: 178696.7188 - mae: 175.0106 - val_loss: 209495.0469 - val_mae: 182.4202 - 24s/epoch - 53ms/step\n",
            "Epoch 136/500\n",
            "454/454 - 24s - loss: 182217.7500 - mae: 175.7204 - val_loss: 209936.8438 - val_mae: 184.3484 - 24s/epoch - 52ms/step\n",
            "Epoch 137/500\n",
            "454/454 - 25s - loss: 174833.0781 - mae: 173.4985 - val_loss: 212946.4844 - val_mae: 186.4664 - 25s/epoch - 55ms/step\n",
            "Epoch 138/500\n",
            "454/454 - 24s - loss: 180108.5781 - mae: 175.3781 - val_loss: 219857.8438 - val_mae: 188.4756 - 24s/epoch - 53ms/step\n",
            "Epoch 139/500\n",
            "454/454 - 24s - loss: 180932.9062 - mae: 175.2092 - val_loss: 207703.5781 - val_mae: 185.1921 - 24s/epoch - 53ms/step\n",
            "Epoch 140/500\n",
            "454/454 - 24s - loss: 177286.2969 - mae: 174.4190 - val_loss: 210914.6719 - val_mae: 186.5278 - 24s/epoch - 53ms/step\n",
            "Epoch 141/500\n",
            "454/454 - 24s - loss: 177304.7969 - mae: 174.6965 - val_loss: 211271.9844 - val_mae: 185.9517 - 24s/epoch - 53ms/step\n",
            "Epoch 142/500\n",
            "454/454 - 24s - loss: 174695.0156 - mae: 173.1358 - val_loss: 207643.2500 - val_mae: 184.2186 - 24s/epoch - 53ms/step\n",
            "Epoch 143/500\n",
            "454/454 - 26s - loss: 177829.7500 - mae: 174.1925 - val_loss: 207587.5312 - val_mae: 183.2980 - 26s/epoch - 56ms/step\n",
            "Epoch 144/500\n",
            "454/454 - 24s - loss: 175620.4531 - mae: 173.7177 - val_loss: 209323.9844 - val_mae: 184.3505 - 24s/epoch - 52ms/step\n",
            "Epoch 145/500\n",
            "454/454 - 24s - loss: 174991.8281 - mae: 172.8440 - val_loss: 212799.4062 - val_mae: 186.5120 - 24s/epoch - 53ms/step\n",
            "Epoch 146/500\n",
            "454/454 - 24s - loss: 173623.0781 - mae: 172.7922 - val_loss: 207296.9688 - val_mae: 184.0761 - 24s/epoch - 53ms/step\n",
            "Epoch 147/500\n",
            "454/454 - 24s - loss: 173055.4062 - mae: 172.6269 - val_loss: 206456.8906 - val_mae: 181.5020 - 24s/epoch - 54ms/step\n",
            "Epoch 148/500\n",
            "454/454 - 24s - loss: 172722.0781 - mae: 172.0711 - val_loss: 210963.7344 - val_mae: 186.4579 - 24s/epoch - 53ms/step\n",
            "Epoch 149/500\n",
            "454/454 - 25s - loss: 173693.1562 - mae: 172.5665 - val_loss: 210040.9375 - val_mae: 185.3232 - 25s/epoch - 55ms/step\n",
            "Epoch 150/500\n",
            "454/454 - 24s - loss: 171938.7344 - mae: 172.5815 - val_loss: 205125.4531 - val_mae: 180.7438 - 24s/epoch - 53ms/step\n",
            "Epoch 151/500\n",
            "454/454 - 24s - loss: 174703.6406 - mae: 172.6929 - val_loss: 211591.3594 - val_mae: 185.8022 - 24s/epoch - 53ms/step\n",
            "Epoch 152/500\n",
            "454/454 - 24s - loss: 172363.8125 - mae: 171.7665 - val_loss: 208563.9531 - val_mae: 184.0939 - 24s/epoch - 53ms/step\n",
            "Epoch 153/500\n",
            "454/454 - 24s - loss: 170273.0625 - mae: 171.4591 - val_loss: 205419.5469 - val_mae: 182.9345 - 24s/epoch - 53ms/step\n",
            "Epoch 154/500\n",
            "454/454 - 24s - loss: 172443.9531 - mae: 172.4670 - val_loss: 205759.5000 - val_mae: 182.3991 - 24s/epoch - 53ms/step\n",
            "Epoch 155/500\n",
            "454/454 - 25s - loss: 171884.1094 - mae: 172.1677 - val_loss: 208339.8125 - val_mae: 184.9227 - 25s/epoch - 55ms/step\n",
            "Epoch 156/500\n",
            "454/454 - 24s - loss: 167579.8906 - mae: 169.9356 - val_loss: 210939.4688 - val_mae: 185.8877 - 24s/epoch - 53ms/step\n",
            "Epoch 157/500\n",
            "454/454 - 24s - loss: 169106.8125 - mae: 171.0552 - val_loss: 212213.9688 - val_mae: 187.1332 - 24s/epoch - 53ms/step\n",
            "Epoch 158/500\n",
            "454/454 - 24s - loss: 167788.3281 - mae: 170.7512 - val_loss: 204585.7031 - val_mae: 181.3911 - 24s/epoch - 53ms/step\n",
            "Epoch 159/500\n",
            "454/454 - 24s - loss: 168813.8906 - mae: 170.5088 - val_loss: 203010.5938 - val_mae: 182.4359 - 24s/epoch - 52ms/step\n",
            "Epoch 160/500\n",
            "454/454 - 24s - loss: 167925.9844 - mae: 171.2292 - val_loss: 208656.9531 - val_mae: 184.7191 - 24s/epoch - 53ms/step\n",
            "Epoch 161/500\n",
            "454/454 - 25s - loss: 170608.6094 - mae: 171.4878 - val_loss: 205961.5000 - val_mae: 182.4179 - 25s/epoch - 55ms/step\n",
            "Epoch 162/500\n",
            "454/454 - 24s - loss: 169969.5312 - mae: 170.8259 - val_loss: 203451.2656 - val_mae: 180.2449 - 24s/epoch - 53ms/step\n",
            "Epoch 163/500\n",
            "454/454 - 24s - loss: 163945.5000 - mae: 169.3262 - val_loss: 202380.8281 - val_mae: 180.1388 - 24s/epoch - 53ms/step\n",
            "Epoch 164/500\n",
            "454/454 - 24s - loss: 167280.7969 - mae: 170.5108 - val_loss: 205197.5000 - val_mae: 182.8517 - 24s/epoch - 52ms/step\n",
            "Epoch 165/500\n",
            "454/454 - 24s - loss: 165769.6094 - mae: 169.3272 - val_loss: 203543.9062 - val_mae: 181.3853 - 24s/epoch - 52ms/step\n",
            "Epoch 166/500\n",
            "454/454 - 24s - loss: 168310.2812 - mae: 170.8289 - val_loss: 202885.4062 - val_mae: 180.0737 - 24s/epoch - 54ms/step\n",
            "Epoch 167/500\n",
            "454/454 - 24s - loss: 164193.7969 - mae: 169.4033 - val_loss: 205759.5625 - val_mae: 182.3380 - 24s/epoch - 53ms/step\n",
            "Epoch 168/500\n",
            "454/454 - 24s - loss: 166230.0312 - mae: 169.8534 - val_loss: 210247.0000 - val_mae: 184.5651 - 24s/epoch - 52ms/step\n",
            "Epoch 169/500\n",
            "454/454 - 24s - loss: 164997.5469 - mae: 169.3548 - val_loss: 209406.3125 - val_mae: 183.8833 - 24s/epoch - 52ms/step\n",
            "Epoch 170/500\n",
            "454/454 - 24s - loss: 162259.4375 - mae: 168.4121 - val_loss: 203204.2969 - val_mae: 180.0975 - 24s/epoch - 52ms/step\n",
            "Epoch 171/500\n",
            "454/454 - 24s - loss: 162349.2500 - mae: 168.6116 - val_loss: 208926.1719 - val_mae: 184.9950 - 24s/epoch - 52ms/step\n",
            "Epoch 172/500\n",
            "454/454 - 25s - loss: 166945.1250 - mae: 169.6794 - val_loss: 201417.2969 - val_mae: 180.7504 - 25s/epoch - 55ms/step\n",
            "Epoch 173/500\n",
            "454/454 - 24s - loss: 162555.4219 - mae: 167.8445 - val_loss: 203047.6719 - val_mae: 182.6870 - 24s/epoch - 52ms/step\n",
            "Epoch 174/500\n",
            "454/454 - 24s - loss: 162639.0000 - mae: 168.5181 - val_loss: 205697.6406 - val_mae: 182.0240 - 24s/epoch - 52ms/step\n",
            "Epoch 175/500\n",
            "454/454 - 24s - loss: 160492.6875 - mae: 167.5108 - val_loss: 216108.4219 - val_mae: 185.8202 - 24s/epoch - 52ms/step\n",
            "Epoch 176/500\n",
            "454/454 - 24s - loss: 159389.0156 - mae: 167.6733 - val_loss: 200613.4844 - val_mae: 180.0926 - 24s/epoch - 52ms/step\n",
            "Epoch 177/500\n",
            "454/454 - 24s - loss: 162633.4375 - mae: 168.1733 - val_loss: 198643.3438 - val_mae: 177.7108 - 24s/epoch - 52ms/step\n",
            "Epoch 178/500\n",
            "454/454 - 25s - loss: 163893.0312 - mae: 168.5055 - val_loss: 201149.6562 - val_mae: 179.8272 - 25s/epoch - 55ms/step\n",
            "Epoch 179/500\n",
            "454/454 - 24s - loss: 161775.2344 - mae: 167.5015 - val_loss: 199838.1094 - val_mae: 179.4567 - 24s/epoch - 52ms/step\n",
            "Epoch 180/500\n",
            "454/454 - 24s - loss: 159640.8125 - mae: 167.0205 - val_loss: 200014.8125 - val_mae: 179.6021 - 24s/epoch - 53ms/step\n",
            "Epoch 181/500\n",
            "454/454 - 24s - loss: 160265.5312 - mae: 167.0608 - val_loss: 201431.1406 - val_mae: 179.7476 - 24s/epoch - 52ms/step\n",
            "Epoch 182/500\n",
            "454/454 - 24s - loss: 160501.7969 - mae: 166.0350 - val_loss: 198784.5469 - val_mae: 179.6936 - 24s/epoch - 52ms/step\n",
            "Epoch 183/500\n",
            "454/454 - 24s - loss: 159215.9531 - mae: 166.1791 - val_loss: 199185.1875 - val_mae: 179.3047 - 24s/epoch - 52ms/step\n",
            "Epoch 184/500\n",
            "454/454 - 25s - loss: 159930.3750 - mae: 166.8753 - val_loss: 199838.8594 - val_mae: 177.8078 - 25s/epoch - 55ms/step\n",
            "Epoch 185/500\n",
            "454/454 - 24s - loss: 158940.7969 - mae: 166.6414 - val_loss: 201085.1406 - val_mae: 181.7716 - 24s/epoch - 52ms/step\n",
            "Epoch 186/500\n",
            "454/454 - 24s - loss: 163818.7031 - mae: 167.7894 - val_loss: 198889.3438 - val_mae: 180.1026 - 24s/epoch - 52ms/step\n",
            "Epoch 187/500\n",
            "454/454 - 24s - loss: 155172.3594 - mae: 165.4303 - val_loss: 200281.1562 - val_mae: 180.0097 - 24s/epoch - 52ms/step\n",
            "Epoch 188/500\n",
            "454/454 - 24s - loss: 154590.9375 - mae: 165.0466 - val_loss: 199085.6094 - val_mae: 179.9599 - 24s/epoch - 52ms/step\n",
            "Epoch 189/500\n",
            "454/454 - 24s - loss: 156742.7188 - mae: 165.9157 - val_loss: 198651.9219 - val_mae: 176.8519 - 24s/epoch - 52ms/step\n",
            "Epoch 190/500\n",
            "454/454 - 25s - loss: 155136.2969 - mae: 165.2124 - val_loss: 201174.5469 - val_mae: 180.0379 - 25s/epoch - 55ms/step\n",
            "Epoch 191/500\n",
            "454/454 - 24s - loss: 157014.7500 - mae: 165.8590 - val_loss: 198234.2656 - val_mae: 179.4766 - 24s/epoch - 53ms/step\n",
            "Epoch 192/500\n",
            "454/454 - 24s - loss: 158934.0312 - mae: 166.5179 - val_loss: 196763.6250 - val_mae: 178.1076 - 24s/epoch - 52ms/step\n",
            "Epoch 193/500\n",
            "454/454 - 24s - loss: 156990.4219 - mae: 165.9465 - val_loss: 199403.7031 - val_mae: 178.7477 - 24s/epoch - 52ms/step\n",
            "Epoch 194/500\n",
            "454/454 - 24s - loss: 153632.1875 - mae: 165.0260 - val_loss: 197054.9531 - val_mae: 178.8754 - 24s/epoch - 52ms/step\n",
            "Epoch 195/500\n",
            "454/454 - 24s - loss: 154279.7656 - mae: 165.6135 - val_loss: 194861.1250 - val_mae: 176.2183 - 24s/epoch - 52ms/step\n",
            "Epoch 196/500\n",
            "454/454 - 25s - loss: 154485.7812 - mae: 164.9989 - val_loss: 200196.5156 - val_mae: 179.7207 - 25s/epoch - 55ms/step\n",
            "Epoch 197/500\n",
            "454/454 - 24s - loss: 152754.8125 - mae: 163.4691 - val_loss: 198622.5469 - val_mae: 179.1116 - 24s/epoch - 53ms/step\n",
            "Epoch 198/500\n",
            "454/454 - 24s - loss: 154371.8594 - mae: 164.6665 - val_loss: 202373.8281 - val_mae: 180.7253 - 24s/epoch - 52ms/step\n",
            "Epoch 199/500\n",
            "454/454 - 24s - loss: 153721.6875 - mae: 164.2254 - val_loss: 196247.0938 - val_mae: 177.6854 - 24s/epoch - 53ms/step\n",
            "Epoch 200/500\n",
            "454/454 - 24s - loss: 152253.4844 - mae: 164.1778 - val_loss: 198013.3750 - val_mae: 178.6810 - 24s/epoch - 52ms/step\n",
            "Epoch 201/500\n",
            "454/454 - 24s - loss: 151157.2188 - mae: 163.8286 - val_loss: 196751.4531 - val_mae: 177.0347 - 24s/epoch - 52ms/step\n",
            "Epoch 202/500\n",
            "454/454 - 25s - loss: 152725.7188 - mae: 164.4585 - val_loss: 196322.3906 - val_mae: 178.6577 - 25s/epoch - 55ms/step\n",
            "Epoch 203/500\n",
            "454/454 - 24s - loss: 149935.2344 - mae: 163.2813 - val_loss: 196574.5312 - val_mae: 176.8625 - 24s/epoch - 52ms/step\n",
            "Epoch 204/500\n",
            "454/454 - 24s - loss: 150972.0469 - mae: 163.9136 - val_loss: 195687.1094 - val_mae: 176.5458 - 24s/epoch - 52ms/step\n",
            "Epoch 205/500\n",
            "454/454 - 24s - loss: 151899.1719 - mae: 164.1567 - val_loss: 194021.5625 - val_mae: 176.4712 - 24s/epoch - 52ms/step\n",
            "Epoch 206/500\n",
            "454/454 - 24s - loss: 149910.9062 - mae: 163.2545 - val_loss: 194261.8906 - val_mae: 175.5157 - 24s/epoch - 53ms/step\n",
            "Epoch 207/500\n",
            "454/454 - 24s - loss: 151012.9844 - mae: 163.8533 - val_loss: 197455.3906 - val_mae: 177.4989 - 24s/epoch - 53ms/step\n",
            "Epoch 208/500\n",
            "454/454 - 37s - loss: 151928.5625 - mae: 163.6228 - val_loss: 198144.7344 - val_mae: 178.5282 - 37s/epoch - 83ms/step\n",
            "Epoch 209/500\n",
            "454/454 - 25s - loss: 148355.8438 - mae: 162.6298 - val_loss: 195335.0781 - val_mae: 177.2934 - 25s/epoch - 54ms/step\n",
            "Epoch 210/500\n",
            "454/454 - 24s - loss: 147078.7031 - mae: 162.3992 - val_loss: 195722.6875 - val_mae: 176.6984 - 24s/epoch - 53ms/step\n",
            "Epoch 211/500\n",
            "454/454 - 24s - loss: 150386.9219 - mae: 163.2689 - val_loss: 196970.5469 - val_mae: 178.5150 - 24s/epoch - 53ms/step\n",
            "Epoch 212/500\n",
            "454/454 - 24s - loss: 147996.3750 - mae: 162.1928 - val_loss: 197550.6406 - val_mae: 177.6039 - 24s/epoch - 54ms/step\n",
            "Epoch 213/500\n",
            "454/454 - 25s - loss: 148932.4219 - mae: 162.6241 - val_loss: 197995.0781 - val_mae: 177.8043 - 25s/epoch - 55ms/step\n",
            "Epoch 214/500\n",
            "454/454 - 24s - loss: 149840.6406 - mae: 163.2189 - val_loss: 197228.8125 - val_mae: 178.5882 - 24s/epoch - 53ms/step\n",
            "Epoch 215/500\n",
            "454/454 - 24s - loss: 148598.1406 - mae: 163.3612 - val_loss: 199409.1562 - val_mae: 178.9808 - 24s/epoch - 53ms/step\n",
            "Epoch 216/500\n",
            "454/454 - 25s - loss: 148385.6562 - mae: 161.9799 - val_loss: 193866.6406 - val_mae: 177.2705 - 25s/epoch - 55ms/step\n",
            "Epoch 217/500\n",
            "454/454 - 24s - loss: 148041.4219 - mae: 162.4011 - val_loss: 193062.3906 - val_mae: 176.0653 - 24s/epoch - 52ms/step\n",
            "Epoch 218/500\n",
            "454/454 - 24s - loss: 146600.4531 - mae: 161.6225 - val_loss: 192864.5312 - val_mae: 175.0155 - 24s/epoch - 53ms/step\n",
            "Epoch 219/500\n",
            "454/454 - 25s - loss: 144954.4219 - mae: 161.1972 - val_loss: 197057.2812 - val_mae: 179.1500 - 25s/epoch - 55ms/step\n",
            "Epoch 220/500\n",
            "454/454 - 24s - loss: 148869.3594 - mae: 162.6658 - val_loss: 196959.6250 - val_mae: 177.7202 - 24s/epoch - 53ms/step\n",
            "Epoch 221/500\n",
            "454/454 - 24s - loss: 144010.8750 - mae: 160.4288 - val_loss: 193283.5000 - val_mae: 176.0293 - 24s/epoch - 52ms/step\n",
            "Epoch 222/500\n",
            "454/454 - 24s - loss: 147531.4219 - mae: 161.8917 - val_loss: 197699.6094 - val_mae: 177.7220 - 24s/epoch - 53ms/step\n",
            "Epoch 223/500\n",
            "454/454 - 24s - loss: 144452.6719 - mae: 160.8047 - val_loss: 197473.2344 - val_mae: 179.3463 - 24s/epoch - 53ms/step\n",
            "Epoch 224/500\n",
            "454/454 - 24s - loss: 144699.3438 - mae: 161.2977 - val_loss: 191805.7188 - val_mae: 175.1218 - 24s/epoch - 52ms/step\n",
            "Epoch 225/500\n",
            "454/454 - 25s - loss: 143753.4844 - mae: 160.9361 - val_loss: 197610.1562 - val_mae: 176.9275 - 25s/epoch - 55ms/step\n",
            "Epoch 226/500\n",
            "454/454 - 24s - loss: 144864.3906 - mae: 160.4109 - val_loss: 191962.3438 - val_mae: 173.9977 - 24s/epoch - 53ms/step\n",
            "Epoch 227/500\n",
            "454/454 - 24s - loss: 146364.0469 - mae: 161.9856 - val_loss: 192744.6094 - val_mae: 175.1052 - 24s/epoch - 53ms/step\n",
            "Epoch 228/500\n",
            "454/454 - 24s - loss: 143024.6406 - mae: 160.1820 - val_loss: 197130.3125 - val_mae: 177.9588 - 24s/epoch - 52ms/step\n",
            "Epoch 229/500\n",
            "454/454 - 24s - loss: 143856.6875 - mae: 160.7616 - val_loss: 193301.7188 - val_mae: 176.7383 - 24s/epoch - 52ms/step\n",
            "Epoch 230/500\n",
            "454/454 - 24s - loss: 144933.4844 - mae: 160.8467 - val_loss: 191393.9688 - val_mae: 175.4247 - 24s/epoch - 53ms/step\n",
            "Epoch 231/500\n",
            "454/454 - 25s - loss: 144796.1875 - mae: 160.4871 - val_loss: 200321.7969 - val_mae: 179.6392 - 25s/epoch - 55ms/step\n",
            "Epoch 232/500\n",
            "454/454 - 24s - loss: 143361.4062 - mae: 160.0417 - val_loss: 192899.5469 - val_mae: 174.6421 - 24s/epoch - 53ms/step\n",
            "Epoch 233/500\n",
            "454/454 - 24s - loss: 144993.2969 - mae: 161.4215 - val_loss: 196825.6719 - val_mae: 177.6065 - 24s/epoch - 53ms/step\n",
            "Epoch 234/500\n",
            "454/454 - 24s - loss: 144192.2031 - mae: 160.2948 - val_loss: 195469.2500 - val_mae: 176.6363 - 24s/epoch - 53ms/step\n",
            "Epoch 235/500\n",
            "454/454 - 24s - loss: 143209.2344 - mae: 160.0906 - val_loss: 191011.0156 - val_mae: 172.7439 - 24s/epoch - 52ms/step\n",
            "Epoch 236/500\n",
            "454/454 - 24s - loss: 142638.4375 - mae: 159.7386 - val_loss: 194971.4688 - val_mae: 176.9185 - 24s/epoch - 53ms/step\n",
            "Epoch 237/500\n",
            "454/454 - 25s - loss: 145591.2969 - mae: 160.8147 - val_loss: 194590.4688 - val_mae: 176.2867 - 25s/epoch - 55ms/step\n",
            "Epoch 238/500\n",
            "454/454 - 24s - loss: 143265.7344 - mae: 160.0423 - val_loss: 196414.6094 - val_mae: 178.1295 - 24s/epoch - 53ms/step\n",
            "Epoch 239/500\n",
            "454/454 - 24s - loss: 143035.1250 - mae: 159.7126 - val_loss: 191842.7344 - val_mae: 174.8454 - 24s/epoch - 53ms/step\n",
            "Epoch 240/500\n",
            "454/454 - 24s - loss: 141611.6094 - mae: 159.7562 - val_loss: 193663.9062 - val_mae: 174.2554 - 24s/epoch - 53ms/step\n",
            "Epoch 241/500\n",
            "454/454 - 24s - loss: 138573.9219 - mae: 157.8913 - val_loss: 198670.3281 - val_mae: 178.0006 - 24s/epoch - 53ms/step\n",
            "Epoch 242/500\n",
            "454/454 - 24s - loss: 142365.2188 - mae: 159.7883 - val_loss: 193429.1406 - val_mae: 174.7579 - 24s/epoch - 53ms/step\n",
            "Epoch 243/500\n",
            "454/454 - 25s - loss: 141855.2344 - mae: 159.4065 - val_loss: 192910.3594 - val_mae: 175.5650 - 25s/epoch - 55ms/step\n",
            "Epoch 244/500\n",
            "454/454 - 24s - loss: 136206.0312 - mae: 157.3752 - val_loss: 193257.8594 - val_mae: 175.4688 - 24s/epoch - 53ms/step\n",
            "Epoch 245/500\n",
            "454/454 - 24s - loss: 139703.8594 - mae: 158.6064 - val_loss: 194834.0000 - val_mae: 177.0586 - 24s/epoch - 53ms/step\n",
            "Epoch 246/500\n",
            "454/454 - 24s - loss: 139731.2500 - mae: 158.3351 - val_loss: 192082.1406 - val_mae: 173.0095 - 24s/epoch - 53ms/step\n",
            "Epoch 247/500\n",
            "454/454 - 24s - loss: 139945.0312 - mae: 159.3210 - val_loss: 192028.6719 - val_mae: 174.6922 - 24s/epoch - 54ms/step\n",
            "Epoch 248/500\n",
            "454/454 - 24s - loss: 139140.9688 - mae: 158.6077 - val_loss: 198962.9688 - val_mae: 177.0676 - 24s/epoch - 54ms/step\n",
            "Epoch 249/500\n",
            "454/454 - 25s - loss: 137743.1719 - mae: 157.8336 - val_loss: 194257.0469 - val_mae: 175.8764 - 25s/epoch - 56ms/step\n",
            "Epoch 250/500\n",
            "454/454 - 24s - loss: 138889.0156 - mae: 158.1036 - val_loss: 195764.8594 - val_mae: 176.9798 - 24s/epoch - 53ms/step\n",
            "Epoch 251/500\n",
            "454/454 - 24s - loss: 137594.0312 - mae: 157.9745 - val_loss: 192163.9219 - val_mae: 174.1971 - 24s/epoch - 53ms/step\n",
            "Epoch 252/500\n",
            "454/454 - 24s - loss: 136972.3594 - mae: 157.4154 - val_loss: 194406.7344 - val_mae: 175.9692 - 24s/epoch - 53ms/step\n",
            "Epoch 253/500\n",
            "454/454 - 24s - loss: 135257.4375 - mae: 157.1324 - val_loss: 188947.6250 - val_mae: 174.4028 - 24s/epoch - 53ms/step\n",
            "Epoch 254/500\n",
            "454/454 - 24s - loss: 135309.1875 - mae: 157.4761 - val_loss: 190588.8594 - val_mae: 173.6831 - 24s/epoch - 53ms/step\n",
            "Epoch 255/500\n",
            "454/454 - 25s - loss: 138931.2344 - mae: 158.0519 - val_loss: 192702.5781 - val_mae: 174.6654 - 25s/epoch - 55ms/step\n",
            "Epoch 256/500\n",
            "454/454 - 24s - loss: 136043.3594 - mae: 157.2586 - val_loss: 188797.5938 - val_mae: 173.1735 - 24s/epoch - 53ms/step\n",
            "Epoch 257/500\n",
            "454/454 - 24s - loss: 137524.4688 - mae: 157.2473 - val_loss: 192193.9844 - val_mae: 174.5376 - 24s/epoch - 53ms/step\n",
            "Epoch 258/500\n",
            "454/454 - 24s - loss: 135604.2969 - mae: 157.5650 - val_loss: 192424.0000 - val_mae: 174.1883 - 24s/epoch - 53ms/step\n",
            "Epoch 259/500\n",
            "454/454 - 24s - loss: 134960.1406 - mae: 156.8240 - val_loss: 191143.2812 - val_mae: 172.8705 - 24s/epoch - 53ms/step\n",
            "Epoch 260/500\n",
            "454/454 - 24s - loss: 132152.5781 - mae: 155.7309 - val_loss: 192073.1406 - val_mae: 174.2011 - 24s/epoch - 53ms/step\n",
            "Epoch 261/500\n",
            "454/454 - 25s - loss: 135620.5469 - mae: 156.8202 - val_loss: 189495.7344 - val_mae: 173.0569 - 25s/epoch - 55ms/step\n",
            "Epoch 262/500\n",
            "454/454 - 24s - loss: 134705.1875 - mae: 156.5474 - val_loss: 191638.1562 - val_mae: 174.6500 - 24s/epoch - 53ms/step\n",
            "Epoch 263/500\n",
            "454/454 - 24s - loss: 135962.3438 - mae: 156.9230 - val_loss: 191310.9062 - val_mae: 172.8208 - 24s/epoch - 53ms/step\n",
            "Epoch 264/500\n",
            "454/454 - 24s - loss: 133178.8594 - mae: 155.9200 - val_loss: 190118.5156 - val_mae: 173.2784 - 24s/epoch - 53ms/step\n",
            "Epoch 265/500\n",
            "454/454 - 24s - loss: 133565.5312 - mae: 155.7316 - val_loss: 188527.5938 - val_mae: 172.7776 - 24s/epoch - 53ms/step\n",
            "Epoch 266/500\n",
            "454/454 - 24s - loss: 133506.2031 - mae: 156.1182 - val_loss: 192551.0000 - val_mae: 174.5703 - 24s/epoch - 53ms/step\n",
            "Epoch 267/500\n",
            "454/454 - 25s - loss: 132925.4062 - mae: 155.7354 - val_loss: 199952.8906 - val_mae: 177.1876 - 25s/epoch - 55ms/step\n",
            "Epoch 268/500\n",
            "454/454 - 24s - loss: 133518.8438 - mae: 156.1993 - val_loss: 192824.6406 - val_mae: 174.4298 - 24s/epoch - 53ms/step\n",
            "Epoch 269/500\n",
            "454/454 - 24s - loss: 130864.0859 - mae: 155.2718 - val_loss: 197252.3750 - val_mae: 175.7971 - 24s/epoch - 52ms/step\n",
            "Epoch 270/500\n",
            "454/454 - 24s - loss: 132239.0000 - mae: 155.9070 - val_loss: 194560.0156 - val_mae: 173.9487 - 24s/epoch - 52ms/step\n",
            "Epoch 271/500\n",
            "454/454 - 24s - loss: 134060.5938 - mae: 156.3204 - val_loss: 192644.3594 - val_mae: 174.3184 - 24s/epoch - 52ms/step\n",
            "Epoch 272/500\n",
            "454/454 - 24s - loss: 133802.3906 - mae: 156.4839 - val_loss: 189336.4062 - val_mae: 172.7372 - 24s/epoch - 52ms/step\n",
            "Epoch 273/500\n",
            "454/454 - 25s - loss: 133260.6875 - mae: 155.7765 - val_loss: 189855.9375 - val_mae: 173.8847 - 25s/epoch - 55ms/step\n",
            "Epoch 274/500\n",
            "454/454 - 24s - loss: 134066.7656 - mae: 155.7748 - val_loss: 190880.6094 - val_mae: 172.9069 - 24s/epoch - 53ms/step\n",
            "Epoch 275/500\n",
            "454/454 - 24s - loss: 130367.6328 - mae: 155.2870 - val_loss: 195988.3125 - val_mae: 175.6141 - 24s/epoch - 52ms/step\n",
            "Epoch 276/500\n",
            "454/454 - 24s - loss: 130577.2891 - mae: 154.5318 - val_loss: 194102.1094 - val_mae: 175.2745 - 24s/epoch - 52ms/step\n",
            "Epoch 277/500\n",
            "454/454 - 24s - loss: 132322.7188 - mae: 154.6968 - val_loss: 190539.5781 - val_mae: 174.6121 - 24s/epoch - 52ms/step\n",
            "Epoch 278/500\n",
            "454/454 - 24s - loss: 131850.9375 - mae: 155.1227 - val_loss: 193246.8594 - val_mae: 174.1556 - 24s/epoch - 52ms/step\n",
            "Epoch 279/500\n",
            "454/454 - 25s - loss: 133322.3281 - mae: 155.4353 - val_loss: 193742.5938 - val_mae: 173.7283 - 25s/epoch - 55ms/step\n",
            "Epoch 280/500\n",
            "454/454 - 24s - loss: 129392.4297 - mae: 154.2622 - val_loss: 190705.0000 - val_mae: 172.3478 - 24s/epoch - 53ms/step\n",
            "Epoch 281/500\n",
            "454/454 - 24s - loss: 131034.6094 - mae: 154.8935 - val_loss: 190364.0781 - val_mae: 172.9743 - 24s/epoch - 53ms/step\n",
            "Epoch 282/500\n",
            "454/454 - 24s - loss: 129801.3984 - mae: 154.7152 - val_loss: 193371.1719 - val_mae: 172.7400 - 24s/epoch - 53ms/step\n",
            "Epoch 283/500\n",
            "454/454 - 24s - loss: 130043.0391 - mae: 154.8741 - val_loss: 187566.8281 - val_mae: 170.9413 - 24s/epoch - 53ms/step\n",
            "Epoch 284/500\n",
            "454/454 - 24s - loss: 127970.9453 - mae: 153.1342 - val_loss: 190778.9531 - val_mae: 173.0606 - 24s/epoch - 52ms/step\n",
            "Epoch 285/500\n",
            "454/454 - 25s - loss: 130040.5469 - mae: 154.4501 - val_loss: 190280.1406 - val_mae: 172.1118 - 25s/epoch - 55ms/step\n",
            "Epoch 286/500\n",
            "454/454 - 24s - loss: 131609.6406 - mae: 155.1608 - val_loss: 191171.7344 - val_mae: 171.9056 - 24s/epoch - 53ms/step\n",
            "Epoch 287/500\n",
            "454/454 - 24s - loss: 128445.0547 - mae: 153.7283 - val_loss: 188926.9531 - val_mae: 171.2372 - 24s/epoch - 53ms/step\n",
            "Epoch 288/500\n",
            "454/454 - 24s - loss: 129333.1328 - mae: 154.2462 - val_loss: 187661.5469 - val_mae: 171.8128 - 24s/epoch - 52ms/step\n",
            "Epoch 289/500\n",
            "454/454 - 24s - loss: 129581.6875 - mae: 154.0414 - val_loss: 193448.7031 - val_mae: 173.8670 - 24s/epoch - 53ms/step\n",
            "Epoch 290/500\n",
            "454/454 - 24s - loss: 129053.6641 - mae: 153.9065 - val_loss: 190371.7500 - val_mae: 171.8495 - 24s/epoch - 53ms/step\n",
            "Epoch 291/500\n",
            "454/454 - 25s - loss: 127239.9062 - mae: 153.5152 - val_loss: 187412.0156 - val_mae: 172.1785 - 25s/epoch - 55ms/step\n",
            "Epoch 292/500\n",
            "454/454 - 24s - loss: 127082.7109 - mae: 153.2967 - val_loss: 203029.1406 - val_mae: 175.4433 - 24s/epoch - 52ms/step\n",
            "Epoch 293/500\n",
            "454/454 - 24s - loss: 130395.2188 - mae: 154.2416 - val_loss: 198763.0000 - val_mae: 175.8456 - 24s/epoch - 53ms/step\n",
            "Epoch 294/500\n",
            "454/454 - 24s - loss: 127724.7578 - mae: 153.7654 - val_loss: 191750.5312 - val_mae: 173.0768 - 24s/epoch - 53ms/step\n",
            "Epoch 295/500\n",
            "454/454 - 24s - loss: 128263.0469 - mae: 154.0710 - val_loss: 187938.1094 - val_mae: 171.7629 - 24s/epoch - 53ms/step\n",
            "Epoch 296/500\n",
            "454/454 - 24s - loss: 126589.4141 - mae: 153.2199 - val_loss: 191546.1875 - val_mae: 172.2280 - 24s/epoch - 53ms/step\n",
            "Epoch 297/500\n",
            "454/454 - 25s - loss: 126720.1875 - mae: 153.2181 - val_loss: 187788.7500 - val_mae: 169.2327 - 25s/epoch - 55ms/step\n",
            "Epoch 298/500\n",
            "454/454 - 24s - loss: 126325.4766 - mae: 152.9827 - val_loss: 191384.0312 - val_mae: 172.3224 - 24s/epoch - 53ms/step\n",
            "Epoch 299/500\n",
            "454/454 - 24s - loss: 127848.9375 - mae: 153.3504 - val_loss: 190600.8125 - val_mae: 171.9331 - 24s/epoch - 53ms/step\n",
            "Epoch 300/500\n",
            "454/454 - 24s - loss: 127912.1641 - mae: 152.7613 - val_loss: 184671.5156 - val_mae: 170.6973 - 24s/epoch - 53ms/step\n",
            "Epoch 301/500\n",
            "454/454 - 24s - loss: 127604.7812 - mae: 153.5119 - val_loss: 191547.6562 - val_mae: 173.1350 - 24s/epoch - 53ms/step\n",
            "Epoch 302/500\n",
            "454/454 - 24s - loss: 125431.5234 - mae: 152.4963 - val_loss: 188687.4531 - val_mae: 171.4980 - 24s/epoch - 53ms/step\n",
            "Epoch 303/500\n",
            "454/454 - 25s - loss: 124154.9297 - mae: 152.7267 - val_loss: 185963.0938 - val_mae: 170.4222 - 25s/epoch - 55ms/step\n",
            "Epoch 304/500\n",
            "454/454 - 24s - loss: 125726.9922 - mae: 152.7521 - val_loss: 190205.5625 - val_mae: 171.1271 - 24s/epoch - 53ms/step\n",
            "Epoch 305/500\n",
            "454/454 - 24s - loss: 125496.2656 - mae: 152.4232 - val_loss: 188338.7344 - val_mae: 172.2881 - 24s/epoch - 53ms/step\n",
            "Epoch 306/500\n",
            "454/454 - 24s - loss: 124613.4062 - mae: 152.0918 - val_loss: 192776.8750 - val_mae: 173.6316 - 24s/epoch - 52ms/step\n",
            "Epoch 307/500\n",
            "454/454 - 24s - loss: 123619.8438 - mae: 151.7757 - val_loss: 190663.7969 - val_mae: 171.9984 - 24s/epoch - 53ms/step\n",
            "Epoch 308/500\n",
            "454/454 - 24s - loss: 124985.6953 - mae: 152.3001 - val_loss: 191350.6094 - val_mae: 172.8576 - 24s/epoch - 53ms/step\n",
            "Epoch 309/500\n",
            "454/454 - 25s - loss: 122761.6562 - mae: 151.6861 - val_loss: 189357.6562 - val_mae: 171.2369 - 25s/epoch - 55ms/step\n",
            "Epoch 310/500\n",
            "454/454 - 24s - loss: 122177.3359 - mae: 151.4074 - val_loss: 189085.7969 - val_mae: 170.9311 - 24s/epoch - 53ms/step\n",
            "Epoch 311/500\n",
            "454/454 - 24s - loss: 124389.7500 - mae: 151.7764 - val_loss: 195278.5312 - val_mae: 173.8366 - 24s/epoch - 53ms/step\n",
            "Epoch 312/500\n",
            "454/454 - 24s - loss: 122748.3672 - mae: 151.3696 - val_loss: 196173.1094 - val_mae: 173.4089 - 24s/epoch - 53ms/step\n",
            "Epoch 313/500\n",
            "454/454 - 24s - loss: 124139.7188 - mae: 151.6133 - val_loss: 189483.2656 - val_mae: 171.8976 - 24s/epoch - 53ms/step\n",
            "Epoch 314/500\n",
            "454/454 - 24s - loss: 123017.6953 - mae: 151.0619 - val_loss: 189383.7969 - val_mae: 170.6607 - 24s/epoch - 53ms/step\n",
            "Epoch 315/500\n",
            "454/454 - 25s - loss: 124543.9062 - mae: 151.7092 - val_loss: 185196.2344 - val_mae: 169.8206 - 25s/epoch - 55ms/step\n",
            "Epoch 316/500\n",
            "454/454 - 24s - loss: 123164.6406 - mae: 151.7187 - val_loss: 191822.9062 - val_mae: 172.2172 - 24s/epoch - 53ms/step\n",
            "Epoch 317/500\n",
            "454/454 - 24s - loss: 123133.9219 - mae: 151.5984 - val_loss: 186778.9531 - val_mae: 170.8535 - 24s/epoch - 52ms/step\n",
            "Epoch 318/500\n",
            "454/454 - 24s - loss: 119869.5078 - mae: 150.1119 - val_loss: 184454.6406 - val_mae: 168.6687 - 24s/epoch - 53ms/step\n",
            "Epoch 319/500\n",
            "454/454 - 24s - loss: 124355.6406 - mae: 151.5465 - val_loss: 189283.0000 - val_mae: 171.2857 - 24s/epoch - 53ms/step\n",
            "Epoch 320/500\n",
            "454/454 - 24s - loss: 120838.4375 - mae: 150.1952 - val_loss: 189569.2031 - val_mae: 171.1360 - 24s/epoch - 53ms/step\n",
            "Epoch 321/500\n",
            "454/454 - 25s - loss: 119600.4688 - mae: 150.3300 - val_loss: 188499.9844 - val_mae: 171.1007 - 25s/epoch - 55ms/step\n",
            "Epoch 322/500\n",
            "454/454 - 24s - loss: 121349.8984 - mae: 150.9918 - val_loss: 187808.0938 - val_mae: 171.0386 - 24s/epoch - 53ms/step\n",
            "Epoch 323/500\n",
            "454/454 - 24s - loss: 120811.9062 - mae: 150.0074 - val_loss: 189442.6406 - val_mae: 171.6243 - 24s/epoch - 52ms/step\n",
            "Epoch 324/500\n",
            "454/454 - 24s - loss: 123157.9609 - mae: 150.3344 - val_loss: 191008.0469 - val_mae: 172.6775 - 24s/epoch - 53ms/step\n",
            "Epoch 325/500\n",
            "454/454 - 24s - loss: 120493.6641 - mae: 150.2285 - val_loss: 194414.9531 - val_mae: 174.5327 - 24s/epoch - 53ms/step\n",
            "Epoch 326/500\n",
            "454/454 - 24s - loss: 122871.1016 - mae: 151.0181 - val_loss: 189217.9531 - val_mae: 170.4127 - 24s/epoch - 53ms/step\n",
            "Epoch 327/500\n",
            "454/454 - 25s - loss: 124255.2734 - mae: 151.8048 - val_loss: 186878.9531 - val_mae: 171.0472 - 25s/epoch - 55ms/step\n",
            "Epoch 328/500\n",
            "454/454 - 24s - loss: 120370.7656 - mae: 149.7701 - val_loss: 188159.5156 - val_mae: 170.3864 - 24s/epoch - 53ms/step\n",
            "Epoch 329/500\n",
            "454/454 - 24s - loss: 123152.6953 - mae: 151.0306 - val_loss: 190550.3906 - val_mae: 171.7035 - 24s/epoch - 53ms/step\n",
            "Epoch 330/500\n",
            "454/454 - 24s - loss: 121956.0078 - mae: 150.5687 - val_loss: 188093.0312 - val_mae: 170.7719 - 24s/epoch - 53ms/step\n",
            "Epoch 331/500\n",
            "454/454 - 24s - loss: 121266.5156 - mae: 150.6019 - val_loss: 190830.1875 - val_mae: 171.7951 - 24s/epoch - 53ms/step\n",
            "Epoch 332/500\n",
            "454/454 - 24s - loss: 119069.2344 - mae: 149.8366 - val_loss: 196943.4531 - val_mae: 174.2211 - 24s/epoch - 53ms/step\n",
            "Epoch 333/500\n",
            "454/454 - 25s - loss: 119266.8203 - mae: 148.9778 - val_loss: 187904.9375 - val_mae: 170.3793 - 25s/epoch - 55ms/step\n",
            "Epoch 334/500\n",
            "454/454 - 24s - loss: 117674.0938 - mae: 149.6813 - val_loss: 190922.8906 - val_mae: 171.6899 - 24s/epoch - 53ms/step\n",
            "Epoch 335/500\n",
            "454/454 - 24s - loss: 119570.0078 - mae: 150.1186 - val_loss: 193607.1875 - val_mae: 173.2694 - 24s/epoch - 53ms/step\n",
            "Epoch 336/500\n",
            "454/454 - 24s - loss: 119290.5469 - mae: 149.7298 - val_loss: 191916.2031 - val_mae: 171.8709 - 24s/epoch - 53ms/step\n",
            "Epoch 337/500\n",
            "Restoring model weights from the end of the best epoch: 318.\n",
            "454/454 - 24s - loss: 119766.1172 - mae: 149.3186 - val_loss: 187406.1406 - val_mae: 170.6172 - 24s/epoch - 53ms/step\n",
            "Epoch 337: early stopping\n"
          ]
        }
      ]
    },
    {
      "cell_type": "code",
      "source": [
        "import matplotlib.pyplot as plt\n",
        "import seaborn as sns\n",
        "\n",
        "history = history.history\n",
        "\n",
        "fig, (ax1, ax2) = plt.subplots(2, 1, sharex='col', figsize=(20, 14))\n",
        "\n",
        "ax1.plot(history['loss'], label='Train loss')\n",
        "ax1.plot(history['val_loss'], label='Validation loss')\n",
        "ax1.legend(loc='best')\n",
        "ax1.set_title('Loss')\n",
        "\n",
        "ax2.plot(history['mae'], label='Train accuracy')\n",
        "ax2.plot(history['val_mae'], label='Validation accuracy')\n",
        "ax2.legend(loc='best')\n",
        "ax2.set_title('MAE')\n",
        "\n",
        "plt.xlabel('Epochs')\n",
        "sns.despine()\n",
        "plt.show()"
      ],
      "metadata": {
        "colab": {
          "base_uri": "https://localhost:8080/",
          "height": 839
        },
        "id": "e0ljxfo9rlKO",
        "outputId": "52d60ab5-162c-482e-db3e-0220ebf8c7f1"
      },
      "execution_count": 35,
      "outputs": [
        {
          "output_type": "display_data",
          "data": {
            "text/plain": [
              "<Figure size 1440x1008 with 2 Axes>"
            ],
            "image/png": "[encoded data removed]"
          },
          "metadata": {
            "needs_background": "light"
          }
        }
      ]
    },
    {
      "cell_type": "code",
      "metadata": {
        "id": "1k-BbL0yagZB",
        "outputId": "ed35b8b5-9c11-4e9c-d121-0e66093e7791",
        "colab": {
          "base_uri": "https://localhost:8080/"
        }
      },
      "source": [
        "model.evaluate(x_test, y_test)"
      ],
      "execution_count": 36,
      "outputs": [
        {
          "output_type": "stream",
          "name": "stdout",
          "text": [
            "227/227 [==============================] - 2s 8ms/step - loss: 197075.3125 - mae: 171.4315\n"
          ]
        },
        {
          "output_type": "execute_result",
          "data": {
            "text/plain": [
              "[197075.3125, 171.4314727783203]"
            ]
          },
          "metadata": {},
          "execution_count": 36
        }
      ]
    },
    {
      "cell_type": "markdown",
      "source": [
        "* baseline xgboost (10000 rounds)  : loss: 161178.1402 - mae: 192.6809\n",
        "* baseline, StandardScaler         : loss: 207838.6875 - mae: 177.4304\n",
        "* MinMaxScaler                     : loss: 188362.1406 - mae: 179.4975\n",
        "* RobustScaler                     : loss: 211240.9375 - mae: 182.4861\n",
        "* deeper network                   : loss: 212427.9375 - mae: 200.2194\n",
        "* lr=1e-4                          : loss: 214194.5156 - mae: 176.9419\n",
        "* lr=1e-5                          : loss: 231378.9062 - mae: 186.8908\n",
        "* dropout(0.1)                     : **loss: 197075.3125 - mae: 171.4315**\n",
        "* thinner model                    : \n",
        "* batchnorm ?\n"
      ],
      "metadata": {
        "id": "sxVcirAQtUZH"
      }
    },
    {
      "cell_type": "code",
      "metadata": {
        "id": "Qt0AavTfywRK"
      },
      "source": [
        ""
      ],
      "execution_count": 36,
      "outputs": []
    },
    {
      "cell_type": "markdown",
      "source": [
        "## XGBoost baseline"
      ],
      "metadata": {
        "id": "n499ursZwmvk"
      }
    },
    {
      "cell_type": "code",
      "metadata": {
        "id": "ckgI5GvGiark",
        "colab": {
          "base_uri": "https://localhost:8080/",
          "height": 35
        },
        "outputId": "41897f5b-c585-4cb4-aea7-5ae8cd4d6342"
      },
      "source": [
        "import xgboost as xgb\n",
        "xgb.__version__"
      ],
      "execution_count": 37,
      "outputs": [
        {
          "output_type": "execute_result",
          "data": {
            "text/plain": [
              "'0.90'"
            ],
            "application/vnd.google.colaboratory.intrinsic+json": {
              "type": "string"
            }
          },
          "metadata": {},
          "execution_count": 37
        }
      ]
    },
    {
      "cell_type": "code",
      "metadata": {
        "id": "6OTAArUdodB2",
        "outputId": "1f68e8e4-dd9d-4df9-e67d-1894c9c2d461",
        "colab": {
          "base_uri": "https://localhost:8080/"
        }
      },
      "source": [
        "model = xgb.XGBRegressor(random_state=seed, objective='reg:squarederror', n_estimators=100)\n",
        "model.fit(x_train, y_train, eval_set=[(x_train, y_train), (x_val, y_val)])"
      ],
      "execution_count": 38,
      "outputs": [
        {
          "output_type": "stream",
          "name": "stdout",
          "text": [
            "[0]\tvalidation_0-rmse:938.108\tvalidation_1-rmse:903.62\n",
            "[1]\tvalidation_0-rmse:891.014\tvalidation_1-rmse:856.928\n",
            "[2]\tvalidation_0-rmse:850.739\tvalidation_1-rmse:817.444\n",
            "[3]\tvalidation_0-rmse:815.907\tvalidation_1-rmse:783.561\n",
            "[4]\tvalidation_0-rmse:786.571\tvalidation_1-rmse:755.042\n",
            "[5]\tvalidation_0-rmse:761.207\tvalidation_1-rmse:731.676\n",
            "[6]\tvalidation_0-rmse:739.202\tvalidation_1-rmse:710.016\n",
            "[7]\tvalidation_0-rmse:720.61\tvalidation_1-rmse:692.997\n",
            "[8]\tvalidation_0-rmse:703.945\tvalidation_1-rmse:676.859\n",
            "[9]\tvalidation_0-rmse:689.64\tvalidation_1-rmse:663.965\n",
            "[10]\tvalidation_0-rmse:674.427\tvalidation_1-rmse:648.705\n",
            "[11]\tvalidation_0-rmse:663.102\tvalidation_1-rmse:638.726\n",
            "[12]\tvalidation_0-rmse:652.489\tvalidation_1-rmse:628.243\n",
            "[13]\tvalidation_0-rmse:642.451\tvalidation_1-rmse:617.972\n",
            "[14]\tvalidation_0-rmse:634.228\tvalidation_1-rmse:610.613\n",
            "[15]\tvalidation_0-rmse:626.408\tvalidation_1-rmse:602.699\n",
            "[16]\tvalidation_0-rmse:618.85\tvalidation_1-rmse:595.175\n",
            "[17]\tvalidation_0-rmse:612.955\tvalidation_1-rmse:589.828\n",
            "[18]\tvalidation_0-rmse:607.49\tvalidation_1-rmse:584.411\n",
            "[19]\tvalidation_0-rmse:601.985\tvalidation_1-rmse:579.631\n",
            "[20]\tvalidation_0-rmse:597.759\tvalidation_1-rmse:575.954\n",
            "[21]\tvalidation_0-rmse:593.044\tvalidation_1-rmse:572.114\n",
            "[22]\tvalidation_0-rmse:589.265\tvalidation_1-rmse:568.93\n",
            "[23]\tvalidation_0-rmse:585.579\tvalidation_1-rmse:565.671\n",
            "[24]\tvalidation_0-rmse:581.941\tvalidation_1-rmse:562.547\n",
            "[25]\tvalidation_0-rmse:579.143\tvalidation_1-rmse:561.186\n",
            "[26]\tvalidation_0-rmse:576.968\tvalidation_1-rmse:559.148\n",
            "[27]\tvalidation_0-rmse:574.695\tvalidation_1-rmse:558.21\n",
            "[28]\tvalidation_0-rmse:572.019\tvalidation_1-rmse:555.376\n",
            "[29]\tvalidation_0-rmse:569.616\tvalidation_1-rmse:553.722\n",
            "[30]\tvalidation_0-rmse:567.835\tvalidation_1-rmse:553.043\n",
            "[31]\tvalidation_0-rmse:565.135\tvalidation_1-rmse:550.367\n",
            "[32]\tvalidation_0-rmse:563.136\tvalidation_1-rmse:549.093\n",
            "[33]\tvalidation_0-rmse:561.369\tvalidation_1-rmse:547.902\n",
            "[34]\tvalidation_0-rmse:559.76\tvalidation_1-rmse:546.755\n",
            "[35]\tvalidation_0-rmse:558.237\tvalidation_1-rmse:545.701\n",
            "[36]\tvalidation_0-rmse:556.462\tvalidation_1-rmse:544.434\n",
            "[37]\tvalidation_0-rmse:554.964\tvalidation_1-rmse:543.391\n",
            "[38]\tvalidation_0-rmse:553.538\tvalidation_1-rmse:541.862\n",
            "[39]\tvalidation_0-rmse:551.733\tvalidation_1-rmse:539.91\n",
            "[40]\tvalidation_0-rmse:550.388\tvalidation_1-rmse:539.753\n",
            "[41]\tvalidation_0-rmse:548.988\tvalidation_1-rmse:538.985\n",
            "[42]\tvalidation_0-rmse:547.918\tvalidation_1-rmse:538.224\n",
            "[43]\tvalidation_0-rmse:546.614\tvalidation_1-rmse:537.282\n",
            "[44]\tvalidation_0-rmse:544.614\tvalidation_1-rmse:536.027\n",
            "[45]\tvalidation_0-rmse:543.246\tvalidation_1-rmse:534.912\n",
            "[46]\tvalidation_0-rmse:542.483\tvalidation_1-rmse:534.451\n",
            "[47]\tvalidation_0-rmse:541.517\tvalidation_1-rmse:533.489\n",
            "[48]\tvalidation_0-rmse:540.575\tvalidation_1-rmse:532.861\n",
            "[49]\tvalidation_0-rmse:539.77\tvalidation_1-rmse:532.218\n",
            "[50]\tvalidation_0-rmse:538.902\tvalidation_1-rmse:531.645\n",
            "[51]\tvalidation_0-rmse:537.723\tvalidation_1-rmse:529.987\n",
            "[52]\tvalidation_0-rmse:536.929\tvalidation_1-rmse:529.557\n",
            "[53]\tvalidation_0-rmse:535.883\tvalidation_1-rmse:529.091\n",
            "[54]\tvalidation_0-rmse:534.837\tvalidation_1-rmse:528.589\n",
            "[55]\tvalidation_0-rmse:533.59\tvalidation_1-rmse:527.882\n",
            "[56]\tvalidation_0-rmse:532.333\tvalidation_1-rmse:526.551\n",
            "[57]\tvalidation_0-rmse:531.132\tvalidation_1-rmse:525.238\n",
            "[58]\tvalidation_0-rmse:529.848\tvalidation_1-rmse:524.207\n",
            "[59]\tvalidation_0-rmse:529.195\tvalidation_1-rmse:523.635\n",
            "[60]\tvalidation_0-rmse:528.265\tvalidation_1-rmse:523.112\n",
            "[61]\tvalidation_0-rmse:527.837\tvalidation_1-rmse:522.646\n",
            "[62]\tvalidation_0-rmse:527.355\tvalidation_1-rmse:521.96\n",
            "[63]\tvalidation_0-rmse:526.61\tvalidation_1-rmse:520.966\n",
            "[64]\tvalidation_0-rmse:524.986\tvalidation_1-rmse:519.52\n",
            "[65]\tvalidation_0-rmse:524.148\tvalidation_1-rmse:518.77\n",
            "[66]\tvalidation_0-rmse:522.641\tvalidation_1-rmse:517.071\n",
            "[67]\tvalidation_0-rmse:521.785\tvalidation_1-rmse:515.98\n",
            "[68]\tvalidation_0-rmse:520.849\tvalidation_1-rmse:515.31\n",
            "[69]\tvalidation_0-rmse:520.223\tvalidation_1-rmse:514.922\n",
            "[70]\tvalidation_0-rmse:519.547\tvalidation_1-rmse:514.493\n",
            "[71]\tvalidation_0-rmse:518.315\tvalidation_1-rmse:513.23\n",
            "[72]\tvalidation_0-rmse:517.96\tvalidation_1-rmse:512.946\n",
            "[73]\tvalidation_0-rmse:517.199\tvalidation_1-rmse:512.436\n",
            "[74]\tvalidation_0-rmse:516.451\tvalidation_1-rmse:512.26\n",
            "[75]\tvalidation_0-rmse:515.962\tvalidation_1-rmse:511.75\n",
            "[76]\tvalidation_0-rmse:514.883\tvalidation_1-rmse:511.306\n",
            "[77]\tvalidation_0-rmse:513.694\tvalidation_1-rmse:509.875\n",
            "[78]\tvalidation_0-rmse:513.15\tvalidation_1-rmse:509.327\n",
            "[79]\tvalidation_0-rmse:512.123\tvalidation_1-rmse:508.143\n",
            "[80]\tvalidation_0-rmse:511.575\tvalidation_1-rmse:507.825\n",
            "[81]\tvalidation_0-rmse:510.841\tvalidation_1-rmse:507.417\n",
            "[82]\tvalidation_0-rmse:510.507\tvalidation_1-rmse:506.888\n",
            "[83]\tvalidation_0-rmse:509.523\tvalidation_1-rmse:505.589\n",
            "[84]\tvalidation_0-rmse:508.65\tvalidation_1-rmse:505.011\n",
            "[85]\tvalidation_0-rmse:507.875\tvalidation_1-rmse:504.004\n",
            "[86]\tvalidation_0-rmse:506.601\tvalidation_1-rmse:502.965\n",
            "[87]\tvalidation_0-rmse:506.144\tvalidation_1-rmse:502.75\n",
            "[88]\tvalidation_0-rmse:505.607\tvalidation_1-rmse:502.552\n",
            "[89]\tvalidation_0-rmse:505.035\tvalidation_1-rmse:502.335\n",
            "[90]\tvalidation_0-rmse:504.504\tvalidation_1-rmse:502.049\n",
            "[91]\tvalidation_0-rmse:504.222\tvalidation_1-rmse:501.822\n",
            "[92]\tvalidation_0-rmse:503.635\tvalidation_1-rmse:501.2\n",
            "[93]\tvalidation_0-rmse:502.811\tvalidation_1-rmse:500.45\n",
            "[94]\tvalidation_0-rmse:502.289\tvalidation_1-rmse:500.11\n",
            "[95]\tvalidation_0-rmse:501.547\tvalidation_1-rmse:499.775\n",
            "[96]\tvalidation_0-rmse:501.149\tvalidation_1-rmse:499.72\n",
            "[97]\tvalidation_0-rmse:500.794\tvalidation_1-rmse:499.67\n",
            "[98]\tvalidation_0-rmse:499.649\tvalidation_1-rmse:499.142\n",
            "[99]\tvalidation_0-rmse:498.967\tvalidation_1-rmse:498.955\n"
          ]
        },
        {
          "output_type": "execute_result",
          "data": {
            "text/plain": [
              "XGBRegressor(objective='reg:squarederror', random_state=53)"
            ]
          },
          "metadata": {},
          "execution_count": 38
        }
      ]
    },
    {
      "cell_type": "code",
      "metadata": {
        "id": "Sh6dkW7oIY2M",
        "outputId": "8eee9ec9-d238-44d8-ce3f-aacadfe0da42",
        "colab": {
          "base_uri": "https://localhost:8080/"
        }
      },
      "source": [
        "from sklearn.metrics import mean_absolute_error, mean_squared_error\n",
        "y_pred = model.predict(x_test)\n",
        "print(mean_squared_error(y_test, y_pred))\n",
        "print(mean_absolute_error(y_test, y_pred))"
      ],
      "execution_count": 39,
      "outputs": [
        {
          "output_type": "stream",
          "name": "stdout",
          "text": [
            "227004.07504237202\n",
            "218.67484877978413\n"
          ]
        }
      ]
    },
    {
      "cell_type": "code",
      "metadata": {
        "id": "7HdfsdwfPxyO"
      },
      "source": [
        ""
      ],
      "execution_count": 39,
      "outputs": []
    },
    {
      "cell_type": "code",
      "metadata": {
        "id": "BlYLE6Z_cbbt"
      },
      "source": [
        ""
      ],
      "execution_count": 39,
      "outputs": []
    },
    {
      "cell_type": "code",
      "metadata": {
        "id": "z3ZlbMHDQiC3"
      },
      "source": [
        ""
      ],
      "execution_count": 39,
      "outputs": []
    },
    {
      "cell_type": "code",
      "metadata": {
        "id": "y91nFMGLZDso"
      },
      "source": [
        ""
      ],
      "execution_count": 39,
      "outputs": []
    },
    {
      "cell_type": "code",
      "metadata": {
        "id": "nXkL6VyyZK7Q"
      },
      "source": [
        ""
      ],
      "execution_count": 39,
      "outputs": []
    },
    {
      "cell_type": "code",
      "metadata": {
        "id": "p5auyBtbZQDO"
      },
      "source": [
        ""
      ],
      "execution_count": 39,
      "outputs": []
    },
    {
      "cell_type": "code",
      "metadata": {
        "id": "x4E-_fqLZRad"
      },
      "source": [
        ""
      ],
      "execution_count": 39,
      "outputs": []
    },
    {
      "cell_type": "code",
      "metadata": {
        "id": "G-67u1fjsrxq"
      },
      "source": [
        ""
      ],
      "execution_count": 39,
      "outputs": []
    }
  ]
}