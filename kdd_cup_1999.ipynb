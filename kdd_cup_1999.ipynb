{
  "nbformat": 4,
  "nbformat_minor": 0,
  "metadata": {
    "colab": {
      "name": "kdd_cup_1999.ipynb",
      "provenance": [],
      "machine_shape": "hm",
      "authorship_tag": "ABX9TyNGSZw8pyKEAhOH1fK91QvM",
      "include_colab_link": true
    },
    "kernelspec": {
      "name": "python3",
      "display_name": "Python 3"
    },
    "accelerator": "GPU"
  },
  "cells": [
    {
      "cell_type": "markdown",
      "metadata": {
        "id": "view-in-github",
        "colab_type": "text"
      },
      "source": [
        "<a href=\"https://colab.research.google.com/github/dcpatton/Structured-Data/blob/main/kdd_cup_1999.ipynb\" target=\"_parent\"><img src=\"https://colab.research.google.com/assets/colab-badge.svg\" alt=\"Open In Colab\"/></a>"
      ]
    },
    {
      "cell_type": "markdown",
      "metadata": {
        "id": "-skxHJ4fBBV3"
      },
      "source": [
        "# Objective\n",
        "\n",
        "Below is an exploration of a computer network intrusion detection dataset (https://www.kdd.org/kdd-cup/view/kdd-cup-1999). I will first approach it as a multiple classification problem (identifying 23 different methods) and then approach it as a binary classification (identifying normal network use and abnormal use). There is a large class imbalance in the dataset, but this is improved in the binary case."
      ]
    },
    {
      "cell_type": "code",
      "metadata": {
        "id": "fRnI8CcxXBnS",
        "outputId": "6d52414e-100e-427b-bf91-58a4d3ec6f96",
        "colab": {
          "base_uri": "https://localhost:8080/",
          "height": 35
        }
      },
      "source": [
        "import tensorflow as tf\n",
        "import pandas as pd\n",
        "import random\n",
        "\n",
        "import warnings\n",
        "warnings.filterwarnings(\"ignore\")\n",
        "tf.get_logger().setLevel('ERROR')\n",
        "\n",
        "seed = 52\n",
        "random.seed(seed)\n",
        "tf.random.set_seed(seed)\n",
        "\n",
        "tf.__version__"
      ],
      "execution_count": 1,
      "outputs": [
        {
          "output_type": "execute_result",
          "data": {
            "application/vnd.google.colaboratory.intrinsic+json": {
              "type": "string"
            },
            "text/plain": [
              "'2.3.0'"
            ]
          },
          "metadata": {
            "tags": []
          },
          "execution_count": 1
        }
      ]
    },
    {
      "cell_type": "code",
      "metadata": {
        "id": "PdM1SfDHXeg7",
        "outputId": "af7d311b-b613-4fde-e661-b013e9938b6e",
        "colab": {
          "resources": {
            "http://localhost:8080/nbextensions/google.colab/files.js": {
              "data": "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",
              "ok": true,
              "headers": [
                [
                  "content-type",
                  "application/javascript"
                ]
              ],
              "status": 200,
              "status_text": ""
            }
          },
          "base_uri": "https://localhost:8080/",
          "height": 72
        }
      },
      "source": [
        "from google.colab import files\n",
        "uploaded = files.upload()"
      ],
      "execution_count": 2,
      "outputs": [
        {
          "output_type": "display_data",
          "data": {
            "text/html": [
              "\n",
              "     <input type=\"file\" id=\"files-0a05221d-9a2e-4500-ad18-eada2ccd9e8c\" name=\"files[]\" multiple disabled\n",
              "        style=\"border:none\" />\n",
              "     <output id=\"result-0a05221d-9a2e-4500-ad18-eada2ccd9e8c\">\n",
              "      Upload widget is only available when the cell has been executed in the\n",
              "      current browser session. Please rerun this cell to enable.\n",
              "      </output>\n",
              "      <script src=\"/nbextensions/google.colab/files.js\"></script> "
            ],
            "text/plain": [
              "<IPython.core.display.HTML object>"
            ]
          },
          "metadata": {
            "tags": []
          }
        },
        {
          "output_type": "stream",
          "text": [
            "Saving kaggle.json to kaggle.json\n"
          ],
          "name": "stdout"
        }
      ]
    },
    {
      "cell_type": "code",
      "metadata": {
        "id": "1K8lq13PXn-V"
      },
      "source": [
        "!mkdir -p ~/.kaggle\n",
        "!cp kaggle.json ~/.kaggle/\n",
        "!chmod 600 /root/.kaggle/kaggle.json"
      ],
      "execution_count": 3,
      "outputs": []
    },
    {
      "cell_type": "code",
      "metadata": {
        "id": "aRLweGj2Xsok",
        "outputId": "a38358f8-70fc-4a58-975b-b8ca79a51041",
        "colab": {
          "base_uri": "https://localhost:8080/",
          "height": 68
        }
      },
      "source": [
        "# !kaggle datasets list -s KDD\n",
        "# !kaggle datasets download -d galaxyh/kdd-cup-1999-data -f corrected.gz\n",
        "!kaggle datasets download -d galaxyh/kdd-cup-1999-data"
      ],
      "execution_count": 4,
      "outputs": [
        {
          "output_type": "stream",
          "text": [
            "Downloading kdd-cup-1999-data.zip to /content\n",
            " 92% 81.0M/87.8M [00:01<00:00, 47.4MB/s]\n",
            "100% 87.8M/87.8M [00:01<00:00, 69.9MB/s]\n"
          ],
          "name": "stdout"
        }
      ]
    },
    {
      "cell_type": "code",
      "metadata": {
        "id": "5INH8bfeZv1e",
        "outputId": "4d2b84ab-55e4-428d-b84b-c7533624f57d",
        "colab": {
          "base_uri": "https://localhost:8080/",
          "height": 323
        }
      },
      "source": [
        "!unzip kdd-cup-1999-data.zip"
      ],
      "execution_count": 5,
      "outputs": [
        {
          "output_type": "stream",
          "text": [
            "Archive:  kdd-cup-1999-data.zip\n",
            "  inflating: corrected.gz            \n",
            "  inflating: corrected/corrected     \n",
            "  inflating: kddcup.data.corrected   \n",
            "  inflating: kddcup.data.gz          \n",
            "  inflating: kddcup.data/kddcup.data  \n",
            "  inflating: kddcup.data_10_percent.gz  \n",
            "  inflating: kddcup.data_10_percent/kddcup.data_10_percent  \n",
            "  inflating: kddcup.data_10_percent_corrected  \n",
            "  inflating: kddcup.names            \n",
            "  inflating: kddcup.newtestdata_10_percent_unlabeled.gz  \n",
            "  inflating: kddcup.newtestdata_10_percent_unlabeled/kddcup.newtestdata_10_percent_unlabeled  \n",
            "  inflating: kddcup.testdata.unlabeled.gz  \n",
            "  inflating: kddcup.testdata.unlabeled/kddcup.testdata.unlabeled  \n",
            "  inflating: kddcup.testdata.unlabeled_10_percent.gz  \n",
            "  inflating: kddcup.testdata.unlabeled_10_percent/kddcup.testdata.unlabeled_10_percent  \n",
            "  inflating: training_attack_types   \n",
            "  inflating: typo-correction.txt     \n"
          ],
          "name": "stdout"
        }
      ]
    },
    {
      "cell_type": "code",
      "metadata": {
        "id": "2vGclLHzY9f5"
      },
      "source": [
        "data_df = pd.read_csv('kddcup.data.corrected', header=None)\n",
        "data_df.columns = [\n",
        "    'duration',\n",
        "    'protocol_type',\n",
        "    'service',\n",
        "    'flag',\n",
        "    'src_bytes',\n",
        "    'dst_bytes',\n",
        "    'land',\n",
        "    'wrong_fragment',\n",
        "    'urgent',\n",
        "    'hot',\n",
        "    'num_failed_logins',\n",
        "    'logged_in',\n",
        "    'num_compromised',\n",
        "    'root_shell',\n",
        "    'su_attempted',\n",
        "    'num_root',\n",
        "    'num_file_creations',\n",
        "    'num_shells',\n",
        "    'num_access_files',\n",
        "    'num_outbound_cmds',\n",
        "    'is_host_login',\n",
        "    'is_guest_login',\n",
        "    'count',\n",
        "    'srv_count',\n",
        "    'serror_rate',\n",
        "    'srv_serror_rate',\n",
        "    'rerror_rate',\n",
        "    'srv_rerror_rate',\n",
        "    'same_srv_rate',\n",
        "    'diff_srv_rate',\n",
        "    'srv_diff_host_rate',\n",
        "    'dst_host_count',\n",
        "    'dst_host_srv_count',\n",
        "    'dst_host_same_srv_rate',\n",
        "    'dst_host_diff_srv_rate',\n",
        "    'dst_host_same_src_port_rate',\n",
        "    'dst_host_srv_diff_host_rate',\n",
        "    'dst_host_serror_rate',\n",
        "    'dst_host_srv_serror_rate',\n",
        "    'dst_host_rerror_rate',\n",
        "    'dst_host_srv_rerror_rate',\n",
        "    'outcome'\n",
        "]"
      ],
      "execution_count": 6,
      "outputs": []
    },
    {
      "cell_type": "code",
      "metadata": {
        "id": "HxOBE1Cxbj9_",
        "outputId": "6dcb5d4c-4e3a-4f40-ff86-7c515c0e1172",
        "colab": {
          "base_uri": "https://localhost:8080/",
          "height": 224
        }
      },
      "source": [
        "data_df.head()"
      ],
      "execution_count": 7,
      "outputs": [
        {
          "output_type": "execute_result",
          "data": {
            "text/html": [
              "<div>\n",
              "<style scoped>\n",
              "    .dataframe tbody tr th:only-of-type {\n",
              "        vertical-align: middle;\n",
              "    }\n",
              "\n",
              "    .dataframe tbody tr th {\n",
              "        vertical-align: top;\n",
              "    }\n",
              "\n",
              "    .dataframe thead th {\n",
              "        text-align: right;\n",
              "    }\n",
              "</style>\n",
              "<table border=\"1\" class=\"dataframe\">\n",
              "  <thead>\n",
              "    <tr style=\"text-align: right;\">\n",
              "      <th></th>\n",
              "      <th>duration</th>\n",
              "      <th>protocol_type</th>\n",
              "      <th>service</th>\n",
              "      <th>flag</th>\n",
              "      <th>src_bytes</th>\n",
              "      <th>dst_bytes</th>\n",
              "      <th>land</th>\n",
              "      <th>wrong_fragment</th>\n",
              "      <th>urgent</th>\n",
              "      <th>hot</th>\n",
              "      <th>num_failed_logins</th>\n",
              "      <th>logged_in</th>\n",
              "      <th>num_compromised</th>\n",
              "      <th>root_shell</th>\n",
              "      <th>su_attempted</th>\n",
              "      <th>num_root</th>\n",
              "      <th>num_file_creations</th>\n",
              "      <th>num_shells</th>\n",
              "      <th>num_access_files</th>\n",
              "      <th>num_outbound_cmds</th>\n",
              "      <th>is_host_login</th>\n",
              "      <th>is_guest_login</th>\n",
              "      <th>count</th>\n",
              "      <th>srv_count</th>\n",
              "      <th>serror_rate</th>\n",
              "      <th>srv_serror_rate</th>\n",
              "      <th>rerror_rate</th>\n",
              "      <th>srv_rerror_rate</th>\n",
              "      <th>same_srv_rate</th>\n",
              "      <th>diff_srv_rate</th>\n",
              "      <th>srv_diff_host_rate</th>\n",
              "      <th>dst_host_count</th>\n",
              "      <th>dst_host_srv_count</th>\n",
              "      <th>dst_host_same_srv_rate</th>\n",
              "      <th>dst_host_diff_srv_rate</th>\n",
              "      <th>dst_host_same_src_port_rate</th>\n",
              "      <th>dst_host_srv_diff_host_rate</th>\n",
              "      <th>dst_host_serror_rate</th>\n",
              "      <th>dst_host_srv_serror_rate</th>\n",
              "      <th>dst_host_rerror_rate</th>\n",
              "      <th>dst_host_srv_rerror_rate</th>\n",
              "      <th>outcome</th>\n",
              "    </tr>\n",
              "  </thead>\n",
              "  <tbody>\n",
              "    <tr>\n",
              "      <th>0</th>\n",
              "      <td>0</td>\n",
              "      <td>tcp</td>\n",
              "      <td>http</td>\n",
              "      <td>SF</td>\n",
              "      <td>215</td>\n",
              "      <td>45076</td>\n",
              "      <td>0</td>\n",
              "      <td>0</td>\n",
              "      <td>0</td>\n",
              "      <td>0</td>\n",
              "      <td>0</td>\n",
              "      <td>1</td>\n",
              "      <td>0</td>\n",
              "      <td>0</td>\n",
              "      <td>0</td>\n",
              "      <td>0</td>\n",
              "      <td>0</td>\n",
              "      <td>0</td>\n",
              "      <td>0</td>\n",
              "      <td>0</td>\n",
              "      <td>0</td>\n",
              "      <td>0</td>\n",
              "      <td>1</td>\n",
              "      <td>1</td>\n",
              "      <td>0.0</td>\n",
              "      <td>0.0</td>\n",
              "      <td>0.0</td>\n",
              "      <td>0.0</td>\n",
              "      <td>1.0</td>\n",
              "      <td>0.0</td>\n",
              "      <td>0.0</td>\n",
              "      <td>0</td>\n",
              "      <td>0</td>\n",
              "      <td>0.0</td>\n",
              "      <td>0.0</td>\n",
              "      <td>0.00</td>\n",
              "      <td>0.0</td>\n",
              "      <td>0.0</td>\n",
              "      <td>0.0</td>\n",
              "      <td>0.0</td>\n",
              "      <td>0.0</td>\n",
              "      <td>normal.</td>\n",
              "    </tr>\n",
              "    <tr>\n",
              "      <th>1</th>\n",
              "      <td>0</td>\n",
              "      <td>tcp</td>\n",
              "      <td>http</td>\n",
              "      <td>SF</td>\n",
              "      <td>162</td>\n",
              "      <td>4528</td>\n",
              "      <td>0</td>\n",
              "      <td>0</td>\n",
              "      <td>0</td>\n",
              "      <td>0</td>\n",
              "      <td>0</td>\n",
              "      <td>1</td>\n",
              "      <td>0</td>\n",
              "      <td>0</td>\n",
              "      <td>0</td>\n",
              "      <td>0</td>\n",
              "      <td>0</td>\n",
              "      <td>0</td>\n",
              "      <td>0</td>\n",
              "      <td>0</td>\n",
              "      <td>0</td>\n",
              "      <td>0</td>\n",
              "      <td>2</td>\n",
              "      <td>2</td>\n",
              "      <td>0.0</td>\n",
              "      <td>0.0</td>\n",
              "      <td>0.0</td>\n",
              "      <td>0.0</td>\n",
              "      <td>1.0</td>\n",
              "      <td>0.0</td>\n",
              "      <td>0.0</td>\n",
              "      <td>1</td>\n",
              "      <td>1</td>\n",
              "      <td>1.0</td>\n",
              "      <td>0.0</td>\n",
              "      <td>1.00</td>\n",
              "      <td>0.0</td>\n",
              "      <td>0.0</td>\n",
              "      <td>0.0</td>\n",
              "      <td>0.0</td>\n",
              "      <td>0.0</td>\n",
              "      <td>normal.</td>\n",
              "    </tr>\n",
              "    <tr>\n",
              "      <th>2</th>\n",
              "      <td>0</td>\n",
              "      <td>tcp</td>\n",
              "      <td>http</td>\n",
              "      <td>SF</td>\n",
              "      <td>236</td>\n",
              "      <td>1228</td>\n",
              "      <td>0</td>\n",
              "      <td>0</td>\n",
              "      <td>0</td>\n",
              "      <td>0</td>\n",
              "      <td>0</td>\n",
              "      <td>1</td>\n",
              "      <td>0</td>\n",
              "      <td>0</td>\n",
              "      <td>0</td>\n",
              "      <td>0</td>\n",
              "      <td>0</td>\n",
              "      <td>0</td>\n",
              "      <td>0</td>\n",
              "      <td>0</td>\n",
              "      <td>0</td>\n",
              "      <td>0</td>\n",
              "      <td>1</td>\n",
              "      <td>1</td>\n",
              "      <td>0.0</td>\n",
              "      <td>0.0</td>\n",
              "      <td>0.0</td>\n",
              "      <td>0.0</td>\n",
              "      <td>1.0</td>\n",
              "      <td>0.0</td>\n",
              "      <td>0.0</td>\n",
              "      <td>2</td>\n",
              "      <td>2</td>\n",
              "      <td>1.0</td>\n",
              "      <td>0.0</td>\n",
              "      <td>0.50</td>\n",
              "      <td>0.0</td>\n",
              "      <td>0.0</td>\n",
              "      <td>0.0</td>\n",
              "      <td>0.0</td>\n",
              "      <td>0.0</td>\n",
              "      <td>normal.</td>\n",
              "    </tr>\n",
              "    <tr>\n",
              "      <th>3</th>\n",
              "      <td>0</td>\n",
              "      <td>tcp</td>\n",
              "      <td>http</td>\n",
              "      <td>SF</td>\n",
              "      <td>233</td>\n",
              "      <td>2032</td>\n",
              "      <td>0</td>\n",
              "      <td>0</td>\n",
              "      <td>0</td>\n",
              "      <td>0</td>\n",
              "      <td>0</td>\n",
              "      <td>1</td>\n",
              "      <td>0</td>\n",
              "      <td>0</td>\n",
              "      <td>0</td>\n",
              "      <td>0</td>\n",
              "      <td>0</td>\n",
              "      <td>0</td>\n",
              "      <td>0</td>\n",
              "      <td>0</td>\n",
              "      <td>0</td>\n",
              "      <td>0</td>\n",
              "      <td>2</td>\n",
              "      <td>2</td>\n",
              "      <td>0.0</td>\n",
              "      <td>0.0</td>\n",
              "      <td>0.0</td>\n",
              "      <td>0.0</td>\n",
              "      <td>1.0</td>\n",
              "      <td>0.0</td>\n",
              "      <td>0.0</td>\n",
              "      <td>3</td>\n",
              "      <td>3</td>\n",
              "      <td>1.0</td>\n",
              "      <td>0.0</td>\n",
              "      <td>0.33</td>\n",
              "      <td>0.0</td>\n",
              "      <td>0.0</td>\n",
              "      <td>0.0</td>\n",
              "      <td>0.0</td>\n",
              "      <td>0.0</td>\n",
              "      <td>normal.</td>\n",
              "    </tr>\n",
              "    <tr>\n",
              "      <th>4</th>\n",
              "      <td>0</td>\n",
              "      <td>tcp</td>\n",
              "      <td>http</td>\n",
              "      <td>SF</td>\n",
              "      <td>239</td>\n",
              "      <td>486</td>\n",
              "      <td>0</td>\n",
              "      <td>0</td>\n",
              "      <td>0</td>\n",
              "      <td>0</td>\n",
              "      <td>0</td>\n",
              "      <td>1</td>\n",
              "      <td>0</td>\n",
              "      <td>0</td>\n",
              "      <td>0</td>\n",
              "      <td>0</td>\n",
              "      <td>0</td>\n",
              "      <td>0</td>\n",
              "      <td>0</td>\n",
              "      <td>0</td>\n",
              "      <td>0</td>\n",
              "      <td>0</td>\n",
              "      <td>3</td>\n",
              "      <td>3</td>\n",
              "      <td>0.0</td>\n",
              "      <td>0.0</td>\n",
              "      <td>0.0</td>\n",
              "      <td>0.0</td>\n",
              "      <td>1.0</td>\n",
              "      <td>0.0</td>\n",
              "      <td>0.0</td>\n",
              "      <td>4</td>\n",
              "      <td>4</td>\n",
              "      <td>1.0</td>\n",
              "      <td>0.0</td>\n",
              "      <td>0.25</td>\n",
              "      <td>0.0</td>\n",
              "      <td>0.0</td>\n",
              "      <td>0.0</td>\n",
              "      <td>0.0</td>\n",
              "      <td>0.0</td>\n",
              "      <td>normal.</td>\n",
              "    </tr>\n",
              "  </tbody>\n",
              "</table>\n",
              "</div>"
            ],
            "text/plain": [
              "   duration protocol_type  ... dst_host_srv_rerror_rate  outcome\n",
              "0         0           tcp  ...                      0.0  normal.\n",
              "1         0           tcp  ...                      0.0  normal.\n",
              "2         0           tcp  ...                      0.0  normal.\n",
              "3         0           tcp  ...                      0.0  normal.\n",
              "4         0           tcp  ...                      0.0  normal.\n",
              "\n",
              "[5 rows x 42 columns]"
            ]
          },
          "metadata": {
            "tags": []
          },
          "execution_count": 7
        }
      ]
    },
    {
      "cell_type": "code",
      "metadata": {
        "id": "VIUW196PbrK8",
        "outputId": "731771e2-9f4f-41b9-f131-c48e08edc92b",
        "colab": {
          "base_uri": "https://localhost:8080/",
          "height": 425
        }
      },
      "source": [
        "data_df.outcome.value_counts()"
      ],
      "execution_count": 8,
      "outputs": [
        {
          "output_type": "execute_result",
          "data": {
            "text/plain": [
              "smurf.              2807886\n",
              "neptune.            1072017\n",
              "normal.              972781\n",
              "satan.                15892\n",
              "ipsweep.              12481\n",
              "portsweep.            10413\n",
              "nmap.                  2316\n",
              "back.                  2203\n",
              "warezclient.           1020\n",
              "teardrop.               979\n",
              "pod.                    264\n",
              "guess_passwd.            53\n",
              "buffer_overflow.         30\n",
              "land.                    21\n",
              "warezmaster.             20\n",
              "imap.                    12\n",
              "rootkit.                 10\n",
              "loadmodule.               9\n",
              "ftp_write.                8\n",
              "multihop.                 7\n",
              "phf.                      4\n",
              "perl.                     3\n",
              "spy.                      2\n",
              "Name: outcome, dtype: int64"
            ]
          },
          "metadata": {
            "tags": []
          },
          "execution_count": 8
        }
      ]
    },
    {
      "cell_type": "code",
      "metadata": {
        "id": "E51USQg8BU5P"
      },
      "source": [
        "from sklearn.preprocessing import LabelEncoder\n",
        "label_encoder = LabelEncoder()\n",
        "data_df[['outcome']] = label_encoder.fit_transform(data_df[['outcome']])"
      ],
      "execution_count": 9,
      "outputs": []
    },
    {
      "cell_type": "code",
      "metadata": {
        "id": "G1EV4xwmb76X",
        "outputId": "6f0015dd-b48e-41fb-d3e8-7594ca6d49bc",
        "colab": {
          "base_uri": "https://localhost:8080/",
          "height": 850
        }
      },
      "source": [
        "data_df.info()"
      ],
      "execution_count": 10,
      "outputs": [
        {
          "output_type": "stream",
          "text": [
            "<class 'pandas.core.frame.DataFrame'>\n",
            "RangeIndex: 4898431 entries, 0 to 4898430\n",
            "Data columns (total 42 columns):\n",
            " #   Column                       Dtype  \n",
            "---  ------                       -----  \n",
            " 0   duration                     int64  \n",
            " 1   protocol_type                object \n",
            " 2   service                      object \n",
            " 3   flag                         object \n",
            " 4   src_bytes                    int64  \n",
            " 5   dst_bytes                    int64  \n",
            " 6   land                         int64  \n",
            " 7   wrong_fragment               int64  \n",
            " 8   urgent                       int64  \n",
            " 9   hot                          int64  \n",
            " 10  num_failed_logins            int64  \n",
            " 11  logged_in                    int64  \n",
            " 12  num_compromised              int64  \n",
            " 13  root_shell                   int64  \n",
            " 14  su_attempted                 int64  \n",
            " 15  num_root                     int64  \n",
            " 16  num_file_creations           int64  \n",
            " 17  num_shells                   int64  \n",
            " 18  num_access_files             int64  \n",
            " 19  num_outbound_cmds            int64  \n",
            " 20  is_host_login                int64  \n",
            " 21  is_guest_login               int64  \n",
            " 22  count                        int64  \n",
            " 23  srv_count                    int64  \n",
            " 24  serror_rate                  float64\n",
            " 25  srv_serror_rate              float64\n",
            " 26  rerror_rate                  float64\n",
            " 27  srv_rerror_rate              float64\n",
            " 28  same_srv_rate                float64\n",
            " 29  diff_srv_rate                float64\n",
            " 30  srv_diff_host_rate           float64\n",
            " 31  dst_host_count               int64  \n",
            " 32  dst_host_srv_count           int64  \n",
            " 33  dst_host_same_srv_rate       float64\n",
            " 34  dst_host_diff_srv_rate       float64\n",
            " 35  dst_host_same_src_port_rate  float64\n",
            " 36  dst_host_srv_diff_host_rate  float64\n",
            " 37  dst_host_serror_rate         float64\n",
            " 38  dst_host_srv_serror_rate     float64\n",
            " 39  dst_host_rerror_rate         float64\n",
            " 40  dst_host_srv_rerror_rate     float64\n",
            " 41  outcome                      int64  \n",
            "dtypes: float64(15), int64(24), object(3)\n",
            "memory usage: 1.5+ GB\n"
          ],
          "name": "stdout"
        }
      ]
    },
    {
      "cell_type": "code",
      "metadata": {
        "id": "Wi0ozauwcr1B"
      },
      "source": [
        "assert 1 == len(data_df.num_outbound_cmds.unique())  # only one unique value, so drop it\n",
        "data_df.drop('num_outbound_cmds', axis='columns', inplace=True)"
      ],
      "execution_count": 11,
      "outputs": []
    },
    {
      "cell_type": "code",
      "metadata": {
        "id": "neCQ29C0dJdY",
        "outputId": "5e87dadf-4e73-456b-efe2-54bc1dbbcada",
        "colab": {
          "base_uri": "https://localhost:8080/",
          "height": 731
        }
      },
      "source": [
        "data_df.isna().sum()"
      ],
      "execution_count": 12,
      "outputs": [
        {
          "output_type": "execute_result",
          "data": {
            "text/plain": [
              "duration                       0\n",
              "protocol_type                  0\n",
              "service                        0\n",
              "flag                           0\n",
              "src_bytes                      0\n",
              "dst_bytes                      0\n",
              "land                           0\n",
              "wrong_fragment                 0\n",
              "urgent                         0\n",
              "hot                            0\n",
              "num_failed_logins              0\n",
              "logged_in                      0\n",
              "num_compromised                0\n",
              "root_shell                     0\n",
              "su_attempted                   0\n",
              "num_root                       0\n",
              "num_file_creations             0\n",
              "num_shells                     0\n",
              "num_access_files               0\n",
              "is_host_login                  0\n",
              "is_guest_login                 0\n",
              "count                          0\n",
              "srv_count                      0\n",
              "serror_rate                    0\n",
              "srv_serror_rate                0\n",
              "rerror_rate                    0\n",
              "srv_rerror_rate                0\n",
              "same_srv_rate                  0\n",
              "diff_srv_rate                  0\n",
              "srv_diff_host_rate             0\n",
              "dst_host_count                 0\n",
              "dst_host_srv_count             0\n",
              "dst_host_same_srv_rate         0\n",
              "dst_host_diff_srv_rate         0\n",
              "dst_host_same_src_port_rate    0\n",
              "dst_host_srv_diff_host_rate    0\n",
              "dst_host_serror_rate           0\n",
              "dst_host_srv_serror_rate       0\n",
              "dst_host_rerror_rate           0\n",
              "dst_host_srv_rerror_rate       0\n",
              "outcome                        0\n",
              "dtype: int64"
            ]
          },
          "metadata": {
            "tags": []
          },
          "execution_count": 12
        }
      ]
    },
    {
      "cell_type": "code",
      "metadata": {
        "id": "MYdNC_M0dXNE",
        "outputId": "79d086d0-1e9b-497e-a0e4-243fad4b9096",
        "colab": {
          "base_uri": "https://localhost:8080/",
          "height": 51
        }
      },
      "source": [
        "from sklearn.model_selection import train_test_split\n",
        "train_df, test_df = train_test_split(data_df, test_size=0.2, random_state=seed, stratify=data_df['outcome'])\n",
        "print(train_df.shape)\n",
        "print(test_df.shape)"
      ],
      "execution_count": 13,
      "outputs": [
        {
          "output_type": "stream",
          "text": [
            "(3918744, 41)\n",
            "(979687, 41)\n"
          ],
          "name": "stdout"
        }
      ]
    },
    {
      "cell_type": "code",
      "metadata": {
        "id": "UxEcCYjAebMy",
        "outputId": "dced6536-4d20-49de-b53a-0a2565d3d53d",
        "colab": {
          "base_uri": "https://localhost:8080/",
          "height": 425
        }
      },
      "source": [
        "train_df.outcome.value_counts()"
      ],
      "execution_count": 14,
      "outputs": [
        {
          "output_type": "execute_result",
          "data": {
            "text/plain": [
              "18    2246308\n",
              "9      857614\n",
              "11     778225\n",
              "17      12714\n",
              "5        9985\n",
              "15       8330\n",
              "10       1853\n",
              "0        1762\n",
              "21        816\n",
              "20        783\n",
              "14        211\n",
              "3          42\n",
              "1          24\n",
              "6          17\n",
              "22         16\n",
              "4          10\n",
              "16          8\n",
              "7           7\n",
              "8           6\n",
              "2           6\n",
              "13          3\n",
              "12          2\n",
              "19          2\n",
              "Name: outcome, dtype: int64"
            ]
          },
          "metadata": {
            "tags": []
          },
          "execution_count": 14
        }
      ]
    },
    {
      "cell_type": "code",
      "metadata": {
        "id": "zn3udhW8eR52",
        "outputId": "3133fb9b-75f4-4f84-dcd6-a3bf88b08f0d",
        "colab": {
          "base_uri": "https://localhost:8080/",
          "height": 408
        }
      },
      "source": [
        "test_df.outcome.value_counts()"
      ],
      "execution_count": 15,
      "outputs": [
        {
          "output_type": "execute_result",
          "data": {
            "text/plain": [
              "18    561578\n",
              "9     214403\n",
              "11    194556\n",
              "17      3178\n",
              "5       2496\n",
              "15      2083\n",
              "10       463\n",
              "0        441\n",
              "21       204\n",
              "20       196\n",
              "14        53\n",
              "3         11\n",
              "1          6\n",
              "6          4\n",
              "22         4\n",
              "16         2\n",
              "7          2\n",
              "4          2\n",
              "2          2\n",
              "13         1\n",
              "12         1\n",
              "8          1\n",
              "Name: outcome, dtype: int64"
            ]
          },
          "metadata": {
            "tags": []
          },
          "execution_count": 15
        }
      ]
    },
    {
      "cell_type": "code",
      "metadata": {
        "id": "Yp3RgUrQe_yb"
      },
      "source": [
        "def df_to_dataset(dataframe, shuffle=True, batch_size=32):\n",
        "  dataframe = dataframe.copy()\n",
        "  labels = dataframe.pop('outcome')\n",
        "  ds = tf.data.Dataset.from_tensor_slices((dict(dataframe), labels))\n",
        "  if shuffle:\n",
        "    ds = ds.shuffle(buffer_size=1024)\n",
        "  ds = ds.batch(batch_size).prefetch(tf.data.experimental.AUTOTUNE)\n",
        "  return ds"
      ],
      "execution_count": 16,
      "outputs": []
    },
    {
      "cell_type": "code",
      "metadata": {
        "id": "hmp9o2wrg-1f",
        "outputId": "3ca7d657-6cba-457c-a2a6-2aecc6e709cd",
        "colab": {
          "base_uri": "https://localhost:8080/",
          "height": 714
        }
      },
      "source": [
        "for column in data_df.columns:\n",
        "  print(column + ': ' + str(data_df[column].nunique()))"
      ],
      "execution_count": 17,
      "outputs": [
        {
          "output_type": "stream",
          "text": [
            "duration: 9883\n",
            "protocol_type: 3\n",
            "service: 70\n",
            "flag: 11\n",
            "src_bytes: 7195\n",
            "dst_bytes: 21493\n",
            "land: 2\n",
            "wrong_fragment: 3\n",
            "urgent: 6\n",
            "hot: 30\n",
            "num_failed_logins: 6\n",
            "logged_in: 2\n",
            "num_compromised: 98\n",
            "root_shell: 2\n",
            "su_attempted: 3\n",
            "num_root: 93\n",
            "num_file_creations: 42\n",
            "num_shells: 3\n",
            "num_access_files: 10\n",
            "is_host_login: 2\n",
            "is_guest_login: 2\n",
            "count: 512\n",
            "srv_count: 512\n",
            "serror_rate: 96\n",
            "srv_serror_rate: 87\n",
            "rerror_rate: 89\n",
            "srv_rerror_rate: 76\n",
            "same_srv_rate: 101\n",
            "diff_srv_rate: 95\n",
            "srv_diff_host_rate: 72\n",
            "dst_host_count: 256\n",
            "dst_host_srv_count: 256\n",
            "dst_host_same_srv_rate: 101\n",
            "dst_host_diff_srv_rate: 101\n",
            "dst_host_same_src_port_rate: 101\n",
            "dst_host_srv_diff_host_rate: 76\n",
            "dst_host_serror_rate: 101\n",
            "dst_host_srv_serror_rate: 100\n",
            "dst_host_rerror_rate: 101\n",
            "dst_host_srv_rerror_rate: 101\n",
            "outcome: 23\n"
          ],
          "name": "stdout"
        }
      ]
    },
    {
      "cell_type": "code",
      "metadata": {
        "id": "Y2CwVwNLrn9p"
      },
      "source": [
        "#  1   protocol_type                object (3 values)\n",
        "#  2   service                      object (70 values)\n",
        "#  3   flag                         object (11 values)\n",
        "# land (2 values)\n",
        "# logged_in (2)\n",
        "# root_shell (2)\n",
        "# su_attempted (2)\n",
        "# is_host_login (2)\n",
        "# is_guest_login (2)\n",
        "\n",
        "from tensorflow import feature_column\n",
        "\n",
        "feature_columns = []\n",
        "\n",
        "# numeric cols\n",
        "for column in ['duration','src_bytes','dst_bytes','wrong_fragment','urgent','hot',\n",
        "               'num_failed_logins','num_compromised','num_root','num_file_creations',\n",
        "               'num_shells','num_access_files','count','srv_count','serror_rate',\n",
        "               'srv_serror_rate','rerror_rate','srv_rerror_rate','same_srv_rate',\n",
        "               'diff_srv_rate','srv_diff_host_rate','dst_host_count','dst_host_srv_count',\n",
        "               'dst_host_same_srv_rate','dst_host_diff_srv_rate','dst_host_same_src_port_rate',\n",
        "               'dst_host_srv_diff_host_rate','dst_host_serror_rate','dst_host_srv_serror_rate',\n",
        "               'dst_host_rerror_rate','dst_host_srv_rerror_rate']:\n",
        "  feature_columns.append(feature_column.numeric_column(column))\n",
        "\n",
        "# indicator_columns\n",
        "indicator_column_names = ['protocol_type', 'service', 'flag', 'land', 'logged_in', \n",
        "                          'root_shell', 'su_attempted', 'is_host_login', 'is_guest_login']\n",
        "for col_name in indicator_column_names:\n",
        "  categorical_column = feature_column.categorical_column_with_vocabulary_list(\n",
        "      col_name, data_df[col_name].unique())\n",
        "  indicator_column = feature_column.indicator_column(categorical_column)\n",
        "  feature_columns.append(indicator_column)\n",
        "\n",
        "# embedding columns\n",
        "# diagnosis = feature_column.categorical_column_with_vocabulary_list(\n",
        "#       'diagnosis', data_df.diagnosis.unique())\n",
        "# diagnosis_embedding = feature_column.embedding_column(diagnosis, dimension=16)\n",
        "# feature_columns.append(diagnosis_embedding)"
      ],
      "execution_count": 18,
      "outputs": []
    },
    {
      "cell_type": "code",
      "metadata": {
        "id": "MpCGMV91vUYW"
      },
      "source": [
        "feature_layer = tf.keras.layers.DenseFeatures(feature_columns)"
      ],
      "execution_count": 19,
      "outputs": []
    },
    {
      "cell_type": "code",
      "metadata": {
        "id": "abuQkH7Vvmbx"
      },
      "source": [
        "batch_size = 128\n",
        "train_ds = df_to_dataset(train_df, batch_size=batch_size)\n",
        "test_ds = df_to_dataset(test_df, shuffle=False, batch_size=batch_size)"
      ],
      "execution_count": 20,
      "outputs": []
    },
    {
      "cell_type": "code",
      "metadata": {
        "id": "Fnptz7yEvmhm"
      },
      "source": [
        "from tensorflow.keras.layers import Dense\n",
        "\n",
        "def create_model():\n",
        "  tf.keras.backend.clear_session()\n",
        "  model = tf.keras.Sequential([\n",
        "    feature_layer,\n",
        "    Dense(256, activation='relu'),\n",
        "    Dense(128, activation='relu'),\n",
        "    Dense(64, activation='relu'),\n",
        "    Dense(23, activation='softmax')\n",
        "  ])\n",
        "\n",
        "  model.compile(optimizer='adam', loss='sparse_categorical_crossentropy', metrics=['acc'])\n",
        "  return model\n",
        "\n",
        "model = create_model()"
      ],
      "execution_count": 21,
      "outputs": []
    },
    {
      "cell_type": "code",
      "metadata": {
        "id": "-c5FpEFkwCL9",
        "outputId": "de048e70-2297-4d07-ca8c-af2e8a486701",
        "colab": {
          "base_uri": "https://localhost:8080/",
          "height": 612
        }
      },
      "source": [
        "filepath = 'model.h5'\n",
        "\n",
        "mc = tf.keras.callbacks.ModelCheckpoint(filepath, monitor='val_loss', save_best_only=True, \n",
        "                                        save_weights_only=True, mode='auto')\n",
        "\n",
        "es = tf.keras.callbacks.EarlyStopping(monitor='val_loss', patience=10, verbose=1, mode='auto')\n",
        "\n",
        "history = model.fit(train_ds, epochs=200, validation_data=test_ds, callbacks=[mc, es],\n",
        "                    verbose=2)"
      ],
      "execution_count": 22,
      "outputs": [
        {
          "output_type": "stream",
          "text": [
            "Epoch 1/200\n",
            "30616/30616 - 201s - loss: 147.9262 - acc: 0.9959 - val_loss: 44.8872 - val_acc: 0.9983\n",
            "Epoch 2/200\n",
            "30616/30616 - 208s - loss: 0.1981 - acc: 0.9983 - val_loss: 0.0115 - val_acc: 0.9984\n",
            "Epoch 3/200\n",
            "30616/30616 - 211s - loss: 0.0182 - acc: 0.9984 - val_loss: 0.0124 - val_acc: 0.9983\n",
            "Epoch 4/200\n",
            "30616/30616 - 220s - loss: 0.8055 - acc: 0.9986 - val_loss: 0.0091 - val_acc: 0.9987\n",
            "Epoch 5/200\n",
            "30616/30616 - 212s - loss: 11.8164 - acc: 0.9986 - val_loss: 0.0124 - val_acc: 0.9985\n",
            "Epoch 6/200\n",
            "30616/30616 - 205s - loss: 0.1578 - acc: 0.9986 - val_loss: 72.1837 - val_acc: 0.9987\n",
            "Epoch 7/200\n",
            "30616/30616 - 202s - loss: 0.3010 - acc: 0.9986 - val_loss: 0.0089 - val_acc: 0.9987\n",
            "Epoch 8/200\n",
            "30616/30616 - 205s - loss: 1.5822 - acc: 0.9986 - val_loss: 0.0110 - val_acc: 0.9986\n",
            "Epoch 9/200\n",
            "30616/30616 - 209s - loss: 0.0116 - acc: 0.9987 - val_loss: 0.0101 - val_acc: 0.9987\n",
            "Epoch 10/200\n",
            "30616/30616 - 216s - loss: 0.8230 - acc: 0.8770 - val_loss: 241.5107 - val_acc: 0.9699\n",
            "Epoch 11/200\n",
            "30616/30616 - 216s - loss: 2.7318 - acc: 0.9552 - val_loss: 0.1415 - val_acc: 0.9673\n",
            "Epoch 12/200\n",
            "30616/30616 - 211s - loss: 3.9778 - acc: 0.9562 - val_loss: 0.1262 - val_acc: 0.9719\n",
            "Epoch 13/200\n",
            "30616/30616 - 215s - loss: 5.2859 - acc: 0.9626 - val_loss: 0.2216 - val_acc: 0.9333\n",
            "Epoch 14/200\n",
            "30616/30616 - 212s - loss: 0.2676 - acc: 0.9620 - val_loss: 7679.9346 - val_acc: 0.9862\n",
            "Epoch 15/200\n",
            "30616/30616 - 208s - loss: 1.3291 - acc: 0.9634 - val_loss: 35.6090 - val_acc: 0.9849\n",
            "Epoch 16/200\n",
            "30616/30616 - 205s - loss: 0.5097 - acc: 0.9721 - val_loss: 0.1692 - val_acc: 0.9560\n",
            "Epoch 17/200\n",
            "30616/30616 - 209s - loss: 0.1667 - acc: 0.9621 - val_loss: 0.1261 - val_acc: 0.9751\n",
            "Epoch 00017: early stopping\n"
          ],
          "name": "stdout"
        }
      ]
    },
    {
      "cell_type": "code",
      "metadata": {
        "id": "YMYk8bpra05r",
        "outputId": "780c14bd-62d8-4324-9b66-1e7b93687d1a",
        "colab": {
          "base_uri": "https://localhost:8080/",
          "height": 51
        }
      },
      "source": [
        "model.load_weights('model.h5')\n",
        "model.evaluate(test_ds)"
      ],
      "execution_count": 23,
      "outputs": [
        {
          "output_type": "stream",
          "text": [
            "7654/7654 [==============================] - 42s 5ms/step - loss: 0.0089 - acc: 0.9987\n"
          ],
          "name": "stdout"
        },
        {
          "output_type": "execute_result",
          "data": {
            "text/plain": [
              "[0.008916427381336689, 0.9987149238586426]"
            ]
          },
          "metadata": {
            "tags": []
          },
          "execution_count": 23
        }
      ]
    },
    {
      "cell_type": "code",
      "metadata": {
        "id": "wAK6rVy2bCsQ",
        "outputId": "63323b62-e22c-4d24-c3b4-7e1186e515aa",
        "colab": {
          "base_uri": "https://localhost:8080/",
          "height": 544
        }
      },
      "source": [
        "import numpy as np\n",
        "y_preds = model.predict(test_ds, verbose=1)\n",
        "print(y_preds.shape)\n",
        "y_preds = np.argmax(y_preds, axis=1)\n",
        "from sklearn.metrics import classification_report\n",
        "y_true = test_df['outcome']\n",
        "# print(classification_report(y_true, y_preds, target_names=label_encoder.classes_))\n",
        "print(classification_report(y_true, y_preds))"
      ],
      "execution_count": 24,
      "outputs": [
        {
          "output_type": "stream",
          "text": [
            "7654/7654 [==============================] - 37s 5ms/step\n",
            "(979687, 23)\n",
            "              precision    recall  f1-score   support\n",
            "\n",
            "           0       0.00      0.00      0.00       441\n",
            "           1       0.00      0.00      0.00         6\n",
            "           2       0.00      0.00      0.00         2\n",
            "           3       0.00      0.00      0.00        11\n",
            "           4       0.00      0.00      0.00         2\n",
            "           5       0.93      0.98      0.96      2496\n",
            "           6       0.00      0.00      0.00         4\n",
            "           7       0.00      0.00      0.00         2\n",
            "           8       0.00      0.00      0.00         1\n",
            "           9       1.00      1.00      1.00    214403\n",
            "          10       0.88      0.51      0.64       463\n",
            "          11       0.99      1.00      1.00    194556\n",
            "          12       0.00      0.00      0.00         1\n",
            "          13       0.00      0.00      0.00         1\n",
            "          14       0.00      0.00      0.00        53\n",
            "          15       0.99      0.91      0.95      2083\n",
            "          16       0.00      0.00      0.00         2\n",
            "          17       1.00      0.99      0.99      3178\n",
            "          18       1.00      1.00      1.00    561578\n",
            "          20       1.00      0.98      0.99       196\n",
            "          21       0.00      0.00      0.00       204\n",
            "          22       0.00      0.00      0.00         4\n",
            "\n",
            "    accuracy                           1.00    979687\n",
            "   macro avg       0.35      0.33      0.34    979687\n",
            "weighted avg       1.00      1.00      1.00    979687\n",
            "\n"
          ],
          "name": "stdout"
        }
      ]
    },
    {
      "cell_type": "markdown",
      "metadata": {
        "id": "qHyqJ6ZfYdvZ"
      },
      "source": [
        "# class weights"
      ]
    },
    {
      "cell_type": "code",
      "metadata": {
        "id": "ZzjktnZoYlaD",
        "outputId": "abcea395-6daa-4210-dd8e-01c748a8b792",
        "colab": {
          "base_uri": "https://localhost:8080/",
          "height": 119
        }
      },
      "source": [
        "from sklearn.utils import class_weight\n",
        "class_weights = class_weight.compute_class_weight('balanced', np.unique(train_df['outcome']), train_df['outcome'])\n",
        "class_weights"
      ],
      "execution_count": 25,
      "outputs": [
        {
          "output_type": "execute_result",
          "data": {
            "text/plain": [
              "array([9.66970340e+01, 7.09917391e+03, 2.83966957e+04, 4.05667081e+03,\n",
              "       1.70380174e+04, 1.70636128e+01, 1.00223632e+04, 2.43400248e+04,\n",
              "       2.83966957e+04, 1.98667669e-01, 9.19482860e+01, 2.18934336e-01,\n",
              "       8.51900870e+04, 5.67933913e+04, 8.07488976e+02, 2.04538024e+01,\n",
              "       2.12975217e+04, 1.34009890e+01, 7.58489815e-02, 8.51900870e+04,\n",
              "       2.17599200e+02, 2.08799233e+02, 1.06487609e+04])"
            ]
          },
          "metadata": {
            "tags": []
          },
          "execution_count": 25
        }
      ]
    },
    {
      "cell_type": "code",
      "metadata": {
        "id": "5B3ENzoLmJRU",
        "outputId": "b10c4ee6-aef7-4935-a03b-e93760df893e",
        "colab": {
          "base_uri": "https://localhost:8080/",
          "height": 51
        }
      },
      "source": [
        "class_keys = np.unique(train_df['outcome'])\n",
        "class_keys"
      ],
      "execution_count": 26,
      "outputs": [
        {
          "output_type": "execute_result",
          "data": {
            "text/plain": [
              "array([ 0,  1,  2,  3,  4,  5,  6,  7,  8,  9, 10, 11, 12, 13, 14, 15, 16,\n",
              "       17, 18, 19, 20, 21, 22])"
            ]
          },
          "metadata": {
            "tags": []
          },
          "execution_count": 26
        }
      ]
    },
    {
      "cell_type": "code",
      "metadata": {
        "id": "2qbwsS5huZEK"
      },
      "source": [
        "class_weight_dict = dict(zip(class_keys,class_weights))"
      ],
      "execution_count": 27,
      "outputs": []
    },
    {
      "cell_type": "code",
      "metadata": {
        "id": "hlXwnA2dYgxc"
      },
      "source": [
        "model = create_model()"
      ],
      "execution_count": 28,
      "outputs": []
    },
    {
      "cell_type": "code",
      "metadata": {
        "id": "lhzQezb8kuk-",
        "outputId": "ad870140-8e73-401d-a865-b0475df47bfd",
        "colab": {
          "base_uri": "https://localhost:8080/",
          "height": 408
        }
      },
      "source": [
        "filepath = 'model.h5'\n",
        "\n",
        "mc = tf.keras.callbacks.ModelCheckpoint(filepath, monitor='val_loss', save_best_only=True, \n",
        "                                        save_weights_only=True, mode='auto')\n",
        "\n",
        "es = tf.keras.callbacks.EarlyStopping(monitor='val_loss', patience=10, verbose=1, mode='auto')\n",
        "\n",
        "history = model.fit(train_ds, epochs=200, validation_data=test_ds, callbacks=[mc, es], \n",
        "                    class_weight=class_weight_dict, verbose=2)"
      ],
      "execution_count": 29,
      "outputs": [
        {
          "output_type": "stream",
          "text": [
            "Epoch 1/200\n",
            "30616/30616 - 215s - loss: 207184.6250 - acc: 0.9150 - val_loss: 3373.8640 - val_acc: 0.9666\n",
            "Epoch 2/200\n",
            "30616/30616 - 220s - loss: 1229869.2500 - acc: 0.8999 - val_loss: 103643.5781 - val_acc: 0.9235\n",
            "Epoch 3/200\n",
            "30616/30616 - 218s - loss: 2159102.0000 - acc: 0.9054 - val_loss: 6858.8359 - val_acc: 0.9826\n",
            "Epoch 4/200\n",
            "30616/30616 - 219s - loss: 4601909.5000 - acc: 0.9219 - val_loss: 483246.2500 - val_acc: 0.8992\n",
            "Epoch 5/200\n",
            "30616/30616 - 219s - loss: 5335862.5000 - acc: 0.9187 - val_loss: 151306.9688 - val_acc: 0.9426\n",
            "Epoch 6/200\n",
            "30616/30616 - 221s - loss: 5539400.0000 - acc: 0.9312 - val_loss: 380728.2188 - val_acc: 0.9193\n",
            "Epoch 7/200\n",
            "30616/30616 - 216s - loss: 7947741.0000 - acc: 0.9150 - val_loss: 861471.0625 - val_acc: 0.9228\n",
            "Epoch 8/200\n",
            "30616/30616 - 215s - loss: 7574225.0000 - acc: 0.9250 - val_loss: 163218.5938 - val_acc: 0.9555\n",
            "Epoch 9/200\n",
            "30616/30616 - 214s - loss: 15989376.0000 - acc: 0.9284 - val_loss: 860234.1250 - val_acc: 0.9107\n",
            "Epoch 10/200\n",
            "30616/30616 - 211s - loss: 11091273.0000 - acc: 0.9369 - val_loss: 558916.6875 - val_acc: 0.9315\n",
            "Epoch 11/200\n",
            "30616/30616 - 212s - loss: 12094885.0000 - acc: 0.9402 - val_loss: 457899.3438 - val_acc: 0.9445\n",
            "Epoch 00011: early stopping\n"
          ],
          "name": "stdout"
        }
      ]
    },
    {
      "cell_type": "code",
      "metadata": {
        "id": "IaFWmbM5uued",
        "outputId": "4b943177-c526-4200-d9cb-a40264670280",
        "colab": {
          "base_uri": "https://localhost:8080/",
          "height": 51
        }
      },
      "source": [
        "model.load_weights('model.h5')\n",
        "model.evaluate(test_ds)"
      ],
      "execution_count": 30,
      "outputs": [
        {
          "output_type": "stream",
          "text": [
            "7654/7654 [==============================] - 41s 5ms/step - loss: 3373.8640 - acc: 0.9666\n"
          ],
          "name": "stdout"
        },
        {
          "output_type": "execute_result",
          "data": {
            "text/plain": [
              "[3373.864013671875, 0.966621994972229]"
            ]
          },
          "metadata": {
            "tags": []
          },
          "execution_count": 30
        }
      ]
    },
    {
      "cell_type": "code",
      "metadata": {
        "id": "RBfffS5yuzdV",
        "outputId": "130bba04-3d7f-434a-df88-1986c4bcf1ac",
        "colab": {
          "base_uri": "https://localhost:8080/",
          "height": 527
        }
      },
      "source": [
        "y_preds = model.predict(test_ds, verbose=1)\n",
        "y_preds = np.argmax(y_preds, axis=1)\n",
        "y_true = test_df['outcome']\n",
        "print(classification_report(y_true, y_preds))"
      ],
      "execution_count": 31,
      "outputs": [
        {
          "output_type": "stream",
          "text": [
            "7654/7654 [==============================] - 37s 5ms/step\n",
            "              precision    recall  f1-score   support\n",
            "\n",
            "           0       0.08      1.00      0.15       441\n",
            "           1       0.00      0.00      0.00         6\n",
            "           2       0.00      0.00      0.00         2\n",
            "           3       0.00      0.00      0.00        11\n",
            "           4       0.00      0.00      0.00         2\n",
            "           5       0.91      0.94      0.93      2496\n",
            "           6       0.00      0.00      0.00         4\n",
            "           7       0.00      0.00      0.00         2\n",
            "           8       0.00      0.00      0.00         1\n",
            "           9       1.00      0.94      0.97    214403\n",
            "          10       0.12      0.46      0.18       463\n",
            "          11       0.99      0.92      0.95    194556\n",
            "          12       0.00      0.00      0.00         1\n",
            "          13       0.00      0.00      0.00         1\n",
            "          14       0.00      0.00      0.00        53\n",
            "          15       0.15      0.98      0.25      2083\n",
            "          16       0.00      0.00      0.00         2\n",
            "          17       0.24      0.18      0.21      3178\n",
            "          18       1.00      1.00      1.00    561578\n",
            "          20       0.37      0.94      0.53       196\n",
            "          21       0.01      0.72      0.03       204\n",
            "          22       0.00      0.00      0.00         4\n",
            "\n",
            "    accuracy                           0.97    979687\n",
            "   macro avg       0.22      0.37      0.24    979687\n",
            "weighted avg       0.99      0.97      0.98    979687\n",
            "\n"
          ],
          "name": "stdout"
        }
      ]
    },
    {
      "cell_type": "markdown",
      "metadata": {
        "id": "giDFKcS4-XgF"
      },
      "source": [
        "# Binary classification"
      ]
    },
    {
      "cell_type": "code",
      "metadata": {
        "id": "6XEw59Qc-fvn",
        "outputId": "fc5c1a0c-382e-4808-ab4d-fcc2685ee65d",
        "colab": {
          "base_uri": "https://localhost:8080/",
          "height": 35
        }
      },
      "source": [
        "label_encoder.classes_[11]"
      ],
      "execution_count": 32,
      "outputs": [
        {
          "output_type": "execute_result",
          "data": {
            "application/vnd.google.colaboratory.intrinsic+json": {
              "type": "string"
            },
            "text/plain": [
              "'normal.'"
            ]
          },
          "metadata": {
            "tags": []
          },
          "execution_count": 32
        }
      ]
    },
    {
      "cell_type": "code",
      "metadata": {
        "id": "bBHLDUOD_wZL"
      },
      "source": [
        "train_df.loc[(train_df.outcome != 11),'outcome'] = 1\n",
        "train_df.loc[(train_df.outcome == 11),'outcome'] = 0\n",
        "test_df.loc[(test_df.outcome != 11),'outcome'] = 1\n",
        "test_df.loc[(test_df.outcome == 11),'outcome'] = 0"
      ],
      "execution_count": 33,
      "outputs": []
    },
    {
      "cell_type": "code",
      "metadata": {
        "id": "2GSPGKClAx3n",
        "outputId": "cb37ee90-cc61-4a40-a0cf-a37b41670e9d",
        "colab": {
          "base_uri": "https://localhost:8080/",
          "height": 68
        }
      },
      "source": [
        "train_df.outcome.value_counts()"
      ],
      "execution_count": 34,
      "outputs": [
        {
          "output_type": "execute_result",
          "data": {
            "text/plain": [
              "1    3140519\n",
              "0     778225\n",
              "Name: outcome, dtype: int64"
            ]
          },
          "metadata": {
            "tags": []
          },
          "execution_count": 34
        }
      ]
    },
    {
      "cell_type": "code",
      "metadata": {
        "id": "GnEEgEls_Vvd"
      },
      "source": [
        "train_ds = df_to_dataset(train_df, batch_size=batch_size)\n",
        "test_ds = df_to_dataset(test_df, shuffle=False, batch_size=batch_size)"
      ],
      "execution_count": 35,
      "outputs": []
    },
    {
      "cell_type": "code",
      "metadata": {
        "id": "uZJWexdRBMYf"
      },
      "source": [
        "tf.keras.backend.clear_session()\n",
        "model = tf.keras.Sequential([\n",
        "  feature_layer,\n",
        "  Dense(256, activation='relu'),\n",
        "  Dense(128, activation='relu'),\n",
        "  Dense(64, activation='relu'),\n",
        "  Dense(1, activation='sigmoid')\n",
        "])\n",
        "\n",
        "model.compile(optimizer='adam', loss='binary_crossentropy', metrics=[tf.keras.metrics.AUC()])"
      ],
      "execution_count": 36,
      "outputs": []
    },
    {
      "cell_type": "code",
      "metadata": {
        "id": "x-Vu6BVJBWJP",
        "outputId": "14e94e3f-8c47-4c46-a52a-89dc22712095",
        "colab": {
          "base_uri": "https://localhost:8080/",
          "height": 714
        }
      },
      "source": [
        "filepath = 'model.h5'\n",
        "\n",
        "mc = tf.keras.callbacks.ModelCheckpoint(filepath, monitor='val_loss', save_best_only=True, \n",
        "                                        save_weights_only=True, mode='auto')\n",
        "\n",
        "es = tf.keras.callbacks.EarlyStopping(monitor='val_loss', patience=10, verbose=1, mode='auto')\n",
        "\n",
        "history = model.fit(train_ds, epochs=200, validation_data=test_ds, callbacks=[mc, es], \n",
        "                    verbose=2)"
      ],
      "execution_count": 37,
      "outputs": [
        {
          "output_type": "stream",
          "text": [
            "Epoch 1/200\n",
            "30616/30616 - 240s - loss: 70.7713 - auc: 0.9938 - val_loss: 293.6857 - val_auc: 0.9991\n",
            "Epoch 2/200\n",
            "30616/30616 - 241s - loss: 12.0578 - auc: 0.9948 - val_loss: 33.7645 - val_auc: 0.9992\n",
            "Epoch 3/200\n",
            "30616/30616 - 238s - loss: 0.8356 - auc: 0.9984 - val_loss: 10.4264 - val_auc: 0.9999\n",
            "Epoch 4/200\n",
            "30616/30616 - 237s - loss: 0.0082 - auc: 0.9998 - val_loss: 0.0063 - val_auc: 0.9994\n",
            "Epoch 5/200\n",
            "30616/30616 - 237s - loss: 0.0065 - auc: 0.9994 - val_loss: 0.0053 - val_auc: 0.9995\n",
            "Epoch 6/200\n",
            "30616/30616 - 239s - loss: 0.0067 - auc: 0.9998 - val_loss: 1.0749 - val_auc: 0.9999\n",
            "Epoch 7/200\n",
            "30616/30616 - 240s - loss: 0.0138 - auc: 0.9997 - val_loss: 0.0055 - val_auc: 0.9996\n",
            "Epoch 8/200\n",
            "30616/30616 - 237s - loss: 0.0089 - auc: 0.9997 - val_loss: 8.4735 - val_auc: 0.9999\n",
            "Epoch 9/200\n",
            "30616/30616 - 241s - loss: 5.1598 - auc: 0.9998 - val_loss: 3.2222 - val_auc: 0.9999\n",
            "Epoch 10/200\n",
            "30616/30616 - 248s - loss: 0.3308 - auc: 0.9999 - val_loss: 0.0045 - val_auc: 0.9999\n",
            "Epoch 11/200\n",
            "30616/30616 - 252s - loss: 0.0783 - auc: 0.9998 - val_loss: 0.0053 - val_auc: 0.9998\n",
            "Epoch 12/200\n",
            "30616/30616 - 255s - loss: 0.0063 - auc: 0.9998 - val_loss: 0.0057 - val_auc: 0.9998\n",
            "Epoch 13/200\n",
            "30616/30616 - 249s - loss: 0.0093 - auc: 0.9998 - val_loss: 14.2310 - val_auc: 0.9999\n",
            "Epoch 14/200\n",
            "30616/30616 - 256s - loss: 0.2358 - auc: 0.9997 - val_loss: 0.0046 - val_auc: 0.9998\n",
            "Epoch 15/200\n",
            "30616/30616 - 260s - loss: 1.6669 - auc: 0.9997 - val_loss: 22.5807 - val_auc: 0.9999\n",
            "Epoch 16/200\n",
            "30616/30616 - 260s - loss: 5.0847 - auc: 0.9996 - val_loss: 0.0090 - val_auc: 0.9997\n",
            "Epoch 17/200\n",
            "30616/30616 - 259s - loss: 0.0061 - auc: 0.9997 - val_loss: 0.0059 - val_auc: 0.9998\n",
            "Epoch 18/200\n",
            "30616/30616 - 260s - loss: 0.4070 - auc: 0.9997 - val_loss: 0.0051 - val_auc: 0.9998\n",
            "Epoch 19/200\n",
            "30616/30616 - 258s - loss: 0.0841 - auc: 0.9998 - val_loss: 0.0059 - val_auc: 0.9997\n",
            "Epoch 20/200\n",
            "30616/30616 - 247s - loss: 0.0069 - auc: 0.9997 - val_loss: 0.0055 - val_auc: 0.9997\n",
            "Epoch 00020: early stopping\n"
          ],
          "name": "stdout"
        }
      ]
    },
    {
      "cell_type": "code",
      "metadata": {
        "id": "v4pt6J1XBlOl",
        "outputId": "1d0dde38-a841-4403-8500-ee610982fb48",
        "colab": {
          "base_uri": "https://localhost:8080/",
          "height": 51
        }
      },
      "source": [
        "model.load_weights('model.h5')\n",
        "model.evaluate(test_ds)"
      ],
      "execution_count": 38,
      "outputs": [
        {
          "output_type": "stream",
          "text": [
            "7654/7654 [==============================] - 46s 6ms/step - loss: 0.0045 - auc: 0.9999\n"
          ],
          "name": "stdout"
        },
        {
          "output_type": "execute_result",
          "data": {
            "text/plain": [
              "[0.004479814320802689, 0.9998740553855896]"
            ]
          },
          "metadata": {
            "tags": []
          },
          "execution_count": 38
        }
      ]
    },
    {
      "cell_type": "code",
      "metadata": {
        "id": "Q8UJYLyjBohs",
        "outputId": "7d48f83e-67c0-4ec8-f4f9-e5d20ff040e0",
        "colab": {
          "base_uri": "https://localhost:8080/",
          "height": 187
        }
      },
      "source": [
        "y_preds = model.predict(test_ds, verbose=1)\n",
        "y_preds\n",
        "y_preds[y_preds > 0.5] = 1\n",
        "y_preds[y_preds <= 0.5] = 0\n",
        "y_true = test_df['outcome']\n",
        "print(classification_report(y_true, y_preds))"
      ],
      "execution_count": 39,
      "outputs": [
        {
          "output_type": "stream",
          "text": [
            "7654/7654 [==============================] - 37s 5ms/step\n",
            "              precision    recall  f1-score   support\n",
            "\n",
            "           0       1.00      1.00      1.00    194556\n",
            "           1       1.00      1.00      1.00    785131\n",
            "\n",
            "    accuracy                           1.00    979687\n",
            "   macro avg       1.00      1.00      1.00    979687\n",
            "weighted avg       1.00      1.00      1.00    979687\n",
            "\n"
          ],
          "name": "stdout"
        }
      ]
    },
    {
      "cell_type": "code",
      "metadata": {
        "id": "IelOfuQ8QRTX",
        "outputId": "ac8bcfd9-e3e0-4463-f807-20f75cf31132",
        "colab": {
          "base_uri": "https://localhost:8080/",
          "height": 51
        }
      },
      "source": [
        "from sklearn.metrics import confusion_matrix\n",
        "print(confusion_matrix(y_true, y_preds))"
      ],
      "execution_count": 40,
      "outputs": [
        {
          "output_type": "stream",
          "text": [
            "[[194527     29]\n",
            " [   867 784264]]\n"
          ],
          "name": "stdout"
        }
      ]
    }
  ]
}