{
  "nbformat": 4,
  "nbformat_minor": 0,
  "metadata": {
    "colab": {
      "name": "kdd_cup_1999.ipynb",
      "provenance": [],
      "machine_shape": "hm",
      "authorship_tag": "ABX9TyOUwx3bRXTFhJtUqj8JoKeu",
      "include_colab_link": true
    },
    "kernelspec": {
      "name": "python3",
      "display_name": "Python 3"
    },
    "accelerator": "GPU",
    "gpuClass": "standard"
  },
  "cells": [
    {
      "cell_type": "markdown",
      "metadata": {
        "id": "view-in-github",
        "colab_type": "text"
      },
      "source": [
        "<a href=\"https://colab.research.google.com/github/dcpatton/Structured-Data/blob/main/kdd_cup_1999.ipynb\" target=\"_parent\"><img src=\"https://colab.research.google.com/assets/colab-badge.svg\" alt=\"Open In Colab\"/></a>"
      ]
    },
    {
      "cell_type": "markdown",
      "metadata": {
        "id": "-skxHJ4fBBV3"
      },
      "source": [
        "# Objective\n",
        "\n",
        "Below is an exploration of a computer network intrusion detection dataset (https://www.kdd.org/kdd-cup/view/kdd-cup-1999). The original task was:\n",
        "\n",
        "*to build a predictive model (i.e. a classifier) capable of distinguishing between \"bad\" connections, called intrusions or attacks, and \"good\" normal connections.*\n",
        "\n",
        "I'll demonstrate a few approaches."
      ]
    },
    {
      "cell_type": "code",
      "source": [
        "import tensorflow as tf\n",
        "import random\n",
        "\n",
        "seed = 53 ## for some consistency\n",
        "random.seed(seed)\n",
        "tf.random.set_seed(seed)\n",
        "tf.__version__"
      ],
      "metadata": {
        "colab": {
          "base_uri": "https://localhost:8080/",
          "height": 35
        },
        "id": "SqJ_IJ8lLB12",
        "outputId": "d90a11a9-6045-4f54-cecb-29625bf3e681"
      },
      "execution_count": 1,
      "outputs": [
        {
          "output_type": "execute_result",
          "data": {
            "text/plain": [
              "'2.8.2'"
            ],
            "application/vnd.google.colaboratory.intrinsic+json": {
              "type": "string"
            }
          },
          "metadata": {},
          "execution_count": 1
        }
      ]
    },
    {
      "cell_type": "code",
      "source": [
        "!curl http://kdd.ics.uci.edu/databases/kddcup99/kddcup.data.gz -o train_full.gz\n",
        "!curl https://archive.ics.uci.edu/ml/machine-learning-databases/kddcup99-mld/corrected.gz -o test.gz"
      ],
      "metadata": {
        "colab": {
          "base_uri": "https://localhost:8080/"
        },
        "id": "MIdMgpC1LB9s",
        "outputId": "20bf8c7b-6b50-4562-ed8b-54ed738ab1c7"
      },
      "execution_count": 2,
      "outputs": [
        {
          "output_type": "stream",
          "name": "stdout",
          "text": [
            "  % Total    % Received % Xferd  Average Speed   Time    Time     Time  Current\n",
            "                                 Dload  Upload   Total   Spent    Left  Speed\n",
            "100 17.2M  100 17.2M    0     0  34.6M      0 --:--:-- --:--:-- --:--:-- 34.6M\n",
            "  % Total    % Received % Xferd  Average Speed   Time    Time     Time  Current\n",
            "                                 Dload  Upload   Total   Spent    Left  Speed\n",
            "100 1376k  100 1376k    0     0  4207k      0 --:--:-- --:--:-- --:--:-- 4207k\n"
          ]
        }
      ]
    },
    {
      "cell_type": "code",
      "source": [
        "!gunzip train_full.gz\n",
        "!gunzip test.gz"
      ],
      "metadata": {
        "id": "dGu6aBxLLCAw"
      },
      "execution_count": 3,
      "outputs": []
    },
    {
      "cell_type": "code",
      "source": [
        "names = ['duration',\n",
        "        'protocol_type',\n",
        "        'service',\n",
        "        'flag',\n",
        "    'src_bytes',\n",
        "    'dst_bytes',\n",
        "    'land',\n",
        "    'wrong_fragment',\n",
        "    'urgent',\n",
        "    'hot',\n",
        "    'num_failed_logins',\n",
        "    'logged_in',\n",
        "    'num_compromised',\n",
        "    'root_shell',\n",
        "    'su_attempted',\n",
        "    'num_root',\n",
        "    'num_file_creations',\n",
        "    'num_shells',\n",
        "    'num_access_files',\n",
        "    'num_outbound_cmds',\n",
        "    'is_host_login',\n",
        "    'is_guest_login',\n",
        "    'count',\n",
        "    'srv_count',\n",
        "    'serror_rate',\n",
        "    'srv_serror_rate',\n",
        "    'rerror_rate',\n",
        "    'srv_rerror_rate',\n",
        "    'same_srv_rate',\n",
        "    'diff_srv_rate',\n",
        "    'srv_diff_host_rate',\n",
        "    'dst_host_count',\n",
        "    'dst_host_srv_count',\n",
        "    'dst_host_same_srv_rate',\n",
        "    'dst_host_diff_srv_rate',\n",
        "    'dst_host_same_src_port_rate',\n",
        "    'dst_host_srv_diff_host_rate',\n",
        "    'dst_host_serror_rate',\n",
        "    'dst_host_srv_serror_rate',\n",
        "    'dst_host_rerror_rate',\n",
        "    'dst_host_srv_rerror_rate',\n",
        "    'target'\n",
        "]"
      ],
      "metadata": {
        "id": "5WIdQn1JTNn0"
      },
      "execution_count": 4,
      "outputs": []
    },
    {
      "cell_type": "code",
      "source": [
        "import pandas as pd\n",
        "train = pd.read_csv('train_full', names=names)\n",
        "test = pd.read_csv('test', names=names)\n",
        "train.shape, train.shape"
      ],
      "metadata": {
        "colab": {
          "base_uri": "https://localhost:8080/"
        },
        "id": "YteO0ndsLCDy",
        "outputId": "ffe39f8a-2df2-42ed-a3f0-ec19d01fce7e"
      },
      "execution_count": 5,
      "outputs": [
        {
          "output_type": "execute_result",
          "data": {
            "text/plain": [
              "((4898431, 42), (4898431, 42))"
            ]
          },
          "metadata": {},
          "execution_count": 5
        }
      ]
    },
    {
      "cell_type": "code",
      "source": [
        "for c in train.columns:\n",
        "  print(c + ' : ' + str(train[c].nunique()))"
      ],
      "metadata": {
        "colab": {
          "base_uri": "https://localhost:8080/"
        },
        "id": "DTMF_9DXUpbF",
        "outputId": "0fc6eede-97a9-4c47-ff06-96631056765f"
      },
      "execution_count": 6,
      "outputs": [
        {
          "output_type": "stream",
          "name": "stdout",
          "text": [
            "duration : 9883\n",
            "protocol_type : 3\n",
            "service : 70\n",
            "flag : 11\n",
            "src_bytes : 7195\n",
            "dst_bytes : 21493\n",
            "land : 2\n",
            "wrong_fragment : 3\n",
            "urgent : 6\n",
            "hot : 30\n",
            "num_failed_logins : 6\n",
            "logged_in : 2\n",
            "num_compromised : 98\n",
            "root_shell : 2\n",
            "su_attempted : 3\n",
            "num_root : 93\n",
            "num_file_creations : 42\n",
            "num_shells : 3\n",
            "num_access_files : 10\n",
            "num_outbound_cmds : 1\n",
            "is_host_login : 2\n",
            "is_guest_login : 2\n",
            "count : 512\n",
            "srv_count : 512\n",
            "serror_rate : 96\n",
            "srv_serror_rate : 87\n",
            "rerror_rate : 89\n",
            "srv_rerror_rate : 76\n",
            "same_srv_rate : 101\n",
            "diff_srv_rate : 95\n",
            "srv_diff_host_rate : 72\n",
            "dst_host_count : 256\n",
            "dst_host_srv_count : 256\n",
            "dst_host_same_srv_rate : 101\n",
            "dst_host_diff_srv_rate : 101\n",
            "dst_host_same_src_port_rate : 101\n",
            "dst_host_srv_diff_host_rate : 76\n",
            "dst_host_serror_rate : 101\n",
            "dst_host_srv_serror_rate : 100\n",
            "dst_host_rerror_rate : 101\n",
            "dst_host_srv_rerror_rate : 101\n",
            "target : 23\n"
          ]
        }
      ]
    },
    {
      "cell_type": "code",
      "source": [
        "assert train.num_outbound_cmds.nunique() == 1\n",
        "assert test.num_outbound_cmds.nunique() == 1\n",
        "train.drop('num_outbound_cmds', axis='columns', inplace=True)\n",
        "test.drop('num_outbound_cmds', axis='columns', inplace=True)"
      ],
      "metadata": {
        "id": "dB0D17MbUpd4"
      },
      "execution_count": 7,
      "outputs": []
    },
    {
      "cell_type": "code",
      "source": [
        "cols = list(train.columns)\n",
        "cols.remove('target')\n",
        "dummy_cols = []\n",
        "for c in cols:\n",
        "  if train[c].nunique() < 12:\n",
        "    if train[c].nunique() != test[c].nunique():\n",
        "      print(c)\n",
        "    else:\n",
        "      dummy_cols.append(c)\n",
        "dummy_cols.remove('is_host_login')\n",
        "dummy_cols.remove('is_guest_login')\n",
        "dummy_cols.remove('land')\n",
        "dummy_cols.remove('logged_in')\n",
        "dummy_cols.remove('root_shell')\n",
        "train = pd.get_dummies(train, columns=dummy_cols)\n",
        "test = pd.get_dummies(test, columns=dummy_cols)"
      ],
      "metadata": {
        "colab": {
          "base_uri": "https://localhost:8080/"
        },
        "id": "b0RjkC_BUpgc",
        "outputId": "10eade9b-a45e-4dc8-dc50-2749d0788a4b"
      },
      "execution_count": 8,
      "outputs": [
        {
          "output_type": "stream",
          "name": "stdout",
          "text": [
            "urgent\n",
            "num_failed_logins\n",
            "num_shells\n",
            "num_access_files\n"
          ]
        }
      ]
    },
    {
      "cell_type": "code",
      "source": [
        "train.info()"
      ],
      "metadata": {
        "colab": {
          "base_uri": "https://localhost:8080/"
        },
        "id": "TPE2CxJxXRVs",
        "outputId": "f76c139d-fb4d-4eb7-e8ce-9be92acd0493"
      },
      "execution_count": 9,
      "outputs": [
        {
          "output_type": "stream",
          "name": "stdout",
          "text": [
            "<class 'pandas.core.frame.DataFrame'>\n",
            "RangeIndex: 4898431 entries, 0 to 4898430\n",
            "Data columns (total 57 columns):\n",
            " #   Column                       Dtype  \n",
            "---  ------                       -----  \n",
            " 0   duration                     int64  \n",
            " 1   service                      object \n",
            " 2   src_bytes                    int64  \n",
            " 3   dst_bytes                    int64  \n",
            " 4   land                         int64  \n",
            " 5   urgent                       int64  \n",
            " 6   hot                          int64  \n",
            " 7   num_failed_logins            int64  \n",
            " 8   logged_in                    int64  \n",
            " 9   num_compromised              int64  \n",
            " 10  root_shell                   int64  \n",
            " 11  num_root                     int64  \n",
            " 12  num_file_creations           int64  \n",
            " 13  num_shells                   int64  \n",
            " 14  num_access_files             int64  \n",
            " 15  is_host_login                int64  \n",
            " 16  is_guest_login               int64  \n",
            " 17  count                        int64  \n",
            " 18  srv_count                    int64  \n",
            " 19  serror_rate                  float64\n",
            " 20  srv_serror_rate              float64\n",
            " 21  rerror_rate                  float64\n",
            " 22  srv_rerror_rate              float64\n",
            " 23  same_srv_rate                float64\n",
            " 24  diff_srv_rate                float64\n",
            " 25  srv_diff_host_rate           float64\n",
            " 26  dst_host_count               int64  \n",
            " 27  dst_host_srv_count           int64  \n",
            " 28  dst_host_same_srv_rate       float64\n",
            " 29  dst_host_diff_srv_rate       float64\n",
            " 30  dst_host_same_src_port_rate  float64\n",
            " 31  dst_host_srv_diff_host_rate  float64\n",
            " 32  dst_host_serror_rate         float64\n",
            " 33  dst_host_srv_serror_rate     float64\n",
            " 34  dst_host_rerror_rate         float64\n",
            " 35  dst_host_srv_rerror_rate     float64\n",
            " 36  target                       object \n",
            " 37  protocol_type_icmp           uint8  \n",
            " 38  protocol_type_tcp            uint8  \n",
            " 39  protocol_type_udp            uint8  \n",
            " 40  flag_OTH                     uint8  \n",
            " 41  flag_REJ                     uint8  \n",
            " 42  flag_RSTO                    uint8  \n",
            " 43  flag_RSTOS0                  uint8  \n",
            " 44  flag_RSTR                    uint8  \n",
            " 45  flag_S0                      uint8  \n",
            " 46  flag_S1                      uint8  \n",
            " 47  flag_S2                      uint8  \n",
            " 48  flag_S3                      uint8  \n",
            " 49  flag_SF                      uint8  \n",
            " 50  flag_SH                      uint8  \n",
            " 51  wrong_fragment_0             uint8  \n",
            " 52  wrong_fragment_1             uint8  \n",
            " 53  wrong_fragment_3             uint8  \n",
            " 54  su_attempted_0               uint8  \n",
            " 55  su_attempted_1               uint8  \n",
            " 56  su_attempted_2               uint8  \n",
            "dtypes: float64(15), int64(20), object(2), uint8(20)\n",
            "memory usage: 1.4+ GB\n"
          ]
        }
      ]
    },
    {
      "cell_type": "code",
      "source": [
        "train.service.value_counts()"
      ],
      "metadata": {
        "colab": {
          "base_uri": "https://localhost:8080/"
        },
        "id": "qUTdl9ysXRYY",
        "outputId": "fb06613d-662f-42e4-bc55-56d8e37b4ce1"
      },
      "execution_count": 10,
      "outputs": [
        {
          "output_type": "execute_result",
          "data": {
            "text/plain": [
              "ecr_i        2811660\n",
              "private      1100831\n",
              "http          623091\n",
              "smtp           96554\n",
              "other          72653\n",
              "              ...   \n",
              "tftp_u             3\n",
              "harvest            2\n",
              "aol                2\n",
              "http_8001          2\n",
              "http_2784          1\n",
              "Name: service, Length: 70, dtype: int64"
            ]
          },
          "metadata": {},
          "execution_count": 10
        }
      ]
    },
    {
      "cell_type": "code",
      "source": [
        "test.service.value_counts()"
      ],
      "metadata": {
        "colab": {
          "base_uri": "https://localhost:8080/"
        },
        "id": "TgZ78DiyXRbG",
        "outputId": "1cae3ffa-1b50-40b6-812e-b83492a344a3"
      },
      "execution_count": 11,
      "outputs": [
        {
          "output_type": "execute_result",
          "data": {
            "text/plain": [
              "ecr_i      164352\n",
              "private     78510\n",
              "http        41237\n",
              "smtp         8268\n",
              "pop_3        3972\n",
              "            ...  \n",
              "pm_dump        16\n",
              "X11            15\n",
              "tim_i           7\n",
              "icmp            2\n",
              "tftp_u          1\n",
              "Name: service, Length: 65, dtype: int64"
            ]
          },
          "metadata": {},
          "execution_count": 11
        }
      ]
    },
    {
      "cell_type": "code",
      "source": [
        "# difference in service column values between train and test\n",
        "\n",
        "s = set(train.service.unique())\n",
        "temp = [x for x in test.service.unique() if x not in s]\n",
        "print('not in train')\n",
        "print(temp)\n",
        "s = set(test.service.unique())\n",
        "temp = [x for x in train.service.unique() if x not in s]\n",
        "print('not in test')\n",
        "print(temp)"
      ],
      "metadata": {
        "colab": {
          "base_uri": "https://localhost:8080/"
        },
        "id": "HmRuLaRRUpjD",
        "outputId": "2aa00003-59de-4b31-9e3f-32bf8d844fcf"
      },
      "execution_count": 12,
      "outputs": [
        {
          "output_type": "stream",
          "name": "stdout",
          "text": [
            "not in train\n",
            "['icmp']\n",
            "not in test\n",
            "['urh_i', 'http_2784', 'harvest', 'aol', 'http_8001', 'red_i']\n"
          ]
        }
      ]
    },
    {
      "cell_type": "code",
      "source": [
        "print(test[test['service'] == 'icmp'].shape[0])\n",
        "print(train[train['service'] == 'urh_i'].shape[0])\n",
        "print(train[train['service'] == 'http_2784'].shape[0])\n",
        "print(train[train['service'] == 'harvest'].shape[0])\n",
        "print(train[train['service'] == 'aol'].shape[0])\n",
        "print(train[train['service'] == 'http_8001'].shape[0])\n",
        "print(train[train['service'] == 'red_i'].shape[0])"
      ],
      "metadata": {
        "colab": {
          "base_uri": "https://localhost:8080/"
        },
        "id": "7aXkFW_fcx0h",
        "outputId": "4a332d79-2043-4735-ac7e-8754f0767457"
      },
      "execution_count": 13,
      "outputs": [
        {
          "output_type": "stream",
          "name": "stdout",
          "text": [
            "2\n",
            "148\n",
            "1\n",
            "2\n",
            "2\n",
            "2\n",
            "9\n"
          ]
        }
      ]
    },
    {
      "cell_type": "code",
      "source": [
        "# group these odd ones as other. another approach would be to drop them\n",
        "test.loc[test['service'] == 'icmp', 'service'] = 'other'\n",
        "train.loc[train['service'] == 'urh_i', 'service'] = 'other'\n",
        "train.loc[train['service'] == 'http_2784', 'service'] = 'other'\n",
        "train.loc[train['service'] == 'harvest', 'service'] = 'other'\n",
        "train.loc[train['service'] == 'aol', 'service'] = 'other'\n",
        "train.loc[train['service'] == 'http_8001', 'service'] = 'other'\n",
        "train.loc[train['service'] == 'red_i', 'service'] = 'other'"
      ],
      "metadata": {
        "id": "uwjGxzfnUplh"
      },
      "execution_count": 14,
      "outputs": []
    },
    {
      "cell_type": "code",
      "source": [
        "assert train.service.nunique() == test.service.nunique()\n",
        "train.service.nunique()"
      ],
      "metadata": {
        "colab": {
          "base_uri": "https://localhost:8080/"
        },
        "id": "vkgvYPlfcx3A",
        "outputId": "43dc3b7d-9ab7-4d2f-a296-cfdff8e20415"
      },
      "execution_count": 15,
      "outputs": [
        {
          "output_type": "execute_result",
          "data": {
            "text/plain": [
              "64"
            ]
          },
          "metadata": {},
          "execution_count": 15
        }
      ]
    },
    {
      "cell_type": "code",
      "source": [
        "test.service.value_counts()"
      ],
      "metadata": {
        "colab": {
          "base_uri": "https://localhost:8080/"
        },
        "id": "bqega48tfW6V",
        "outputId": "84329129-2de6-4617-a41a-78493d83bc0c"
      },
      "execution_count": 16,
      "outputs": [
        {
          "output_type": "execute_result",
          "data": {
            "text/plain": [
              "ecr_i      164352\n",
              "private     78510\n",
              "http        41237\n",
              "smtp         8268\n",
              "pop_3        3972\n",
              "            ...  \n",
              "IRC            24\n",
              "pm_dump        16\n",
              "X11            15\n",
              "tim_i           7\n",
              "tftp_u          1\n",
              "Name: service, Length: 64, dtype: int64"
            ]
          },
          "metadata": {},
          "execution_count": 16
        }
      ]
    },
    {
      "cell_type": "code",
      "source": [
        "train.service.value_counts()"
      ],
      "metadata": {
        "colab": {
          "base_uri": "https://localhost:8080/"
        },
        "id": "Hg1ggf3CfW9H",
        "outputId": "ad1dd4e9-0c4e-4e01-cdd0-cf740060ef7e"
      },
      "execution_count": 17,
      "outputs": [
        {
          "output_type": "execute_result",
          "data": {
            "text/plain": [
              "ecr_i      2811660\n",
              "private    1100831\n",
              "http        623091\n",
              "smtp         96554\n",
              "other        72817\n",
              "            ...   \n",
              "IRC            521\n",
              "X11            135\n",
              "tim_i           12\n",
              "pm_dump          5\n",
              "tftp_u           3\n",
              "Name: service, Length: 64, dtype: int64"
            ]
          },
          "metadata": {},
          "execution_count": 17
        }
      ]
    },
    {
      "cell_type": "code",
      "source": [
        "train.loc[train['service'] == 'tftp_u', 'service'] = 'other'\n",
        "train.loc[train['service'] == 'tim_i', 'service'] = 'other'\n",
        "train.loc[train['service'] == 'pm_dump', 'service'] = 'other'\n",
        "test.loc[test['service'] == 'tftp_u', 'service'] = 'other'\n",
        "test.loc[test['service'] == 'tim_i', 'service'] = 'other'\n",
        "test.loc[test['service'] == 'pm_dump', 'service'] = 'other'"
      ],
      "metadata": {
        "id": "pM6fmWrMcx5c"
      },
      "execution_count": 18,
      "outputs": []
    },
    {
      "cell_type": "code",
      "source": [
        "train = pd.get_dummies(train, columns=['service'])\n",
        "test = pd.get_dummies(test, columns=['service'])"
      ],
      "metadata": {
        "id": "RdFsZU8Dgfmo"
      },
      "execution_count": 19,
      "outputs": []
    },
    {
      "cell_type": "code",
      "source": [
        "train.shape"
      ],
      "metadata": {
        "colab": {
          "base_uri": "https://localhost:8080/"
        },
        "id": "PQeCwWBVgfpZ",
        "outputId": "740a3c91-022f-498f-974b-e79f99956001"
      },
      "execution_count": 20,
      "outputs": [
        {
          "output_type": "execute_result",
          "data": {
            "text/plain": [
              "(4898431, 117)"
            ]
          },
          "metadata": {},
          "execution_count": 20
        }
      ]
    },
    {
      "cell_type": "code",
      "source": [
        "print(train.target.nunique())\n",
        "print(test.target.nunique())"
      ],
      "metadata": {
        "colab": {
          "base_uri": "https://localhost:8080/"
        },
        "id": "T15_q9oHPI9g",
        "outputId": "4f66aa93-f949-434d-ee72-10c017c7287b"
      },
      "execution_count": 21,
      "outputs": [
        {
          "output_type": "stream",
          "name": "stdout",
          "text": [
            "23\n",
            "38\n"
          ]
        }
      ]
    },
    {
      "cell_type": "code",
      "source": [
        "# create a set of sample for outcomes never seen in training\n",
        "new_test = test.copy(deep=True)\n",
        "for outcome in train.target.unique():\n",
        "  new_test = new_test[new_test['target'] != outcome]\n",
        "new_test.shape"
      ],
      "metadata": {
        "colab": {
          "base_uri": "https://localhost:8080/"
        },
        "id": "OZf5rgpgeUkE",
        "outputId": "53d12a0d-88e3-4e06-8af6-c1b28eec5208"
      },
      "execution_count": 22,
      "outputs": [
        {
          "output_type": "execute_result",
          "data": {
            "text/plain": [
              "(18729, 117)"
            ]
          },
          "metadata": {},
          "execution_count": 22
        }
      ]
    },
    {
      "cell_type": "code",
      "source": [
        "new_test.target.value_counts()"
      ],
      "metadata": {
        "colab": {
          "base_uri": "https://localhost:8080/"
        },
        "id": "TbfVG6qGh5Ag",
        "outputId": "c1fd7e49-0214-4fdf-9198-3d639d5be89a"
      },
      "execution_count": 23,
      "outputs": [
        {
          "output_type": "execute_result",
          "data": {
            "text/plain": [
              "snmpgetattack.    7741\n",
              "mailbomb.         5000\n",
              "snmpguess.        2406\n",
              "mscan.            1053\n",
              "apache2.           794\n",
              "processtable.      759\n",
              "saint.             736\n",
              "httptunnel.        158\n",
              "sendmail.           17\n",
              "named.              17\n",
              "ps.                 16\n",
              "xterm.              13\n",
              "xlock.               9\n",
              "xsnoop.              4\n",
              "udpstorm.            2\n",
              "worm.                2\n",
              "sqlattack.           2\n",
              "Name: target, dtype: int64"
            ]
          },
          "metadata": {},
          "execution_count": 23
        }
      ]
    },
    {
      "cell_type": "code",
      "source": [
        "train.loc[train['target'] != 'normal.', 'target'] = 1\n",
        "train.loc[train['target'] == 'normal.', 'target'] = 0\n",
        "test.loc[test['target'] != 'normal.', 'target'] = 1\n",
        "test.loc[test['target'] == 'normal.', 'target'] = 0\n",
        "train['target'] = train['target'].astype(int)\n",
        "test['target'] = test['target'].astype(int)\n",
        "new_test['target'] = 1\n",
        "new_test['target'] = new_test['target'].astype(int)"
      ],
      "metadata": {
        "id": "asaHJgfVPJAN"
      },
      "execution_count": 24,
      "outputs": []
    },
    {
      "cell_type": "code",
      "source": [
        "display((train.target.value_counts()[1]/train.shape[0])*100)\n",
        "display((test.target.value_counts()[1]/test.shape[0])*100)"
      ],
      "metadata": {
        "colab": {
          "base_uri": "https://localhost:8080/",
          "height": 53
        },
        "id": "U-WwDgZ8PJIL",
        "outputId": "65ff59ff-566b-41f9-c547-260eb3ed148e"
      },
      "execution_count": 25,
      "outputs": [
        {
          "output_type": "display_data",
          "data": {
            "text/plain": [
              "80.14096758737644"
            ]
          },
          "metadata": {}
        },
        {
          "output_type": "display_data",
          "data": {
            "text/plain": [
              "80.51853685669182"
            ]
          },
          "metadata": {}
        }
      ]
    },
    {
      "cell_type": "code",
      "source": [
        "x_train = train.drop('target', axis='columns')\n",
        "y_train = train.target\n",
        "x_test = test.drop('target', axis='columns')\n",
        "y_test = test.target\n",
        "x_new_test = new_test.drop('target', axis='columns')\n",
        "y_new_test = new_test.target"
      ],
      "metadata": {
        "id": "5ixjZA7siVjl"
      },
      "execution_count": 26,
      "outputs": []
    },
    {
      "cell_type": "markdown",
      "source": [
        "# IsolationForest"
      ],
      "metadata": {
        "id": "PYdtMkOylmAr"
      }
    },
    {
      "cell_type": "code",
      "source": [
        "%%time\n",
        "from sklearn.ensemble import IsolationForest\n",
        "model = IsolationForest(n_jobs=1, random_state=seed)\n",
        "model.fit(x_train, y_train)"
      ],
      "metadata": {
        "colab": {
          "base_uri": "https://localhost:8080/"
        },
        "id": "fbLDpz2Ihdw2",
        "outputId": "031c3a37-82de-4898-a05b-2d87c5048b72"
      },
      "execution_count": 27,
      "outputs": [
        {
          "output_type": "stream",
          "name": "stdout",
          "text": [
            "CPU times: user 4min 4s, sys: 3.68 s, total: 4min 7s\n",
            "Wall time: 4min 7s\n"
          ]
        }
      ]
    },
    {
      "cell_type": "code",
      "source": [
        "%%time\n",
        "y_pred = model.predict(x_test)"
      ],
      "metadata": {
        "colab": {
          "base_uri": "https://localhost:8080/"
        },
        "id": "o91bIwb_hd0i",
        "outputId": "17be592c-94cf-4e03-e2be-4b52f4973623"
      },
      "execution_count": 28,
      "outputs": [
        {
          "output_type": "stream",
          "name": "stdout",
          "text": [
            "CPU times: user 22.8 s, sys: 193 ms, total: 23 s\n",
            "Wall time: 22.9 s\n"
          ]
        }
      ]
    },
    {
      "cell_type": "code",
      "source": [
        "y_pred = pd.Series(y_pred)\n",
        "y_pred[y_pred==-1] = 0"
      ],
      "metadata": {
        "id": "XH1nbVc-v8nG"
      },
      "execution_count": 29,
      "outputs": []
    },
    {
      "cell_type": "code",
      "source": [
        "auprc = tf.keras.metrics.AUC(curve='PR')\n",
        "auprc.update_state(y_test, y_pred)\n",
        "auprc.result().numpy()"
      ],
      "metadata": {
        "colab": {
          "base_uri": "https://localhost:8080/"
        },
        "id": "78F-n66y6TA2",
        "outputId": "be667799-39c7-4f2a-e920-88a5ab8347ca"
      },
      "execution_count": 30,
      "outputs": [
        {
          "output_type": "execute_result",
          "data": {
            "text/plain": [
              "0.7799263"
            ]
          },
          "metadata": {},
          "execution_count": 30
        }
      ]
    },
    {
      "cell_type": "code",
      "source": [
        "from sklearn.metrics import classification_report\n",
        "print(classification_report(y_test, y_pred))"
      ],
      "metadata": {
        "colab": {
          "base_uri": "https://localhost:8080/"
        },
        "id": "IZlEuXDg-zRN",
        "outputId": "1d502cf1-77c9-4300-cdab-dd6157751b52"
      },
      "execution_count": 31,
      "outputs": [
        {
          "output_type": "stream",
          "name": "stdout",
          "text": [
            "              precision    recall  f1-score   support\n",
            "\n",
            "           0       0.13      0.24      0.17     60593\n",
            "           1       0.77      0.63      0.69    250436\n",
            "\n",
            "    accuracy                           0.55    311029\n",
            "   macro avg       0.45      0.43      0.43    311029\n",
            "weighted avg       0.65      0.55      0.59    311029\n",
            "\n"
          ]
        }
      ]
    },
    {
      "cell_type": "code",
      "source": [
        "y_pred = model.predict(x_new_test)\n",
        "y_pred = pd.Series(y_pred)\n",
        "y_pred[y_pred==-1] = 0"
      ],
      "metadata": {
        "id": "YiwwqN48iw5b"
      },
      "execution_count": 32,
      "outputs": []
    },
    {
      "cell_type": "code",
      "source": [
        "auprc = tf.keras.metrics.AUC(curve='PR')\n",
        "auprc.update_state(y_new_test, y_pred)\n",
        "auprc.result().numpy()"
      ],
      "metadata": {
        "colab": {
          "base_uri": "https://localhost:8080/"
        },
        "id": "LBUYC19oiw_F",
        "outputId": "781e4659-cc9b-445e-c8d1-f4b4ffba48c1"
      },
      "execution_count": 33,
      "outputs": [
        {
          "output_type": "execute_result",
          "data": {
            "text/plain": [
              "1.0"
            ]
          },
          "metadata": {},
          "execution_count": 33
        }
      ]
    },
    {
      "cell_type": "code",
      "source": [
        "m = tf.keras.metrics.Accuracy()\n",
        "m.update_state(y_new_test, y_pred)\n",
        "m.result().numpy()"
      ],
      "metadata": {
        "colab": {
          "base_uri": "https://localhost:8080/"
        },
        "id": "SKcL9tesS7Pt",
        "outputId": "65d50ba1-3732-4fb5-afcb-652b95618fee"
      },
      "execution_count": 34,
      "outputs": [
        {
          "output_type": "execute_result",
          "data": {
            "text/plain": [
              "0.29836082"
            ]
          },
          "metadata": {},
          "execution_count": 34
        }
      ]
    },
    {
      "cell_type": "code",
      "source": [
        "print(classification_report(y_new_test, y_pred))"
      ],
      "metadata": {
        "colab": {
          "base_uri": "https://localhost:8080/"
        },
        "id": "gOURsZiUixD3",
        "outputId": "c056ab58-9e29-4527-d863-4bbffd9668fb"
      },
      "execution_count": 35,
      "outputs": [
        {
          "output_type": "stream",
          "name": "stdout",
          "text": [
            "              precision    recall  f1-score   support\n",
            "\n",
            "           0       0.00      0.00      0.00         0\n",
            "           1       1.00      0.30      0.46     18729\n",
            "\n",
            "    accuracy                           0.30     18729\n",
            "   macro avg       0.50      0.15      0.23     18729\n",
            "weighted avg       1.00      0.30      0.46     18729\n",
            "\n"
          ]
        },
        {
          "output_type": "stream",
          "name": "stderr",
          "text": [
            "/usr/local/lib/python3.7/dist-packages/sklearn/metrics/_classification.py:1318: UndefinedMetricWarning: Recall and F-score are ill-defined and being set to 0.0 in labels with no true samples. Use `zero_division` parameter to control this behavior.\n",
            "  _warn_prf(average, modifier, msg_start, len(result))\n",
            "/usr/local/lib/python3.7/dist-packages/sklearn/metrics/_classification.py:1318: UndefinedMetricWarning: Recall and F-score are ill-defined and being set to 0.0 in labels with no true samples. Use `zero_division` parameter to control this behavior.\n",
            "  _warn_prf(average, modifier, msg_start, len(result))\n",
            "/usr/local/lib/python3.7/dist-packages/sklearn/metrics/_classification.py:1318: UndefinedMetricWarning: Recall and F-score are ill-defined and being set to 0.0 in labels with no true samples. Use `zero_division` parameter to control this behavior.\n",
            "  _warn_prf(average, modifier, msg_start, len(result))\n"
          ]
        }
      ]
    },
    {
      "cell_type": "markdown",
      "source": [
        "# XGBoost\n",
        "\n",
        "10% of training data due to memory limit"
      ],
      "metadata": {
        "id": "rAtcmiA69hky"
      }
    },
    {
      "cell_type": "code",
      "source": [
        "from sklearn.model_selection import train_test_split\n",
        "train, val = train_test_split(train, test_size=.1, stratify=train.target, random_state=seed)\n",
        "train.shape, val.shape, test.shape"
      ],
      "metadata": {
        "colab": {
          "base_uri": "https://localhost:8080/"
        },
        "id": "RBNBqpMF90Eg",
        "outputId": "16f86d43-827c-4391-d624-68836d654f9e"
      },
      "execution_count": 36,
      "outputs": [
        {
          "output_type": "execute_result",
          "data": {
            "text/plain": [
              "((4408587, 117), (489844, 117), (311029, 117))"
            ]
          },
          "metadata": {},
          "execution_count": 36
        }
      ]
    },
    {
      "cell_type": "code",
      "source": [
        "train_10 = train.sample(frac=0.1, random_state=seed)\n",
        "train_10.shape"
      ],
      "metadata": {
        "colab": {
          "base_uri": "https://localhost:8080/"
        },
        "id": "lBEUYN11-AvH",
        "outputId": "62688a86-daee-4845-95db-4dddc9bcc63d"
      },
      "execution_count": 37,
      "outputs": [
        {
          "output_type": "execute_result",
          "data": {
            "text/plain": [
              "(440859, 117)"
            ]
          },
          "metadata": {},
          "execution_count": 37
        }
      ]
    },
    {
      "cell_type": "code",
      "source": [
        "x_train = train_10.drop('target', axis='columns')\n",
        "y_train = train_10.target\n",
        "x_val = val.drop('target', axis='columns')\n",
        "y_val = val.target\n",
        "x_test = test.drop('target', axis='columns')\n",
        "y_test = test.target"
      ],
      "metadata": {
        "id": "E883C6_a98pk"
      },
      "execution_count": 38,
      "outputs": []
    },
    {
      "cell_type": "code",
      "source": [
        "import xgboost as xgb\n",
        "xgb.__version__"
      ],
      "metadata": {
        "colab": {
          "base_uri": "https://localhost:8080/",
          "height": 35
        },
        "id": "PluDuzru6TDi",
        "outputId": "e206cc10-dae3-4591-f4d3-7f3fd8d98025"
      },
      "execution_count": 39,
      "outputs": [
        {
          "output_type": "execute_result",
          "data": {
            "text/plain": [
              "'0.90'"
            ],
            "application/vnd.google.colaboratory.intrinsic+json": {
              "type": "string"
            }
          },
          "metadata": {},
          "execution_count": 39
        }
      ]
    },
    {
      "cell_type": "code",
      "source": [
        "model = xgb.XGBClassifier(random_state=seed, tree_method='gpu_hist')\n",
        "model.fit(x_train, y_train, eval_metric='aucpr', eval_set=[(x_train, y_train), (x_val, y_val)])"
      ],
      "metadata": {
        "colab": {
          "base_uri": "https://localhost:8080/"
        },
        "id": "ZNUg9urd9gn4",
        "outputId": "a0e8c60e-2a3d-4b72-b159-6a54d1286ace"
      },
      "execution_count": 40,
      "outputs": [
        {
          "output_type": "stream",
          "name": "stdout",
          "text": [
            "[0]\tvalidation_0-aucpr:0.99948\tvalidation_1-aucpr:0.999497\n",
            "[1]\tvalidation_0-aucpr:0.99948\tvalidation_1-aucpr:0.999497\n",
            "[2]\tvalidation_0-aucpr:0.999928\tvalidation_1-aucpr:0.999927\n",
            "[3]\tvalidation_0-aucpr:0.999928\tvalidation_1-aucpr:0.999927\n",
            "[4]\tvalidation_0-aucpr:0.999933\tvalidation_1-aucpr:0.999929\n",
            "[5]\tvalidation_0-aucpr:0.999934\tvalidation_1-aucpr:0.99993\n",
            "[6]\tvalidation_0-aucpr:0.999938\tvalidation_1-aucpr:0.999933\n",
            "[7]\tvalidation_0-aucpr:0.999938\tvalidation_1-aucpr:0.999933\n",
            "[8]\tvalidation_0-aucpr:0.999939\tvalidation_1-aucpr:0.999934\n",
            "[9]\tvalidation_0-aucpr:0.999939\tvalidation_1-aucpr:0.999934\n",
            "[10]\tvalidation_0-aucpr:0.999938\tvalidation_1-aucpr:0.999934\n",
            "[11]\tvalidation_0-aucpr:0.999939\tvalidation_1-aucpr:0.999934\n",
            "[12]\tvalidation_0-aucpr:0.999948\tvalidation_1-aucpr:0.99994\n",
            "[13]\tvalidation_0-aucpr:0.999968\tvalidation_1-aucpr:0.999958\n",
            "[14]\tvalidation_0-aucpr:0.999967\tvalidation_1-aucpr:0.999957\n",
            "[15]\tvalidation_0-aucpr:0.999988\tvalidation_1-aucpr:0.999979\n",
            "[16]\tvalidation_0-aucpr:0.999988\tvalidation_1-aucpr:0.999979\n",
            "[17]\tvalidation_0-aucpr:0.99999\tvalidation_1-aucpr:0.999981\n",
            "[18]\tvalidation_0-aucpr:0.99999\tvalidation_1-aucpr:0.999981\n",
            "[19]\tvalidation_0-aucpr:0.99999\tvalidation_1-aucpr:0.999981\n",
            "[20]\tvalidation_0-aucpr:0.99999\tvalidation_1-aucpr:0.999981\n",
            "[21]\tvalidation_0-aucpr:0.99999\tvalidation_1-aucpr:0.999981\n",
            "[22]\tvalidation_0-aucpr:0.99999\tvalidation_1-aucpr:0.999982\n",
            "[23]\tvalidation_0-aucpr:0.99999\tvalidation_1-aucpr:0.999981\n",
            "[24]\tvalidation_0-aucpr:0.999991\tvalidation_1-aucpr:0.999982\n",
            "[25]\tvalidation_0-aucpr:0.999991\tvalidation_1-aucpr:0.999982\n",
            "[26]\tvalidation_0-aucpr:0.999991\tvalidation_1-aucpr:0.999982\n",
            "[27]\tvalidation_0-aucpr:0.999991\tvalidation_1-aucpr:0.999982\n",
            "[28]\tvalidation_0-aucpr:0.999991\tvalidation_1-aucpr:0.999982\n",
            "[29]\tvalidation_0-aucpr:0.999991\tvalidation_1-aucpr:0.999983\n",
            "[30]\tvalidation_0-aucpr:0.999991\tvalidation_1-aucpr:0.999983\n",
            "[31]\tvalidation_0-aucpr:0.999991\tvalidation_1-aucpr:0.999983\n",
            "[32]\tvalidation_0-aucpr:0.999992\tvalidation_1-aucpr:0.999983\n",
            "[33]\tvalidation_0-aucpr:0.999992\tvalidation_1-aucpr:0.999984\n",
            "[34]\tvalidation_0-aucpr:0.999993\tvalidation_1-aucpr:0.999984\n",
            "[35]\tvalidation_0-aucpr:0.999993\tvalidation_1-aucpr:0.999984\n",
            "[36]\tvalidation_0-aucpr:0.999994\tvalidation_1-aucpr:0.999985\n",
            "[37]\tvalidation_0-aucpr:0.999993\tvalidation_1-aucpr:0.999984\n",
            "[38]\tvalidation_0-aucpr:0.999994\tvalidation_1-aucpr:0.999984\n",
            "[39]\tvalidation_0-aucpr:0.999994\tvalidation_1-aucpr:0.999985\n",
            "[40]\tvalidation_0-aucpr:0.999994\tvalidation_1-aucpr:0.999985\n",
            "[41]\tvalidation_0-aucpr:0.999994\tvalidation_1-aucpr:0.999985\n",
            "[42]\tvalidation_0-aucpr:0.999994\tvalidation_1-aucpr:0.999985\n",
            "[43]\tvalidation_0-aucpr:0.999994\tvalidation_1-aucpr:0.999985\n",
            "[44]\tvalidation_0-aucpr:0.999994\tvalidation_1-aucpr:0.999985\n",
            "[45]\tvalidation_0-aucpr:0.999994\tvalidation_1-aucpr:0.999986\n",
            "[46]\tvalidation_0-aucpr:0.999995\tvalidation_1-aucpr:0.999986\n",
            "[47]\tvalidation_0-aucpr:0.999995\tvalidation_1-aucpr:0.999986\n",
            "[48]\tvalidation_0-aucpr:0.999995\tvalidation_1-aucpr:0.999986\n",
            "[49]\tvalidation_0-aucpr:0.999995\tvalidation_1-aucpr:0.999986\n",
            "[50]\tvalidation_0-aucpr:0.999995\tvalidation_1-aucpr:0.999986\n",
            "[51]\tvalidation_0-aucpr:0.999995\tvalidation_1-aucpr:0.999986\n",
            "[52]\tvalidation_0-aucpr:0.999995\tvalidation_1-aucpr:0.999986\n",
            "[53]\tvalidation_0-aucpr:0.999995\tvalidation_1-aucpr:0.999986\n",
            "[54]\tvalidation_0-aucpr:0.999995\tvalidation_1-aucpr:0.999987\n",
            "[55]\tvalidation_0-aucpr:0.999998\tvalidation_1-aucpr:0.999992\n",
            "[56]\tvalidation_0-aucpr:0.999998\tvalidation_1-aucpr:0.999992\n",
            "[57]\tvalidation_0-aucpr:0.999998\tvalidation_1-aucpr:0.999992\n",
            "[58]\tvalidation_0-aucpr:0.999998\tvalidation_1-aucpr:0.999992\n",
            "[59]\tvalidation_0-aucpr:0.999998\tvalidation_1-aucpr:0.999992\n",
            "[60]\tvalidation_0-aucpr:0.999999\tvalidation_1-aucpr:0.999992\n",
            "[61]\tvalidation_0-aucpr:0.999999\tvalidation_1-aucpr:0.999992\n",
            "[62]\tvalidation_0-aucpr:0.999999\tvalidation_1-aucpr:0.999992\n",
            "[63]\tvalidation_0-aucpr:0.999999\tvalidation_1-aucpr:0.999992\n",
            "[64]\tvalidation_0-aucpr:0.999999\tvalidation_1-aucpr:0.999992\n",
            "[65]\tvalidation_0-aucpr:0.999999\tvalidation_1-aucpr:0.999992\n",
            "[66]\tvalidation_0-aucpr:0.999999\tvalidation_1-aucpr:0.999992\n",
            "[67]\tvalidation_0-aucpr:0.999999\tvalidation_1-aucpr:0.999992\n",
            "[68]\tvalidation_0-aucpr:0.999999\tvalidation_1-aucpr:0.999993\n",
            "[69]\tvalidation_0-aucpr:0.999999\tvalidation_1-aucpr:0.999993\n",
            "[70]\tvalidation_0-aucpr:0.999999\tvalidation_1-aucpr:0.999998\n",
            "[71]\tvalidation_0-aucpr:0.999999\tvalidation_1-aucpr:0.999998\n",
            "[72]\tvalidation_0-aucpr:0.999999\tvalidation_1-aucpr:0.999998\n",
            "[73]\tvalidation_0-aucpr:0.999999\tvalidation_1-aucpr:0.999998\n",
            "[74]\tvalidation_0-aucpr:0.999999\tvalidation_1-aucpr:0.999998\n",
            "[75]\tvalidation_0-aucpr:0.999999\tvalidation_1-aucpr:0.999998\n",
            "[76]\tvalidation_0-aucpr:0.999999\tvalidation_1-aucpr:0.999998\n",
            "[77]\tvalidation_0-aucpr:0.999999\tvalidation_1-aucpr:0.999998\n",
            "[78]\tvalidation_0-aucpr:0.999999\tvalidation_1-aucpr:0.999998\n",
            "[79]\tvalidation_0-aucpr:0.999999\tvalidation_1-aucpr:0.999998\n",
            "[80]\tvalidation_0-aucpr:0.999999\tvalidation_1-aucpr:0.999998\n",
            "[81]\tvalidation_0-aucpr:0.999999\tvalidation_1-aucpr:0.999998\n",
            "[82]\tvalidation_0-aucpr:0.999999\tvalidation_1-aucpr:0.999998\n",
            "[83]\tvalidation_0-aucpr:0.999999\tvalidation_1-aucpr:0.999999\n",
            "[84]\tvalidation_0-aucpr:0.999999\tvalidation_1-aucpr:0.999999\n",
            "[85]\tvalidation_0-aucpr:0.999999\tvalidation_1-aucpr:0.999999\n",
            "[86]\tvalidation_0-aucpr:0.999999\tvalidation_1-aucpr:0.999999\n",
            "[87]\tvalidation_0-aucpr:0.999999\tvalidation_1-aucpr:0.999999\n",
            "[88]\tvalidation_0-aucpr:0.999999\tvalidation_1-aucpr:0.999999\n",
            "[89]\tvalidation_0-aucpr:0.999999\tvalidation_1-aucpr:0.999999\n",
            "[90]\tvalidation_0-aucpr:1\tvalidation_1-aucpr:0.999999\n",
            "[91]\tvalidation_0-aucpr:1\tvalidation_1-aucpr:0.999999\n",
            "[92]\tvalidation_0-aucpr:1\tvalidation_1-aucpr:0.999999\n",
            "[93]\tvalidation_0-aucpr:1\tvalidation_1-aucpr:0.999999\n",
            "[94]\tvalidation_0-aucpr:1\tvalidation_1-aucpr:0.999999\n",
            "[95]\tvalidation_0-aucpr:1\tvalidation_1-aucpr:0.999999\n",
            "[96]\tvalidation_0-aucpr:1\tvalidation_1-aucpr:0.999999\n",
            "[97]\tvalidation_0-aucpr:1\tvalidation_1-aucpr:0.999999\n",
            "[98]\tvalidation_0-aucpr:1\tvalidation_1-aucpr:0.999999\n",
            "[99]\tvalidation_0-aucpr:1\tvalidation_1-aucpr:0.999999\n"
          ]
        },
        {
          "output_type": "execute_result",
          "data": {
            "text/plain": [
              "XGBClassifier(random_state=53, tree_method='gpu_hist')"
            ]
          },
          "metadata": {},
          "execution_count": 40
        }
      ]
    },
    {
      "cell_type": "code",
      "source": [
        "y_pred = model.predict(x_test)"
      ],
      "metadata": {
        "id": "CzbgGFBh9grD"
      },
      "execution_count": 41,
      "outputs": []
    },
    {
      "cell_type": "code",
      "source": [
        "auprc = tf.keras.metrics.AUC(curve='PR')\n",
        "auprc.update_state(y_test, y_pred)\n",
        "auprc.result().numpy()"
      ],
      "metadata": {
        "colab": {
          "base_uri": "https://localhost:8080/"
        },
        "id": "MjViXrBa9guM",
        "outputId": "45463ffc-5687-4805-f007-c808297ca255"
      },
      "execution_count": 42,
      "outputs": [
        {
          "output_type": "execute_result",
          "data": {
            "text/plain": [
              "0.9892779"
            ]
          },
          "metadata": {},
          "execution_count": 42
        }
      ]
    },
    {
      "cell_type": "code",
      "source": [
        "print(classification_report(y_test, y_pred))"
      ],
      "metadata": {
        "colab": {
          "base_uri": "https://localhost:8080/"
        },
        "id": "fEEHD9GR-8fX",
        "outputId": "454dd5a5-cb4d-4374-8cc3-1d0abc065093"
      },
      "execution_count": 43,
      "outputs": [
        {
          "output_type": "stream",
          "name": "stdout",
          "text": [
            "              precision    recall  f1-score   support\n",
            "\n",
            "           0       0.73      1.00      0.84     60593\n",
            "           1       1.00      0.91      0.95    250436\n",
            "\n",
            "    accuracy                           0.93    311029\n",
            "   macro avg       0.86      0.95      0.90    311029\n",
            "weighted avg       0.95      0.93      0.93    311029\n",
            "\n"
          ]
        }
      ]
    },
    {
      "cell_type": "code",
      "source": [
        "y_pred = model.predict(x_new_test)"
      ],
      "metadata": {
        "id": "gEC4wQLEjXFD"
      },
      "execution_count": 44,
      "outputs": []
    },
    {
      "cell_type": "code",
      "source": [
        "auprc = tf.keras.metrics.AUC(curve='PR')\n",
        "auprc.update_state(y_new_test, y_pred)\n",
        "auprc.result().numpy()"
      ],
      "metadata": {
        "colab": {
          "base_uri": "https://localhost:8080/"
        },
        "id": "FLexcdQfjXO4",
        "outputId": "19ae1288-da74-485a-8eca-a10ea5f3b99c"
      },
      "execution_count": 45,
      "outputs": [
        {
          "output_type": "execute_result",
          "data": {
            "text/plain": [
              "1.0"
            ]
          },
          "metadata": {},
          "execution_count": 45
        }
      ]
    },
    {
      "cell_type": "code",
      "source": [
        "m = tf.keras.metrics.Accuracy()\n",
        "m.update_state(y_new_test, y_pred)\n",
        "m.result().numpy()"
      ],
      "metadata": {
        "colab": {
          "base_uri": "https://localhost:8080/"
        },
        "id": "F3i71N0gS383",
        "outputId": "c2d32c28-5ef6-4856-979a-c58886de18fa"
      },
      "execution_count": 46,
      "outputs": [
        {
          "output_type": "execute_result",
          "data": {
            "text/plain": [
              "0.08494847"
            ]
          },
          "metadata": {},
          "execution_count": 46
        }
      ]
    },
    {
      "cell_type": "code",
      "source": [
        "print(classification_report(y_new_test, y_pred))"
      ],
      "metadata": {
        "colab": {
          "base_uri": "https://localhost:8080/"
        },
        "id": "Yfq7u90NjXWf",
        "outputId": "46ae5726-7435-4bfb-9655-4f88375134ec"
      },
      "execution_count": 47,
      "outputs": [
        {
          "output_type": "stream",
          "name": "stdout",
          "text": [
            "              precision    recall  f1-score   support\n",
            "\n",
            "           0       0.00      0.00      0.00         0\n",
            "           1       1.00      0.08      0.16     18729\n",
            "\n",
            "    accuracy                           0.08     18729\n",
            "   macro avg       0.50      0.04      0.08     18729\n",
            "weighted avg       1.00      0.08      0.16     18729\n",
            "\n"
          ]
        },
        {
          "output_type": "stream",
          "name": "stderr",
          "text": [
            "/usr/local/lib/python3.7/dist-packages/sklearn/metrics/_classification.py:1318: UndefinedMetricWarning: Recall and F-score are ill-defined and being set to 0.0 in labels with no true samples. Use `zero_division` parameter to control this behavior.\n",
            "  _warn_prf(average, modifier, msg_start, len(result))\n",
            "/usr/local/lib/python3.7/dist-packages/sklearn/metrics/_classification.py:1318: UndefinedMetricWarning: Recall and F-score are ill-defined and being set to 0.0 in labels with no true samples. Use `zero_division` parameter to control this behavior.\n",
            "  _warn_prf(average, modifier, msg_start, len(result))\n",
            "/usr/local/lib/python3.7/dist-packages/sklearn/metrics/_classification.py:1318: UndefinedMetricWarning: Recall and F-score are ill-defined and being set to 0.0 in labels with no true samples. Use `zero_division` parameter to control this behavior.\n",
            "  _warn_prf(average, modifier, msg_start, len(result))\n"
          ]
        }
      ]
    },
    {
      "cell_type": "markdown",
      "source": [
        "# DNN"
      ],
      "metadata": {
        "id": "o7K9vC8MBfZi"
      }
    },
    {
      "cell_type": "code",
      "source": [
        "x_train = train.drop('target', axis='columns')\n",
        "y_train = train.target"
      ],
      "metadata": {
        "id": "FDlupetSBiN-"
      },
      "execution_count": 48,
      "outputs": []
    },
    {
      "cell_type": "code",
      "source": [
        "from sklearn.preprocessing import StandardScaler\n",
        "scaler = StandardScaler()\n",
        "x_train = scaler.fit_transform(x_train)\n",
        "x_val = scaler.transform(x_val)\n",
        "x_test = scaler.transform(x_test)\n",
        "x_new_test = scaler.transform(x_new_test)"
      ],
      "metadata": {
        "id": "mz6pWqPkBiQr"
      },
      "execution_count": 49,
      "outputs": []
    },
    {
      "cell_type": "code",
      "source": [
        "tf.keras.backend.clear_session()\n",
        "\n",
        "inp = tf.keras.Input(shape=(x_train.shape[1],))\n",
        "x = tf.keras.layers.Dense(512, activation='swish')(inp)\n",
        "x = tf.keras.layers.Dense(512, activation='swish')(x)\n",
        "x = tf.keras.layers.Dense(512, activation='swish')(x)\n",
        "x = tf.keras.layers.Dense(512, activation='swish')(x)\n",
        "x = tf.keras.layers.Dense(512, activation='swish')(x)\n",
        "x = tf.keras.layers.Dense(512, activation='swish')(x)\n",
        "x = tf.keras.layers.Dense(512, activation='swish')(x)\n",
        "x = tf.keras.layers.Dense(512, activation='swish')(x)\n",
        "x = tf.keras.layers.Dense(512, activation='swish')(x)\n",
        "x = tf.keras.layers.Dense(512, activation='swish')(x)\n",
        "x = tf.keras.layers.Dense(512, activation='swish')(x)\n",
        "x = tf.keras.layers.Dense(512, activation='swish')(x)\n",
        "\n",
        "out = tf.keras.layers.Dense(1, activation='sigmoid')(x)\n",
        "\n",
        "model = tf.keras.Model(inp, out)\n",
        "model.summary()"
      ],
      "metadata": {
        "colab": {
          "base_uri": "https://localhost:8080/"
        },
        "id": "SBNdA235BiS4",
        "outputId": "f0dfa7fd-bdb7-478e-bba8-bded89bbd2b5"
      },
      "execution_count": 50,
      "outputs": [
        {
          "output_type": "stream",
          "name": "stdout",
          "text": [
            "Model: \"model\"\n",
            "_________________________________________________________________\n",
            " Layer (type)                Output Shape              Param #   \n",
            "=================================================================\n",
            " input_1 (InputLayer)        [(None, 116)]             0         \n",
            "                                                                 \n",
            " dense (Dense)               (None, 512)               59904     \n",
            "                                                                 \n",
            " dense_1 (Dense)             (None, 512)               262656    \n",
            "                                                                 \n",
            " dense_2 (Dense)             (None, 512)               262656    \n",
            "                                                                 \n",
            " dense_3 (Dense)             (None, 512)               262656    \n",
            "                                                                 \n",
            " dense_4 (Dense)             (None, 512)               262656    \n",
            "                                                                 \n",
            " dense_5 (Dense)             (None, 512)               262656    \n",
            "                                                                 \n",
            " dense_6 (Dense)             (None, 512)               262656    \n",
            "                                                                 \n",
            " dense_7 (Dense)             (None, 512)               262656    \n",
            "                                                                 \n",
            " dense_8 (Dense)             (None, 512)               262656    \n",
            "                                                                 \n",
            " dense_9 (Dense)             (None, 512)               262656    \n",
            "                                                                 \n",
            " dense_10 (Dense)            (None, 512)               262656    \n",
            "                                                                 \n",
            " dense_11 (Dense)            (None, 512)               262656    \n",
            "                                                                 \n",
            " dense_12 (Dense)            (None, 1)                 513       \n",
            "                                                                 \n",
            "=================================================================\n",
            "Total params: 2,949,633\n",
            "Trainable params: 2,949,633\n",
            "Non-trainable params: 0\n",
            "_________________________________________________________________\n"
          ]
        }
      ]
    },
    {
      "cell_type": "code",
      "source": [
        "model.compile(optimizer=tf.keras.optimizers.Adam(learning_rate=1e-3),\n",
        "              loss='bce',\n",
        "              metrics=[tf.keras.metrics.AUC(curve='PR')])\n",
        "es = tf.keras.callbacks.EarlyStopping(patience=9, verbose=1, restore_best_weights=True)\n",
        "history = model.fit(x_train, y_train, epochs=500, callbacks=[es], verbose=2,\n",
        "                    validation_data=(x_val, y_val), batch_size=512)"
      ],
      "metadata": {
        "colab": {
          "base_uri": "https://localhost:8080/"
        },
        "id": "AJ9rRrtUCNwC",
        "outputId": "b3bc4390-93e0-4901-8c4f-671c17bf97d7"
      },
      "execution_count": 51,
      "outputs": [
        {
          "output_type": "stream",
          "name": "stdout",
          "text": [
            "Epoch 1/500\n",
            "8611/8611 - 54s - loss: 0.0461 - auc: 0.9996 - val_loss: 0.0016 - val_auc: 1.0000 - 54s/epoch - 6ms/step\n",
            "Epoch 2/500\n",
            "8611/8611 - 50s - loss: 0.0286 - auc: 0.9998 - val_loss: 0.0021 - val_auc: 0.9999 - 50s/epoch - 6ms/step\n",
            "Epoch 3/500\n",
            "8611/8611 - 50s - loss: 0.0240 - auc: 0.9997 - val_loss: 0.0016 - val_auc: 1.0000 - 50s/epoch - 6ms/step\n",
            "Epoch 4/500\n",
            "8611/8611 - 50s - loss: 0.0661 - auc: 0.9997 - val_loss: 0.0018 - val_auc: 1.0000 - 50s/epoch - 6ms/step\n",
            "Epoch 5/500\n",
            "8611/8611 - 50s - loss: 0.0122 - auc: 0.9999 - val_loss: 0.0100 - val_auc: 0.9998 - 50s/epoch - 6ms/step\n",
            "Epoch 6/500\n",
            "8611/8611 - 50s - loss: 0.0416 - auc: 0.9999 - val_loss: 0.0333 - val_auc: 0.9985 - 50s/epoch - 6ms/step\n",
            "Epoch 7/500\n",
            "8611/8611 - 49s - loss: 0.0195 - auc: 0.9998 - val_loss: 0.0028 - val_auc: 1.0000 - 49s/epoch - 6ms/step\n",
            "Epoch 8/500\n",
            "8611/8611 - 50s - loss: 0.0470 - auc: 0.9999 - val_loss: 0.0049 - val_auc: 1.0000 - 50s/epoch - 6ms/step\n",
            "Epoch 9/500\n",
            "8611/8611 - 50s - loss: 0.0121 - auc: 1.0000 - val_loss: 0.0025 - val_auc: 1.0000 - 50s/epoch - 6ms/step\n",
            "Epoch 10/500\n",
            "8611/8611 - 50s - loss: 0.0438 - auc: 0.9997 - val_loss: 0.0057 - val_auc: 0.9999 - 50s/epoch - 6ms/step\n",
            "Epoch 11/500\n",
            "8611/8611 - 50s - loss: 7.3262 - auc: 0.9998 - val_loss: 0.0028 - val_auc: 0.9999 - 50s/epoch - 6ms/step\n",
            "Epoch 12/500\n",
            "Restoring model weights from the end of the best epoch: 3.\n",
            "8611/8611 - 49s - loss: 1.5842 - auc: 0.9998 - val_loss: 0.0031 - val_auc: 1.0000 - 49s/epoch - 6ms/step\n",
            "Epoch 12: early stopping\n"
          ]
        }
      ]
    },
    {
      "cell_type": "code",
      "source": [
        "import matplotlib.pyplot as plt\n",
        "import seaborn as sns\n",
        "\n",
        "history = history.history\n",
        "\n",
        "fig, (ax1, ax2) = plt.subplots(2, 1, sharex='col', figsize=(20, 14))\n",
        "\n",
        "ax1.plot(history['loss'], label='Train loss')\n",
        "ax1.plot(history['val_loss'], label='Validation loss')\n",
        "ax1.legend(loc='best')\n",
        "ax1.set_title('Loss')\n",
        "\n",
        "ax2.plot(history['auc'], label='Train accuracy')\n",
        "ax2.plot(history['val_auc'], label='Validation accuracy')\n",
        "ax2.legend(loc='best')\n",
        "ax2.set_title('AUPRC')\n",
        "\n",
        "plt.xlabel('Epochs')\n",
        "sns.despine()\n",
        "plt.show()"
      ],
      "metadata": {
        "colab": {
          "base_uri": "https://localhost:8080/",
          "height": 839
        },
        "id": "ua3n1Z4DCt16",
        "outputId": "3248057a-6fe7-4dab-b418-baff4346b26c"
      },
      "execution_count": 52,
      "outputs": [
        {
          "output_type": "display_data",
          "data": {
            "text/plain": [
              "<Figure size 1440x1008 with 2 Axes>"
            ],
            "image/png": "[encoded data removed]"
          },
          "metadata": {
            "needs_background": "light"
          }
        }
      ]
    },
    {
      "cell_type": "code",
      "source": [
        "model.evaluate(x_test, y_test)"
      ],
      "metadata": {
        "colab": {
          "base_uri": "https://localhost:8080/"
        },
        "id": "ATJv3W5JCNym",
        "outputId": "74eedede-236f-4d4a-c8d0-6fc4fa67d279"
      },
      "execution_count": 53,
      "outputs": [
        {
          "output_type": "stream",
          "name": "stdout",
          "text": [
            "9720/9720 [==============================] - 36s 4ms/step - loss: 3.7501 - auc: 0.9881\n"
          ]
        },
        {
          "output_type": "execute_result",
          "data": {
            "text/plain": [
              "[3.750112533569336, 0.9880948662757874]"
            ]
          },
          "metadata": {},
          "execution_count": 53
        }
      ]
    },
    {
      "cell_type": "code",
      "source": [
        "y_pred = model.predict(x_test)"
      ],
      "metadata": {
        "id": "y47BGKh2kkSd"
      },
      "execution_count": 54,
      "outputs": []
    },
    {
      "cell_type": "code",
      "source": [
        "import numpy as np\n",
        "y_pred = [y_pred > 0.5]\n",
        "y_pred = np.multiply(y_pred, 1)[0]"
      ],
      "metadata": {
        "id": "bAkyaKxys8XK"
      },
      "execution_count": 55,
      "outputs": []
    },
    {
      "cell_type": "code",
      "source": [
        "print(classification_report(y_test, y_pred))"
      ],
      "metadata": {
        "colab": {
          "base_uri": "https://localhost:8080/"
        },
        "id": "uaMeFNoPTVlo",
        "outputId": "28599cac-8109-4997-ec17-43f513cdc73e"
      },
      "execution_count": 56,
      "outputs": [
        {
          "output_type": "stream",
          "name": "stdout",
          "text": [
            "              precision    recall  f1-score   support\n",
            "\n",
            "           0       0.73      0.98      0.84     60593\n",
            "           1       1.00      0.91      0.95    250436\n",
            "\n",
            "    accuracy                           0.93    311029\n",
            "   macro avg       0.86      0.95      0.89    311029\n",
            "weighted avg       0.94      0.93      0.93    311029\n",
            "\n"
          ]
        }
      ]
    },
    {
      "cell_type": "code",
      "source": [
        "model.evaluate(x_new_test, y_new_test)"
      ],
      "metadata": {
        "colab": {
          "base_uri": "https://localhost:8080/"
        },
        "id": "L3enmSoukf0i",
        "outputId": "4933db3a-736b-44c3-b61a-7fa42414c0ad"
      },
      "execution_count": 57,
      "outputs": [
        {
          "output_type": "stream",
          "name": "stdout",
          "text": [
            "586/586 [==============================] - 2s 4ms/step - loss: 19.6314 - auc: 1.0000\n"
          ]
        },
        {
          "output_type": "execute_result",
          "data": {
            "text/plain": [
              "[19.631364822387695, 0.9999999403953552]"
            ]
          },
          "metadata": {},
          "execution_count": 57
        }
      ]
    },
    {
      "cell_type": "code",
      "source": [
        "y_pred = model.predict(x_new_test)\n",
        "y_pred = [y_pred > 0.5]\n",
        "y_pred = np.multiply(y_pred, 1)[0]"
      ],
      "metadata": {
        "id": "t93-1tVTkf3d"
      },
      "execution_count": 58,
      "outputs": []
    },
    {
      "cell_type": "code",
      "source": [
        "m = tf.keras.metrics.Accuracy()\n",
        "m.update_state(y_new_test, y_pred)\n",
        "m.result().numpy()"
      ],
      "metadata": {
        "colab": {
          "base_uri": "https://localhost:8080/"
        },
        "id": "XbaK055sSzkd",
        "outputId": "96841e42-6b39-4ee6-8e3a-734f6fa33a6b"
      },
      "execution_count": 59,
      "outputs": [
        {
          "output_type": "execute_result",
          "data": {
            "text/plain": [
              "0.120027766"
            ]
          },
          "metadata": {},
          "execution_count": 59
        }
      ]
    },
    {
      "cell_type": "code",
      "source": [
        "print(classification_report(y_new_test, y_pred))"
      ],
      "metadata": {
        "colab": {
          "base_uri": "https://localhost:8080/"
        },
        "id": "UEN9YjyYkx9q",
        "outputId": "7f3e186a-9149-44b5-e9d9-3202bcdd8ec4"
      },
      "execution_count": 60,
      "outputs": [
        {
          "output_type": "stream",
          "name": "stdout",
          "text": [
            "              precision    recall  f1-score   support\n",
            "\n",
            "           0       0.00      0.00      0.00         0\n",
            "           1       1.00      0.12      0.21     18729\n",
            "\n",
            "    accuracy                           0.12     18729\n",
            "   macro avg       0.50      0.06      0.11     18729\n",
            "weighted avg       1.00      0.12      0.21     18729\n",
            "\n"
          ]
        },
        {
          "output_type": "stream",
          "name": "stderr",
          "text": [
            "/usr/local/lib/python3.7/dist-packages/sklearn/metrics/_classification.py:1318: UndefinedMetricWarning: Recall and F-score are ill-defined and being set to 0.0 in labels with no true samples. Use `zero_division` parameter to control this behavior.\n",
            "  _warn_prf(average, modifier, msg_start, len(result))\n",
            "/usr/local/lib/python3.7/dist-packages/sklearn/metrics/_classification.py:1318: UndefinedMetricWarning: Recall and F-score are ill-defined and being set to 0.0 in labels with no true samples. Use `zero_division` parameter to control this behavior.\n",
            "  _warn_prf(average, modifier, msg_start, len(result))\n",
            "/usr/local/lib/python3.7/dist-packages/sklearn/metrics/_classification.py:1318: UndefinedMetricWarning: Recall and F-score are ill-defined and being set to 0.0 in labels with no true samples. Use `zero_division` parameter to control this behavior.\n",
            "  _warn_prf(average, modifier, msg_start, len(result))\n"
          ]
        }
      ]
    },
    {
      "cell_type": "markdown",
      "source": [
        "# Autoencoder"
      ],
      "metadata": {
        "id": "KYXvuR_wBiqW"
      }
    },
    {
      "cell_type": "code",
      "source": [
        "tf.keras.backend.clear_session()\n",
        "inp = tf.keras.Input(shape=(x_train.shape[1],))\n",
        "x = tf.keras.layers.Dense(256, activation='swish')(inp)\n",
        "x = tf.keras.layers.Dense(200, activation='swish')(x)\n",
        "x = tf.keras.layers.Dense(166, activation='swish')(x)\n",
        "x = tf.keras.layers.Dense(133, activation='swish')(x)\n",
        "\n",
        "enc = tf.keras.layers.Dense(100, activation='swish')(x)\n",
        "\n",
        "x = tf.keras.layers.Dense(105, activation='swish')(enc)\n",
        "x = tf.keras.layers.Dense(110, activation='swish')(x)\n",
        "out = tf.keras.layers.Dense(x_train.shape[1])(x)\n",
        "\n",
        "model = tf.keras.Model(inp, out)\n",
        "model.summary()"
      ],
      "metadata": {
        "colab": {
          "base_uri": "https://localhost:8080/"
        },
        "id": "SU8JX5MGBnJz",
        "outputId": "09af181c-b068-465b-e638-ad4a2e427aa6"
      },
      "execution_count": 61,
      "outputs": [
        {
          "output_type": "stream",
          "name": "stdout",
          "text": [
            "Model: \"model\"\n",
            "_________________________________________________________________\n",
            " Layer (type)                Output Shape              Param #   \n",
            "=================================================================\n",
            " input_1 (InputLayer)        [(None, 116)]             0         \n",
            "                                                                 \n",
            " dense (Dense)               (None, 256)               29952     \n",
            "                                                                 \n",
            " dense_1 (Dense)             (None, 200)               51400     \n",
            "                                                                 \n",
            " dense_2 (Dense)             (None, 166)               33366     \n",
            "                                                                 \n",
            " dense_3 (Dense)             (None, 133)               22211     \n",
            "                                                                 \n",
            " dense_4 (Dense)             (None, 100)               13400     \n",
            "                                                                 \n",
            " dense_5 (Dense)             (None, 105)               10605     \n",
            "                                                                 \n",
            " dense_6 (Dense)             (None, 110)               11660     \n",
            "                                                                 \n",
            " dense_7 (Dense)             (None, 116)               12876     \n",
            "                                                                 \n",
            "=================================================================\n",
            "Total params: 185,470\n",
            "Trainable params: 185,470\n",
            "Non-trainable params: 0\n",
            "_________________________________________________________________\n"
          ]
        }
      ]
    },
    {
      "cell_type": "code",
      "source": [
        "x_train_f = train[train['target'] == 0].drop('target', axis='columns')\n",
        "x_val_f = val[val['target'] == 0].drop('target', axis='columns')\n",
        "x_val_t = val[val['target'] == 1].drop('target', axis='columns')"
      ],
      "metadata": {
        "id": "5VDMcuasVA21"
      },
      "execution_count": 62,
      "outputs": []
    },
    {
      "cell_type": "code",
      "source": [
        "x_train_f = scaler.transform(x_train_f)\n",
        "x_val_f = scaler.transform(x_val_f)\n",
        "x_val_t = scaler.transform(x_val_t)"
      ],
      "metadata": {
        "id": "QPJ6QykXVwUG"
      },
      "execution_count": 63,
      "outputs": []
    },
    {
      "cell_type": "code",
      "source": [
        "model.compile(optimizer=tf.keras.optimizers.Adam(learning_rate=1e-4),\n",
        "              loss='mse',\n",
        "              metrics=['mae'])\n",
        "es = tf.keras.callbacks.EarlyStopping(patience=19, verbose=1, restore_best_weights=True)\n",
        "history = model.fit(x_train_f, x_train_f, epochs=500, callbacks=[es], verbose=2,\n",
        "                    validation_data=(x_val_f, x_val_f), batch_size=512)"
      ],
      "metadata": {
        "colab": {
          "base_uri": "https://localhost:8080/"
        },
        "id": "cay6RzGVUbhh",
        "outputId": "975a3cd0-24eb-4679-ce27-54b73f10d92b"
      },
      "execution_count": 64,
      "outputs": [
        {
          "output_type": "stream",
          "name": "stdout",
          "text": [
            "Epoch 1/500\n",
            "1710/1710 - 7s - loss: 0.6820 - mae: 0.1725 - val_loss: 0.1679 - val_mae: 0.1020 - 7s/epoch - 4ms/step\n",
            "Epoch 2/500\n",
            "1710/1710 - 6s - loss: 0.2526 - mae: 0.0952 - val_loss: 0.1091 - val_mae: 0.0912 - 6s/epoch - 4ms/step\n",
            "Epoch 3/500\n",
            "1710/1710 - 6s - loss: 0.1895 - mae: 0.0763 - val_loss: 0.0843 - val_mae: 0.0923 - 6s/epoch - 4ms/step\n",
            "Epoch 4/500\n",
            "1710/1710 - 6s - loss: 0.1620 - mae: 0.0673 - val_loss: 0.1198 - val_mae: 0.1151 - 6s/epoch - 4ms/step\n",
            "Epoch 5/500\n",
            "1710/1710 - 6s - loss: 0.1307 - mae: 0.0642 - val_loss: 0.0995 - val_mae: 0.0975 - 6s/epoch - 4ms/step\n",
            "Epoch 6/500\n",
            "1710/1710 - 6s - loss: 0.1075 - mae: 0.0627 - val_loss: 0.0382 - val_mae: 0.0547 - 6s/epoch - 4ms/step\n",
            "Epoch 7/500\n",
            "1710/1710 - 6s - loss: 0.0930 - mae: 0.0588 - val_loss: 0.0407 - val_mae: 0.0522 - 6s/epoch - 4ms/step\n",
            "Epoch 8/500\n",
            "1710/1710 - 6s - loss: 0.0771 - mae: 0.0588 - val_loss: 0.0355 - val_mae: 0.0522 - 6s/epoch - 4ms/step\n",
            "Epoch 9/500\n",
            "1710/1710 - 6s - loss: 0.0660 - mae: 0.0570 - val_loss: 0.0283 - val_mae: 0.0451 - 6s/epoch - 4ms/step\n",
            "Epoch 10/500\n",
            "1710/1710 - 6s - loss: 0.0756 - mae: 0.0540 - val_loss: 0.0360 - val_mae: 0.0596 - 6s/epoch - 4ms/step\n",
            "Epoch 11/500\n",
            "1710/1710 - 6s - loss: 0.0444 - mae: 0.0498 - val_loss: 0.0235 - val_mae: 0.0412 - 6s/epoch - 4ms/step\n",
            "Epoch 12/500\n",
            "1710/1710 - 6s - loss: 0.0469 - mae: 0.0510 - val_loss: 0.0222 - val_mae: 0.0419 - 6s/epoch - 4ms/step\n",
            "Epoch 13/500\n",
            "1710/1710 - 6s - loss: 0.0604 - mae: 0.0509 - val_loss: 0.0206 - val_mae: 0.0380 - 6s/epoch - 4ms/step\n",
            "Epoch 14/500\n",
            "1710/1710 - 6s - loss: 0.0529 - mae: 0.0465 - val_loss: 0.0195 - val_mae: 0.0364 - 6s/epoch - 4ms/step\n",
            "Epoch 15/500\n",
            "1710/1710 - 6s - loss: 0.0353 - mae: 0.0439 - val_loss: 0.0206 - val_mae: 0.0376 - 6s/epoch - 4ms/step\n",
            "Epoch 16/500\n",
            "1710/1710 - 6s - loss: 0.0412 - mae: 0.0448 - val_loss: 0.0200 - val_mae: 0.0384 - 6s/epoch - 4ms/step\n",
            "Epoch 17/500\n",
            "1710/1710 - 6s - loss: 0.0361 - mae: 0.0430 - val_loss: 0.0191 - val_mae: 0.0408 - 6s/epoch - 4ms/step\n",
            "Epoch 18/500\n",
            "1710/1710 - 6s - loss: 0.0554 - mae: 0.0421 - val_loss: 0.0171 - val_mae: 0.0343 - 6s/epoch - 4ms/step\n",
            "Epoch 19/500\n",
            "1710/1710 - 6s - loss: 0.0280 - mae: 0.0397 - val_loss: 0.0170 - val_mae: 0.0374 - 6s/epoch - 4ms/step\n",
            "Epoch 20/500\n",
            "1710/1710 - 6s - loss: 0.0328 - mae: 0.0402 - val_loss: 0.0165 - val_mae: 0.0319 - 6s/epoch - 4ms/step\n",
            "Epoch 21/500\n",
            "1710/1710 - 6s - loss: 0.0293 - mae: 0.0383 - val_loss: 0.0159 - val_mae: 0.0357 - 6s/epoch - 4ms/step\n",
            "Epoch 22/500\n",
            "1710/1710 - 6s - loss: 0.0315 - mae: 0.0382 - val_loss: 0.0159 - val_mae: 0.0366 - 6s/epoch - 4ms/step\n",
            "Epoch 23/500\n",
            "1710/1710 - 6s - loss: 0.0450 - mae: 0.0373 - val_loss: 0.0625 - val_mae: 0.0933 - 6s/epoch - 4ms/step\n",
            "Epoch 24/500\n",
            "1710/1710 - 6s - loss: 0.0263 - mae: 0.0365 - val_loss: 0.0150 - val_mae: 0.0296 - 6s/epoch - 4ms/step\n",
            "Epoch 25/500\n",
            "1710/1710 - 6s - loss: 0.0459 - mae: 0.0358 - val_loss: 0.0178 - val_mae: 0.0423 - 6s/epoch - 4ms/step\n",
            "Epoch 26/500\n",
            "1710/1710 - 6s - loss: 0.0222 - mae: 0.0332 - val_loss: 0.0129 - val_mae: 0.0280 - 6s/epoch - 4ms/step\n",
            "Epoch 27/500\n",
            "1710/1710 - 6s - loss: 0.0235 - mae: 0.0340 - val_loss: 0.0123 - val_mae: 0.0285 - 6s/epoch - 4ms/step\n",
            "Epoch 28/500\n",
            "1710/1710 - 6s - loss: 0.0260 - mae: 0.0346 - val_loss: 0.0141 - val_mae: 0.0338 - 6s/epoch - 4ms/step\n",
            "Epoch 29/500\n",
            "1710/1710 - 6s - loss: 0.0205 - mae: 0.0328 - val_loss: 0.0192 - val_mae: 0.0373 - 6s/epoch - 4ms/step\n",
            "Epoch 30/500\n",
            "1710/1710 - 6s - loss: 0.0301 - mae: 0.0331 - val_loss: 0.0560 - val_mae: 0.0654 - 6s/epoch - 4ms/step\n",
            "Epoch 31/500\n",
            "1710/1710 - 6s - loss: 0.0332 - mae: 0.0325 - val_loss: 0.0143 - val_mae: 0.0276 - 6s/epoch - 4ms/step\n",
            "Epoch 32/500\n",
            "1710/1710 - 6s - loss: 0.0248 - mae: 0.0306 - val_loss: 0.0108 - val_mae: 0.0238 - 6s/epoch - 4ms/step\n",
            "Epoch 33/500\n",
            "1710/1710 - 6s - loss: 0.0313 - mae: 0.0311 - val_loss: 0.0108 - val_mae: 0.0246 - 6s/epoch - 4ms/step\n",
            "Epoch 34/500\n",
            "1710/1710 - 6s - loss: 0.0290 - mae: 0.0296 - val_loss: 0.0169 - val_mae: 0.0282 - 6s/epoch - 4ms/step\n",
            "Epoch 35/500\n",
            "1710/1710 - 6s - loss: 0.0352 - mae: 0.0287 - val_loss: 0.0116 - val_mae: 0.0331 - 6s/epoch - 4ms/step\n",
            "Epoch 36/500\n",
            "1710/1710 - 6s - loss: 0.0186 - mae: 0.0278 - val_loss: 0.0099 - val_mae: 0.0312 - 6s/epoch - 4ms/step\n",
            "Epoch 37/500\n",
            "1710/1710 - 6s - loss: 0.0280 - mae: 0.0292 - val_loss: 0.0084 - val_mae: 0.0208 - 6s/epoch - 4ms/step\n",
            "Epoch 38/500\n",
            "1710/1710 - 6s - loss: 0.0181 - mae: 0.0274 - val_loss: 0.0142 - val_mae: 0.0281 - 6s/epoch - 4ms/step\n",
            "Epoch 39/500\n",
            "1710/1710 - 6s - loss: 0.0325 - mae: 0.0298 - val_loss: 0.0139 - val_mae: 0.0258 - 6s/epoch - 4ms/step\n",
            "Epoch 40/500\n",
            "1710/1710 - 6s - loss: 0.0171 - mae: 0.0267 - val_loss: 0.0093 - val_mae: 0.0234 - 6s/epoch - 4ms/step\n",
            "Epoch 41/500\n",
            "1710/1710 - 6s - loss: 0.0328 - mae: 0.0264 - val_loss: 0.0080 - val_mae: 0.0248 - 6s/epoch - 4ms/step\n",
            "Epoch 42/500\n",
            "1710/1710 - 6s - loss: 0.0156 - mae: 0.0266 - val_loss: 0.0091 - val_mae: 0.0204 - 6s/epoch - 4ms/step\n",
            "Epoch 43/500\n",
            "1710/1710 - 6s - loss: 0.0247 - mae: 0.0260 - val_loss: 0.0185 - val_mae: 0.0414 - 6s/epoch - 4ms/step\n",
            "Epoch 44/500\n",
            "1710/1710 - 6s - loss: 0.0280 - mae: 0.0268 - val_loss: 0.0086 - val_mae: 0.0188 - 6s/epoch - 4ms/step\n",
            "Epoch 45/500\n",
            "1710/1710 - 6s - loss: 0.0363 - mae: 0.0251 - val_loss: 0.0100 - val_mae: 0.0276 - 6s/epoch - 4ms/step\n",
            "Epoch 46/500\n",
            "1710/1710 - 6s - loss: 0.0166 - mae: 0.0241 - val_loss: 0.0112 - val_mae: 0.0221 - 6s/epoch - 4ms/step\n",
            "Epoch 47/500\n",
            "1710/1710 - 6s - loss: 0.0252 - mae: 0.0257 - val_loss: 0.0082 - val_mae: 0.0202 - 6s/epoch - 4ms/step\n",
            "Epoch 48/500\n",
            "1710/1710 - 6s - loss: 0.0217 - mae: 0.0237 - val_loss: 0.0070 - val_mae: 0.0193 - 6s/epoch - 4ms/step\n",
            "Epoch 49/500\n",
            "1710/1710 - 6s - loss: 0.0224 - mae: 0.0236 - val_loss: 0.0066 - val_mae: 0.0191 - 6s/epoch - 4ms/step\n",
            "Epoch 50/500\n",
            "1710/1710 - 6s - loss: 0.0155 - mae: 0.0245 - val_loss: 0.0080 - val_mae: 0.0200 - 6s/epoch - 4ms/step\n",
            "Epoch 51/500\n",
            "1710/1710 - 6s - loss: 0.0276 - mae: 0.0233 - val_loss: 0.0095 - val_mae: 0.0261 - 6s/epoch - 4ms/step\n",
            "Epoch 52/500\n",
            "1710/1710 - 6s - loss: 0.0154 - mae: 0.0241 - val_loss: 0.0106 - val_mae: 0.0267 - 6s/epoch - 4ms/step\n",
            "Epoch 53/500\n",
            "1710/1710 - 6s - loss: 0.0207 - mae: 0.0234 - val_loss: 0.0081 - val_mae: 0.0188 - 6s/epoch - 4ms/step\n",
            "Epoch 54/500\n",
            "1710/1710 - 6s - loss: 0.0281 - mae: 0.0241 - val_loss: 0.0074 - val_mae: 0.0186 - 6s/epoch - 4ms/step\n",
            "Epoch 55/500\n",
            "1710/1710 - 6s - loss: 0.0297 - mae: 0.0228 - val_loss: 0.0244 - val_mae: 0.0496 - 6s/epoch - 4ms/step\n",
            "Epoch 56/500\n",
            "1710/1710 - 6s - loss: 0.0148 - mae: 0.0215 - val_loss: 0.0068 - val_mae: 0.0172 - 6s/epoch - 4ms/step\n",
            "Epoch 57/500\n",
            "1710/1710 - 6s - loss: 0.0150 - mae: 0.0225 - val_loss: 0.0083 - val_mae: 0.0192 - 6s/epoch - 4ms/step\n",
            "Epoch 58/500\n",
            "1710/1710 - 6s - loss: 0.0364 - mae: 0.0242 - val_loss: 0.0068 - val_mae: 0.0192 - 6s/epoch - 4ms/step\n",
            "Epoch 59/500\n",
            "1710/1710 - 6s - loss: 0.0195 - mae: 0.0213 - val_loss: 0.0082 - val_mae: 0.0209 - 6s/epoch - 4ms/step\n",
            "Epoch 60/500\n",
            "1710/1710 - 6s - loss: 0.0126 - mae: 0.0209 - val_loss: 0.0083 - val_mae: 0.0248 - 6s/epoch - 4ms/step\n",
            "Epoch 61/500\n",
            "1710/1710 - 6s - loss: 0.0186 - mae: 0.0220 - val_loss: 0.0067 - val_mae: 0.0167 - 6s/epoch - 4ms/step\n",
            "Epoch 62/500\n",
            "1710/1710 - 6s - loss: 0.0170 - mae: 0.0228 - val_loss: 0.0063 - val_mae: 0.0181 - 6s/epoch - 4ms/step\n",
            "Epoch 63/500\n",
            "1710/1710 - 6s - loss: 0.0230 - mae: 0.0215 - val_loss: 0.0062 - val_mae: 0.0201 - 6s/epoch - 4ms/step\n",
            "Epoch 64/500\n",
            "1710/1710 - 6s - loss: 0.0140 - mae: 0.0213 - val_loss: 0.0113 - val_mae: 0.0242 - 6s/epoch - 4ms/step\n",
            "Epoch 65/500\n",
            "1710/1710 - 6s - loss: 0.0284 - mae: 0.0218 - val_loss: 0.0064 - val_mae: 0.0156 - 6s/epoch - 4ms/step\n",
            "Epoch 66/500\n",
            "1710/1710 - 6s - loss: 0.0101 - mae: 0.0206 - val_loss: 0.0074 - val_mae: 0.0155 - 6s/epoch - 4ms/step\n",
            "Epoch 67/500\n",
            "1710/1710 - 6s - loss: 0.0235 - mae: 0.0221 - val_loss: 0.0065 - val_mae: 0.0193 - 6s/epoch - 4ms/step\n",
            "Epoch 68/500\n",
            "1710/1710 - 6s - loss: 0.0134 - mae: 0.0202 - val_loss: 0.0247 - val_mae: 0.0581 - 6s/epoch - 4ms/step\n",
            "Epoch 69/500\n",
            "1710/1710 - 6s - loss: 0.0276 - mae: 0.0209 - val_loss: 0.0054 - val_mae: 0.0158 - 6s/epoch - 4ms/step\n",
            "Epoch 70/500\n",
            "1710/1710 - 6s - loss: 0.0133 - mae: 0.0207 - val_loss: 0.0075 - val_mae: 0.0208 - 6s/epoch - 4ms/step\n",
            "Epoch 71/500\n",
            "1710/1710 - 6s - loss: 0.0239 - mae: 0.0198 - val_loss: 0.0078 - val_mae: 0.0158 - 6s/epoch - 4ms/step\n",
            "Epoch 72/500\n",
            "1710/1710 - 6s - loss: 0.0147 - mae: 0.0201 - val_loss: 0.0074 - val_mae: 0.0224 - 6s/epoch - 4ms/step\n",
            "Epoch 73/500\n",
            "1710/1710 - 6s - loss: 0.0206 - mae: 0.0207 - val_loss: 0.0157 - val_mae: 0.0478 - 6s/epoch - 4ms/step\n",
            "Epoch 74/500\n",
            "1710/1710 - 6s - loss: 0.0173 - mae: 0.0199 - val_loss: 0.0061 - val_mae: 0.0167 - 6s/epoch - 4ms/step\n",
            "Epoch 75/500\n",
            "1710/1710 - 6s - loss: 0.0209 - mae: 0.0195 - val_loss: 0.0113 - val_mae: 0.0437 - 6s/epoch - 4ms/step\n",
            "Epoch 76/500\n",
            "1710/1710 - 6s - loss: 0.0141 - mae: 0.0196 - val_loss: 0.0061 - val_mae: 0.0143 - 6s/epoch - 4ms/step\n",
            "Epoch 77/500\n",
            "1710/1710 - 6s - loss: 0.0185 - mae: 0.0200 - val_loss: 0.0100 - val_mae: 0.0298 - 6s/epoch - 4ms/step\n",
            "Epoch 78/500\n",
            "1710/1710 - 6s - loss: 0.0146 - mae: 0.0205 - val_loss: 0.0085 - val_mae: 0.0181 - 6s/epoch - 4ms/step\n",
            "Epoch 79/500\n",
            "1710/1710 - 6s - loss: 0.0264 - mae: 0.0195 - val_loss: 0.0045 - val_mae: 0.0136 - 6s/epoch - 4ms/step\n",
            "Epoch 80/500\n",
            "1710/1710 - 6s - loss: 0.0071 - mae: 0.0178 - val_loss: 0.0062 - val_mae: 0.0214 - 6s/epoch - 4ms/step\n",
            "Epoch 81/500\n",
            "1710/1710 - 6s - loss: 0.0169 - mae: 0.0206 - val_loss: 0.0079 - val_mae: 0.0191 - 6s/epoch - 4ms/step\n",
            "Epoch 82/500\n",
            "1710/1710 - 6s - loss: 0.0311 - mae: 0.0190 - val_loss: 0.0053 - val_mae: 0.0167 - 6s/epoch - 4ms/step\n",
            "Epoch 83/500\n",
            "1710/1710 - 6s - loss: 0.0160 - mae: 0.0181 - val_loss: 0.0050 - val_mae: 0.0150 - 6s/epoch - 4ms/step\n",
            "Epoch 84/500\n",
            "1710/1710 - 6s - loss: 0.0105 - mae: 0.0186 - val_loss: 0.0062 - val_mae: 0.0155 - 6s/epoch - 4ms/step\n",
            "Epoch 85/500\n",
            "1710/1710 - 6s - loss: 0.0176 - mae: 0.0190 - val_loss: 0.0109 - val_mae: 0.0260 - 6s/epoch - 4ms/step\n",
            "Epoch 86/500\n",
            "1710/1710 - 6s - loss: 0.0171 - mae: 0.0191 - val_loss: 0.0054 - val_mae: 0.0156 - 6s/epoch - 4ms/step\n",
            "Epoch 87/500\n",
            "1710/1710 - 6s - loss: 0.0165 - mae: 0.0181 - val_loss: 0.0055 - val_mae: 0.0154 - 6s/epoch - 4ms/step\n",
            "Epoch 88/500\n",
            "1710/1710 - 6s - loss: 0.0163 - mae: 0.0189 - val_loss: 0.0061 - val_mae: 0.0184 - 6s/epoch - 4ms/step\n",
            "Epoch 89/500\n",
            "1710/1710 - 6s - loss: 0.0174 - mae: 0.0178 - val_loss: 0.0078 - val_mae: 0.0231 - 6s/epoch - 4ms/step\n",
            "Epoch 90/500\n",
            "1710/1710 - 6s - loss: 0.0114 - mae: 0.0189 - val_loss: 0.0060 - val_mae: 0.0154 - 6s/epoch - 4ms/step\n",
            "Epoch 91/500\n",
            "1710/1710 - 6s - loss: 0.0203 - mae: 0.0172 - val_loss: 0.0075 - val_mae: 0.0162 - 6s/epoch - 4ms/step\n",
            "Epoch 92/500\n",
            "1710/1710 - 6s - loss: 0.0147 - mae: 0.0181 - val_loss: 0.0059 - val_mae: 0.0141 - 6s/epoch - 4ms/step\n",
            "Epoch 93/500\n",
            "1710/1710 - 6s - loss: 0.0159 - mae: 0.0177 - val_loss: 0.0081 - val_mae: 0.0152 - 6s/epoch - 4ms/step\n",
            "Epoch 94/500\n",
            "1710/1710 - 6s - loss: 0.0213 - mae: 0.0188 - val_loss: 0.0058 - val_mae: 0.0133 - 6s/epoch - 4ms/step\n",
            "Epoch 95/500\n",
            "1710/1710 - 6s - loss: 0.0157 - mae: 0.0167 - val_loss: 0.0077 - val_mae: 0.0214 - 6s/epoch - 4ms/step\n",
            "Epoch 96/500\n",
            "1710/1710 - 6s - loss: 0.0116 - mae: 0.0173 - val_loss: 0.0059 - val_mae: 0.0176 - 6s/epoch - 4ms/step\n",
            "Epoch 97/500\n",
            "1710/1710 - 6s - loss: 0.0138 - mae: 0.0166 - val_loss: 0.0060 - val_mae: 0.0206 - 6s/epoch - 4ms/step\n",
            "Epoch 98/500\n",
            "1710/1710 - 6s - loss: 0.0139 - mae: 0.0174 - val_loss: 0.0045 - val_mae: 0.0122 - 6s/epoch - 4ms/step\n",
            "Epoch 99/500\n",
            "1710/1710 - 6s - loss: 0.0161 - mae: 0.0174 - val_loss: 0.0115 - val_mae: 0.0188 - 6s/epoch - 4ms/step\n",
            "Epoch 100/500\n",
            "1710/1710 - 6s - loss: 0.0134 - mae: 0.0171 - val_loss: 0.0058 - val_mae: 0.0194 - 6s/epoch - 4ms/step\n",
            "Epoch 101/500\n",
            "1710/1710 - 6s - loss: 0.0166 - mae: 0.0170 - val_loss: 0.0061 - val_mae: 0.0141 - 6s/epoch - 4ms/step\n",
            "Epoch 102/500\n",
            "1710/1710 - 6s - loss: 0.0149 - mae: 0.0177 - val_loss: 0.0066 - val_mae: 0.0181 - 6s/epoch - 4ms/step\n",
            "Epoch 103/500\n",
            "1710/1710 - 6s - loss: 0.0164 - mae: 0.0175 - val_loss: 0.0091 - val_mae: 0.0131 - 6s/epoch - 4ms/step\n",
            "Epoch 104/500\n",
            "1710/1710 - 6s - loss: 0.0204 - mae: 0.0167 - val_loss: 0.0046 - val_mae: 0.0120 - 6s/epoch - 4ms/step\n",
            "Epoch 105/500\n",
            "1710/1710 - 6s - loss: 0.0158 - mae: 0.0164 - val_loss: 0.0044 - val_mae: 0.0121 - 6s/epoch - 4ms/step\n",
            "Epoch 106/500\n",
            "1710/1710 - 6s - loss: 0.0112 - mae: 0.0165 - val_loss: 0.0043 - val_mae: 0.0115 - 6s/epoch - 4ms/step\n",
            "Epoch 107/500\n",
            "1710/1710 - 6s - loss: 0.0117 - mae: 0.0171 - val_loss: 0.0086 - val_mae: 0.0211 - 6s/epoch - 4ms/step\n",
            "Epoch 108/500\n",
            "1710/1710 - 6s - loss: 0.0213 - mae: 0.0177 - val_loss: 0.0067 - val_mae: 0.0171 - 6s/epoch - 4ms/step\n",
            "Epoch 109/500\n",
            "1710/1710 - 6s - loss: 0.0134 - mae: 0.0164 - val_loss: 0.0143 - val_mae: 0.0372 - 6s/epoch - 4ms/step\n",
            "Epoch 110/500\n",
            "1710/1710 - 6s - loss: 0.0135 - mae: 0.0172 - val_loss: 0.0093 - val_mae: 0.0168 - 6s/epoch - 4ms/step\n",
            "Epoch 111/500\n",
            "1710/1710 - 6s - loss: 0.0145 - mae: 0.0169 - val_loss: 0.0048 - val_mae: 0.0149 - 6s/epoch - 4ms/step\n",
            "Epoch 112/500\n",
            "1710/1710 - 6s - loss: 0.0100 - mae: 0.0161 - val_loss: 0.0098 - val_mae: 0.0143 - 6s/epoch - 4ms/step\n",
            "Epoch 113/500\n",
            "1710/1710 - 6s - loss: 0.0183 - mae: 0.0165 - val_loss: 0.0059 - val_mae: 0.0199 - 6s/epoch - 4ms/step\n",
            "Epoch 114/500\n",
            "1710/1710 - 6s - loss: 0.0115 - mae: 0.0165 - val_loss: 0.0040 - val_mae: 0.0118 - 6s/epoch - 4ms/step\n",
            "Epoch 115/500\n",
            "1710/1710 - 6s - loss: 0.0140 - mae: 0.0164 - val_loss: 0.0053 - val_mae: 0.0139 - 6s/epoch - 4ms/step\n",
            "Epoch 116/500\n",
            "1710/1710 - 6s - loss: 0.0185 - mae: 0.0161 - val_loss: 0.0043 - val_mae: 0.0122 - 6s/epoch - 4ms/step\n",
            "Epoch 117/500\n",
            "1710/1710 - 6s - loss: 0.0148 - mae: 0.0162 - val_loss: 0.0040 - val_mae: 0.0117 - 6s/epoch - 4ms/step\n",
            "Epoch 118/500\n",
            "1710/1710 - 6s - loss: 0.0098 - mae: 0.0155 - val_loss: 0.0059 - val_mae: 0.0122 - 6s/epoch - 4ms/step\n",
            "Epoch 119/500\n",
            "1710/1710 - 6s - loss: 0.0148 - mae: 0.0166 - val_loss: 0.0061 - val_mae: 0.0132 - 6s/epoch - 4ms/step\n",
            "Epoch 120/500\n",
            "1710/1710 - 6s - loss: 0.0150 - mae: 0.0159 - val_loss: 0.0050 - val_mae: 0.0129 - 6s/epoch - 4ms/step\n",
            "Epoch 121/500\n",
            "1710/1710 - 6s - loss: 0.0146 - mae: 0.0166 - val_loss: 0.0055 - val_mae: 0.0131 - 6s/epoch - 4ms/step\n",
            "Epoch 122/500\n",
            "1710/1710 - 6s - loss: 0.0098 - mae: 0.0154 - val_loss: 0.0056 - val_mae: 0.0113 - 6s/epoch - 4ms/step\n",
            "Epoch 123/500\n",
            "1710/1710 - 6s - loss: 0.0124 - mae: 0.0161 - val_loss: 0.0055 - val_mae: 0.0184 - 6s/epoch - 4ms/step\n",
            "Epoch 124/500\n",
            "1710/1710 - 6s - loss: 0.0136 - mae: 0.0160 - val_loss: 0.0044 - val_mae: 0.0116 - 6s/epoch - 4ms/step\n",
            "Epoch 125/500\n",
            "1710/1710 - 6s - loss: 0.0158 - mae: 0.0155 - val_loss: 0.0069 - val_mae: 0.0141 - 6s/epoch - 4ms/step\n",
            "Epoch 126/500\n",
            "1710/1710 - 6s - loss: 0.0167 - mae: 0.0153 - val_loss: 0.0044 - val_mae: 0.0128 - 6s/epoch - 4ms/step\n",
            "Epoch 127/500\n",
            "1710/1710 - 6s - loss: 0.0134 - mae: 0.0149 - val_loss: 0.0046 - val_mae: 0.0136 - 6s/epoch - 4ms/step\n",
            "Epoch 128/500\n",
            "1710/1710 - 6s - loss: 0.0111 - mae: 0.0151 - val_loss: 0.0064 - val_mae: 0.0159 - 6s/epoch - 4ms/step\n",
            "Epoch 129/500\n",
            "1710/1710 - 6s - loss: 0.0148 - mae: 0.0151 - val_loss: 0.0070 - val_mae: 0.0184 - 6s/epoch - 4ms/step\n",
            "Epoch 130/500\n",
            "1710/1710 - 6s - loss: 0.0106 - mae: 0.0155 - val_loss: 0.0098 - val_mae: 0.0176 - 6s/epoch - 4ms/step\n",
            "Epoch 131/500\n",
            "1710/1710 - 6s - loss: 0.0161 - mae: 0.0161 - val_loss: 0.0289 - val_mae: 0.0334 - 6s/epoch - 4ms/step\n",
            "Epoch 132/500\n",
            "1710/1710 - 6s - loss: 0.0145 - mae: 0.0161 - val_loss: 0.0042 - val_mae: 0.0106 - 6s/epoch - 4ms/step\n",
            "Epoch 133/500\n",
            "1710/1710 - 6s - loss: 0.0131 - mae: 0.0148 - val_loss: 0.0099 - val_mae: 0.0281 - 6s/epoch - 4ms/step\n",
            "Epoch 134/500\n",
            "1710/1710 - 6s - loss: 0.0114 - mae: 0.0156 - val_loss: 0.0076 - val_mae: 0.0283 - 6s/epoch - 4ms/step\n",
            "Epoch 135/500\n",
            "1710/1710 - 6s - loss: 0.0152 - mae: 0.0154 - val_loss: 0.0068 - val_mae: 0.0219 - 6s/epoch - 4ms/step\n",
            "Epoch 136/500\n",
            "Restoring model weights from the end of the best epoch: 117.\n",
            "1710/1710 - 6s - loss: 0.0104 - mae: 0.0152 - val_loss: 0.0057 - val_mae: 0.0162 - 6s/epoch - 4ms/step\n",
            "Epoch 136: early stopping\n"
          ]
        }
      ]
    },
    {
      "cell_type": "code",
      "source": [
        "history = history.history\n",
        "\n",
        "fig, (ax1, ax2) = plt.subplots(2, 1, sharex='col', figsize=(20, 14))\n",
        "\n",
        "ax1.plot(history['loss'], label='Train loss')\n",
        "ax1.plot(history['val_loss'], label='Validation loss')\n",
        "ax1.legend(loc='best')\n",
        "ax1.set_title('Loss')\n",
        "\n",
        "ax2.plot(history['mae'], label='Train accuracy')\n",
        "ax2.plot(history['val_mae'], label='Validation accuracy')\n",
        "ax2.legend(loc='best')\n",
        "ax2.set_title('MAE')\n",
        "\n",
        "plt.xlabel('Epochs')\n",
        "sns.despine()\n",
        "plt.show()"
      ],
      "metadata": {
        "colab": {
          "base_uri": "https://localhost:8080/",
          "height": 839
        },
        "id": "VCY6M_kAWdcZ",
        "outputId": "36b5df9a-5c19-4228-9eeb-3676f50c5c54"
      },
      "execution_count": 65,
      "outputs": [
        {
          "output_type": "display_data",
          "data": {
            "text/plain": [
              "<Figure size 1440x1008 with 2 Axes>"
            ],
            "image/png": "[encoded data removed]"
          },
          "metadata": {
            "needs_background": "light"
          }
        }
      ]
    },
    {
      "cell_type": "code",
      "source": [
        "model.evaluate(x_val_f, x_val_f)\n",
        "model.evaluate(x_val_t, x_val_t)"
      ],
      "metadata": {
        "colab": {
          "base_uri": "https://localhost:8080/"
        },
        "id": "41IqYsCkUbkM",
        "outputId": "6d1400c9-fa70-4825-8f86-a9e8aa98a0f0"
      },
      "execution_count": 66,
      "outputs": [
        {
          "output_type": "stream",
          "name": "stdout",
          "text": [
            "3040/3040 [==============================] - 8s 3ms/step - loss: 0.0040 - mae: 0.0117\n",
            "12268/12268 [==============================] - 32s 3ms/step - loss: 0.7341 - mae: 0.2031\n"
          ]
        },
        {
          "output_type": "execute_result",
          "data": {
            "text/plain": [
              "[0.734142541885376, 0.20306697487831116]"
            ]
          },
          "metadata": {},
          "execution_count": 66
        }
      ]
    },
    {
      "cell_type": "code",
      "source": [
        "reconstructions_f = model.predict(x_val_f)\n",
        "reconstructions_t = model.predict(x_val_t)"
      ],
      "metadata": {
        "id": "EJUFMs9fUbmi"
      },
      "execution_count": 67,
      "outputs": []
    },
    {
      "cell_type": "code",
      "source": [
        "import numpy as np\n",
        "mse_f = np.mean(np.power(x_val_f - reconstructions_f, 2), axis=1)\n",
        "mse_t = np.mean(np.power(x_val_t - reconstructions_t, 2), axis=1)\n",
        "print(mse_f.mean())\n",
        "print(mse_t.mean())"
      ],
      "metadata": {
        "colab": {
          "base_uri": "https://localhost:8080/"
        },
        "id": "KjGBx74xWY2k",
        "outputId": "67158fc2-fad3-4872-dfd7-c5bc1230190c"
      },
      "execution_count": 68,
      "outputs": [
        {
          "output_type": "stream",
          "name": "stdout",
          "text": [
            "0.00403395613732312\n",
            "0.7341419450621192\n"
          ]
        }
      ]
    },
    {
      "cell_type": "code",
      "source": [
        "print(np.median(mse_f))\n",
        "print(np.median(mse_t))"
      ],
      "metadata": {
        "colab": {
          "base_uri": "https://localhost:8080/"
        },
        "id": "od_vxEKgZ833",
        "outputId": "3564f49c-23cc-4220-ce03-54b7e0e74d3f"
      },
      "execution_count": 69,
      "outputs": [
        {
          "output_type": "stream",
          "name": "stdout",
          "text": [
            "8.003479550289171e-05\n",
            "0.0993583710635706\n"
          ]
        }
      ]
    },
    {
      "cell_type": "code",
      "source": [
        "reconstructions = model.predict(x_test)\n",
        "mse = np.mean(np.power(x_test - reconstructions, 2), axis=1)"
      ],
      "metadata": {
        "id": "xBZZhK0yaRi_"
      },
      "execution_count": 70,
      "outputs": []
    },
    {
      "cell_type": "code",
      "source": [
        "y_pred = [mse > 0.001]\n",
        "y_pred = np.multiply(y_pred, 1)[0]"
      ],
      "metadata": {
        "id": "qSS13-3Varw8"
      },
      "execution_count": 71,
      "outputs": []
    },
    {
      "cell_type": "code",
      "source": [
        "auprc = tf.keras.metrics.AUC(curve='PR')\n",
        "auprc.update_state(y_test, y_pred)\n",
        "auprc.result().numpy()"
      ],
      "metadata": {
        "colab": {
          "base_uri": "https://localhost:8080/"
        },
        "id": "Tlf2nnY0bvC3",
        "outputId": "a47476b3-9132-49f8-8d14-2c1c2f8fbac2"
      },
      "execution_count": 72,
      "outputs": [
        {
          "output_type": "execute_result",
          "data": {
            "text/plain": [
              "0.97867197"
            ]
          },
          "metadata": {},
          "execution_count": 72
        }
      ]
    },
    {
      "cell_type": "code",
      "source": [
        "print(classification_report(y_test, y_pred))"
      ],
      "metadata": {
        "colab": {
          "base_uri": "https://localhost:8080/"
        },
        "id": "_FQbQCrPbvFL",
        "outputId": "f99ae08c-a6d4-4426-d169-a45f3750addb"
      },
      "execution_count": 73,
      "outputs": [
        {
          "output_type": "stream",
          "name": "stdout",
          "text": [
            "              precision    recall  f1-score   support\n",
            "\n",
            "           0       0.84      0.93      0.89     60593\n",
            "           1       0.98      0.96      0.97    250436\n",
            "\n",
            "    accuracy                           0.95    311029\n",
            "   macro avg       0.91      0.94      0.93    311029\n",
            "weighted avg       0.96      0.95      0.95    311029\n",
            "\n"
          ]
        }
      ]
    },
    {
      "cell_type": "code",
      "source": [
        "reconstructions = model.predict(x_new_test)\n",
        "mse = np.mean(np.power(x_new_test - reconstructions, 2), axis=1)"
      ],
      "metadata": {
        "id": "07nDO_b5lbs2"
      },
      "execution_count": 74,
      "outputs": []
    },
    {
      "cell_type": "code",
      "source": [
        "y_pred = [mse > 0.001]\n",
        "y_pred = np.multiply(y_pred, 1)[0]"
      ],
      "metadata": {
        "id": "U1MInXiMlb1B"
      },
      "execution_count": 75,
      "outputs": []
    },
    {
      "cell_type": "code",
      "source": [
        "auprc = tf.keras.metrics.AUC(curve='PR')\n",
        "auprc.update_state(y_new_test, y_pred)\n",
        "auprc.result().numpy()"
      ],
      "metadata": {
        "colab": {
          "base_uri": "https://localhost:8080/"
        },
        "id": "lkexCu4jlb8x",
        "outputId": "fd1fb03d-f620-49ab-c972-4e3899cf0ff8"
      },
      "execution_count": 76,
      "outputs": [
        {
          "output_type": "execute_result",
          "data": {
            "text/plain": [
              "1.0"
            ]
          },
          "metadata": {},
          "execution_count": 76
        }
      ]
    },
    {
      "cell_type": "code",
      "source": [
        "m = tf.keras.metrics.Accuracy()\n",
        "m.update_state(y_new_test, y_pred)\n",
        "m.result().numpy()"
      ],
      "metadata": {
        "colab": {
          "base_uri": "https://localhost:8080/"
        },
        "id": "16G0sl-CSHOh",
        "outputId": "7356c3d9-99b8-4000-bb70-035340b1264f"
      },
      "execution_count": 77,
      "outputs": [
        {
          "output_type": "execute_result",
          "data": {
            "text/plain": [
              "0.44818196"
            ]
          },
          "metadata": {},
          "execution_count": 77
        }
      ]
    },
    {
      "cell_type": "code",
      "source": [
        "print(classification_report(y_new_test, y_pred))"
      ],
      "metadata": {
        "colab": {
          "base_uri": "https://localhost:8080/"
        },
        "id": "HPOA7ttQlcC2",
        "outputId": "0eef4695-c6e9-4c87-d57c-794ed6ac313d"
      },
      "execution_count": 78,
      "outputs": [
        {
          "output_type": "stream",
          "name": "stdout",
          "text": [
            "              precision    recall  f1-score   support\n",
            "\n",
            "           0       0.00      0.00      0.00         0\n",
            "           1       1.00      0.45      0.62     18729\n",
            "\n",
            "    accuracy                           0.45     18729\n",
            "   macro avg       0.50      0.22      0.31     18729\n",
            "weighted avg       1.00      0.45      0.62     18729\n",
            "\n"
          ]
        },
        {
          "output_type": "stream",
          "name": "stderr",
          "text": [
            "/usr/local/lib/python3.7/dist-packages/sklearn/metrics/_classification.py:1318: UndefinedMetricWarning: Recall and F-score are ill-defined and being set to 0.0 in labels with no true samples. Use `zero_division` parameter to control this behavior.\n",
            "  _warn_prf(average, modifier, msg_start, len(result))\n",
            "/usr/local/lib/python3.7/dist-packages/sklearn/metrics/_classification.py:1318: UndefinedMetricWarning: Recall and F-score are ill-defined and being set to 0.0 in labels with no true samples. Use `zero_division` parameter to control this behavior.\n",
            "  _warn_prf(average, modifier, msg_start, len(result))\n",
            "/usr/local/lib/python3.7/dist-packages/sklearn/metrics/_classification.py:1318: UndefinedMetricWarning: Recall and F-score are ill-defined and being set to 0.0 in labels with no true samples. Use `zero_division` parameter to control this behavior.\n",
            "  _warn_prf(average, modifier, msg_start, len(result))\n"
          ]
        }
      ]
    },
    {
      "cell_type": "markdown",
      "source": [
        "# Summary\n",
        "\n",
        "* XGBoost does a great job out of the box and there are ways to overcome the memory limitation for large datasets\n",
        "* The autoencoder could be tuned to be a lot better, but is clearly the best at detecting new types of outliers. (top accuracy on x_new_test data)\n",
        "\n"
      ],
      "metadata": {
        "id": "8rLmBCE8duiB"
      }
    },
    {
      "cell_type": "markdown",
      "source": [
        "---"
      ],
      "metadata": {
        "id": "oW5z45vJvKc8"
      }
    },
    {
      "cell_type": "code",
      "source": [
        "#bonus\n",
        "train_10 = train.sample(frac=0.1, random_state=seed)\n",
        "x_train = train_10.drop('target', axis='columns')\n",
        "y_train = train_10.target\n",
        "\n",
        "encoder = tf.keras.Model(inp, enc)\n",
        "x_train_encoded = encoder.predict(x_train)\n",
        "x_val_encoded = encoder.predict(x_val)\n",
        "x_test_encoded = encoder.predict(x_test)\n",
        "x_new_test_encoded = encoder.predict(x_new_test)"
      ],
      "metadata": {
        "id": "s5C5LYjWvI0w"
      },
      "execution_count": 79,
      "outputs": []
    },
    {
      "cell_type": "code",
      "source": [
        "model = xgb.XGBClassifier(random_state=seed, tree_method='gpu_hist', n_estimators=100, learning_rate=0.01)\n",
        "model.fit(x_train_encoded, y_train, eval_metric='aucpr', eval_set=[(x_train_encoded, y_train), (x_val_encoded, y_val)])"
      ],
      "metadata": {
        "colab": {
          "base_uri": "https://localhost:8080/"
        },
        "id": "vcr3886ovmMf",
        "outputId": "dd21aab7-cdfb-4f28-be89-b268dd20287e"
      },
      "execution_count": 80,
      "outputs": [
        {
          "output_type": "stream",
          "name": "stdout",
          "text": [
            "[0]\tvalidation_0-aucpr:0.999333\tvalidation_1-aucpr:0.666813\n",
            "[1]\tvalidation_0-aucpr:0.999334\tvalidation_1-aucpr:0.668714\n",
            "[2]\tvalidation_0-aucpr:0.999334\tvalidation_1-aucpr:0.668714\n",
            "[3]\tvalidation_0-aucpr:0.999334\tvalidation_1-aucpr:0.668714\n",
            "[4]\tvalidation_0-aucpr:0.999334\tvalidation_1-aucpr:0.668714\n",
            "[5]\tvalidation_0-aucpr:0.999334\tvalidation_1-aucpr:0.668714\n",
            "[6]\tvalidation_0-aucpr:0.999337\tvalidation_1-aucpr:0.743177\n",
            "[7]\tvalidation_0-aucpr:0.999337\tvalidation_1-aucpr:0.743177\n",
            "[8]\tvalidation_0-aucpr:0.999337\tvalidation_1-aucpr:0.743265\n",
            "[9]\tvalidation_0-aucpr:0.999337\tvalidation_1-aucpr:0.743265\n",
            "[10]\tvalidation_0-aucpr:0.999337\tvalidation_1-aucpr:0.743265\n",
            "[11]\tvalidation_0-aucpr:0.999337\tvalidation_1-aucpr:0.743265\n",
            "[12]\tvalidation_0-aucpr:0.999337\tvalidation_1-aucpr:0.743265\n",
            "[13]\tvalidation_0-aucpr:0.999337\tvalidation_1-aucpr:0.743265\n",
            "[14]\tvalidation_0-aucpr:0.999337\tvalidation_1-aucpr:0.743265\n",
            "[15]\tvalidation_0-aucpr:0.999337\tvalidation_1-aucpr:0.743265\n",
            "[16]\tvalidation_0-aucpr:0.999337\tvalidation_1-aucpr:0.746303\n",
            "[17]\tvalidation_0-aucpr:0.999337\tvalidation_1-aucpr:0.746311\n",
            "[18]\tvalidation_0-aucpr:0.999337\tvalidation_1-aucpr:0.743265\n",
            "[19]\tvalidation_0-aucpr:0.999337\tvalidation_1-aucpr:0.746303\n",
            "[20]\tvalidation_0-aucpr:0.999337\tvalidation_1-aucpr:0.746311\n",
            "[21]\tvalidation_0-aucpr:0.999337\tvalidation_1-aucpr:0.743256\n",
            "[22]\tvalidation_0-aucpr:0.999345\tvalidation_1-aucpr:0.743265\n",
            "[23]\tvalidation_0-aucpr:0.999345\tvalidation_1-aucpr:0.746303\n",
            "[24]\tvalidation_0-aucpr:0.999345\tvalidation_1-aucpr:0.746311\n",
            "[25]\tvalidation_0-aucpr:0.999345\tvalidation_1-aucpr:0.746303\n",
            "[26]\tvalidation_0-aucpr:0.999345\tvalidation_1-aucpr:0.746303\n",
            "[27]\tvalidation_0-aucpr:0.999345\tvalidation_1-aucpr:0.746311\n",
            "[28]\tvalidation_0-aucpr:0.999345\tvalidation_1-aucpr:0.746303\n",
            "[29]\tvalidation_0-aucpr:0.999345\tvalidation_1-aucpr:0.746303\n",
            "[30]\tvalidation_0-aucpr:0.999345\tvalidation_1-aucpr:0.746303\n",
            "[31]\tvalidation_0-aucpr:0.999737\tvalidation_1-aucpr:0.746311\n",
            "[32]\tvalidation_0-aucpr:0.999737\tvalidation_1-aucpr:0.746303\n",
            "[33]\tvalidation_0-aucpr:0.999737\tvalidation_1-aucpr:0.746311\n",
            "[34]\tvalidation_0-aucpr:0.999737\tvalidation_1-aucpr:0.746313\n",
            "[35]\tvalidation_0-aucpr:0.999778\tvalidation_1-aucpr:0.746313\n",
            "[36]\tvalidation_0-aucpr:0.999779\tvalidation_1-aucpr:0.746313\n",
            "[37]\tvalidation_0-aucpr:0.999779\tvalidation_1-aucpr:0.746313\n",
            "[38]\tvalidation_0-aucpr:0.99978\tvalidation_1-aucpr:0.746313\n",
            "[39]\tvalidation_0-aucpr:0.99978\tvalidation_1-aucpr:0.746313\n",
            "[40]\tvalidation_0-aucpr:0.999783\tvalidation_1-aucpr:0.746289\n",
            "[41]\tvalidation_0-aucpr:0.999783\tvalidation_1-aucpr:0.746289\n",
            "[42]\tvalidation_0-aucpr:0.999784\tvalidation_1-aucpr:0.746289\n",
            "[43]\tvalidation_0-aucpr:0.999784\tvalidation_1-aucpr:0.746289\n",
            "[44]\tvalidation_0-aucpr:0.999785\tvalidation_1-aucpr:0.746289\n",
            "[45]\tvalidation_0-aucpr:0.999784\tvalidation_1-aucpr:0.746289\n",
            "[46]\tvalidation_0-aucpr:0.999784\tvalidation_1-aucpr:0.746289\n",
            "[47]\tvalidation_0-aucpr:0.999785\tvalidation_1-aucpr:0.746289\n",
            "[48]\tvalidation_0-aucpr:0.999785\tvalidation_1-aucpr:0.746289\n",
            "[49]\tvalidation_0-aucpr:0.999851\tvalidation_1-aucpr:0.746292\n",
            "[50]\tvalidation_0-aucpr:0.999851\tvalidation_1-aucpr:0.74629\n",
            "[51]\tvalidation_0-aucpr:0.999851\tvalidation_1-aucpr:0.746292\n",
            "[52]\tvalidation_0-aucpr:0.999851\tvalidation_1-aucpr:0.746283\n",
            "[53]\tvalidation_0-aucpr:0.999851\tvalidation_1-aucpr:0.746523\n",
            "[54]\tvalidation_0-aucpr:0.999851\tvalidation_1-aucpr:0.746523\n",
            "[55]\tvalidation_0-aucpr:0.999851\tvalidation_1-aucpr:0.746523\n",
            "[56]\tvalidation_0-aucpr:0.999858\tvalidation_1-aucpr:0.746523\n",
            "[57]\tvalidation_0-aucpr:0.999858\tvalidation_1-aucpr:0.746283\n",
            "[58]\tvalidation_0-aucpr:0.999858\tvalidation_1-aucpr:0.746523\n",
            "[59]\tvalidation_0-aucpr:0.999859\tvalidation_1-aucpr:0.746513\n",
            "[60]\tvalidation_0-aucpr:0.999858\tvalidation_1-aucpr:0.746513\n",
            "[61]\tvalidation_0-aucpr:0.99986\tvalidation_1-aucpr:0.746522\n",
            "[62]\tvalidation_0-aucpr:0.99986\tvalidation_1-aucpr:0.746522\n",
            "[63]\tvalidation_0-aucpr:0.99986\tvalidation_1-aucpr:0.746522\n",
            "[64]\tvalidation_0-aucpr:0.99986\tvalidation_1-aucpr:0.746513\n",
            "[65]\tvalidation_0-aucpr:0.99986\tvalidation_1-aucpr:0.746513\n",
            "[66]\tvalidation_0-aucpr:0.99986\tvalidation_1-aucpr:0.746513\n",
            "[67]\tvalidation_0-aucpr:0.99986\tvalidation_1-aucpr:0.746513\n",
            "[68]\tvalidation_0-aucpr:0.99986\tvalidation_1-aucpr:0.746513\n",
            "[69]\tvalidation_0-aucpr:0.99986\tvalidation_1-aucpr:0.746513\n",
            "[70]\tvalidation_0-aucpr:0.99986\tvalidation_1-aucpr:0.746513\n",
            "[71]\tvalidation_0-aucpr:0.99986\tvalidation_1-aucpr:0.746513\n",
            "[72]\tvalidation_0-aucpr:0.999859\tvalidation_1-aucpr:0.746513\n",
            "[73]\tvalidation_0-aucpr:0.999859\tvalidation_1-aucpr:0.746513\n",
            "[74]\tvalidation_0-aucpr:0.99986\tvalidation_1-aucpr:0.746512\n",
            "[75]\tvalidation_0-aucpr:0.99986\tvalidation_1-aucpr:0.746525\n",
            "[76]\tvalidation_0-aucpr:0.999859\tvalidation_1-aucpr:0.746524\n",
            "[77]\tvalidation_0-aucpr:0.99986\tvalidation_1-aucpr:0.746523\n",
            "[78]\tvalidation_0-aucpr:0.99986\tvalidation_1-aucpr:0.746524\n",
            "[79]\tvalidation_0-aucpr:0.99986\tvalidation_1-aucpr:0.746524\n",
            "[80]\tvalidation_0-aucpr:0.99986\tvalidation_1-aucpr:0.746523\n",
            "[81]\tvalidation_0-aucpr:0.99986\tvalidation_1-aucpr:0.746515\n",
            "[82]\tvalidation_0-aucpr:0.999861\tvalidation_1-aucpr:0.746305\n",
            "[83]\tvalidation_0-aucpr:0.999862\tvalidation_1-aucpr:0.746297\n",
            "[84]\tvalidation_0-aucpr:0.999862\tvalidation_1-aucpr:0.746298\n",
            "[85]\tvalidation_0-aucpr:0.999863\tvalidation_1-aucpr:0.746289\n",
            "[86]\tvalidation_0-aucpr:0.999863\tvalidation_1-aucpr:0.746297\n",
            "[87]\tvalidation_0-aucpr:0.999864\tvalidation_1-aucpr:0.746297\n",
            "[88]\tvalidation_0-aucpr:0.999864\tvalidation_1-aucpr:0.746297\n",
            "[89]\tvalidation_0-aucpr:0.999864\tvalidation_1-aucpr:0.746289\n",
            "[90]\tvalidation_0-aucpr:0.999864\tvalidation_1-aucpr:0.746297\n",
            "[91]\tvalidation_0-aucpr:0.999864\tvalidation_1-aucpr:0.746297\n",
            "[92]\tvalidation_0-aucpr:0.999864\tvalidation_1-aucpr:0.746297\n",
            "[93]\tvalidation_0-aucpr:0.999865\tvalidation_1-aucpr:0.746289\n",
            "[94]\tvalidation_0-aucpr:0.999865\tvalidation_1-aucpr:0.746289\n",
            "[95]\tvalidation_0-aucpr:0.999865\tvalidation_1-aucpr:0.746289\n",
            "[96]\tvalidation_0-aucpr:0.999865\tvalidation_1-aucpr:0.746289\n",
            "[97]\tvalidation_0-aucpr:0.999865\tvalidation_1-aucpr:0.746297\n",
            "[98]\tvalidation_0-aucpr:0.999866\tvalidation_1-aucpr:0.746289\n",
            "[99]\tvalidation_0-aucpr:0.999866\tvalidation_1-aucpr:0.746289\n"
          ]
        },
        {
          "output_type": "execute_result",
          "data": {
            "text/plain": [
              "XGBClassifier(learning_rate=0.01, random_state=53, tree_method='gpu_hist')"
            ]
          },
          "metadata": {},
          "execution_count": 80
        }
      ]
    },
    {
      "cell_type": "code",
      "source": [
        "y_pred = model.predict(x_test_encoded)"
      ],
      "metadata": {
        "id": "ZdXztWmrvmTv"
      },
      "execution_count": 81,
      "outputs": []
    },
    {
      "cell_type": "code",
      "source": [
        "auprc = tf.keras.metrics.AUC(curve='PR')\n",
        "auprc.update_state(y_test, y_pred)\n",
        "auprc.result().numpy()"
      ],
      "metadata": {
        "colab": {
          "base_uri": "https://localhost:8080/"
        },
        "id": "YE3X0WcvwT-5",
        "outputId": "58189ce7-ae1a-481d-de33-5b7b47cb4b12"
      },
      "execution_count": 82,
      "outputs": [
        {
          "output_type": "execute_result",
          "data": {
            "text/plain": [
              "0.8215743"
            ]
          },
          "metadata": {},
          "execution_count": 82
        }
      ]
    },
    {
      "cell_type": "code",
      "source": [
        "print(classification_report(y_test, y_pred))"
      ],
      "metadata": {
        "colab": {
          "base_uri": "https://localhost:8080/"
        },
        "id": "vcBLRxc4wUGW",
        "outputId": "7d115de5-3cf7-4578-fbd9-774655298dfb"
      },
      "execution_count": 83,
      "outputs": [
        {
          "output_type": "stream",
          "name": "stdout",
          "text": [
            "              precision    recall  f1-score   support\n",
            "\n",
            "           0       0.20      0.97      0.33     60593\n",
            "           1       0.90      0.06      0.11    250436\n",
            "\n",
            "    accuracy                           0.24    311029\n",
            "   macro avg       0.55      0.52      0.22    311029\n",
            "weighted avg       0.76      0.24      0.16    311029\n",
            "\n"
          ]
        }
      ]
    },
    {
      "cell_type": "code",
      "source": [
        "y_pred = model.predict(x_new_test_encoded)"
      ],
      "metadata": {
        "id": "0yGoaRHkwgLA"
      },
      "execution_count": 84,
      "outputs": []
    },
    {
      "cell_type": "code",
      "source": [
        "auprc = tf.keras.metrics.AUC(curve='PR')\n",
        "auprc.update_state(y_new_test, y_pred)\n",
        "auprc.result().numpy()"
      ],
      "metadata": {
        "colab": {
          "base_uri": "https://localhost:8080/"
        },
        "id": "za51_lcvwgOK",
        "outputId": "f30e701b-abd3-4b76-879a-cd1e8fb469b9"
      },
      "execution_count": 85,
      "outputs": [
        {
          "output_type": "execute_result",
          "data": {
            "text/plain": [
              "1.0"
            ]
          },
          "metadata": {},
          "execution_count": 85
        }
      ]
    },
    {
      "cell_type": "code",
      "source": [
        "m = tf.keras.metrics.Accuracy()\n",
        "m.update_state(y_new_test, y_pred)\n",
        "m.result().numpy()"
      ],
      "metadata": {
        "colab": {
          "base_uri": "https://localhost:8080/"
        },
        "id": "GwHYPznVSg7t",
        "outputId": "59779995-1ef0-40d3-c489-67dd81e4deff"
      },
      "execution_count": 86,
      "outputs": [
        {
          "output_type": "execute_result",
          "data": {
            "text/plain": [
              "0.011052378"
            ]
          },
          "metadata": {},
          "execution_count": 86
        }
      ]
    },
    {
      "cell_type": "code",
      "source": [
        "print(classification_report(y_new_test, y_pred))"
      ],
      "metadata": {
        "colab": {
          "base_uri": "https://localhost:8080/"
        },
        "id": "2McIkdmnwgRH",
        "outputId": "9ca0eb06-19fc-4277-86b7-486d9457b86a"
      },
      "execution_count": 87,
      "outputs": [
        {
          "output_type": "stream",
          "name": "stdout",
          "text": [
            "              precision    recall  f1-score   support\n",
            "\n",
            "           0       0.00      0.00      0.00         0\n",
            "           1       1.00      0.01      0.02     18729\n",
            "\n",
            "    accuracy                           0.01     18729\n",
            "   macro avg       0.50      0.01      0.01     18729\n",
            "weighted avg       1.00      0.01      0.02     18729\n",
            "\n"
          ]
        },
        {
          "output_type": "stream",
          "name": "stderr",
          "text": [
            "/usr/local/lib/python3.7/dist-packages/sklearn/metrics/_classification.py:1318: UndefinedMetricWarning: Recall and F-score are ill-defined and being set to 0.0 in labels with no true samples. Use `zero_division` parameter to control this behavior.\n",
            "  _warn_prf(average, modifier, msg_start, len(result))\n",
            "/usr/local/lib/python3.7/dist-packages/sklearn/metrics/_classification.py:1318: UndefinedMetricWarning: Recall and F-score are ill-defined and being set to 0.0 in labels with no true samples. Use `zero_division` parameter to control this behavior.\n",
            "  _warn_prf(average, modifier, msg_start, len(result))\n",
            "/usr/local/lib/python3.7/dist-packages/sklearn/metrics/_classification.py:1318: UndefinedMetricWarning: Recall and F-score are ill-defined and being set to 0.0 in labels with no true samples. Use `zero_division` parameter to control this behavior.\n",
            "  _warn_prf(average, modifier, msg_start, len(result))\n"
          ]
        }
      ]
    }
  ]
}