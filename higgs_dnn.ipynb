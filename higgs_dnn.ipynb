{
  "nbformat": 4,
  "nbformat_minor": 0,
  "metadata": {
    "colab": {
      "name": "higgs_dnn.ipynb",
      "provenance": [],
      "authorship_tag": "ABX9TyMcA1WTMO8GM71PeG2Lp917",
      "include_colab_link": true
    },
    "kernelspec": {
      "name": "python3",
      "display_name": "Python 3"
    },
    "accelerator": "GPU"
  },
  "cells": [
    {
      "cell_type": "markdown",
      "metadata": {
        "id": "view-in-github",
        "colab_type": "text"
      },
      "source": [
        "<a href=\"https://colab.research.google.com/github/dcpatton/Structured-Data/blob/main/higgs_dnn.ipynb\" target=\"_parent\"><img src=\"https://colab.research.google.com/assets/colab-badge.svg\" alt=\"Open In Colab\"/></a>"
      ]
    },
    {
      "cell_type": "code",
      "metadata": {
        "id": "2WFSmLYse4US",
        "outputId": "175a87f2-5b73-4b87-c9ea-7c9b5bc5ae63",
        "colab": {
          "base_uri": "https://localhost:8080/",
          "height": 34
        }
      },
      "source": [
        "import tensorflow as tf\n",
        "# import tensorflow_datasets as tfds\n",
        "import random\n",
        "\n",
        "seed = 52\n",
        "tf.random.set_seed(seed)\n",
        "random.seed(seed)\n",
        "\n",
        "print('TensorFlow version = ' + tf.__version__)\n",
        "# print('TensorFlow Datasets version = ' + tfds.__version__)"
      ],
      "execution_count": 1,
      "outputs": [
        {
          "output_type": "stream",
          "text": [
            "TensorFlow version = 2.3.0\n"
          ],
          "name": "stdout"
        }
      ]
    },
    {
      "cell_type": "code",
      "metadata": {
        "id": "uSzrOsIIfUiU",
        "outputId": "f90c8a82-9182-43c7-a5db-b3da0822b21c",
        "colab": {
          "base_uri": "https://localhost:8080/",
          "height": 51
        }
      },
      "source": [
        "# raw_ds = tfds.load('higgs', try_gcs=True, as_supervised=True, shuffle_files=True)\n",
        "gz = tf.keras.utils.get_file('HIGGS.csv.gz', 'http://mlphysics.ics.uci.edu/data/higgs/HIGGS.csv.gz')"
      ],
      "execution_count": 2,
      "outputs": [
        {
          "output_type": "stream",
          "text": [
            "Downloading data from http://mlphysics.ics.uci.edu/data/higgs/HIGGS.csv.gz\n",
            "2816409600/2816407858 [==============================] - 260s 0us/step\n"
          ],
          "name": "stdout"
        }
      ]
    },
    {
      "cell_type": "code",
      "metadata": {
        "id": "ulcsx_qegFBd"
      },
      "source": [
        "FEATURES = 28\n",
        "raw_ds = tf.data.experimental.CsvDataset(gz,[float(),]*(FEATURES+1), compression_type=\"GZIP\")"
      ],
      "execution_count": 3,
      "outputs": []
    },
    {
      "cell_type": "code",
      "metadata": {
        "id": "fMr_Z5FVw3oJ"
      },
      "source": [
        "def pack_row(*row):\n",
        "  label = row[0]\n",
        "  features = tf.stack(row[1:],1)\n",
        "  return features, label"
      ],
      "execution_count": 4,
      "outputs": []
    },
    {
      "cell_type": "code",
      "metadata": {
        "id": "1VDRpYRdw9Fo"
      },
      "source": [
        "packed_ds = raw_ds.batch(10000).map(pack_row).unbatch()"
      ],
      "execution_count": 5,
      "outputs": []
    },
    {
      "cell_type": "code",
      "metadata": {
        "id": "Cl9tHCGGgWkQ"
      },
      "source": [
        "DATASET_SIZE = 11000000\n",
        "train_size = int(0.8 * DATASET_SIZE)\n",
        "val_size = int(0.10 * DATASET_SIZE)\n",
        "test_size = int(0.10 * DATASET_SIZE)\n",
        "\n",
        "train_ds = packed_ds.take(train_size)\n",
        "test_ds = packed_ds.skip(train_size)\n",
        "val_ds = test_ds.take(val_size)\n",
        "test_ds = test_ds.skip(val_size)"
      ],
      "execution_count": 6,
      "outputs": []
    },
    {
      "cell_type": "code",
      "metadata": {
        "id": "Uhvydh_Dxmms"
      },
      "source": [
        "BATCH_SIZE = 1024\n",
        "train_ds = train_ds.batch(BATCH_SIZE).prefetch(tf.data.experimental.AUTOTUNE)\n",
        "val_ds = val_ds.batch(BATCH_SIZE).prefetch(tf.data.experimental.AUTOTUNE)\n",
        "test_ds = test_ds.batch(BATCH_SIZE).prefetch(tf.data.experimental.AUTOTUNE)"
      ],
      "execution_count": 7,
      "outputs": []
    },
    {
      "cell_type": "code",
      "metadata": {
        "id": "543vfszlyIrl",
        "outputId": "2e960c80-4a43-4ddb-8c8d-59a991d06c61",
        "colab": {
          "base_uri": "https://localhost:8080/",
          "height": 493
        }
      },
      "source": [
        "tf.keras.backend.clear_session()\n",
        "from tensorflow.keras.layers import Dense, Dropout\n",
        "from tensorflow.keras import Input, Model\n",
        "from tensorflow.keras.regularizers import l2\n",
        "\n",
        "inp = Input(shape=(FEATURES,))\n",
        "x = Dense(512, activation='swish', kernel_regularizer=l2(0.0001))(inp)\n",
        "x = Dropout(0.5)(x)\n",
        "x = Dense(512, activation='swish', kernel_regularizer=l2(0.0001))(x)\n",
        "x = Dropout(0.5)(x)\n",
        "x = Dense(512, activation='swish', kernel_regularizer=l2(0.0001))(x)\n",
        "x = Dropout(0.5)(x)\n",
        "x = Dense(512, activation='swish', kernel_regularizer=l2(0.0001))(x)\n",
        "x = Dropout(0.5)(x)\n",
        "out = Dense(1, activation='sigmoid')(x)\n",
        "\n",
        "model = Model(inputs=[inp], outputs=[out])\n",
        "\n",
        "model.compile(optimizer=tf.keras.optimizers.Adam(),\n",
        "              loss=tf.keras.losses.BinaryCrossentropy(),\n",
        "              metrics=[tf.keras.metrics.AUC()])\n",
        "\n",
        "model.summary()"
      ],
      "execution_count": 8,
      "outputs": [
        {
          "output_type": "stream",
          "text": [
            "Model: \"functional_1\"\n",
            "_________________________________________________________________\n",
            "Layer (type)                 Output Shape              Param #   \n",
            "=================================================================\n",
            "input_1 (InputLayer)         [(None, 28)]              0         \n",
            "_________________________________________________________________\n",
            "dense (Dense)                (None, 512)               14848     \n",
            "_________________________________________________________________\n",
            "dropout (Dropout)            (None, 512)               0         \n",
            "_________________________________________________________________\n",
            "dense_1 (Dense)              (None, 512)               262656    \n",
            "_________________________________________________________________\n",
            "dropout_1 (Dropout)          (None, 512)               0         \n",
            "_________________________________________________________________\n",
            "dense_2 (Dense)              (None, 512)               262656    \n",
            "_________________________________________________________________\n",
            "dropout_2 (Dropout)          (None, 512)               0         \n",
            "_________________________________________________________________\n",
            "dense_3 (Dense)              (None, 512)               262656    \n",
            "_________________________________________________________________\n",
            "dropout_3 (Dropout)          (None, 512)               0         \n",
            "_________________________________________________________________\n",
            "dense_4 (Dense)              (None, 1)                 513       \n",
            "=================================================================\n",
            "Total params: 803,329\n",
            "Trainable params: 803,329\n",
            "Non-trainable params: 0\n",
            "_________________________________________________________________\n"
          ],
          "name": "stdout"
        }
      ]
    },
    {
      "cell_type": "code",
      "metadata": {
        "id": "PINVXxI8zLjs",
        "outputId": "12f29e8f-c887-4cda-c837-87f2422a8f5b",
        "colab": {
          "base_uri": "https://localhost:8080/",
          "height": 799
        }
      },
      "source": [
        "es = tf.keras.callbacks.EarlyStopping(monitor='val_loss', patience=10, verbose=1, mode='auto', restore_best_weights=True)\n",
        "\n",
        "history = model.fit(train_ds, epochs=200, verbose=1, callbacks=[es], validation_data=val_ds)"
      ],
      "execution_count": 9,
      "outputs": [
        {
          "output_type": "stream",
          "text": [
            "Epoch 1/200\n",
            "8594/8594 [==============================] - 509s 59ms/step - loss: 0.6239 - auc: 0.7384 - val_loss: 0.6055 - val_auc: 0.7615\n",
            "Epoch 2/200\n",
            "8594/8594 [==============================] - 552s 64ms/step - loss: 0.6103 - auc: 0.7582 - val_loss: 0.6004 - val_auc: 0.7703\n",
            "Epoch 3/200\n",
            "8594/8594 [==============================] - 555s 65ms/step - loss: 0.6091 - auc: 0.7614 - val_loss: 0.6012 - val_auc: 0.7716\n",
            "Epoch 4/200\n",
            "8594/8594 [==============================] - 553s 64ms/step - loss: 0.6083 - auc: 0.7633 - val_loss: 0.6019 - val_auc: 0.7706\n",
            "Epoch 5/200\n",
            "8594/8594 [==============================] - 554s 65ms/step - loss: 0.6080 - auc: 0.7644 - val_loss: 0.5963 - val_auc: 0.7774\n",
            "Epoch 6/200\n",
            "8594/8594 [==============================] - 559s 65ms/step - loss: 0.6077 - auc: 0.7653 - val_loss: 0.5971 - val_auc: 0.7769\n",
            "Epoch 7/200\n",
            "8594/8594 [==============================] - 572s 67ms/step - loss: 0.6076 - auc: 0.7659 - val_loss: 0.5966 - val_auc: 0.7780\n",
            "Epoch 8/200\n",
            "8594/8594 [==============================] - 572s 67ms/step - loss: 0.6074 - auc: 0.7664 - val_loss: 0.5948 - val_auc: 0.7798\n",
            "Epoch 9/200\n",
            "8594/8594 [==============================] - 571s 66ms/step - loss: 0.6075 - auc: 0.7666 - val_loss: 0.5966 - val_auc: 0.7783\n",
            "Epoch 10/200\n",
            "8594/8594 [==============================] - 568s 66ms/step - loss: 0.6072 - auc: 0.7671 - val_loss: 0.5970 - val_auc: 0.7782\n",
            "Epoch 11/200\n",
            "8594/8594 [==============================] - 556s 65ms/step - loss: 0.6072 - auc: 0.7675 - val_loss: 0.5981 - val_auc: 0.7770\n",
            "Epoch 12/200\n",
            "8594/8594 [==============================] - 562s 65ms/step - loss: 0.6072 - auc: 0.7676 - val_loss: 0.5929 - val_auc: 0.7829\n",
            "Epoch 13/200\n",
            "8594/8594 [==============================] - 564s 66ms/step - loss: 0.6072 - auc: 0.7678 - val_loss: 0.5961 - val_auc: 0.7791\n",
            "Epoch 14/200\n",
            "8594/8594 [==============================] - 565s 66ms/step - loss: 0.6071 - auc: 0.7679 - val_loss: 0.5942 - val_auc: 0.7814\n",
            "Epoch 15/200\n",
            "8594/8594 [==============================] - 555s 65ms/step - loss: 0.6071 - auc: 0.7679 - val_loss: 0.5971 - val_auc: 0.7786\n",
            "Epoch 16/200\n",
            "8594/8594 [==============================] - 555s 65ms/step - loss: 0.6069 - auc: 0.7680 - val_loss: 0.5966 - val_auc: 0.7790\n",
            "Epoch 17/200\n",
            "8594/8594 [==============================] - 554s 64ms/step - loss: 0.6070 - auc: 0.7681 - val_loss: 0.5968 - val_auc: 0.7797\n",
            "Epoch 18/200\n",
            "8594/8594 [==============================] - 539s 63ms/step - loss: 0.6069 - auc: 0.7682 - val_loss: 0.5943 - val_auc: 0.7812\n",
            "Epoch 19/200\n",
            "8594/8594 [==============================] - 543s 63ms/step - loss: 0.6069 - auc: 0.7682 - val_loss: 0.5961 - val_auc: 0.7797\n",
            "Epoch 20/200\n",
            "8594/8594 [==============================] - 556s 65ms/step - loss: 0.6070 - auc: 0.7682 - val_loss: 0.5938 - val_auc: 0.7817\n",
            "Epoch 21/200\n",
            "8594/8594 [==============================] - 553s 64ms/step - loss: 0.6069 - auc: 0.7682 - val_loss: 0.5941 - val_auc: 0.7816\n",
            "Epoch 22/200\n",
            "8593/8594 [============================>.] - ETA: 0s - loss: 0.6069 - auc: 0.7683Restoring model weights from the end of the best epoch.\n",
            "8594/8594 [==============================] - 550s 64ms/step - loss: 0.6069 - auc: 0.7683 - val_loss: 0.5974 - val_auc: 0.7782\n",
            "Epoch 00022: early stopping\n"
          ],
          "name": "stdout"
        }
      ]
    },
    {
      "cell_type": "code",
      "metadata": {
        "id": "twilTB-R2QVo",
        "outputId": "79b02b0e-f843-43ef-9003-934fd6b01b73",
        "colab": {
          "base_uri": "https://localhost:8080/",
          "height": 839
        }
      },
      "source": [
        "import matplotlib.pyplot as plt\n",
        "import seaborn as sns\n",
        "\n",
        "history = history.history\n",
        "\n",
        "fig, (ax1, ax2) = plt.subplots(2, 1, sharex='col', figsize=(20, 14))\n",
        "\n",
        "ax1.plot(history['loss'], label='Train loss')\n",
        "ax1.plot(history['val_loss'], label='Validation loss')\n",
        "ax1.legend(loc='best')\n",
        "ax1.set_title('Loss')\n",
        "\n",
        "ax2.plot(history['auc'], label='Training')\n",
        "ax2.plot(history['val_auc'], label='Validation')\n",
        "ax2.legend(loc='best')\n",
        "ax2.set_title('AUC')\n",
        "\n",
        "plt.xlabel('Epochs')\n",
        "sns.despine()\n",
        "plt.show()"
      ],
      "execution_count": 10,
      "outputs": [
        {
          "output_type": "display_data",
          "data": {
            "image/png": "[encoded data removed]",
            "text/plain": [
              "<Figure size 1440x1008 with 2 Axes>"
            ]
          },
          "metadata": {
            "tags": [],
            "needs_background": "light"
          }
        }
      ]
    },
    {
      "cell_type": "code",
      "metadata": {
        "id": "dja8VkRBzmlv",
        "outputId": "faa4dde5-2200-4736-9ee4-d48e694be8d1",
        "colab": {
          "base_uri": "https://localhost:8080/",
          "height": 51
        }
      },
      "source": [
        "model.evaluate(test_ds, verbose=1)"
      ],
      "execution_count": 11,
      "outputs": [
        {
          "output_type": "stream",
          "text": [
            "1075/1075 [==============================] - 33s 31ms/step - loss: 0.5922 - auc: 0.7837\n"
          ],
          "name": "stdout"
        },
        {
          "output_type": "execute_result",
          "data": {
            "text/plain": [
              "[0.5921735763549805, 0.7837185859680176]"
            ]
          },
          "metadata": {
            "tags": []
          },
          "execution_count": 11
        }
      ]
    },
    {
      "cell_type": "markdown",
      "metadata": {
        "id": "0sQ1l8JzhhUK"
      },
      "source": [
        "* baseline:                 loss: **0.4670 - auc: 0.8573**\n",
        "* l2(0.001) reg  :          loss: 0.5910 - auc: 0.7741\n",
        "* Dropout(0.5) :            loss: 0.4732 - auc: 0.8529\n",
        "* Dropout(0.5), l2(0.0001): loss: 0.5922 - auc: 0.7837   "
      ]
    }
  ]
}