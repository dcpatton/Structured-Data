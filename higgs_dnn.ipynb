{
  "cells": [
    {
      "cell_type": "markdown",
      "metadata": {
        "id": "view-in-github",
        "colab_type": "text"
      },
      "source": [
        "<a href=\"https://colab.research.google.com/github/dcpatton/Structured-Data/blob/main/higgs_dnn.ipynb\" target=\"_parent\"><img src=\"https://colab.research.google.com/assets/colab-badge.svg\" alt=\"Open In Colab\"/></a>"
      ]
    },
    {
      "cell_type": "code",
      "execution_count": 1,
      "metadata": {
        "colab": {
          "base_uri": "https://localhost:8080/"
        },
        "id": "2WFSmLYse4US",
        "outputId": "9cffd01d-ac2a-4a9b-d4d2-d755546c4d5a"
      },
      "outputs": [
        {
          "output_type": "stream",
          "name": "stdout",
          "text": [
            "TensorFlow version = 2.8.2\n"
          ]
        }
      ],
      "source": [
        "import tensorflow as tf\n",
        "# import tensorflow_datasets as tfds\n",
        "import random\n",
        "\n",
        "seed = 53\n",
        "tf.random.set_seed(seed)\n",
        "random.seed(seed)\n",
        "\n",
        "print('TensorFlow version = ' + tf.__version__)\n",
        "# print('TensorFlow Datasets version = ' + tfds.__version__)"
      ]
    },
    {
      "cell_type": "code",
      "execution_count": 2,
      "metadata": {
        "id": "uSzrOsIIfUiU"
      },
      "outputs": [],
      "source": [
        "# raw_ds = tfds.load('higgs', try_gcs=True, as_supervised=True, shuffle_files=True)\n",
        "gz = tf.keras.utils.get_file('HIGGS.csv.gz', 'http://mlphysics.ics.uci.edu/data/higgs/HIGGS.csv.gz')"
      ]
    },
    {
      "cell_type": "code",
      "execution_count": 3,
      "metadata": {
        "id": "ulcsx_qegFBd"
      },
      "outputs": [],
      "source": [
        "FEATURES = 28\n",
        "raw_ds = tf.data.experimental.CsvDataset(gz,[float(),]*(FEATURES+1), compression_type=\"GZIP\")"
      ]
    },
    {
      "cell_type": "code",
      "execution_count": 4,
      "metadata": {
        "id": "fMr_Z5FVw3oJ"
      },
      "outputs": [],
      "source": [
        "num_features = 21\n",
        "def pack_row(*row):\n",
        "  label = row[0]\n",
        "  # features = tf.stack(row[1:],1)\n",
        "  features = tf.stack(row[1:num_features+1], 1)\n",
        "  return features, label"
      ]
    },
    {
      "cell_type": "code",
      "execution_count": 5,
      "metadata": {
        "id": "1VDRpYRdw9Fo"
      },
      "outputs": [],
      "source": [
        "packed_ds = raw_ds.batch(10000).map(pack_row).unbatch().shuffle(1024)"
      ]
    },
    {
      "cell_type": "code",
      "source": [
        "def do_eda(features, label):\n",
        "  for feature in features:\n",
        "    if feature == -999. :\n",
        "      print('-999 found')\n",
        "  return features, label\n"
      ],
      "metadata": {
        "id": "csMft1k9seDa"
      },
      "execution_count": 6,
      "outputs": []
    },
    {
      "cell_type": "code",
      "source": [
        "packed_ds = packed_ds.map(do_eda)"
      ],
      "metadata": {
        "colab": {
          "base_uri": "https://localhost:8080/"
        },
        "id": "-lQoBH4Is5ac",
        "outputId": "50215e1e-6b1e-41ad-9d61-17edff09ffc8"
      },
      "execution_count": 7,
      "outputs": [
        {
          "output_type": "stream",
          "name": "stdout",
          "text": [
            "-999 found\n"
          ]
        }
      ]
    },
    {
      "cell_type": "code",
      "execution_count": 8,
      "metadata": {
        "colab": {
          "base_uri": "https://localhost:8080/"
        },
        "id": "Cl9tHCGGgWkQ",
        "outputId": "522e1ca8-509f-4e45-fcc8-cc62ca66d490"
      },
      "outputs": [
        {
          "output_type": "execute_result",
          "data": {
            "text/plain": [
              "(9900000, 550000, 550000)"
            ]
          },
          "metadata": {},
          "execution_count": 8
        }
      ],
      "source": [
        "DATASET_SIZE = 11000000\n",
        "train_size = int(0.9 * DATASET_SIZE)\n",
        "val_size = int(0.05 * DATASET_SIZE)\n",
        "test_size = int(0.05 * DATASET_SIZE)\n",
        "\n",
        "train_ds = packed_ds.take(train_size)\n",
        "test_ds = packed_ds.skip(train_size)\n",
        "val_ds = test_ds.take(val_size)\n",
        "test_ds = test_ds.skip(val_size)\n",
        "\n",
        "train_size, val_size, test_size"
      ]
    },
    {
      "cell_type": "code",
      "execution_count": 9,
      "metadata": {
        "colab": {
          "base_uri": "https://localhost:8080/"
        },
        "id": "Fszfo1IHjnBd",
        "outputId": "6c8167ea-0f0e-4780-dda5-d10d89f1ba56"
      },
      "outputs": [
        {
          "output_type": "stream",
          "name": "stdout",
          "text": [
            "WARNING:tensorflow:AutoGraph could not transform <function <lambda> at 0x7fbd404f03b0> and will run it as-is.\n",
            "Cause: could not parse the source code of <function <lambda> at 0x7fbd404f03b0>: no matching AST found among candidates:\n",
            "\n",
            "To silence this warning, decorate the function with @tf.autograph.experimental.do_not_convert\n",
            "WARNING: AutoGraph could not transform <function <lambda> at 0x7fbd404f03b0> and will run it as-is.\n",
            "Cause: could not parse the source code of <function <lambda> at 0x7fbd404f03b0>: no matching AST found among candidates:\n",
            "\n",
            "To silence this warning, decorate the function with @tf.autograph.experimental.do_not_convert\n",
            "CPU times: user 8min 26s, sys: 1min 26s, total: 9min 52s\n",
            "Wall time: 6min\n"
          ]
        }
      ],
      "source": [
        "%%time\n",
        "x_shape = train_ds.element_spec[0].shape\n",
        "feature_ds = train_ds.map(lambda x, y: tf.reshape(x, x_shape)).batch(10000)\n",
        "normalizer = tf.keras.layers.Normalization()\n",
        "normalizer.adapt(feature_ds)"
      ]
    },
    {
      "cell_type": "code",
      "execution_count": 10,
      "metadata": {
        "id": "Uhvydh_Dxmms"
      },
      "outputs": [],
      "source": [
        "BATCH_SIZE = 4096\n",
        "train_ds = train_ds.batch(BATCH_SIZE).shuffle(1024).prefetch(tf.data.experimental.AUTOTUNE)\n",
        "val_ds = val_ds.batch(BATCH_SIZE).prefetch(tf.data.experimental.AUTOTUNE).cache()\n",
        "test_ds = test_ds.batch(BATCH_SIZE).prefetch(tf.data.experimental.AUTOTUNE)"
      ]
    },
    {
      "cell_type": "code",
      "execution_count": 11,
      "metadata": {
        "colab": {
          "base_uri": "https://localhost:8080/"
        },
        "id": "543vfszlyIrl",
        "outputId": "9faf2718-81e0-48dd-e954-b40693712458"
      },
      "outputs": [
        {
          "output_type": "stream",
          "name": "stdout",
          "text": [
            "Model: \"model\"\n",
            "_________________________________________________________________\n",
            " Layer (type)                Output Shape              Param #   \n",
            "=================================================================\n",
            " input_1 (InputLayer)        [(None, 21)]              0         \n",
            "                                                                 \n",
            " normalization (Normalizatio  (None, 21)               43        \n",
            " n)                                                              \n",
            "                                                                 \n",
            " dense (Dense)               (None, 512)               11264     \n",
            "                                                                 \n",
            " dense_1 (Dense)             (None, 512)               262656    \n",
            "                                                                 \n",
            " dense_2 (Dense)             (None, 512)               262656    \n",
            "                                                                 \n",
            " dense_3 (Dense)             (None, 512)               262656    \n",
            "                                                                 \n",
            " dense_4 (Dense)             (None, 512)               262656    \n",
            "                                                                 \n",
            " dense_5 (Dense)             (None, 512)               262656    \n",
            "                                                                 \n",
            " dense_6 (Dense)             (None, 512)               262656    \n",
            "                                                                 \n",
            " dense_7 (Dense)             (None, 512)               262656    \n",
            "                                                                 \n",
            " dense_8 (Dense)             (None, 1)                 513       \n",
            "                                                                 \n",
            "=================================================================\n",
            "Total params: 1,850,412\n",
            "Trainable params: 1,850,369\n",
            "Non-trainable params: 43\n",
            "_________________________________________________________________\n"
          ]
        }
      ],
      "source": [
        "tf.keras.backend.clear_session()\n",
        "from tensorflow.keras.layers import Dense, Dropout\n",
        "from tensorflow.keras import Input, Model\n",
        "\n",
        "inp = Input(shape=(num_features,))\n",
        "x = normalizer(inp)\n",
        "x = Dense(512, activation='swish')(x)\n",
        "# x = Dropout(0.25)(x)\n",
        "x = Dense(512, activation='swish')(x)\n",
        "# x = Dropout(0.25)(x)\n",
        "x = Dense(512, activation='swish')(x)\n",
        "# x = Dropout(0.25)(x)\n",
        "x = Dense(512, activation='swish')(x)\n",
        "# x = Dropout(0.25)(x)\n",
        "x = Dense(512, activation='swish')(x)\n",
        "# x = Dropout(0.25)(x)\n",
        "x = Dense(512, activation='swish')(x)\n",
        "# x = Dropout(0.25)(x)\n",
        "x = Dense(512, activation='swish')(x)\n",
        "# x = Dropout(0.25)(x)\n",
        "x = Dense(512, activation='swish')(x)\n",
        "# x = Dropout(0.25)(x)\n",
        "out = Dense(1, activation='sigmoid')(x)\n",
        "\n",
        "model = Model(inputs=[inp], outputs=[out])\n",
        "\n",
        "model.summary()"
      ]
    },
    {
      "cell_type": "code",
      "execution_count": 12,
      "metadata": {
        "colab": {
          "base_uri": "https://localhost:8080/"
        },
        "id": "PINVXxI8zLjs",
        "outputId": "fa51244a-ae96-48dc-d447-cf1caf8d9f97"
      },
      "outputs": [
        {
          "output_type": "stream",
          "name": "stdout",
          "text": [
            "Epoch 1/200\n",
            "2417/2417 - 538s - loss: 0.6407 - auc: 0.6750 - val_loss: 0.6271 - val_auc: 0.6975 - 538s/epoch - 223ms/step\n",
            "Epoch 2/200\n",
            "2417/2417 - 285s - loss: 0.6170 - auc: 0.7117 - val_loss: 0.6080 - val_auc: 0.7241 - 285s/epoch - 118ms/step\n",
            "Epoch 3/200\n",
            "2417/2417 - 282s - loss: 0.6019 - auc: 0.7320 - val_loss: 0.5944 - val_auc: 0.7414 - 282s/epoch - 117ms/step\n",
            "Epoch 4/200\n",
            "2417/2417 - 280s - loss: 0.5865 - auc: 0.7508 - val_loss: 0.5815 - val_auc: 0.7569 - 280s/epoch - 116ms/step\n",
            "Epoch 5/200\n",
            "2417/2417 - 275s - loss: 0.5756 - auc: 0.7630 - val_loss: 0.5730 - val_auc: 0.7666 - 275s/epoch - 114ms/step\n",
            "Epoch 6/200\n",
            "2417/2417 - 274s - loss: 0.5681 - auc: 0.7709 - val_loss: 0.5648 - val_auc: 0.7742 - 274s/epoch - 113ms/step\n",
            "Epoch 7/200\n",
            "2417/2417 - 276s - loss: 0.5622 - auc: 0.7770 - val_loss: 0.5606 - val_auc: 0.7786 - 276s/epoch - 114ms/step\n",
            "Epoch 8/200\n",
            "2417/2417 - 284s - loss: 0.5572 - auc: 0.7820 - val_loss: 0.5554 - val_auc: 0.7838 - 284s/epoch - 117ms/step\n",
            "Epoch 9/200\n",
            "2417/2417 - 281s - loss: 0.5530 - auc: 0.7862 - val_loss: 0.5514 - val_auc: 0.7877 - 281s/epoch - 116ms/step\n",
            "Epoch 10/200\n",
            "2417/2417 - 282s - loss: 0.5483 - auc: 0.7906 - val_loss: 0.5457 - val_auc: 0.7932 - 282s/epoch - 117ms/step\n",
            "Epoch 11/200\n",
            "2417/2417 - 275s - loss: 0.5387 - auc: 0.7997 - val_loss: 0.5339 - val_auc: 0.8043 - 275s/epoch - 114ms/step\n",
            "Epoch 12/200\n",
            "2417/2417 - 276s - loss: 0.5296 - auc: 0.8080 - val_loss: 0.5278 - val_auc: 0.8096 - 276s/epoch - 114ms/step\n",
            "Epoch 13/200\n",
            "2417/2417 - 280s - loss: 0.5246 - auc: 0.8124 - val_loss: 0.5249 - val_auc: 0.8121 - 280s/epoch - 116ms/step\n",
            "Epoch 14/200\n",
            "2417/2417 - 280s - loss: 0.5206 - auc: 0.8157 - val_loss: 0.5208 - val_auc: 0.8155 - 280s/epoch - 116ms/step\n",
            "Epoch 15/200\n",
            "2417/2417 - 282s - loss: 0.5154 - auc: 0.8200 - val_loss: 0.5154 - val_auc: 0.8201 - 282s/epoch - 117ms/step\n",
            "Epoch 16/200\n",
            "2417/2417 - 285s - loss: 0.5095 - auc: 0.8248 - val_loss: 0.5101 - val_auc: 0.8244 - 285s/epoch - 118ms/step\n",
            "Epoch 17/200\n",
            "2417/2417 - 280s - loss: 0.5041 - auc: 0.8291 - val_loss: 0.5055 - val_auc: 0.8280 - 280s/epoch - 116ms/step\n",
            "Epoch 18/200\n",
            "2417/2417 - 280s - loss: 0.4982 - auc: 0.8338 - val_loss: 0.4998 - val_auc: 0.8327 - 280s/epoch - 116ms/step\n",
            "Epoch 19/200\n",
            "2417/2417 - 282s - loss: 0.4918 - auc: 0.8388 - val_loss: 0.4943 - val_auc: 0.8369 - 282s/epoch - 117ms/step\n",
            "Epoch 20/200\n",
            "2417/2417 - 281s - loss: 0.4858 - auc: 0.8433 - val_loss: 0.4889 - val_auc: 0.8411 - 281s/epoch - 116ms/step\n",
            "Epoch 21/200\n",
            "2417/2417 - 278s - loss: 0.4788 - auc: 0.8484 - val_loss: 0.4812 - val_auc: 0.8468 - 278s/epoch - 115ms/step\n",
            "Epoch 22/200\n",
            "2417/2417 - 277s - loss: 0.4706 - auc: 0.8543 - val_loss: 0.4748 - val_auc: 0.8517 - 277s/epoch - 115ms/step\n",
            "Epoch 23/200\n",
            "2417/2417 - 275s - loss: 0.4643 - auc: 0.8587 - val_loss: 0.4695 - val_auc: 0.8552 - 275s/epoch - 114ms/step\n",
            "Epoch 24/200\n",
            "2417/2417 - 276s - loss: 0.4590 - auc: 0.8623 - val_loss: 0.4660 - val_auc: 0.8575 - 276s/epoch - 114ms/step\n",
            "Epoch 25/200\n",
            "2417/2417 - 274s - loss: 0.4545 - auc: 0.8653 - val_loss: 0.4630 - val_auc: 0.8599 - 274s/epoch - 113ms/step\n",
            "Epoch 26/200\n",
            "2417/2417 - 274s - loss: 0.4503 - auc: 0.8680 - val_loss: 0.4596 - val_auc: 0.8620 - 274s/epoch - 114ms/step\n",
            "Epoch 27/200\n",
            "2417/2417 - 275s - loss: 0.4466 - auc: 0.8704 - val_loss: 0.4584 - val_auc: 0.8629 - 275s/epoch - 114ms/step\n",
            "Epoch 28/200\n",
            "2417/2417 - 275s - loss: 0.4430 - auc: 0.8727 - val_loss: 0.4558 - val_auc: 0.8645 - 275s/epoch - 114ms/step\n",
            "Epoch 29/200\n",
            "2417/2417 - 275s - loss: 0.4398 - auc: 0.8747 - val_loss: 0.4539 - val_auc: 0.8658 - 275s/epoch - 114ms/step\n",
            "Epoch 30/200\n",
            "2417/2417 - 274s - loss: 0.4367 - auc: 0.8766 - val_loss: 0.4530 - val_auc: 0.8665 - 274s/epoch - 114ms/step\n",
            "Epoch 31/200\n",
            "2417/2417 - 274s - loss: 0.4338 - auc: 0.8784 - val_loss: 0.4518 - val_auc: 0.8672 - 274s/epoch - 113ms/step\n",
            "Epoch 32/200\n",
            "2417/2417 - 278s - loss: 0.4311 - auc: 0.8800 - val_loss: 0.4511 - val_auc: 0.8680 - 278s/epoch - 115ms/step\n",
            "Epoch 33/200\n",
            "2417/2417 - 280s - loss: 0.4285 - auc: 0.8816 - val_loss: 0.4499 - val_auc: 0.8688 - 280s/epoch - 116ms/step\n",
            "Epoch 34/200\n",
            "2417/2417 - 282s - loss: 0.4259 - auc: 0.8831 - val_loss: 0.4491 - val_auc: 0.8692 - 282s/epoch - 117ms/step\n",
            "Epoch 35/200\n",
            "2417/2417 - 285s - loss: 0.4235 - auc: 0.8846 - val_loss: 0.4491 - val_auc: 0.8699 - 285s/epoch - 118ms/step\n",
            "Epoch 36/200\n",
            "2417/2417 - 287s - loss: 0.4211 - auc: 0.8860 - val_loss: 0.4498 - val_auc: 0.8692 - 287s/epoch - 119ms/step\n",
            "Epoch 37/200\n",
            "2417/2417 - 286s - loss: 0.4189 - auc: 0.8873 - val_loss: 0.4492 - val_auc: 0.8696 - 286s/epoch - 118ms/step\n",
            "Epoch 38/200\n",
            "2417/2417 - 287s - loss: 0.4165 - auc: 0.8887 - val_loss: 0.4496 - val_auc: 0.8695 - 287s/epoch - 119ms/step\n",
            "Epoch 39/200\n",
            "2417/2417 - 288s - loss: 0.4143 - auc: 0.8900 - val_loss: 0.4499 - val_auc: 0.8697 - 288s/epoch - 119ms/step\n",
            "Epoch 40/200\n",
            "2417/2417 - 287s - loss: 0.4120 - auc: 0.8913 - val_loss: 0.4516 - val_auc: 0.8688 - 287s/epoch - 119ms/step\n",
            "Epoch 41/200\n",
            "2417/2417 - 287s - loss: 0.4098 - auc: 0.8926 - val_loss: 0.4521 - val_auc: 0.8686 - 287s/epoch - 119ms/step\n",
            "Epoch 42/200\n",
            "2417/2417 - 287s - loss: 0.4076 - auc: 0.8938 - val_loss: 0.4527 - val_auc: 0.8687 - 287s/epoch - 119ms/step\n",
            "Epoch 43/200\n",
            "2417/2417 - 287s - loss: 0.4053 - auc: 0.8951 - val_loss: 0.4540 - val_auc: 0.8682 - 287s/epoch - 119ms/step\n",
            "Epoch 44/200\n",
            "Restoring model weights from the end of the best epoch: 35.\n",
            "2417/2417 - 287s - loss: 0.4030 - auc: 0.8963 - val_loss: 0.4556 - val_auc: 0.8681 - 287s/epoch - 119ms/step\n",
            "Epoch 44: early stopping\n"
          ]
        }
      ],
      "source": [
        "model.compile(optimizer=tf.keras.optimizers.Adam(learning_rate=1e-4),\n",
        "              loss=tf.keras.losses.BinaryCrossentropy(),\n",
        "              metrics=[tf.keras.metrics.AUC()])\n",
        "es = tf.keras.callbacks.EarlyStopping(monitor='val_loss', patience=9, verbose=1, mode='auto', restore_best_weights=True)\n",
        "\n",
        "history = model.fit(train_ds, epochs=200, verbose=2, callbacks=[es], validation_data=val_ds)"
      ]
    },
    {
      "cell_type": "code",
      "execution_count": 13,
      "metadata": {
        "id": "twilTB-R2QVo",
        "colab": {
          "base_uri": "https://localhost:8080/",
          "height": 839
        },
        "outputId": "f4d4e62b-dd39-41d4-e02c-b58340254eca"
      },
      "outputs": [
        {
          "output_type": "display_data",
          "data": {
            "text/plain": [
              "<Figure size 1440x1008 with 2 Axes>"
            ],
            "image/png": "[encoded data removed]"
          },
          "metadata": {
            "needs_background": "light"
          }
        }
      ],
      "source": [
        "import matplotlib.pyplot as plt\n",
        "import seaborn as sns\n",
        "\n",
        "history = history.history\n",
        "\n",
        "fig, (ax1, ax2) = plt.subplots(2, 1, sharex='col', figsize=(20, 14))\n",
        "\n",
        "ax1.plot(history['loss'], label='Train loss')\n",
        "ax1.plot(history['val_loss'], label='Validation loss')\n",
        "ax1.legend(loc='best')\n",
        "ax1.set_title('Loss')\n",
        "\n",
        "ax2.plot(history['auc'], label='Training')\n",
        "ax2.plot(history['val_auc'], label='Validation')\n",
        "ax2.legend(loc='best')\n",
        "ax2.set_title('AUC')\n",
        "\n",
        "plt.xlabel('Epochs')\n",
        "sns.despine()\n",
        "plt.show()"
      ]
    },
    {
      "cell_type": "code",
      "execution_count": 14,
      "metadata": {
        "id": "dja8VkRBzmlv",
        "colab": {
          "base_uri": "https://localhost:8080/"
        },
        "outputId": "3b8a119d-c81f-4bd7-f2ea-1ff50610c437"
      },
      "outputs": [
        {
          "output_type": "stream",
          "name": "stdout",
          "text": [
            "135/135 [==============================] - 278s 108ms/step - loss: 0.4478 - auc: 0.8709\n"
          ]
        },
        {
          "output_type": "execute_result",
          "data": {
            "text/plain": [
              "[0.44781944155693054, 0.8709169626235962]"
            ]
          },
          "metadata": {},
          "execution_count": 14
        }
      ],
      "source": [
        "model.evaluate(test_ds)"
      ]
    },
    {
      "cell_type": "markdown",
      "metadata": {
        "id": "0sQ1l8JzhhUK"
      },
      "source": [
        "* baseline                   : loss: 0.4547 - auc: 0.8655\n",
        "* normalization              : loss: 0.4542 - auc: 0.8655\n",
        "* 21 features                : loss: 0.4595 - auc: 0.8625\n",
        "* deeper network             : loss: 0.4479 - auc: 0.8697\n",
        "* adjusted splits            : loss: 0.4445 - auc: 0.8722\n",
        "* shuffle before split       : loss: 0.4445 - auc: 0.8723\n",
        "* dropout 0.25               : loss: 0.4783 - auc: 0.8516\n",
        "* lr=1e-4                    : loss: 0.4478 - auc: 0.8709"
      ]
    },
    {
      "cell_type": "code",
      "execution_count": 15,
      "metadata": {
        "id": "EijFA1-ObdLJ"
      },
      "outputs": [],
      "source": [
        "# y_pred = model.predict(test_ds)\n",
        "y_pred = (model.predict(test_ds) > 0.5).astype(int)"
      ]
    },
    {
      "cell_type": "code",
      "execution_count": 16,
      "metadata": {
        "id": "_uRZrCkCqtiB",
        "colab": {
          "base_uri": "https://localhost:8080/"
        },
        "outputId": "f78c65ae-d8d2-4514-a6b0-d280e092c0f4"
      },
      "outputs": [
        {
          "output_type": "execute_result",
          "data": {
            "text/plain": [
              "550000"
            ]
          },
          "metadata": {},
          "execution_count": 16
        }
      ],
      "source": [
        "y_true = []\n",
        "for features, label in test_ds.unbatch().take(550000):\n",
        "  y_true.append(label.numpy())\n",
        "len(y_true)"
      ]
    },
    {
      "cell_type": "code",
      "execution_count": 17,
      "metadata": {
        "id": "laXcQZ-tblcG",
        "colab": {
          "base_uri": "https://localhost:8080/"
        },
        "outputId": "fae252d9-57fe-4824-916a-227eb33bd3c0"
      },
      "outputs": [
        {
          "output_type": "stream",
          "name": "stdout",
          "text": [
            "              precision    recall  f1-score   support\n",
            "\n",
            "         0.0       0.47      0.45      0.46    259026\n",
            "         1.0       0.53      0.55      0.54    290974\n",
            "\n",
            "    accuracy                           0.50    550000\n",
            "   macro avg       0.50      0.50      0.50    550000\n",
            "weighted avg       0.50      0.50      0.50    550000\n",
            "\n"
          ]
        }
      ],
      "source": [
        "from sklearn.metrics import classification_report\n",
        "print(classification_report(y_true, y_pred))"
      ]
    },
    {
      "cell_type": "code",
      "execution_count": 18,
      "metadata": {
        "id": "vzn45Elzba1A",
        "colab": {
          "base_uri": "https://localhost:8080/"
        },
        "outputId": "8b3357b0-11a6-4690-c5f2-5937b1b36d61"
      },
      "outputs": [
        {
          "output_type": "stream",
          "name": "stdout",
          "text": [
            "52.90436363636364\n",
            "47.09563636363636\n"
          ]
        }
      ],
      "source": [
        "num_t = 0\n",
        "num_f = 0\n",
        "for val in y_true:\n",
        "  if val == 1:\n",
        "    num_t += 1\n",
        "  else:\n",
        "    num_f += 1\n",
        "\n",
        "print((num_t/550000)*100.)\n",
        "print((num_f/550000)*100.)"
      ]
    }
  ],
  "metadata": {
    "accelerator": "GPU",
    "colab": {
      "name": "higgs_dnn.ipynb",
      "provenance": [],
      "authorship_tag": "ABX9TyP9zkmM7kJe2+HAVFc8HWY4",
      "include_colab_link": true
    },
    "gpuClass": "standard",
    "kernelspec": {
      "display_name": "Python 3",
      "name": "python3"
    }
  },
  "nbformat": 4,
  "nbformat_minor": 0
}