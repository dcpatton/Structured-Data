{
  "nbformat": 4,
  "nbformat_minor": 0,
  "metadata": {
    "colab": {
      "name": "target_encoding_cms_claims.ipynb",
      "provenance": [],
      "authorship_tag": "ABX9TyOUdBnYBWW6hdk9lORO/wY+",
      "include_colab_link": true
    },
    "kernelspec": {
      "name": "python3",
      "display_name": "Python 3"
    }
  },
  "cells": [
    {
      "cell_type": "markdown",
      "metadata": {
        "id": "view-in-github",
        "colab_type": "text"
      },
      "source": [
        "<a href=\"https://colab.research.google.com/github/dcpatton/Structured-Data/blob/main/target_encoding_cms_claims.ipynb\" target=\"_parent\"><img src=\"https://colab.research.google.com/assets/colab-badge.svg\" alt=\"Open In Colab\"/></a>"
      ]
    },
    {
      "cell_type": "markdown",
      "metadata": {
        "id": "4lD2FpLu1k7Q"
      },
      "source": [
        "# Objective\n",
        "This notebook is a proof of concept. It shows an example of Target Encoding categorical data."
      ]
    },
    {
      "cell_type": "code",
      "metadata": {
        "id": "tTUDyFIWuFSl",
        "outputId": "d0e21232-70f8-4edc-87ee-fe683fab4196",
        "colab": {
          "base_uri": "https://localhost:8080/",
          "height": 35
        }
      },
      "source": [
        "import tensorflow as tf\n",
        "import pandas as pd\n",
        "pd.set_option('display.max_rows', 999)\n",
        "pd.set_option('max_info_columns', 200)\n",
        "import numpy as np\n",
        "import random\n",
        "\n",
        "seed=52\n",
        "tf.random.set_seed(seed)\n",
        "random.seed(seed)\n",
        "\n",
        "tf.__version__"
      ],
      "execution_count": null,
      "outputs": [
        {
          "output_type": "execute_result",
          "data": {
            "application/vnd.google.colaboratory.intrinsic+json": {
              "type": "string"
            },
            "text/plain": [
              "'2.3.0'"
            ]
          },
          "metadata": {
            "tags": []
          },
          "execution_count": 1
        }
      ]
    },
    {
      "cell_type": "markdown",
      "metadata": {
        "id": "qoU9uh6quLxF"
      },
      "source": [
        "# Get the Data\n",
        "\n",
        "The data can be downloaded from https://www.cms.gov/Research-Statistics-Data-and-Systems/Downloadable-Public-Use-Files/SynPUFs/DE_Syn_PUF. Here I retrieve it from my GCP storage."
      ]
    },
    {
      "cell_type": "code",
      "metadata": {
        "id": "TTPdpbVpubUr"
      },
      "source": [
        "from google.colab import auth\n",
        "auth.authenticate_user()"
      ],
      "execution_count": null,
      "outputs": []
    },
    {
      "cell_type": "code",
      "metadata": {
        "id": "b8qAY3CEuoGW",
        "outputId": "e6bc9a65-0ffb-4034-fb73-29da527edf78",
        "colab": {
          "base_uri": "https://localhost:8080/",
          "height": 68
        }
      },
      "source": [
        "!curl https://sdk.cloud.google.com >/dev/null"
      ],
      "execution_count": null,
      "outputs": [
        {
          "output_type": "stream",
          "text": [
            "  % Total    % Received % Xferd  Average Speed   Time    Time     Time  Current\n",
            "                                 Dload  Upload   Total   Spent    Left  Speed\n",
            "\r  0     0    0     0    0     0      0      0 --:--:-- --:--:-- --:--:--     0\r  0     0    0     0    0     0      0      0 --:--:-- --:--:-- --:--:--     0\r100   443  100   443    0     0  12657      0 --:--:-- --:--:-- --:--:-- 12305\n"
          ],
          "name": "stdout"
        }
      ]
    },
    {
      "cell_type": "code",
      "metadata": {
        "id": "9nMKkv7Rur56",
        "outputId": "ce6c23cb-172d-41a0-b2ad-cd31758df1fa",
        "colab": {
          "base_uri": "https://localhost:8080/",
          "height": 765
        }
      },
      "source": [
        "!gcloud init --skip-diagnostics --account='dcpatton@gmail.com' --project='cms-de1' "
      ],
      "execution_count": null,
      "outputs": [
        {
          "output_type": "stream",
          "text": [
            "Welcome! This command will take you through the configuration of gcloud.\n",
            "\n",
            "Settings from your current configuration [default] are:\n",
            "component_manager:\n",
            "  disable_update_check: 'True'\n",
            "compute:\n",
            "  gce_metadata_read_timeout_sec: '0'\n",
            "core:\n",
            "  account: dcpatton@gmail.com\n",
            "  project: cms-de1\n",
            "\n",
            "Pick configuration to use:\n",
            " [1] Re-initialize this configuration [default] with new settings \n",
            " [2] Create a new configuration\n",
            "Please enter your numeric choice:  1\n",
            "\n",
            "Your current configuration has been set to: [default]\n",
            "\n",
            "You are logged in as: [dcpatton@gmail.com].\n",
            "\n",
            "Your current project has been set to: [cms-de1].\n",
            "\n",
            "Not setting default zone/region (this feature makes it easier to use\n",
            "[gcloud compute] by setting an appropriate default value for the\n",
            "--zone and --region flag).\n",
            "See https://cloud.google.com/compute/docs/gcloud-compute section on how to set\n",
            "default compute region and zone manually. If you would like [gcloud init] to be\n",
            "able to do this for you the next time you run it, make sure the\n",
            "Compute Engine API is enabled for your project on the\n",
            "https://console.developers.google.com/apis page.\n",
            "\n",
            "Your Google Cloud SDK is configured and ready to use!\n",
            "\n",
            "* Commands that require authentication will use dcpatton@gmail.com by default\n",
            "* Commands will reference project `cms-de1` by default\n",
            "Run `gcloud help config` to learn how to change individual settings\n",
            "\n",
            "This gcloud configuration is called [default]. You can create additional configurations if you work with multiple accounts and/or projects.\n",
            "Run `gcloud topic configurations` to learn more.\n",
            "\n",
            "Some things to try next:\n",
            "\n",
            "* Run `gcloud --help` to see the Cloud Platform services you can interact with. And run `gcloud help COMMAND` to get help on any gcloud command.\n",
            "* Run `gcloud topic --help` to learn about advanced features of the SDK like arg files and output formatting\n"
          ],
          "name": "stdout"
        }
      ]
    },
    {
      "cell_type": "code",
      "metadata": {
        "id": "XO-Te8HpurZm",
        "outputId": "da1615f6-26e5-47de-fe7e-3b5370e13b29",
        "colab": {
          "base_uri": "https://localhost:8080/",
          "height": 289
        }
      },
      "source": [
        "!gsutil cp gs://de-synpuf/*.zip ."
      ],
      "execution_count": null,
      "outputs": [
        {
          "output_type": "stream",
          "text": [
            "Copying gs://de-synpuf/176537_DE1_0_2010_Beneficiary_Summary_File_Sample_20.zip...\n",
            "Copying gs://de-synpuf/176541_DE1_0_2008_Beneficiary_Summary_File_Sample_1.zip...\n",
            "Copying gs://de-synpuf/176549_DE1_0_2008_to_2010_Inpatient_Claims_Sample_1.zip...\n",
            "Copying gs://de-synpuf/176600_DE1_0_2009_Beneficiary_Summary_File_Sample_1.zip...\n",
            "- [4 files][ 12.8 MiB/ 12.8 MiB]                                                \n",
            "==> NOTE: You are performing a sequence of gsutil operations that may\n",
            "run significantly faster if you instead use gsutil -m cp ... Please\n",
            "see the -m section under \"gsutil help options\" for further information\n",
            "about when gsutil -m can be advantageous.\n",
            "\n",
            "Copying gs://de-synpuf/176616_DE1_0_2008_to_2010_Outpatient_Claims_Sample_1.zip...\n",
            "Copying gs://de-synpuf/DE1_0_2008_to_2010_Carrier_Claims_Sample_1A.zip...\n",
            "Copying gs://de-synpuf/DE1_0_2008_to_2010_Carrier_Claims_Sample_1B.zip...\n",
            "Copying gs://de-synpuf/DE1_0_2008_to_2010_Prescription_Drug_Events_Sample_1.zip...\n",
            "- [8 files][361.5 MiB/361.5 MiB]                                                \n",
            "Operation completed over 8 objects/361.5 MiB.                                    \n"
          ],
          "name": "stdout"
        }
      ]
    },
    {
      "cell_type": "markdown",
      "metadata": {
        "id": "2qMeNzARumSr"
      },
      "source": [
        "# EDA\n",
        "\n",
        "Examining the inpatient claims and beneficiary summary files."
      ]
    },
    {
      "cell_type": "code",
      "metadata": {
        "id": "R7Fu9c_pyr9T",
        "outputId": "2c778543-ee33-49e9-faae-54c5ee6e8f5c",
        "colab": {
          "base_uri": "https://localhost:8080/",
          "height": 51
        }
      },
      "source": [
        "!unzip 176549_DE1_0_2008_to_2010_Inpatient_Claims_Sample_1.zip"
      ],
      "execution_count": null,
      "outputs": [
        {
          "output_type": "stream",
          "text": [
            "Archive:  176549_DE1_0_2008_to_2010_Inpatient_Claims_Sample_1.zip\n",
            "  inflating: DE1_0_2008_to_2010_Inpatient_Claims_Sample_1.csv  \n"
          ],
          "name": "stdout"
        }
      ]
    },
    {
      "cell_type": "code",
      "metadata": {
        "id": "nYdviYhyur2P"
      },
      "source": [
        "claims_df = pd.read_csv('DE1_0_2008_to_2010_Inpatient_Claims_Sample_1.csv', parse_dates=['CLM_FROM_DT', 'CLM_THRU_DT'])"
      ],
      "execution_count": null,
      "outputs": []
    },
    {
      "cell_type": "code",
      "metadata": {
        "id": "hh9M-PrqvmB4",
        "outputId": "c50ebfba-d980-4e04-e8b3-1597572c82b3",
        "colab": {
          "base_uri": "https://localhost:8080/",
          "height": 253
        }
      },
      "source": [
        "claims_df.head()"
      ],
      "execution_count": null,
      "outputs": [
        {
          "output_type": "execute_result",
          "data": {
            "text/html": [
              "<div>\n",
              "<style scoped>\n",
              "    .dataframe tbody tr th:only-of-type {\n",
              "        vertical-align: middle;\n",
              "    }\n",
              "\n",
              "    .dataframe tbody tr th {\n",
              "        vertical-align: top;\n",
              "    }\n",
              "\n",
              "    .dataframe thead th {\n",
              "        text-align: right;\n",
              "    }\n",
              "</style>\n",
              "<table border=\"1\" class=\"dataframe\">\n",
              "  <thead>\n",
              "    <tr style=\"text-align: right;\">\n",
              "      <th></th>\n",
              "      <th>DESYNPUF_ID</th>\n",
              "      <th>CLM_ID</th>\n",
              "      <th>SEGMENT</th>\n",
              "      <th>CLM_FROM_DT</th>\n",
              "      <th>CLM_THRU_DT</th>\n",
              "      <th>PRVDR_NUM</th>\n",
              "      <th>CLM_PMT_AMT</th>\n",
              "      <th>NCH_PRMRY_PYR_CLM_PD_AMT</th>\n",
              "      <th>AT_PHYSN_NPI</th>\n",
              "      <th>OP_PHYSN_NPI</th>\n",
              "      <th>OT_PHYSN_NPI</th>\n",
              "      <th>CLM_ADMSN_DT</th>\n",
              "      <th>ADMTNG_ICD9_DGNS_CD</th>\n",
              "      <th>CLM_PASS_THRU_PER_DIEM_AMT</th>\n",
              "      <th>NCH_BENE_IP_DDCTBL_AMT</th>\n",
              "      <th>NCH_BENE_PTA_COINSRNC_LBLTY_AM</th>\n",
              "      <th>NCH_BENE_BLOOD_DDCTBL_LBLTY_AM</th>\n",
              "      <th>CLM_UTLZTN_DAY_CNT</th>\n",
              "      <th>NCH_BENE_DSCHRG_DT</th>\n",
              "      <th>CLM_DRG_CD</th>\n",
              "      <th>ICD9_DGNS_CD_1</th>\n",
              "      <th>ICD9_DGNS_CD_2</th>\n",
              "      <th>ICD9_DGNS_CD_3</th>\n",
              "      <th>ICD9_DGNS_CD_4</th>\n",
              "      <th>ICD9_DGNS_CD_5</th>\n",
              "      <th>ICD9_DGNS_CD_6</th>\n",
              "      <th>ICD9_DGNS_CD_7</th>\n",
              "      <th>ICD9_DGNS_CD_8</th>\n",
              "      <th>ICD9_DGNS_CD_9</th>\n",
              "      <th>ICD9_DGNS_CD_10</th>\n",
              "      <th>ICD9_PRCDR_CD_1</th>\n",
              "      <th>ICD9_PRCDR_CD_2</th>\n",
              "      <th>ICD9_PRCDR_CD_3</th>\n",
              "      <th>ICD9_PRCDR_CD_4</th>\n",
              "      <th>ICD9_PRCDR_CD_5</th>\n",
              "      <th>ICD9_PRCDR_CD_6</th>\n",
              "      <th>HCPCS_CD_1</th>\n",
              "      <th>HCPCS_CD_2</th>\n",
              "      <th>HCPCS_CD_3</th>\n",
              "      <th>HCPCS_CD_4</th>\n",
              "      <th>...</th>\n",
              "      <th>HCPCS_CD_6</th>\n",
              "      <th>HCPCS_CD_7</th>\n",
              "      <th>HCPCS_CD_8</th>\n",
              "      <th>HCPCS_CD_9</th>\n",
              "      <th>HCPCS_CD_10</th>\n",
              "      <th>HCPCS_CD_11</th>\n",
              "      <th>HCPCS_CD_12</th>\n",
              "      <th>HCPCS_CD_13</th>\n",
              "      <th>HCPCS_CD_14</th>\n",
              "      <th>HCPCS_CD_15</th>\n",
              "      <th>HCPCS_CD_16</th>\n",
              "      <th>HCPCS_CD_17</th>\n",
              "      <th>HCPCS_CD_18</th>\n",
              "      <th>HCPCS_CD_19</th>\n",
              "      <th>HCPCS_CD_20</th>\n",
              "      <th>HCPCS_CD_21</th>\n",
              "      <th>HCPCS_CD_22</th>\n",
              "      <th>HCPCS_CD_23</th>\n",
              "      <th>HCPCS_CD_24</th>\n",
              "      <th>HCPCS_CD_25</th>\n",
              "      <th>HCPCS_CD_26</th>\n",
              "      <th>HCPCS_CD_27</th>\n",
              "      <th>HCPCS_CD_28</th>\n",
              "      <th>HCPCS_CD_29</th>\n",
              "      <th>HCPCS_CD_30</th>\n",
              "      <th>HCPCS_CD_31</th>\n",
              "      <th>HCPCS_CD_32</th>\n",
              "      <th>HCPCS_CD_33</th>\n",
              "      <th>HCPCS_CD_34</th>\n",
              "      <th>HCPCS_CD_35</th>\n",
              "      <th>HCPCS_CD_36</th>\n",
              "      <th>HCPCS_CD_37</th>\n",
              "      <th>HCPCS_CD_38</th>\n",
              "      <th>HCPCS_CD_39</th>\n",
              "      <th>HCPCS_CD_40</th>\n",
              "      <th>HCPCS_CD_41</th>\n",
              "      <th>HCPCS_CD_42</th>\n",
              "      <th>HCPCS_CD_43</th>\n",
              "      <th>HCPCS_CD_44</th>\n",
              "      <th>HCPCS_CD_45</th>\n",
              "    </tr>\n",
              "  </thead>\n",
              "  <tbody>\n",
              "    <tr>\n",
              "      <th>0</th>\n",
              "      <td>00013D2EFD8E45D1</td>\n",
              "      <td>196661176988405</td>\n",
              "      <td>1</td>\n",
              "      <td>2010-03-12</td>\n",
              "      <td>2010-03-13</td>\n",
              "      <td>2600GD</td>\n",
              "      <td>4000.0</td>\n",
              "      <td>0.0</td>\n",
              "      <td>3.139084e+09</td>\n",
              "      <td>NaN</td>\n",
              "      <td>NaN</td>\n",
              "      <td>20100312</td>\n",
              "      <td>4580</td>\n",
              "      <td>0.0</td>\n",
              "      <td>1100.0</td>\n",
              "      <td>0.0</td>\n",
              "      <td>0.0</td>\n",
              "      <td>1.0</td>\n",
              "      <td>20100313</td>\n",
              "      <td>217</td>\n",
              "      <td>7802</td>\n",
              "      <td>78820</td>\n",
              "      <td>V4501</td>\n",
              "      <td>4280</td>\n",
              "      <td>2720</td>\n",
              "      <td>4019</td>\n",
              "      <td>V4502</td>\n",
              "      <td>73300</td>\n",
              "      <td>E9330</td>\n",
              "      <td>NaN</td>\n",
              "      <td>NaN</td>\n",
              "      <td>NaN</td>\n",
              "      <td>NaN</td>\n",
              "      <td>NaN</td>\n",
              "      <td>NaN</td>\n",
              "      <td>NaN</td>\n",
              "      <td>NaN</td>\n",
              "      <td>NaN</td>\n",
              "      <td>NaN</td>\n",
              "      <td>NaN</td>\n",
              "      <td>...</td>\n",
              "      <td>NaN</td>\n",
              "      <td>NaN</td>\n",
              "      <td>NaN</td>\n",
              "      <td>NaN</td>\n",
              "      <td>NaN</td>\n",
              "      <td>NaN</td>\n",
              "      <td>NaN</td>\n",
              "      <td>NaN</td>\n",
              "      <td>NaN</td>\n",
              "      <td>NaN</td>\n",
              "      <td>NaN</td>\n",
              "      <td>NaN</td>\n",
              "      <td>NaN</td>\n",
              "      <td>NaN</td>\n",
              "      <td>NaN</td>\n",
              "      <td>NaN</td>\n",
              "      <td>NaN</td>\n",
              "      <td>NaN</td>\n",
              "      <td>NaN</td>\n",
              "      <td>NaN</td>\n",
              "      <td>NaN</td>\n",
              "      <td>NaN</td>\n",
              "      <td>NaN</td>\n",
              "      <td>NaN</td>\n",
              "      <td>NaN</td>\n",
              "      <td>NaN</td>\n",
              "      <td>NaN</td>\n",
              "      <td>NaN</td>\n",
              "      <td>NaN</td>\n",
              "      <td>NaN</td>\n",
              "      <td>NaN</td>\n",
              "      <td>NaN</td>\n",
              "      <td>NaN</td>\n",
              "      <td>NaN</td>\n",
              "      <td>NaN</td>\n",
              "      <td>NaN</td>\n",
              "      <td>NaN</td>\n",
              "      <td>NaN</td>\n",
              "      <td>NaN</td>\n",
              "      <td>NaN</td>\n",
              "    </tr>\n",
              "    <tr>\n",
              "      <th>1</th>\n",
              "      <td>00016F745862898F</td>\n",
              "      <td>196201177000368</td>\n",
              "      <td>1</td>\n",
              "      <td>2009-04-12</td>\n",
              "      <td>2009-04-18</td>\n",
              "      <td>3900MB</td>\n",
              "      <td>26000.0</td>\n",
              "      <td>0.0</td>\n",
              "      <td>6.476809e+09</td>\n",
              "      <td>NaN</td>\n",
              "      <td>NaN</td>\n",
              "      <td>20090412</td>\n",
              "      <td>7866</td>\n",
              "      <td>0.0</td>\n",
              "      <td>1068.0</td>\n",
              "      <td>0.0</td>\n",
              "      <td>0.0</td>\n",
              "      <td>6.0</td>\n",
              "      <td>20090418</td>\n",
              "      <td>201</td>\n",
              "      <td>1970</td>\n",
              "      <td>4019</td>\n",
              "      <td>5853</td>\n",
              "      <td>7843</td>\n",
              "      <td>2768</td>\n",
              "      <td>71590</td>\n",
              "      <td>2724</td>\n",
              "      <td>19889</td>\n",
              "      <td>5849</td>\n",
              "      <td>NaN</td>\n",
              "      <td>NaN</td>\n",
              "      <td>NaN</td>\n",
              "      <td>NaN</td>\n",
              "      <td>NaN</td>\n",
              "      <td>NaN</td>\n",
              "      <td>NaN</td>\n",
              "      <td>NaN</td>\n",
              "      <td>NaN</td>\n",
              "      <td>NaN</td>\n",
              "      <td>NaN</td>\n",
              "      <td>...</td>\n",
              "      <td>NaN</td>\n",
              "      <td>NaN</td>\n",
              "      <td>NaN</td>\n",
              "      <td>NaN</td>\n",
              "      <td>NaN</td>\n",
              "      <td>NaN</td>\n",
              "      <td>NaN</td>\n",
              "      <td>NaN</td>\n",
              "      <td>NaN</td>\n",
              "      <td>NaN</td>\n",
              "      <td>NaN</td>\n",
              "      <td>NaN</td>\n",
              "      <td>NaN</td>\n",
              "      <td>NaN</td>\n",
              "      <td>NaN</td>\n",
              "      <td>NaN</td>\n",
              "      <td>NaN</td>\n",
              "      <td>NaN</td>\n",
              "      <td>NaN</td>\n",
              "      <td>NaN</td>\n",
              "      <td>NaN</td>\n",
              "      <td>NaN</td>\n",
              "      <td>NaN</td>\n",
              "      <td>NaN</td>\n",
              "      <td>NaN</td>\n",
              "      <td>NaN</td>\n",
              "      <td>NaN</td>\n",
              "      <td>NaN</td>\n",
              "      <td>NaN</td>\n",
              "      <td>NaN</td>\n",
              "      <td>NaN</td>\n",
              "      <td>NaN</td>\n",
              "      <td>NaN</td>\n",
              "      <td>NaN</td>\n",
              "      <td>NaN</td>\n",
              "      <td>NaN</td>\n",
              "      <td>NaN</td>\n",
              "      <td>NaN</td>\n",
              "      <td>NaN</td>\n",
              "      <td>NaN</td>\n",
              "    </tr>\n",
              "    <tr>\n",
              "      <th>2</th>\n",
              "      <td>00016F745862898F</td>\n",
              "      <td>196661177015632</td>\n",
              "      <td>1</td>\n",
              "      <td>2009-08-31</td>\n",
              "      <td>2009-09-02</td>\n",
              "      <td>3900HM</td>\n",
              "      <td>5000.0</td>\n",
              "      <td>0.0</td>\n",
              "      <td>6.119985e+08</td>\n",
              "      <td>6.119985e+08</td>\n",
              "      <td>NaN</td>\n",
              "      <td>20090831</td>\n",
              "      <td>6186</td>\n",
              "      <td>0.0</td>\n",
              "      <td>1068.0</td>\n",
              "      <td>0.0</td>\n",
              "      <td>0.0</td>\n",
              "      <td>2.0</td>\n",
              "      <td>20090902</td>\n",
              "      <td>750</td>\n",
              "      <td>6186</td>\n",
              "      <td>2948</td>\n",
              "      <td>56400</td>\n",
              "      <td>NaN</td>\n",
              "      <td>NaN</td>\n",
              "      <td>NaN</td>\n",
              "      <td>NaN</td>\n",
              "      <td>NaN</td>\n",
              "      <td>NaN</td>\n",
              "      <td>NaN</td>\n",
              "      <td>7092.0</td>\n",
              "      <td>6186</td>\n",
              "      <td>V5866</td>\n",
              "      <td>NaN</td>\n",
              "      <td>NaN</td>\n",
              "      <td>NaN</td>\n",
              "      <td>NaN</td>\n",
              "      <td>NaN</td>\n",
              "      <td>NaN</td>\n",
              "      <td>NaN</td>\n",
              "      <td>...</td>\n",
              "      <td>NaN</td>\n",
              "      <td>NaN</td>\n",
              "      <td>NaN</td>\n",
              "      <td>NaN</td>\n",
              "      <td>NaN</td>\n",
              "      <td>NaN</td>\n",
              "      <td>NaN</td>\n",
              "      <td>NaN</td>\n",
              "      <td>NaN</td>\n",
              "      <td>NaN</td>\n",
              "      <td>NaN</td>\n",
              "      <td>NaN</td>\n",
              "      <td>NaN</td>\n",
              "      <td>NaN</td>\n",
              "      <td>NaN</td>\n",
              "      <td>NaN</td>\n",
              "      <td>NaN</td>\n",
              "      <td>NaN</td>\n",
              "      <td>NaN</td>\n",
              "      <td>NaN</td>\n",
              "      <td>NaN</td>\n",
              "      <td>NaN</td>\n",
              "      <td>NaN</td>\n",
              "      <td>NaN</td>\n",
              "      <td>NaN</td>\n",
              "      <td>NaN</td>\n",
              "      <td>NaN</td>\n",
              "      <td>NaN</td>\n",
              "      <td>NaN</td>\n",
              "      <td>NaN</td>\n",
              "      <td>NaN</td>\n",
              "      <td>NaN</td>\n",
              "      <td>NaN</td>\n",
              "      <td>NaN</td>\n",
              "      <td>NaN</td>\n",
              "      <td>NaN</td>\n",
              "      <td>NaN</td>\n",
              "      <td>NaN</td>\n",
              "      <td>NaN</td>\n",
              "      <td>NaN</td>\n",
              "    </tr>\n",
              "    <tr>\n",
              "      <th>3</th>\n",
              "      <td>00016F745862898F</td>\n",
              "      <td>196091176981058</td>\n",
              "      <td>1</td>\n",
              "      <td>2009-09-17</td>\n",
              "      <td>2009-09-20</td>\n",
              "      <td>3913XU</td>\n",
              "      <td>5000.0</td>\n",
              "      <td>0.0</td>\n",
              "      <td>4.971603e+09</td>\n",
              "      <td>NaN</td>\n",
              "      <td>1.119000e+09</td>\n",
              "      <td>20090917</td>\n",
              "      <td>29590</td>\n",
              "      <td>0.0</td>\n",
              "      <td>1068.0</td>\n",
              "      <td>0.0</td>\n",
              "      <td>0.0</td>\n",
              "      <td>3.0</td>\n",
              "      <td>20090920</td>\n",
              "      <td>883</td>\n",
              "      <td>29623</td>\n",
              "      <td>30390</td>\n",
              "      <td>71690</td>\n",
              "      <td>34590</td>\n",
              "      <td>V1581</td>\n",
              "      <td>32723</td>\n",
              "      <td>NaN</td>\n",
              "      <td>NaN</td>\n",
              "      <td>NaN</td>\n",
              "      <td>NaN</td>\n",
              "      <td>NaN</td>\n",
              "      <td>NaN</td>\n",
              "      <td>NaN</td>\n",
              "      <td>NaN</td>\n",
              "      <td>NaN</td>\n",
              "      <td>NaN</td>\n",
              "      <td>NaN</td>\n",
              "      <td>NaN</td>\n",
              "      <td>NaN</td>\n",
              "      <td>NaN</td>\n",
              "      <td>...</td>\n",
              "      <td>NaN</td>\n",
              "      <td>NaN</td>\n",
              "      <td>NaN</td>\n",
              "      <td>NaN</td>\n",
              "      <td>NaN</td>\n",
              "      <td>NaN</td>\n",
              "      <td>NaN</td>\n",
              "      <td>NaN</td>\n",
              "      <td>NaN</td>\n",
              "      <td>NaN</td>\n",
              "      <td>NaN</td>\n",
              "      <td>NaN</td>\n",
              "      <td>NaN</td>\n",
              "      <td>NaN</td>\n",
              "      <td>NaN</td>\n",
              "      <td>NaN</td>\n",
              "      <td>NaN</td>\n",
              "      <td>NaN</td>\n",
              "      <td>NaN</td>\n",
              "      <td>NaN</td>\n",
              "      <td>NaN</td>\n",
              "      <td>NaN</td>\n",
              "      <td>NaN</td>\n",
              "      <td>NaN</td>\n",
              "      <td>NaN</td>\n",
              "      <td>NaN</td>\n",
              "      <td>NaN</td>\n",
              "      <td>NaN</td>\n",
              "      <td>NaN</td>\n",
              "      <td>NaN</td>\n",
              "      <td>NaN</td>\n",
              "      <td>NaN</td>\n",
              "      <td>NaN</td>\n",
              "      <td>NaN</td>\n",
              "      <td>NaN</td>\n",
              "      <td>NaN</td>\n",
              "      <td>NaN</td>\n",
              "      <td>NaN</td>\n",
              "      <td>NaN</td>\n",
              "      <td>NaN</td>\n",
              "    </tr>\n",
              "    <tr>\n",
              "      <th>4</th>\n",
              "      <td>00016F745862898F</td>\n",
              "      <td>196261176983265</td>\n",
              "      <td>1</td>\n",
              "      <td>2010-06-26</td>\n",
              "      <td>2010-07-01</td>\n",
              "      <td>3900MB</td>\n",
              "      <td>16000.0</td>\n",
              "      <td>0.0</td>\n",
              "      <td>6.408400e+09</td>\n",
              "      <td>1.960860e+09</td>\n",
              "      <td>NaN</td>\n",
              "      <td>20100626</td>\n",
              "      <td>5849</td>\n",
              "      <td>0.0</td>\n",
              "      <td>1100.0</td>\n",
              "      <td>0.0</td>\n",
              "      <td>0.0</td>\n",
              "      <td>5.0</td>\n",
              "      <td>20100701</td>\n",
              "      <td>983</td>\n",
              "      <td>3569</td>\n",
              "      <td>4019</td>\n",
              "      <td>3542</td>\n",
              "      <td>V8801</td>\n",
              "      <td>78820</td>\n",
              "      <td>2639</td>\n",
              "      <td>7840</td>\n",
              "      <td>7856</td>\n",
              "      <td>4271</td>\n",
              "      <td>NaN</td>\n",
              "      <td>NaN</td>\n",
              "      <td>E8889</td>\n",
              "      <td>NaN</td>\n",
              "      <td>NaN</td>\n",
              "      <td>NaN</td>\n",
              "      <td>NaN</td>\n",
              "      <td>NaN</td>\n",
              "      <td>NaN</td>\n",
              "      <td>NaN</td>\n",
              "      <td>NaN</td>\n",
              "      <td>...</td>\n",
              "      <td>NaN</td>\n",
              "      <td>NaN</td>\n",
              "      <td>NaN</td>\n",
              "      <td>NaN</td>\n",
              "      <td>NaN</td>\n",
              "      <td>NaN</td>\n",
              "      <td>NaN</td>\n",
              "      <td>NaN</td>\n",
              "      <td>NaN</td>\n",
              "      <td>NaN</td>\n",
              "      <td>NaN</td>\n",
              "      <td>NaN</td>\n",
              "      <td>NaN</td>\n",
              "      <td>NaN</td>\n",
              "      <td>NaN</td>\n",
              "      <td>NaN</td>\n",
              "      <td>NaN</td>\n",
              "      <td>NaN</td>\n",
              "      <td>NaN</td>\n",
              "      <td>NaN</td>\n",
              "      <td>NaN</td>\n",
              "      <td>NaN</td>\n",
              "      <td>NaN</td>\n",
              "      <td>NaN</td>\n",
              "      <td>NaN</td>\n",
              "      <td>NaN</td>\n",
              "      <td>NaN</td>\n",
              "      <td>NaN</td>\n",
              "      <td>NaN</td>\n",
              "      <td>NaN</td>\n",
              "      <td>NaN</td>\n",
              "      <td>NaN</td>\n",
              "      <td>NaN</td>\n",
              "      <td>NaN</td>\n",
              "      <td>NaN</td>\n",
              "      <td>NaN</td>\n",
              "      <td>NaN</td>\n",
              "      <td>NaN</td>\n",
              "      <td>NaN</td>\n",
              "      <td>NaN</td>\n",
              "    </tr>\n",
              "  </tbody>\n",
              "</table>\n",
              "<p>5 rows × 81 columns</p>\n",
              "</div>"
            ],
            "text/plain": [
              "        DESYNPUF_ID           CLM_ID  ...  HCPCS_CD_44 HCPCS_CD_45\n",
              "0  00013D2EFD8E45D1  196661176988405  ...          NaN         NaN\n",
              "1  00016F745862898F  196201177000368  ...          NaN         NaN\n",
              "2  00016F745862898F  196661177015632  ...          NaN         NaN\n",
              "3  00016F745862898F  196091176981058  ...          NaN         NaN\n",
              "4  00016F745862898F  196261176983265  ...          NaN         NaN\n",
              "\n",
              "[5 rows x 81 columns]"
            ]
          },
          "metadata": {
            "tags": []
          },
          "execution_count": 104
        }
      ]
    },
    {
      "cell_type": "code",
      "metadata": {
        "id": "8fcAqm9eJRRk",
        "outputId": "3efed567-bee6-45ff-9557-e773142e2e37",
        "colab": {
          "base_uri": "https://localhost:8080/",
          "height": 34
        }
      },
      "source": [
        "claims_df.DESYNPUF_ID.nunique()"
      ],
      "execution_count": null,
      "outputs": [
        {
          "output_type": "execute_result",
          "data": {
            "text/plain": [
              "37780"
            ]
          },
          "metadata": {
            "tags": []
          },
          "execution_count": 105
        }
      ]
    },
    {
      "cell_type": "code",
      "metadata": {
        "id": "YMmJG8afwAHv",
        "outputId": "ea745cf7-edc5-439f-f930-2c8dc2047256",
        "colab": {
          "base_uri": "https://localhost:8080/",
          "height": 1000
        }
      },
      "source": [
        "claims_df.info()"
      ],
      "execution_count": null,
      "outputs": [
        {
          "output_type": "stream",
          "text": [
            "<class 'pandas.core.frame.DataFrame'>\n",
            "RangeIndex: 66773 entries, 0 to 66772\n",
            "Data columns (total 81 columns):\n",
            " #   Column                          Non-Null Count  Dtype         \n",
            "---  ------                          --------------  -----         \n",
            " 0   DESYNPUF_ID                     66773 non-null  object        \n",
            " 1   CLM_ID                          66773 non-null  int64         \n",
            " 2   SEGMENT                         66773 non-null  int64         \n",
            " 3   CLM_FROM_DT                     66705 non-null  datetime64[ns]\n",
            " 4   CLM_THRU_DT                     66705 non-null  datetime64[ns]\n",
            " 5   PRVDR_NUM                       66773 non-null  object        \n",
            " 6   CLM_PMT_AMT                     66773 non-null  float64       \n",
            " 7   NCH_PRMRY_PYR_CLM_PD_AMT        66773 non-null  float64       \n",
            " 8   AT_PHYSN_NPI                    66100 non-null  float64       \n",
            " 9   OP_PHYSN_NPI                    39058 non-null  float64       \n",
            " 10  OT_PHYSN_NPI                    7683 non-null   float64       \n",
            " 11  CLM_ADMSN_DT                    66773 non-null  int64         \n",
            " 12  ADMTNG_ICD9_DGNS_CD             66174 non-null  object        \n",
            " 13  CLM_PASS_THRU_PER_DIEM_AMT      66773 non-null  float64       \n",
            " 14  NCH_BENE_IP_DDCTBL_AMT          64595 non-null  float64       \n",
            " 15  NCH_BENE_PTA_COINSRNC_LBLTY_AM  66773 non-null  float64       \n",
            " 16  NCH_BENE_BLOOD_DDCTBL_LBLTY_AM  66773 non-null  float64       \n",
            " 17  CLM_UTLZTN_DAY_CNT              66705 non-null  float64       \n",
            " 18  NCH_BENE_DSCHRG_DT              66773 non-null  int64         \n",
            " 19  CLM_DRG_CD                      66773 non-null  object        \n",
            " 20  ICD9_DGNS_CD_1                  66678 non-null  object        \n",
            " 21  ICD9_DGNS_CD_2                  66247 non-null  object        \n",
            " 22  ICD9_DGNS_CD_3                  65492 non-null  object        \n",
            " 23  ICD9_DGNS_CD_4                  64005 non-null  object        \n",
            " 24  ICD9_DGNS_CD_5                  61639 non-null  object        \n",
            " 25  ICD9_DGNS_CD_6                  58369 non-null  object        \n",
            " 26  ICD9_DGNS_CD_7                  54407 non-null  object        \n",
            " 27  ICD9_DGNS_CD_8                  49947 non-null  object        \n",
            " 28  ICD9_DGNS_CD_9                  45032 non-null  object        \n",
            " 29  ICD9_DGNS_CD_10                 5455 non-null   object        \n",
            " 30  ICD9_PRCDR_CD_1                 38231 non-null  float64       \n",
            " 31  ICD9_PRCDR_CD_2                 22733 non-null  object        \n",
            " 32  ICD9_PRCDR_CD_3                 14462 non-null  object        \n",
            " 33  ICD9_PRCDR_CD_4                 9377 non-null   object        \n",
            " 34  ICD9_PRCDR_CD_5                 6446 non-null   object        \n",
            " 35  ICD9_PRCDR_CD_6                 4622 non-null   object        \n",
            " 36  HCPCS_CD_1                      0 non-null      float64       \n",
            " 37  HCPCS_CD_2                      0 non-null      float64       \n",
            " 38  HCPCS_CD_3                      0 non-null      float64       \n",
            " 39  HCPCS_CD_4                      0 non-null      float64       \n",
            " 40  HCPCS_CD_5                      0 non-null      float64       \n",
            " 41  HCPCS_CD_6                      0 non-null      float64       \n",
            " 42  HCPCS_CD_7                      0 non-null      float64       \n",
            " 43  HCPCS_CD_8                      0 non-null      float64       \n",
            " 44  HCPCS_CD_9                      0 non-null      float64       \n",
            " 45  HCPCS_CD_10                     0 non-null      float64       \n",
            " 46  HCPCS_CD_11                     0 non-null      float64       \n",
            " 47  HCPCS_CD_12                     0 non-null      float64       \n",
            " 48  HCPCS_CD_13                     0 non-null      float64       \n",
            " 49  HCPCS_CD_14                     0 non-null      float64       \n",
            " 50  HCPCS_CD_15                     0 non-null      float64       \n",
            " 51  HCPCS_CD_16                     0 non-null      float64       \n",
            " 52  HCPCS_CD_17                     0 non-null      float64       \n",
            " 53  HCPCS_CD_18                     0 non-null      float64       \n",
            " 54  HCPCS_CD_19                     0 non-null      float64       \n",
            " 55  HCPCS_CD_20                     0 non-null      float64       \n",
            " 56  HCPCS_CD_21                     0 non-null      float64       \n",
            " 57  HCPCS_CD_22                     0 non-null      float64       \n",
            " 58  HCPCS_CD_23                     0 non-null      float64       \n",
            " 59  HCPCS_CD_24                     0 non-null      float64       \n",
            " 60  HCPCS_CD_25                     0 non-null      float64       \n",
            " 61  HCPCS_CD_26                     0 non-null      float64       \n",
            " 62  HCPCS_CD_27                     0 non-null      float64       \n",
            " 63  HCPCS_CD_28                     0 non-null      float64       \n",
            " 64  HCPCS_CD_29                     0 non-null      float64       \n",
            " 65  HCPCS_CD_30                     0 non-null      float64       \n",
            " 66  HCPCS_CD_31                     0 non-null      float64       \n",
            " 67  HCPCS_CD_32                     0 non-null      float64       \n",
            " 68  HCPCS_CD_33                     0 non-null      float64       \n",
            " 69  HCPCS_CD_34                     0 non-null      float64       \n",
            " 70  HCPCS_CD_35                     0 non-null      float64       \n",
            " 71  HCPCS_CD_36                     0 non-null      float64       \n",
            " 72  HCPCS_CD_37                     0 non-null      float64       \n",
            " 73  HCPCS_CD_38                     0 non-null      float64       \n",
            " 74  HCPCS_CD_39                     0 non-null      float64       \n",
            " 75  HCPCS_CD_40                     0 non-null      float64       \n",
            " 76  HCPCS_CD_41                     0 non-null      float64       \n",
            " 77  HCPCS_CD_42                     0 non-null      float64       \n",
            " 78  HCPCS_CD_43                     0 non-null      float64       \n",
            " 79  HCPCS_CD_44                     0 non-null      float64       \n",
            " 80  HCPCS_CD_45                     0 non-null      float64       \n",
            "dtypes: datetime64[ns](2), float64(56), int64(4), object(19)\n",
            "memory usage: 41.3+ MB\n"
          ],
          "name": "stdout"
        }
      ]
    },
    {
      "cell_type": "code",
      "metadata": {
        "id": "MJVQ8c-kwAPQ",
        "outputId": "6be9efd8-b88a-4c73-c46e-66de4ec25180",
        "colab": {
          "base_uri": "https://localhost:8080/",
          "height": 1000
        }
      },
      "source": [
        "claims_df.isna().sum()"
      ],
      "execution_count": null,
      "outputs": [
        {
          "output_type": "execute_result",
          "data": {
            "text/plain": [
              "DESYNPUF_ID                           0\n",
              "CLM_ID                                0\n",
              "SEGMENT                               0\n",
              "CLM_FROM_DT                          68\n",
              "CLM_THRU_DT                          68\n",
              "PRVDR_NUM                             0\n",
              "CLM_PMT_AMT                           0\n",
              "NCH_PRMRY_PYR_CLM_PD_AMT              0\n",
              "AT_PHYSN_NPI                        673\n",
              "OP_PHYSN_NPI                      27715\n",
              "OT_PHYSN_NPI                      59090\n",
              "CLM_ADMSN_DT                          0\n",
              "ADMTNG_ICD9_DGNS_CD                 599\n",
              "CLM_PASS_THRU_PER_DIEM_AMT            0\n",
              "NCH_BENE_IP_DDCTBL_AMT             2178\n",
              "NCH_BENE_PTA_COINSRNC_LBLTY_AM        0\n",
              "NCH_BENE_BLOOD_DDCTBL_LBLTY_AM        0\n",
              "CLM_UTLZTN_DAY_CNT                   68\n",
              "NCH_BENE_DSCHRG_DT                    0\n",
              "CLM_DRG_CD                            0\n",
              "ICD9_DGNS_CD_1                       95\n",
              "ICD9_DGNS_CD_2                      526\n",
              "ICD9_DGNS_CD_3                     1281\n",
              "ICD9_DGNS_CD_4                     2768\n",
              "ICD9_DGNS_CD_5                     5134\n",
              "ICD9_DGNS_CD_6                     8404\n",
              "ICD9_DGNS_CD_7                    12366\n",
              "ICD9_DGNS_CD_8                    16826\n",
              "ICD9_DGNS_CD_9                    21741\n",
              "ICD9_DGNS_CD_10                   61318\n",
              "ICD9_PRCDR_CD_1                   28542\n",
              "ICD9_PRCDR_CD_2                   44040\n",
              "ICD9_PRCDR_CD_3                   52311\n",
              "ICD9_PRCDR_CD_4                   57396\n",
              "ICD9_PRCDR_CD_5                   60327\n",
              "ICD9_PRCDR_CD_6                   62151\n",
              "HCPCS_CD_1                        66773\n",
              "HCPCS_CD_2                        66773\n",
              "HCPCS_CD_3                        66773\n",
              "HCPCS_CD_4                        66773\n",
              "HCPCS_CD_5                        66773\n",
              "HCPCS_CD_6                        66773\n",
              "HCPCS_CD_7                        66773\n",
              "HCPCS_CD_8                        66773\n",
              "HCPCS_CD_9                        66773\n",
              "HCPCS_CD_10                       66773\n",
              "HCPCS_CD_11                       66773\n",
              "HCPCS_CD_12                       66773\n",
              "HCPCS_CD_13                       66773\n",
              "HCPCS_CD_14                       66773\n",
              "HCPCS_CD_15                       66773\n",
              "HCPCS_CD_16                       66773\n",
              "HCPCS_CD_17                       66773\n",
              "HCPCS_CD_18                       66773\n",
              "HCPCS_CD_19                       66773\n",
              "HCPCS_CD_20                       66773\n",
              "HCPCS_CD_21                       66773\n",
              "HCPCS_CD_22                       66773\n",
              "HCPCS_CD_23                       66773\n",
              "HCPCS_CD_24                       66773\n",
              "HCPCS_CD_25                       66773\n",
              "HCPCS_CD_26                       66773\n",
              "HCPCS_CD_27                       66773\n",
              "HCPCS_CD_28                       66773\n",
              "HCPCS_CD_29                       66773\n",
              "HCPCS_CD_30                       66773\n",
              "HCPCS_CD_31                       66773\n",
              "HCPCS_CD_32                       66773\n",
              "HCPCS_CD_33                       66773\n",
              "HCPCS_CD_34                       66773\n",
              "HCPCS_CD_35                       66773\n",
              "HCPCS_CD_36                       66773\n",
              "HCPCS_CD_37                       66773\n",
              "HCPCS_CD_38                       66773\n",
              "HCPCS_CD_39                       66773\n",
              "HCPCS_CD_40                       66773\n",
              "HCPCS_CD_41                       66773\n",
              "HCPCS_CD_42                       66773\n",
              "HCPCS_CD_43                       66773\n",
              "HCPCS_CD_44                       66773\n",
              "HCPCS_CD_45                       66773\n",
              "dtype: int64"
            ]
          },
          "metadata": {
            "tags": []
          },
          "execution_count": 107
        }
      ]
    },
    {
      "cell_type": "code",
      "metadata": {
        "id": "tgzyp-LUFdsr",
        "outputId": "5fc7e726-0aa0-4b86-91a9-c49a3b59eabb",
        "colab": {
          "base_uri": "https://localhost:8080/",
          "height": 119
        }
      },
      "source": [
        "!unzip 176541_DE1_0_2008_Beneficiary_Summary_File_Sample_1.zip\n",
        "!unzip 176600_DE1_0_2009_Beneficiary_Summary_File_Sample_1.zip\n",
        "!unzip 176537_DE1_0_2010_Beneficiary_Summary_File_Sample_20.zip"
      ],
      "execution_count": null,
      "outputs": [
        {
          "output_type": "stream",
          "text": [
            "Archive:  176541_DE1_0_2008_Beneficiary_Summary_File_Sample_1.zip\n",
            "replace DE1_0_2008_Beneficiary_Summary_File_Sample_1.csv? [y]es, [n]o, [A]ll, [N]one, [r]ename: N\n",
            "Archive:  176600_DE1_0_2009_Beneficiary_Summary_File_Sample_1.zip\n",
            "replace DE1_0_2009_Beneficiary_Summary_File_Sample_1.csv? [y]es, [n]o, [A]ll, [N]one, [r]ename: N\n",
            "Archive:  176537_DE1_0_2010_Beneficiary_Summary_File_Sample_20.zip\n",
            "replace DE1_0_2010_Beneficiary_Summary_File_Sample_20.csv? [y]es, [n]o, [A]ll, [N]one, [r]ename: N\n"
          ],
          "name": "stdout"
        }
      ]
    },
    {
      "cell_type": "code",
      "metadata": {
        "id": "DWA0LuK0FPE_"
      },
      "source": [
        "summary_2008_df = pd.read_csv('DE1_0_2008_Beneficiary_Summary_File_Sample_1.csv', parse_dates=['BENE_BIRTH_DT'])\n",
        "summary_2009_df = pd.read_csv('DE1_0_2009_Beneficiary_Summary_File_Sample_1.csv', parse_dates=['BENE_BIRTH_DT'])\n",
        "summary_2010_df = pd.read_csv('DE1_0_2010_Beneficiary_Summary_File_Sample_20.csv', parse_dates=['BENE_BIRTH_DT'])"
      ],
      "execution_count": null,
      "outputs": []
    },
    {
      "cell_type": "code",
      "metadata": {
        "id": "kfA8hLJ0FlP6",
        "outputId": "623185b9-01cd-4ab5-b0b5-2163538bdfc0",
        "colab": {
          "base_uri": "https://localhost:8080/",
          "height": 224
        }
      },
      "source": [
        "summary_2008_df.head()"
      ],
      "execution_count": null,
      "outputs": [
        {
          "output_type": "execute_result",
          "data": {
            "text/html": [
              "<div>\n",
              "<style scoped>\n",
              "    .dataframe tbody tr th:only-of-type {\n",
              "        vertical-align: middle;\n",
              "    }\n",
              "\n",
              "    .dataframe tbody tr th {\n",
              "        vertical-align: top;\n",
              "    }\n",
              "\n",
              "    .dataframe thead th {\n",
              "        text-align: right;\n",
              "    }\n",
              "</style>\n",
              "<table border=\"1\" class=\"dataframe\">\n",
              "  <thead>\n",
              "    <tr style=\"text-align: right;\">\n",
              "      <th></th>\n",
              "      <th>DESYNPUF_ID</th>\n",
              "      <th>BENE_BIRTH_DT</th>\n",
              "      <th>BENE_DEATH_DT</th>\n",
              "      <th>BENE_SEX_IDENT_CD</th>\n",
              "      <th>BENE_RACE_CD</th>\n",
              "      <th>BENE_ESRD_IND</th>\n",
              "      <th>SP_STATE_CODE</th>\n",
              "      <th>BENE_COUNTY_CD</th>\n",
              "      <th>BENE_HI_CVRAGE_TOT_MONS</th>\n",
              "      <th>BENE_SMI_CVRAGE_TOT_MONS</th>\n",
              "      <th>BENE_HMO_CVRAGE_TOT_MONS</th>\n",
              "      <th>PLAN_CVRG_MOS_NUM</th>\n",
              "      <th>SP_ALZHDMTA</th>\n",
              "      <th>SP_CHF</th>\n",
              "      <th>SP_CHRNKIDN</th>\n",
              "      <th>SP_CNCR</th>\n",
              "      <th>SP_COPD</th>\n",
              "      <th>SP_DEPRESSN</th>\n",
              "      <th>SP_DIABETES</th>\n",
              "      <th>SP_ISCHMCHT</th>\n",
              "      <th>SP_OSTEOPRS</th>\n",
              "      <th>SP_RA_OA</th>\n",
              "      <th>SP_STRKETIA</th>\n",
              "      <th>MEDREIMB_IP</th>\n",
              "      <th>BENRES_IP</th>\n",
              "      <th>PPPYMT_IP</th>\n",
              "      <th>MEDREIMB_OP</th>\n",
              "      <th>BENRES_OP</th>\n",
              "      <th>PPPYMT_OP</th>\n",
              "      <th>MEDREIMB_CAR</th>\n",
              "      <th>BENRES_CAR</th>\n",
              "      <th>PPPYMT_CAR</th>\n",
              "    </tr>\n",
              "  </thead>\n",
              "  <tbody>\n",
              "    <tr>\n",
              "      <th>0</th>\n",
              "      <td>00013D2EFD8E45D1</td>\n",
              "      <td>1923-05-01</td>\n",
              "      <td>NaN</td>\n",
              "      <td>1</td>\n",
              "      <td>1</td>\n",
              "      <td>0</td>\n",
              "      <td>26</td>\n",
              "      <td>950</td>\n",
              "      <td>12</td>\n",
              "      <td>12</td>\n",
              "      <td>12</td>\n",
              "      <td>12</td>\n",
              "      <td>2</td>\n",
              "      <td>2</td>\n",
              "      <td>2</td>\n",
              "      <td>2</td>\n",
              "      <td>2</td>\n",
              "      <td>2</td>\n",
              "      <td>2</td>\n",
              "      <td>2</td>\n",
              "      <td>2</td>\n",
              "      <td>2</td>\n",
              "      <td>2</td>\n",
              "      <td>0.0</td>\n",
              "      <td>0.0</td>\n",
              "      <td>0.0</td>\n",
              "      <td>50.0</td>\n",
              "      <td>10.0</td>\n",
              "      <td>0.0</td>\n",
              "      <td>0.0</td>\n",
              "      <td>0.0</td>\n",
              "      <td>0.0</td>\n",
              "    </tr>\n",
              "    <tr>\n",
              "      <th>1</th>\n",
              "      <td>00016F745862898F</td>\n",
              "      <td>1943-01-01</td>\n",
              "      <td>NaN</td>\n",
              "      <td>1</td>\n",
              "      <td>1</td>\n",
              "      <td>0</td>\n",
              "      <td>39</td>\n",
              "      <td>230</td>\n",
              "      <td>12</td>\n",
              "      <td>12</td>\n",
              "      <td>0</td>\n",
              "      <td>0</td>\n",
              "      <td>2</td>\n",
              "      <td>2</td>\n",
              "      <td>2</td>\n",
              "      <td>2</td>\n",
              "      <td>2</td>\n",
              "      <td>2</td>\n",
              "      <td>2</td>\n",
              "      <td>2</td>\n",
              "      <td>2</td>\n",
              "      <td>2</td>\n",
              "      <td>2</td>\n",
              "      <td>0.0</td>\n",
              "      <td>0.0</td>\n",
              "      <td>0.0</td>\n",
              "      <td>0.0</td>\n",
              "      <td>0.0</td>\n",
              "      <td>0.0</td>\n",
              "      <td>700.0</td>\n",
              "      <td>240.0</td>\n",
              "      <td>0.0</td>\n",
              "    </tr>\n",
              "    <tr>\n",
              "      <th>2</th>\n",
              "      <td>0001FDD721E223DC</td>\n",
              "      <td>1936-09-01</td>\n",
              "      <td>NaN</td>\n",
              "      <td>2</td>\n",
              "      <td>1</td>\n",
              "      <td>0</td>\n",
              "      <td>39</td>\n",
              "      <td>280</td>\n",
              "      <td>12</td>\n",
              "      <td>12</td>\n",
              "      <td>0</td>\n",
              "      <td>12</td>\n",
              "      <td>2</td>\n",
              "      <td>2</td>\n",
              "      <td>2</td>\n",
              "      <td>2</td>\n",
              "      <td>2</td>\n",
              "      <td>2</td>\n",
              "      <td>2</td>\n",
              "      <td>2</td>\n",
              "      <td>2</td>\n",
              "      <td>2</td>\n",
              "      <td>2</td>\n",
              "      <td>0.0</td>\n",
              "      <td>0.0</td>\n",
              "      <td>0.0</td>\n",
              "      <td>0.0</td>\n",
              "      <td>0.0</td>\n",
              "      <td>0.0</td>\n",
              "      <td>0.0</td>\n",
              "      <td>0.0</td>\n",
              "      <td>0.0</td>\n",
              "    </tr>\n",
              "    <tr>\n",
              "      <th>3</th>\n",
              "      <td>00021CA6FF03E670</td>\n",
              "      <td>1941-06-01</td>\n",
              "      <td>NaN</td>\n",
              "      <td>1</td>\n",
              "      <td>5</td>\n",
              "      <td>0</td>\n",
              "      <td>6</td>\n",
              "      <td>290</td>\n",
              "      <td>0</td>\n",
              "      <td>0</td>\n",
              "      <td>0</td>\n",
              "      <td>0</td>\n",
              "      <td>2</td>\n",
              "      <td>2</td>\n",
              "      <td>2</td>\n",
              "      <td>2</td>\n",
              "      <td>2</td>\n",
              "      <td>2</td>\n",
              "      <td>2</td>\n",
              "      <td>2</td>\n",
              "      <td>2</td>\n",
              "      <td>2</td>\n",
              "      <td>2</td>\n",
              "      <td>0.0</td>\n",
              "      <td>0.0</td>\n",
              "      <td>0.0</td>\n",
              "      <td>0.0</td>\n",
              "      <td>0.0</td>\n",
              "      <td>0.0</td>\n",
              "      <td>0.0</td>\n",
              "      <td>0.0</td>\n",
              "      <td>0.0</td>\n",
              "    </tr>\n",
              "    <tr>\n",
              "      <th>4</th>\n",
              "      <td>00024B3D2352D2D0</td>\n",
              "      <td>1936-08-01</td>\n",
              "      <td>NaN</td>\n",
              "      <td>1</td>\n",
              "      <td>1</td>\n",
              "      <td>0</td>\n",
              "      <td>52</td>\n",
              "      <td>590</td>\n",
              "      <td>12</td>\n",
              "      <td>12</td>\n",
              "      <td>0</td>\n",
              "      <td>0</td>\n",
              "      <td>2</td>\n",
              "      <td>2</td>\n",
              "      <td>2</td>\n",
              "      <td>2</td>\n",
              "      <td>2</td>\n",
              "      <td>2</td>\n",
              "      <td>2</td>\n",
              "      <td>2</td>\n",
              "      <td>1</td>\n",
              "      <td>2</td>\n",
              "      <td>2</td>\n",
              "      <td>0.0</td>\n",
              "      <td>0.0</td>\n",
              "      <td>0.0</td>\n",
              "      <td>30.0</td>\n",
              "      <td>40.0</td>\n",
              "      <td>0.0</td>\n",
              "      <td>220.0</td>\n",
              "      <td>80.0</td>\n",
              "      <td>0.0</td>\n",
              "    </tr>\n",
              "  </tbody>\n",
              "</table>\n",
              "</div>"
            ],
            "text/plain": [
              "        DESYNPUF_ID BENE_BIRTH_DT  ...  BENRES_CAR  PPPYMT_CAR\n",
              "0  00013D2EFD8E45D1    1923-05-01  ...         0.0         0.0\n",
              "1  00016F745862898F    1943-01-01  ...       240.0         0.0\n",
              "2  0001FDD721E223DC    1936-09-01  ...         0.0         0.0\n",
              "3  00021CA6FF03E670    1941-06-01  ...         0.0         0.0\n",
              "4  00024B3D2352D2D0    1936-08-01  ...        80.0         0.0\n",
              "\n",
              "[5 rows x 32 columns]"
            ]
          },
          "metadata": {
            "tags": []
          },
          "execution_count": 110
        }
      ]
    },
    {
      "cell_type": "code",
      "metadata": {
        "id": "ARjhREFlFuM5",
        "outputId": "d7151a80-c91b-4663-859d-fd587b2fadc8",
        "colab": {
          "base_uri": "https://localhost:8080/",
          "height": 680
        }
      },
      "source": [
        "summary_2008_df.info()"
      ],
      "execution_count": null,
      "outputs": [
        {
          "output_type": "stream",
          "text": [
            "<class 'pandas.core.frame.DataFrame'>\n",
            "RangeIndex: 116352 entries, 0 to 116351\n",
            "Data columns (total 32 columns):\n",
            " #   Column                    Non-Null Count   Dtype         \n",
            "---  ------                    --------------   -----         \n",
            " 0   DESYNPUF_ID               116352 non-null  object        \n",
            " 1   BENE_BIRTH_DT             116352 non-null  datetime64[ns]\n",
            " 2   BENE_DEATH_DT             1814 non-null    float64       \n",
            " 3   BENE_SEX_IDENT_CD         116352 non-null  int64         \n",
            " 4   BENE_RACE_CD              116352 non-null  int64         \n",
            " 5   BENE_ESRD_IND             116352 non-null  object        \n",
            " 6   SP_STATE_CODE             116352 non-null  int64         \n",
            " 7   BENE_COUNTY_CD            116352 non-null  int64         \n",
            " 8   BENE_HI_CVRAGE_TOT_MONS   116352 non-null  int64         \n",
            " 9   BENE_SMI_CVRAGE_TOT_MONS  116352 non-null  int64         \n",
            " 10  BENE_HMO_CVRAGE_TOT_MONS  116352 non-null  int64         \n",
            " 11  PLAN_CVRG_MOS_NUM         116352 non-null  int64         \n",
            " 12  SP_ALZHDMTA               116352 non-null  int64         \n",
            " 13  SP_CHF                    116352 non-null  int64         \n",
            " 14  SP_CHRNKIDN               116352 non-null  int64         \n",
            " 15  SP_CNCR                   116352 non-null  int64         \n",
            " 16  SP_COPD                   116352 non-null  int64         \n",
            " 17  SP_DEPRESSN               116352 non-null  int64         \n",
            " 18  SP_DIABETES               116352 non-null  int64         \n",
            " 19  SP_ISCHMCHT               116352 non-null  int64         \n",
            " 20  SP_OSTEOPRS               116352 non-null  int64         \n",
            " 21  SP_RA_OA                  116352 non-null  int64         \n",
            " 22  SP_STRKETIA               116352 non-null  int64         \n",
            " 23  MEDREIMB_IP               116352 non-null  float64       \n",
            " 24  BENRES_IP                 116352 non-null  float64       \n",
            " 25  PPPYMT_IP                 116352 non-null  float64       \n",
            " 26  MEDREIMB_OP               116352 non-null  float64       \n",
            " 27  BENRES_OP                 116352 non-null  float64       \n",
            " 28  PPPYMT_OP                 116352 non-null  float64       \n",
            " 29  MEDREIMB_CAR              116352 non-null  float64       \n",
            " 30  BENRES_CAR                116352 non-null  float64       \n",
            " 31  PPPYMT_CAR                116352 non-null  float64       \n",
            "dtypes: datetime64[ns](1), float64(10), int64(19), object(2)\n",
            "memory usage: 28.4+ MB\n"
          ],
          "name": "stdout"
        }
      ]
    },
    {
      "cell_type": "code",
      "metadata": {
        "id": "SKh-87n8FuVb",
        "outputId": "ceae8300-20ee-4b63-c342-5a4b65c38eb0",
        "colab": {
          "base_uri": "https://localhost:8080/",
          "height": 578
        }
      },
      "source": [
        "summary_2008_df.isna().sum()"
      ],
      "execution_count": null,
      "outputs": [
        {
          "output_type": "execute_result",
          "data": {
            "text/plain": [
              "DESYNPUF_ID                      0\n",
              "BENE_BIRTH_DT                    0\n",
              "BENE_DEATH_DT               114538\n",
              "BENE_SEX_IDENT_CD                0\n",
              "BENE_RACE_CD                     0\n",
              "BENE_ESRD_IND                    0\n",
              "SP_STATE_CODE                    0\n",
              "BENE_COUNTY_CD                   0\n",
              "BENE_HI_CVRAGE_TOT_MONS          0\n",
              "BENE_SMI_CVRAGE_TOT_MONS         0\n",
              "BENE_HMO_CVRAGE_TOT_MONS         0\n",
              "PLAN_CVRG_MOS_NUM                0\n",
              "SP_ALZHDMTA                      0\n",
              "SP_CHF                           0\n",
              "SP_CHRNKIDN                      0\n",
              "SP_CNCR                          0\n",
              "SP_COPD                          0\n",
              "SP_DEPRESSN                      0\n",
              "SP_DIABETES                      0\n",
              "SP_ISCHMCHT                      0\n",
              "SP_OSTEOPRS                      0\n",
              "SP_RA_OA                         0\n",
              "SP_STRKETIA                      0\n",
              "MEDREIMB_IP                      0\n",
              "BENRES_IP                        0\n",
              "PPPYMT_IP                        0\n",
              "MEDREIMB_OP                      0\n",
              "BENRES_OP                        0\n",
              "PPPYMT_OP                        0\n",
              "MEDREIMB_CAR                     0\n",
              "BENRES_CAR                       0\n",
              "PPPYMT_CAR                       0\n",
              "dtype: int64"
            ]
          },
          "metadata": {
            "tags": []
          },
          "execution_count": 112
        }
      ]
    },
    {
      "cell_type": "code",
      "metadata": {
        "id": "0hfuaaXJIxT1",
        "outputId": "515a6a88-5d4f-491b-9577-90991f0a6d66",
        "colab": {
          "base_uri": "https://localhost:8080/",
          "height": 34
        }
      },
      "source": [
        "summary_2008_df.shape"
      ],
      "execution_count": null,
      "outputs": [
        {
          "output_type": "execute_result",
          "data": {
            "text/plain": [
              "(116352, 32)"
            ]
          },
          "metadata": {
            "tags": []
          },
          "execution_count": 113
        }
      ]
    },
    {
      "cell_type": "code",
      "metadata": {
        "id": "qcBpdZIpI36-",
        "outputId": "905ad8f6-7c88-4348-8de8-2a06d66a506e",
        "colab": {
          "base_uri": "https://localhost:8080/",
          "height": 34
        }
      },
      "source": [
        "summary_2008_df.DESYNPUF_ID.nunique()"
      ],
      "execution_count": null,
      "outputs": [
        {
          "output_type": "execute_result",
          "data": {
            "text/plain": [
              "116352"
            ]
          },
          "metadata": {
            "tags": []
          },
          "execution_count": 114
        }
      ]
    },
    {
      "cell_type": "markdown",
      "metadata": {
        "id": "oovAWjKSutR5"
      },
      "source": [
        "Combining the beneficiary data into a single dataframe."
      ]
    },
    {
      "cell_type": "code",
      "metadata": {
        "id": "WEnr5G4LerDK"
      },
      "source": [
        "summary_df = pd.merge(summary_2009_df, summary_2009_df, how='outer')\n",
        "summary_df = pd.merge(summary_df, summary_2010_df, how='outer')"
      ],
      "execution_count": null,
      "outputs": []
    },
    {
      "cell_type": "code",
      "metadata": {
        "id": "t_h4ysXxRCAE",
        "outputId": "924c0463-7502-44be-92c2-7b47f1cbeb4a",
        "colab": {
          "base_uri": "https://localhost:8080/",
          "height": 34
        }
      },
      "source": [
        "summary_df.shape"
      ],
      "execution_count": null,
      "outputs": [
        {
          "output_type": "execute_result",
          "data": {
            "text/plain": [
              "(227349, 32)"
            ]
          },
          "metadata": {
            "tags": []
          },
          "execution_count": 116
        }
      ]
    },
    {
      "cell_type": "code",
      "metadata": {
        "id": "ODG3yBO0fKui",
        "outputId": "535c6b32-1616-4372-bb37-6ef8a126aee8",
        "colab": {
          "base_uri": "https://localhost:8080/",
          "height": 34
        }
      },
      "source": [
        "summary_df.DESYNPUF_ID.nunique()"
      ],
      "execution_count": null,
      "outputs": [
        {
          "output_type": "execute_result",
          "data": {
            "text/plain": [
              "227349"
            ]
          },
          "metadata": {
            "tags": []
          },
          "execution_count": 117
        }
      ]
    },
    {
      "cell_type": "code",
      "metadata": {
        "id": "vsSLFn4cdepy",
        "outputId": "b1b9cd72-6d1d-4999-9aab-8ccad3257430",
        "colab": {
          "base_uri": "https://localhost:8080/",
          "height": 221
        }
      },
      "source": [
        "summary_df.DESYNPUF_ID.value_counts(ascending=False)"
      ],
      "execution_count": null,
      "outputs": [
        {
          "output_type": "execute_result",
          "data": {
            "text/plain": [
              "F88169F1D5A6C4DA    1\n",
              "C637C041C4CDFF58    1\n",
              "E5FE2734F033FB6F    1\n",
              "8B0F61C80C6BABC0    1\n",
              "E76903AB9F556050    1\n",
              "                   ..\n",
              "1C55D79082B9FC02    1\n",
              "21EF380BCD773C96    1\n",
              "9772AB46468E0C94    1\n",
              "25A5B54C8A839FBC    1\n",
              "FDABA0E9FAC30076    1\n",
              "Name: DESYNPUF_ID, Length: 227349, dtype: int64"
            ]
          },
          "metadata": {
            "tags": []
          },
          "execution_count": 118
        }
      ]
    },
    {
      "cell_type": "code",
      "metadata": {
        "id": "6BFt90wD3mjT",
        "outputId": "608a6dfb-eb2f-4d52-aadc-8343363f751f",
        "colab": {
          "base_uri": "https://localhost:8080/",
          "height": 680
        }
      },
      "source": [
        "summary_df.info()"
      ],
      "execution_count": null,
      "outputs": [
        {
          "output_type": "stream",
          "text": [
            "<class 'pandas.core.frame.DataFrame'>\n",
            "Int64Index: 227349 entries, 0 to 227348\n",
            "Data columns (total 32 columns):\n",
            " #   Column                    Non-Null Count   Dtype         \n",
            "---  ------                    --------------   -----         \n",
            " 0   DESYNPUF_ID               227349 non-null  object        \n",
            " 1   BENE_BIRTH_DT             227349 non-null  datetime64[ns]\n",
            " 2   BENE_DEATH_DT             3505 non-null    float64       \n",
            " 3   BENE_SEX_IDENT_CD         227349 non-null  int64         \n",
            " 4   BENE_RACE_CD              227349 non-null  int64         \n",
            " 5   BENE_ESRD_IND             227349 non-null  object        \n",
            " 6   SP_STATE_CODE             227349 non-null  int64         \n",
            " 7   BENE_COUNTY_CD            227349 non-null  int64         \n",
            " 8   BENE_HI_CVRAGE_TOT_MONS   227349 non-null  int64         \n",
            " 9   BENE_SMI_CVRAGE_TOT_MONS  227349 non-null  int64         \n",
            " 10  BENE_HMO_CVRAGE_TOT_MONS  227349 non-null  int64         \n",
            " 11  PLAN_CVRG_MOS_NUM         227349 non-null  int64         \n",
            " 12  SP_ALZHDMTA               227349 non-null  int64         \n",
            " 13  SP_CHF                    227349 non-null  int64         \n",
            " 14  SP_CHRNKIDN               227349 non-null  int64         \n",
            " 15  SP_CNCR                   227349 non-null  int64         \n",
            " 16  SP_COPD                   227349 non-null  int64         \n",
            " 17  SP_DEPRESSN               227349 non-null  int64         \n",
            " 18  SP_DIABETES               227349 non-null  int64         \n",
            " 19  SP_ISCHMCHT               227349 non-null  int64         \n",
            " 20  SP_OSTEOPRS               227349 non-null  int64         \n",
            " 21  SP_RA_OA                  227349 non-null  int64         \n",
            " 22  SP_STRKETIA               227349 non-null  int64         \n",
            " 23  MEDREIMB_IP               227349 non-null  float64       \n",
            " 24  BENRES_IP                 227349 non-null  float64       \n",
            " 25  PPPYMT_IP                 227349 non-null  float64       \n",
            " 26  MEDREIMB_OP               227349 non-null  float64       \n",
            " 27  BENRES_OP                 227349 non-null  float64       \n",
            " 28  PPPYMT_OP                 227349 non-null  float64       \n",
            " 29  MEDREIMB_CAR              227349 non-null  float64       \n",
            " 30  BENRES_CAR                227349 non-null  float64       \n",
            " 31  PPPYMT_CAR                227349 non-null  float64       \n",
            "dtypes: datetime64[ns](1), float64(10), int64(19), object(2)\n",
            "memory usage: 57.2+ MB\n"
          ],
          "name": "stdout"
        }
      ]
    },
    {
      "cell_type": "markdown",
      "metadata": {
        "id": "3n5ST2SGSMhF"
      },
      "source": [
        "# Preprocess Data"
      ]
    },
    {
      "cell_type": "code",
      "metadata": {
        "id": "TZvhTb9dSLV_",
        "outputId": "f462369a-469e-4de2-eb8c-3d42a51c48c0",
        "colab": {
          "base_uri": "https://localhost:8080/",
          "height": 34
        }
      },
      "source": [
        "claims_df.shape"
      ],
      "execution_count": null,
      "outputs": [
        {
          "output_type": "execute_result",
          "data": {
            "text/plain": [
              "(66773, 81)"
            ]
          },
          "metadata": {
            "tags": []
          },
          "execution_count": 120
        }
      ]
    },
    {
      "cell_type": "code",
      "metadata": {
        "id": "caqP9GUwXsZt",
        "outputId": "f8af4694-cae4-41bb-a901-55c9703c41a3",
        "colab": {
          "base_uri": "https://localhost:8080/",
          "height": 34
        }
      },
      "source": [
        "claims_df['ADMTNG_ICD9_DGNS_CD'].isna().sum()"
      ],
      "execution_count": null,
      "outputs": [
        {
          "output_type": "execute_result",
          "data": {
            "text/plain": [
              "599"
            ]
          },
          "metadata": {
            "tags": []
          },
          "execution_count": 121
        }
      ]
    },
    {
      "cell_type": "code",
      "metadata": {
        "id": "F8uQstumWcW2"
      },
      "source": [
        "# drop all lines with SEGMENT=2 because they contain no diagnosis codes nor procedure codes\n",
        "claims_df = claims_df[claims_df['SEGMENT']==1]"
      ],
      "execution_count": null,
      "outputs": []
    },
    {
      "cell_type": "code",
      "metadata": {
        "id": "OIhnAl98TCzC",
        "outputId": "016a324f-b28c-4f9b-fbf0-9d00fb813604",
        "colab": {
          "base_uri": "https://localhost:8080/",
          "height": 34
        }
      },
      "source": [
        "claims_df['ADMTNG_ICD9_DGNS_CD'].isna().sum()"
      ],
      "execution_count": null,
      "outputs": [
        {
          "output_type": "execute_result",
          "data": {
            "text/plain": [
              "531"
            ]
          },
          "metadata": {
            "tags": []
          },
          "execution_count": 123
        }
      ]
    },
    {
      "cell_type": "code",
      "metadata": {
        "id": "3eL7InGFXto5"
      },
      "source": [
        "# set missing admitting diagnosis codes to first diagnosis code\n",
        "missing_df = claims_df[claims_df['ADMTNG_ICD9_DGNS_CD'].isna()]\n",
        "for idx, row in missing_df.iterrows():\n",
        "  claims_df.at[idx, 'ADMTNG_ICD9_DGNS_CD'] = row.ICD9_DGNS_CD_1"
      ],
      "execution_count": null,
      "outputs": []
    },
    {
      "cell_type": "code",
      "metadata": {
        "id": "3DALIov8aJaa",
        "outputId": "176d6a69-561c-47de-8b1a-60206a7ca177",
        "colab": {
          "base_uri": "https://localhost:8080/",
          "height": 34
        }
      },
      "source": [
        "claims_df['ADMTNG_ICD9_DGNS_CD'].isna().sum()"
      ],
      "execution_count": null,
      "outputs": [
        {
          "output_type": "execute_result",
          "data": {
            "text/plain": [
              "1"
            ]
          },
          "metadata": {
            "tags": []
          },
          "execution_count": 128
        }
      ]
    },
    {
      "cell_type": "code",
      "metadata": {
        "id": "e4qg1xS-UKYc",
        "outputId": "9d7276ed-9642-4bd5-84aa-822fe11f883e",
        "colab": {
          "base_uri": "https://localhost:8080/",
          "height": 129
        }
      },
      "source": [
        "claims_df[claims_df['ADMTNG_ICD9_DGNS_CD'].isna()]"
      ],
      "execution_count": null,
      "outputs": [
        {
          "output_type": "execute_result",
          "data": {
            "text/html": [
              "<div>\n",
              "<style scoped>\n",
              "    .dataframe tbody tr th:only-of-type {\n",
              "        vertical-align: middle;\n",
              "    }\n",
              "\n",
              "    .dataframe tbody tr th {\n",
              "        vertical-align: top;\n",
              "    }\n",
              "\n",
              "    .dataframe thead th {\n",
              "        text-align: right;\n",
              "    }\n",
              "</style>\n",
              "<table border=\"1\" class=\"dataframe\">\n",
              "  <thead>\n",
              "    <tr style=\"text-align: right;\">\n",
              "      <th></th>\n",
              "      <th>DESYNPUF_ID</th>\n",
              "      <th>CLM_ID</th>\n",
              "      <th>SEGMENT</th>\n",
              "      <th>CLM_FROM_DT</th>\n",
              "      <th>CLM_THRU_DT</th>\n",
              "      <th>PRVDR_NUM</th>\n",
              "      <th>CLM_PMT_AMT</th>\n",
              "      <th>NCH_PRMRY_PYR_CLM_PD_AMT</th>\n",
              "      <th>AT_PHYSN_NPI</th>\n",
              "      <th>OP_PHYSN_NPI</th>\n",
              "      <th>OT_PHYSN_NPI</th>\n",
              "      <th>CLM_ADMSN_DT</th>\n",
              "      <th>ADMTNG_ICD9_DGNS_CD</th>\n",
              "      <th>CLM_PASS_THRU_PER_DIEM_AMT</th>\n",
              "      <th>NCH_BENE_IP_DDCTBL_AMT</th>\n",
              "      <th>NCH_BENE_PTA_COINSRNC_LBLTY_AM</th>\n",
              "      <th>NCH_BENE_BLOOD_DDCTBL_LBLTY_AM</th>\n",
              "      <th>CLM_UTLZTN_DAY_CNT</th>\n",
              "      <th>NCH_BENE_DSCHRG_DT</th>\n",
              "      <th>CLM_DRG_CD</th>\n",
              "      <th>ICD9_DGNS_CD_1</th>\n",
              "      <th>ICD9_DGNS_CD_2</th>\n",
              "      <th>ICD9_DGNS_CD_3</th>\n",
              "      <th>ICD9_DGNS_CD_4</th>\n",
              "      <th>ICD9_DGNS_CD_5</th>\n",
              "      <th>ICD9_DGNS_CD_6</th>\n",
              "      <th>ICD9_DGNS_CD_7</th>\n",
              "      <th>ICD9_DGNS_CD_8</th>\n",
              "      <th>ICD9_DGNS_CD_9</th>\n",
              "      <th>ICD9_DGNS_CD_10</th>\n",
              "      <th>ICD9_PRCDR_CD_1</th>\n",
              "      <th>ICD9_PRCDR_CD_2</th>\n",
              "      <th>ICD9_PRCDR_CD_3</th>\n",
              "      <th>ICD9_PRCDR_CD_4</th>\n",
              "      <th>ICD9_PRCDR_CD_5</th>\n",
              "      <th>ICD9_PRCDR_CD_6</th>\n",
              "      <th>HCPCS_CD_1</th>\n",
              "      <th>HCPCS_CD_2</th>\n",
              "      <th>HCPCS_CD_3</th>\n",
              "      <th>HCPCS_CD_4</th>\n",
              "      <th>...</th>\n",
              "      <th>HCPCS_CD_6</th>\n",
              "      <th>HCPCS_CD_7</th>\n",
              "      <th>HCPCS_CD_8</th>\n",
              "      <th>HCPCS_CD_9</th>\n",
              "      <th>HCPCS_CD_10</th>\n",
              "      <th>HCPCS_CD_11</th>\n",
              "      <th>HCPCS_CD_12</th>\n",
              "      <th>HCPCS_CD_13</th>\n",
              "      <th>HCPCS_CD_14</th>\n",
              "      <th>HCPCS_CD_15</th>\n",
              "      <th>HCPCS_CD_16</th>\n",
              "      <th>HCPCS_CD_17</th>\n",
              "      <th>HCPCS_CD_18</th>\n",
              "      <th>HCPCS_CD_19</th>\n",
              "      <th>HCPCS_CD_20</th>\n",
              "      <th>HCPCS_CD_21</th>\n",
              "      <th>HCPCS_CD_22</th>\n",
              "      <th>HCPCS_CD_23</th>\n",
              "      <th>HCPCS_CD_24</th>\n",
              "      <th>HCPCS_CD_25</th>\n",
              "      <th>HCPCS_CD_26</th>\n",
              "      <th>HCPCS_CD_27</th>\n",
              "      <th>HCPCS_CD_28</th>\n",
              "      <th>HCPCS_CD_29</th>\n",
              "      <th>HCPCS_CD_30</th>\n",
              "      <th>HCPCS_CD_31</th>\n",
              "      <th>HCPCS_CD_32</th>\n",
              "      <th>HCPCS_CD_33</th>\n",
              "      <th>HCPCS_CD_34</th>\n",
              "      <th>HCPCS_CD_35</th>\n",
              "      <th>HCPCS_CD_36</th>\n",
              "      <th>HCPCS_CD_37</th>\n",
              "      <th>HCPCS_CD_38</th>\n",
              "      <th>HCPCS_CD_39</th>\n",
              "      <th>HCPCS_CD_40</th>\n",
              "      <th>HCPCS_CD_41</th>\n",
              "      <th>HCPCS_CD_42</th>\n",
              "      <th>HCPCS_CD_43</th>\n",
              "      <th>HCPCS_CD_44</th>\n",
              "      <th>HCPCS_CD_45</th>\n",
              "    </tr>\n",
              "  </thead>\n",
              "  <tbody>\n",
              "    <tr>\n",
              "      <th>26530</th>\n",
              "      <td>6448F1D0D8AB6C76</td>\n",
              "      <td>196481176963894</td>\n",
              "      <td>1</td>\n",
              "      <td>2009-01-30</td>\n",
              "      <td>2009-02-02</td>\n",
              "      <td>0700JR</td>\n",
              "      <td>4000.0</td>\n",
              "      <td>0.0</td>\n",
              "      <td>4.842646e+09</td>\n",
              "      <td>NaN</td>\n",
              "      <td>NaN</td>\n",
              "      <td>20090130</td>\n",
              "      <td>NaN</td>\n",
              "      <td>0.0</td>\n",
              "      <td>1068.0</td>\n",
              "      <td>0.0</td>\n",
              "      <td>0.0</td>\n",
              "      <td>3.0</td>\n",
              "      <td>20090202</td>\n",
              "      <td>058</td>\n",
              "      <td>NaN</td>\n",
              "      <td>8020</td>\n",
              "      <td>87343</td>\n",
              "      <td>V1582</td>\n",
              "      <td>42789</td>\n",
              "      <td>41401</td>\n",
              "      <td>49390</td>\n",
              "      <td>2859</td>\n",
              "      <td>V5861</td>\n",
              "      <td>NaN</td>\n",
              "      <td>NaN</td>\n",
              "      <td>NaN</td>\n",
              "      <td>NaN</td>\n",
              "      <td>NaN</td>\n",
              "      <td>NaN</td>\n",
              "      <td>NaN</td>\n",
              "      <td>NaN</td>\n",
              "      <td>NaN</td>\n",
              "      <td>NaN</td>\n",
              "      <td>NaN</td>\n",
              "      <td>...</td>\n",
              "      <td>NaN</td>\n",
              "      <td>NaN</td>\n",
              "      <td>NaN</td>\n",
              "      <td>NaN</td>\n",
              "      <td>NaN</td>\n",
              "      <td>NaN</td>\n",
              "      <td>NaN</td>\n",
              "      <td>NaN</td>\n",
              "      <td>NaN</td>\n",
              "      <td>NaN</td>\n",
              "      <td>NaN</td>\n",
              "      <td>NaN</td>\n",
              "      <td>NaN</td>\n",
              "      <td>NaN</td>\n",
              "      <td>NaN</td>\n",
              "      <td>NaN</td>\n",
              "      <td>NaN</td>\n",
              "      <td>NaN</td>\n",
              "      <td>NaN</td>\n",
              "      <td>NaN</td>\n",
              "      <td>NaN</td>\n",
              "      <td>NaN</td>\n",
              "      <td>NaN</td>\n",
              "      <td>NaN</td>\n",
              "      <td>NaN</td>\n",
              "      <td>NaN</td>\n",
              "      <td>NaN</td>\n",
              "      <td>NaN</td>\n",
              "      <td>NaN</td>\n",
              "      <td>NaN</td>\n",
              "      <td>NaN</td>\n",
              "      <td>NaN</td>\n",
              "      <td>NaN</td>\n",
              "      <td>NaN</td>\n",
              "      <td>NaN</td>\n",
              "      <td>NaN</td>\n",
              "      <td>NaN</td>\n",
              "      <td>NaN</td>\n",
              "      <td>NaN</td>\n",
              "      <td>NaN</td>\n",
              "    </tr>\n",
              "  </tbody>\n",
              "</table>\n",
              "<p>1 rows × 81 columns</p>\n",
              "</div>"
            ],
            "text/plain": [
              "            DESYNPUF_ID           CLM_ID  ...  HCPCS_CD_44 HCPCS_CD_45\n",
              "26530  6448F1D0D8AB6C76  196481176963894  ...          NaN         NaN\n",
              "\n",
              "[1 rows x 81 columns]"
            ]
          },
          "metadata": {
            "tags": []
          },
          "execution_count": 129
        }
      ]
    },
    {
      "cell_type": "code",
      "metadata": {
        "id": "Q3iwGqt7ntMZ"
      },
      "source": [
        "claims_df.at[26530, 'ADMTNG_ICD9_DGNS_CD'] = '8020' # set it to ICD9_DGNS_CD_2 value"
      ],
      "execution_count": null,
      "outputs": []
    },
    {
      "cell_type": "code",
      "metadata": {
        "id": "VQVhxtdfoFOA",
        "outputId": "dd074e27-e367-4a84-d2a6-a0d0ba190971",
        "colab": {
          "base_uri": "https://localhost:8080/",
          "height": 34
        }
      },
      "source": [
        "claims_df['ADMTNG_ICD9_DGNS_CD'].isna().sum()"
      ],
      "execution_count": null,
      "outputs": [
        {
          "output_type": "execute_result",
          "data": {
            "text/plain": [
              "0"
            ]
          },
          "metadata": {
            "tags": []
          },
          "execution_count": 131
        }
      ]
    },
    {
      "cell_type": "code",
      "metadata": {
        "id": "5scFBi2gsYue",
        "outputId": "58cff851-1652-46ee-96dc-f4ffcde6bf2a",
        "colab": {
          "base_uri": "https://localhost:8080/",
          "height": 34
        }
      },
      "source": [
        "claims_df.CLM_ADMSN_DT.isna().sum()"
      ],
      "execution_count": null,
      "outputs": [
        {
          "output_type": "execute_result",
          "data": {
            "text/plain": [
              "0"
            ]
          },
          "metadata": {
            "tags": []
          },
          "execution_count": 132
        }
      ]
    },
    {
      "cell_type": "code",
      "metadata": {
        "id": "FS3p6ECqsjBB",
        "outputId": "85106dde-61c1-4b18-c236-0612ccdf4111",
        "colab": {
          "base_uri": "https://localhost:8080/",
          "height": 34
        }
      },
      "source": [
        "claims_df.NCH_BENE_DSCHRG_DT.isna().sum()"
      ],
      "execution_count": null,
      "outputs": [
        {
          "output_type": "execute_result",
          "data": {
            "text/plain": [
              "0"
            ]
          },
          "metadata": {
            "tags": []
          },
          "execution_count": 133
        }
      ]
    },
    {
      "cell_type": "code",
      "metadata": {
        "id": "ocHcwEUYszWK",
        "outputId": "00f2e90a-7623-4575-be31-c387ddc3ba20",
        "colab": {
          "base_uri": "https://localhost:8080/",
          "height": 34
        }
      },
      "source": [
        "claims_df.CLM_UTLZTN_DAY_CNT.isna().sum()"
      ],
      "execution_count": null,
      "outputs": [
        {
          "output_type": "execute_result",
          "data": {
            "text/plain": [
              "0"
            ]
          },
          "metadata": {
            "tags": []
          },
          "execution_count": 134
        }
      ]
    },
    {
      "cell_type": "code",
      "metadata": {
        "id": "wtYec0jxs5A8",
        "outputId": "0acb54f5-3256-46f3-ac6b-acf954e61596",
        "colab": {
          "base_uri": "https://localhost:8080/",
          "height": 1000
        }
      },
      "source": [
        "claims_df.CLM_UTLZTN_DAY_CNT.value_counts()"
      ],
      "execution_count": null,
      "outputs": [
        {
          "output_type": "execute_result",
          "data": {
            "text/plain": [
              "3.0      10896\n",
              "2.0       9542\n",
              "1.0       8130\n",
              "4.0       7936\n",
              "5.0       5975\n",
              "6.0       4449\n",
              "7.0       3482\n",
              "8.0       2607\n",
              "0.0       2266\n",
              "9.0       1892\n",
              "10.0      1472\n",
              "11.0      1236\n",
              "12.0       972\n",
              "13.0       822\n",
              "14.0       738\n",
              "15.0       598\n",
              "16.0       477\n",
              "17.0       382\n",
              "18.0       294\n",
              "21.0       274\n",
              "19.0       269\n",
              "20.0       249\n",
              "22.0       192\n",
              "23.0       154\n",
              "24.0       129\n",
              "25.0       120\n",
              "26.0       108\n",
              "28.0       105\n",
              "27.0        97\n",
              "29.0        77\n",
              "30.0        74\n",
              "33.0        65\n",
              "31.0        62\n",
              "32.0        60\n",
              "35.0        48\n",
              "37.0        39\n",
              "34.0        35\n",
              "36.0        35\n",
              "39.0        25\n",
              "41.0        23\n",
              "42.0        22\n",
              "38.0        21\n",
              "44.0        16\n",
              "45.0        16\n",
              "40.0        16\n",
              "43.0        15\n",
              "50.0        14\n",
              "48.0        12\n",
              "49.0        11\n",
              "47.0         9\n",
              "46.0         8\n",
              "54.0         7\n",
              "56.0         7\n",
              "53.0         7\n",
              "51.0         7\n",
              "71.0         6\n",
              "64.0         6\n",
              "62.0         6\n",
              "79.0         5\n",
              "60.0         5\n",
              "57.0         5\n",
              "58.0         5\n",
              "69.0         4\n",
              "55.0         4\n",
              "67.0         4\n",
              "63.0         4\n",
              "52.0         3\n",
              "65.0         3\n",
              "66.0         3\n",
              "88.0         3\n",
              "77.0         3\n",
              "59.0         3\n",
              "73.0         3\n",
              "74.0         3\n",
              "83.0         2\n",
              "61.0         2\n",
              "82.0         2\n",
              "92.0         2\n",
              "87.0         2\n",
              "90.0         2\n",
              "75.0         2\n",
              "68.0         2\n",
              "80.0         1\n",
              "76.0         1\n",
              "85.0         1\n",
              "70.0         1\n",
              "91.0         1\n",
              "98.0         1\n",
              "86.0         1\n",
              "113.0        1\n",
              "96.0         1\n",
              "116.0        1\n",
              "72.0         1\n",
              "78.0         1\n",
              "97.0         1\n",
              "103.0        1\n",
              "111.0        1\n",
              "136.0        1\n",
              "94.0         1\n",
              "Name: CLM_UTLZTN_DAY_CNT, dtype: int64"
            ]
          },
          "metadata": {
            "tags": []
          },
          "execution_count": 135
        }
      ]
    },
    {
      "cell_type": "code",
      "metadata": {
        "id": "lAzQ_lRkuLR9",
        "outputId": "e236c6c8-6bde-405d-af7a-bd60f2c28010",
        "colab": {
          "base_uri": "https://localhost:8080/",
          "height": 85
        }
      },
      "source": [
        "claims_sub_df = claims_df[['DESYNPUF_ID', 'ADMTNG_ICD9_DGNS_CD','CLM_UTLZTN_DAY_CNT']]\n",
        "claims_sub_df.isna().sum()"
      ],
      "execution_count": null,
      "outputs": [
        {
          "output_type": "execute_result",
          "data": {
            "text/plain": [
              "DESYNPUF_ID            0\n",
              "ADMTNG_ICD9_DGNS_CD    0\n",
              "CLM_UTLZTN_DAY_CNT     0\n",
              "dtype: int64"
            ]
          },
          "metadata": {
            "tags": []
          },
          "execution_count": 176
        }
      ]
    },
    {
      "cell_type": "code",
      "metadata": {
        "id": "JY9F1zTRxH7m",
        "outputId": "c6ef98a9-c3e3-424f-80fa-f0d549a081ea",
        "colab": {
          "base_uri": "https://localhost:8080/",
          "height": 272
        }
      },
      "source": [
        "summary_sub_df = summary_df[['DESYNPUF_ID', 'BENE_BIRTH_DT', 'BENE_SEX_IDENT_CD', 'SP_ALZHDMTA', 'SP_CHF', 'SP_CHRNKIDN', 'SP_CNCR', 'SP_COPD',\n",
        "                             'SP_DEPRESSN', 'SP_DIABETES', 'SP_ISCHMCHT', 'SP_OSTEOPRS', 'SP_RA_OA', 'SP_STRKETIA']]\n",
        "summary_sub_df.isna().sum()"
      ],
      "execution_count": null,
      "outputs": [
        {
          "output_type": "execute_result",
          "data": {
            "text/plain": [
              "DESYNPUF_ID          0\n",
              "BENE_BIRTH_DT        0\n",
              "BENE_SEX_IDENT_CD    0\n",
              "SP_ALZHDMTA          0\n",
              "SP_CHF               0\n",
              "SP_CHRNKIDN          0\n",
              "SP_CNCR              0\n",
              "SP_COPD              0\n",
              "SP_DEPRESSN          0\n",
              "SP_DIABETES          0\n",
              "SP_ISCHMCHT          0\n",
              "SP_OSTEOPRS          0\n",
              "SP_RA_OA             0\n",
              "SP_STRKETIA          0\n",
              "dtype: int64"
            ]
          },
          "metadata": {
            "tags": []
          },
          "execution_count": 177
        }
      ]
    },
    {
      "cell_type": "code",
      "metadata": {
        "id": "CvjZemdnyLGU",
        "outputId": "0b930909-717d-4122-ac34-21a24066d46c",
        "colab": {
          "base_uri": "https://localhost:8080/",
          "height": 408
        }
      },
      "source": [
        "data_df = claims_sub_df.merge(summary_sub_df, on='DESYNPUF_ID')\n",
        "data_df.info()"
      ],
      "execution_count": null,
      "outputs": [
        {
          "output_type": "stream",
          "text": [
            "<class 'pandas.core.frame.DataFrame'>\n",
            "Int64Index: 66518 entries, 0 to 66517\n",
            "Data columns (total 16 columns):\n",
            " #   Column               Non-Null Count  Dtype         \n",
            "---  ------               --------------  -----         \n",
            " 0   DESYNPUF_ID          66518 non-null  object        \n",
            " 1   ADMTNG_ICD9_DGNS_CD  66518 non-null  object        \n",
            " 2   CLM_UTLZTN_DAY_CNT   66518 non-null  float64       \n",
            " 3   BENE_BIRTH_DT        66518 non-null  datetime64[ns]\n",
            " 4   BENE_SEX_IDENT_CD    66518 non-null  int64         \n",
            " 5   SP_ALZHDMTA          66518 non-null  int64         \n",
            " 6   SP_CHF               66518 non-null  int64         \n",
            " 7   SP_CHRNKIDN          66518 non-null  int64         \n",
            " 8   SP_CNCR              66518 non-null  int64         \n",
            " 9   SP_COPD              66518 non-null  int64         \n",
            " 10  SP_DEPRESSN          66518 non-null  int64         \n",
            " 11  SP_DIABETES          66518 non-null  int64         \n",
            " 12  SP_ISCHMCHT          66518 non-null  int64         \n",
            " 13  SP_OSTEOPRS          66518 non-null  int64         \n",
            " 14  SP_RA_OA             66518 non-null  int64         \n",
            " 15  SP_STRKETIA          66518 non-null  int64         \n",
            "dtypes: datetime64[ns](1), float64(1), int64(12), object(2)\n",
            "memory usage: 8.6+ MB\n"
          ],
          "name": "stdout"
        }
      ]
    },
    {
      "cell_type": "code",
      "metadata": {
        "id": "f0239PxbBSfG"
      },
      "source": [
        "data_df['year'] = pd.DatetimeIndex(data_df['BENE_BIRTH_DT']).year\n",
        "data_df['age'] = 2020-data_df['year']\n",
        "data_df.drop(['year','BENE_BIRTH_DT'], axis='columns', inplace=True)"
      ],
      "execution_count": null,
      "outputs": []
    },
    {
      "cell_type": "markdown",
      "metadata": {
        "id": "RlAUKR6RvIms"
      },
      "source": [
        "CLM_UTLZTN_DAY_CNT will be the target to predict and ADMTNG_ICD9_DGNS_CD will be the high cardinality categorical column we encode. Renaming them for convenience."
      ]
    },
    {
      "cell_type": "code",
      "metadata": {
        "id": "H-1x_nfhznh1",
        "outputId": "fa364b6c-2700-4f07-ec1c-4e38a0856b2a",
        "colab": {
          "base_uri": "https://localhost:8080/",
          "height": 224
        }
      },
      "source": [
        "data_df = data_df.rename(columns={\"CLM_UTLZTN_DAY_CNT\": \"target\", \"ADMTNG_ICD9_DGNS_CD\": \"diagnosis\"})\n",
        "data_df.head()"
      ],
      "execution_count": null,
      "outputs": [
        {
          "output_type": "execute_result",
          "data": {
            "text/html": [
              "<div>\n",
              "<style scoped>\n",
              "    .dataframe tbody tr th:only-of-type {\n",
              "        vertical-align: middle;\n",
              "    }\n",
              "\n",
              "    .dataframe tbody tr th {\n",
              "        vertical-align: top;\n",
              "    }\n",
              "\n",
              "    .dataframe thead th {\n",
              "        text-align: right;\n",
              "    }\n",
              "</style>\n",
              "<table border=\"1\" class=\"dataframe\">\n",
              "  <thead>\n",
              "    <tr style=\"text-align: right;\">\n",
              "      <th></th>\n",
              "      <th>DESYNPUF_ID</th>\n",
              "      <th>diagnosis</th>\n",
              "      <th>target</th>\n",
              "      <th>BENE_SEX_IDENT_CD</th>\n",
              "      <th>SP_ALZHDMTA</th>\n",
              "      <th>SP_CHF</th>\n",
              "      <th>SP_CHRNKIDN</th>\n",
              "      <th>SP_CNCR</th>\n",
              "      <th>SP_COPD</th>\n",
              "      <th>SP_DEPRESSN</th>\n",
              "      <th>SP_DIABETES</th>\n",
              "      <th>SP_ISCHMCHT</th>\n",
              "      <th>SP_OSTEOPRS</th>\n",
              "      <th>SP_RA_OA</th>\n",
              "      <th>SP_STRKETIA</th>\n",
              "      <th>age</th>\n",
              "    </tr>\n",
              "  </thead>\n",
              "  <tbody>\n",
              "    <tr>\n",
              "      <th>0</th>\n",
              "      <td>00013D2EFD8E45D1</td>\n",
              "      <td>4580</td>\n",
              "      <td>1.0</td>\n",
              "      <td>1</td>\n",
              "      <td>2</td>\n",
              "      <td>2</td>\n",
              "      <td>2</td>\n",
              "      <td>2</td>\n",
              "      <td>2</td>\n",
              "      <td>2</td>\n",
              "      <td>2</td>\n",
              "      <td>2</td>\n",
              "      <td>2</td>\n",
              "      <td>2</td>\n",
              "      <td>2</td>\n",
              "      <td>97</td>\n",
              "    </tr>\n",
              "    <tr>\n",
              "      <th>1</th>\n",
              "      <td>00016F745862898F</td>\n",
              "      <td>7866</td>\n",
              "      <td>6.0</td>\n",
              "      <td>1</td>\n",
              "      <td>1</td>\n",
              "      <td>2</td>\n",
              "      <td>1</td>\n",
              "      <td>2</td>\n",
              "      <td>2</td>\n",
              "      <td>1</td>\n",
              "      <td>1</td>\n",
              "      <td>1</td>\n",
              "      <td>2</td>\n",
              "      <td>1</td>\n",
              "      <td>1</td>\n",
              "      <td>77</td>\n",
              "    </tr>\n",
              "    <tr>\n",
              "      <th>2</th>\n",
              "      <td>00016F745862898F</td>\n",
              "      <td>6186</td>\n",
              "      <td>2.0</td>\n",
              "      <td>1</td>\n",
              "      <td>1</td>\n",
              "      <td>2</td>\n",
              "      <td>1</td>\n",
              "      <td>2</td>\n",
              "      <td>2</td>\n",
              "      <td>1</td>\n",
              "      <td>1</td>\n",
              "      <td>1</td>\n",
              "      <td>2</td>\n",
              "      <td>1</td>\n",
              "      <td>1</td>\n",
              "      <td>77</td>\n",
              "    </tr>\n",
              "    <tr>\n",
              "      <th>3</th>\n",
              "      <td>00016F745862898F</td>\n",
              "      <td>29590</td>\n",
              "      <td>3.0</td>\n",
              "      <td>1</td>\n",
              "      <td>1</td>\n",
              "      <td>2</td>\n",
              "      <td>1</td>\n",
              "      <td>2</td>\n",
              "      <td>2</td>\n",
              "      <td>1</td>\n",
              "      <td>1</td>\n",
              "      <td>1</td>\n",
              "      <td>2</td>\n",
              "      <td>1</td>\n",
              "      <td>1</td>\n",
              "      <td>77</td>\n",
              "    </tr>\n",
              "    <tr>\n",
              "      <th>4</th>\n",
              "      <td>00016F745862898F</td>\n",
              "      <td>5849</td>\n",
              "      <td>5.0</td>\n",
              "      <td>1</td>\n",
              "      <td>1</td>\n",
              "      <td>2</td>\n",
              "      <td>1</td>\n",
              "      <td>2</td>\n",
              "      <td>2</td>\n",
              "      <td>1</td>\n",
              "      <td>1</td>\n",
              "      <td>1</td>\n",
              "      <td>2</td>\n",
              "      <td>1</td>\n",
              "      <td>1</td>\n",
              "      <td>77</td>\n",
              "    </tr>\n",
              "  </tbody>\n",
              "</table>\n",
              "</div>"
            ],
            "text/plain": [
              "        DESYNPUF_ID diagnosis  target  ...  SP_RA_OA  SP_STRKETIA  age\n",
              "0  00013D2EFD8E45D1      4580     1.0  ...         2            2   97\n",
              "1  00016F745862898F      7866     6.0  ...         1            1   77\n",
              "2  00016F745862898F      6186     2.0  ...         1            1   77\n",
              "3  00016F745862898F     29590     3.0  ...         1            1   77\n",
              "4  00016F745862898F      5849     5.0  ...         1            1   77\n",
              "\n",
              "[5 rows x 16 columns]"
            ]
          },
          "metadata": {
            "tags": []
          },
          "execution_count": 180
        }
      ]
    },
    {
      "cell_type": "code",
      "metadata": {
        "id": "Oz_SNxtDzIek",
        "outputId": "7c68c3cd-4362-4c8e-eddd-04c208832a35",
        "colab": {
          "base_uri": "https://localhost:8080/",
          "height": 34
        }
      },
      "source": [
        "# Note the high cardinality\n",
        "data_df.diagnosis.nunique()"
      ],
      "execution_count": null,
      "outputs": [
        {
          "output_type": "execute_result",
          "data": {
            "text/plain": [
              "2316"
            ]
          },
          "metadata": {
            "tags": []
          },
          "execution_count": 181
        }
      ]
    },
    {
      "cell_type": "markdown",
      "metadata": {
        "id": "BALmKHAQPqe3"
      },
      "source": [
        "We will target encode these 2316 unique values in the diagnosis column."
      ]
    },
    {
      "cell_type": "code",
      "metadata": {
        "id": "0_aF0sD4Ggd-"
      },
      "source": [
        "from sklearn.model_selection import train_test_split\n",
        "train_df, test_df = train_test_split(data_df, test_size=0.2, random_state=seed)"
      ],
      "execution_count": null,
      "outputs": []
    },
    {
      "cell_type": "code",
      "metadata": {
        "id": "URBxLnVPHYkL"
      },
      "source": [
        "y_train = train_df.target.values\n",
        "y_test = test_df.target.values"
      ],
      "execution_count": null,
      "outputs": []
    },
    {
      "cell_type": "code",
      "metadata": {
        "id": "ru0E6YRcGJIN"
      },
      "source": [
        "!pip install category_encoders -q"
      ],
      "execution_count": null,
      "outputs": []
    },
    {
      "cell_type": "code",
      "metadata": {
        "id": "N8KWgEoEFvTA"
      },
      "source": [
        "from category_encoders import TargetEncoder\n",
        "encoder = TargetEncoder(cols=['diagnosis'])\n",
        "train_df = encoder.fit_transform(train_df, y_train)\n",
        "test_df = encoder.transform(test_df)"
      ],
      "execution_count": null,
      "outputs": []
    },
    {
      "cell_type": "code",
      "metadata": {
        "id": "O1D4CyboPCal",
        "outputId": "98fa425f-647b-4d55-bfd2-f275e7a3a0a8",
        "colab": {
          "base_uri": "https://localhost:8080/",
          "height": 379
        }
      },
      "source": [
        "train_df.sample(10)"
      ],
      "execution_count": null,
      "outputs": [
        {
          "output_type": "execute_result",
          "data": {
            "text/html": [
              "<div>\n",
              "<style scoped>\n",
              "    .dataframe tbody tr th:only-of-type {\n",
              "        vertical-align: middle;\n",
              "    }\n",
              "\n",
              "    .dataframe tbody tr th {\n",
              "        vertical-align: top;\n",
              "    }\n",
              "\n",
              "    .dataframe thead th {\n",
              "        text-align: right;\n",
              "    }\n",
              "</style>\n",
              "<table border=\"1\" class=\"dataframe\">\n",
              "  <thead>\n",
              "    <tr style=\"text-align: right;\">\n",
              "      <th></th>\n",
              "      <th>DESYNPUF_ID</th>\n",
              "      <th>diagnosis</th>\n",
              "      <th>target</th>\n",
              "      <th>BENE_SEX_IDENT_CD</th>\n",
              "      <th>SP_ALZHDMTA</th>\n",
              "      <th>SP_CHF</th>\n",
              "      <th>SP_CHRNKIDN</th>\n",
              "      <th>SP_CNCR</th>\n",
              "      <th>SP_COPD</th>\n",
              "      <th>SP_DEPRESSN</th>\n",
              "      <th>SP_DIABETES</th>\n",
              "      <th>SP_ISCHMCHT</th>\n",
              "      <th>SP_OSTEOPRS</th>\n",
              "      <th>SP_RA_OA</th>\n",
              "      <th>SP_STRKETIA</th>\n",
              "      <th>age</th>\n",
              "    </tr>\n",
              "  </thead>\n",
              "  <tbody>\n",
              "    <tr>\n",
              "      <th>5627</th>\n",
              "      <td>15028A2D722313C3</td>\n",
              "      <td>14.307639</td>\n",
              "      <td>13.0</td>\n",
              "      <td>1</td>\n",
              "      <td>1</td>\n",
              "      <td>1</td>\n",
              "      <td>1</td>\n",
              "      <td>2</td>\n",
              "      <td>2</td>\n",
              "      <td>1</td>\n",
              "      <td>1</td>\n",
              "      <td>1</td>\n",
              "      <td>2</td>\n",
              "      <td>2</td>\n",
              "      <td>2</td>\n",
              "      <td>37</td>\n",
              "    </tr>\n",
              "    <tr>\n",
              "      <th>64326</th>\n",
              "      <td>F7D9A4922DAAE1D8</td>\n",
              "      <td>4.216216</td>\n",
              "      <td>4.0</td>\n",
              "      <td>1</td>\n",
              "      <td>1</td>\n",
              "      <td>1</td>\n",
              "      <td>1</td>\n",
              "      <td>2</td>\n",
              "      <td>1</td>\n",
              "      <td>1</td>\n",
              "      <td>1</td>\n",
              "      <td>1</td>\n",
              "      <td>2</td>\n",
              "      <td>2</td>\n",
              "      <td>2</td>\n",
              "      <td>72</td>\n",
              "    </tr>\n",
              "    <tr>\n",
              "      <th>20130</th>\n",
              "      <td>4BE7EC634A5E6514</td>\n",
              "      <td>12.375000</td>\n",
              "      <td>12.0</td>\n",
              "      <td>2</td>\n",
              "      <td>1</td>\n",
              "      <td>1</td>\n",
              "      <td>1</td>\n",
              "      <td>2</td>\n",
              "      <td>1</td>\n",
              "      <td>1</td>\n",
              "      <td>1</td>\n",
              "      <td>1</td>\n",
              "      <td>2</td>\n",
              "      <td>1</td>\n",
              "      <td>2</td>\n",
              "      <td>101</td>\n",
              "    </tr>\n",
              "    <tr>\n",
              "      <th>19126</th>\n",
              "      <td>4857186379E19600</td>\n",
              "      <td>7.194030</td>\n",
              "      <td>8.0</td>\n",
              "      <td>1</td>\n",
              "      <td>2</td>\n",
              "      <td>1</td>\n",
              "      <td>2</td>\n",
              "      <td>1</td>\n",
              "      <td>2</td>\n",
              "      <td>1</td>\n",
              "      <td>1</td>\n",
              "      <td>1</td>\n",
              "      <td>2</td>\n",
              "      <td>1</td>\n",
              "      <td>2</td>\n",
              "      <td>87</td>\n",
              "    </tr>\n",
              "    <tr>\n",
              "      <th>11795</th>\n",
              "      <td>2C94EB5DFB1E53BE</td>\n",
              "      <td>7.194030</td>\n",
              "      <td>17.0</td>\n",
              "      <td>2</td>\n",
              "      <td>1</td>\n",
              "      <td>1</td>\n",
              "      <td>1</td>\n",
              "      <td>2</td>\n",
              "      <td>1</td>\n",
              "      <td>1</td>\n",
              "      <td>1</td>\n",
              "      <td>1</td>\n",
              "      <td>2</td>\n",
              "      <td>2</td>\n",
              "      <td>2</td>\n",
              "      <td>61</td>\n",
              "    </tr>\n",
              "    <tr>\n",
              "      <th>25999</th>\n",
              "      <td>62CDC12D5520410B</td>\n",
              "      <td>5.546122</td>\n",
              "      <td>3.0</td>\n",
              "      <td>1</td>\n",
              "      <td>2</td>\n",
              "      <td>1</td>\n",
              "      <td>1</td>\n",
              "      <td>2</td>\n",
              "      <td>2</td>\n",
              "      <td>1</td>\n",
              "      <td>1</td>\n",
              "      <td>1</td>\n",
              "      <td>2</td>\n",
              "      <td>2</td>\n",
              "      <td>2</td>\n",
              "      <td>83</td>\n",
              "    </tr>\n",
              "    <tr>\n",
              "      <th>2184</th>\n",
              "      <td>07D80D6696BFF0C2</td>\n",
              "      <td>4.948905</td>\n",
              "      <td>4.0</td>\n",
              "      <td>2</td>\n",
              "      <td>2</td>\n",
              "      <td>1</td>\n",
              "      <td>2</td>\n",
              "      <td>2</td>\n",
              "      <td>2</td>\n",
              "      <td>2</td>\n",
              "      <td>1</td>\n",
              "      <td>1</td>\n",
              "      <td>1</td>\n",
              "      <td>1</td>\n",
              "      <td>2</td>\n",
              "      <td>94</td>\n",
              "    </tr>\n",
              "    <tr>\n",
              "      <th>34022</th>\n",
              "      <td>81AC20CBEBE214B3</td>\n",
              "      <td>3.667130</td>\n",
              "      <td>2.0</td>\n",
              "      <td>2</td>\n",
              "      <td>1</td>\n",
              "      <td>2</td>\n",
              "      <td>2</td>\n",
              "      <td>2</td>\n",
              "      <td>2</td>\n",
              "      <td>2</td>\n",
              "      <td>1</td>\n",
              "      <td>1</td>\n",
              "      <td>2</td>\n",
              "      <td>2</td>\n",
              "      <td>2</td>\n",
              "      <td>82</td>\n",
              "    </tr>\n",
              "    <tr>\n",
              "      <th>34419</th>\n",
              "      <td>830294D70A8112C0</td>\n",
              "      <td>5.891821</td>\n",
              "      <td>3.0</td>\n",
              "      <td>2</td>\n",
              "      <td>2</td>\n",
              "      <td>1</td>\n",
              "      <td>1</td>\n",
              "      <td>2</td>\n",
              "      <td>2</td>\n",
              "      <td>2</td>\n",
              "      <td>1</td>\n",
              "      <td>1</td>\n",
              "      <td>1</td>\n",
              "      <td>2</td>\n",
              "      <td>2</td>\n",
              "      <td>82</td>\n",
              "    </tr>\n",
              "    <tr>\n",
              "      <th>56625</th>\n",
              "      <td>D9D28F7613F996ED</td>\n",
              "      <td>3.667130</td>\n",
              "      <td>5.0</td>\n",
              "      <td>2</td>\n",
              "      <td>2</td>\n",
              "      <td>2</td>\n",
              "      <td>2</td>\n",
              "      <td>2</td>\n",
              "      <td>2</td>\n",
              "      <td>2</td>\n",
              "      <td>2</td>\n",
              "      <td>1</td>\n",
              "      <td>2</td>\n",
              "      <td>2</td>\n",
              "      <td>2</td>\n",
              "      <td>93</td>\n",
              "    </tr>\n",
              "  </tbody>\n",
              "</table>\n",
              "</div>"
            ],
            "text/plain": [
              "            DESYNPUF_ID  diagnosis  target  ...  SP_RA_OA  SP_STRKETIA  age\n",
              "5627   15028A2D722313C3  14.307639    13.0  ...         2            2   37\n",
              "64326  F7D9A4922DAAE1D8   4.216216     4.0  ...         2            2   72\n",
              "20130  4BE7EC634A5E6514  12.375000    12.0  ...         1            2  101\n",
              "19126  4857186379E19600   7.194030     8.0  ...         1            2   87\n",
              "11795  2C94EB5DFB1E53BE   7.194030    17.0  ...         2            2   61\n",
              "25999  62CDC12D5520410B   5.546122     3.0  ...         2            2   83\n",
              "2184   07D80D6696BFF0C2   4.948905     4.0  ...         1            2   94\n",
              "34022  81AC20CBEBE214B3   3.667130     2.0  ...         2            2   82\n",
              "34419  830294D70A8112C0   5.891821     3.0  ...         2            2   82\n",
              "56625  D9D28F7613F996ED   3.667130     5.0  ...         2            2   93\n",
              "\n",
              "[10 rows x 16 columns]"
            ]
          },
          "metadata": {
            "tags": []
          },
          "execution_count": 191
        }
      ]
    },
    {
      "cell_type": "code",
      "metadata": {
        "id": "JnT42U3MH4vJ"
      },
      "source": [
        "x_train = train_df.drop(['target', 'DESYNPUF_ID'], axis='columns').values\n",
        "x_test = test_df.drop(['target', 'DESYNPUF_ID'], axis='columns').values"
      ],
      "execution_count": null,
      "outputs": []
    },
    {
      "cell_type": "markdown",
      "metadata": {
        "id": "tWNwEJ3oIZPb"
      },
      "source": [
        "# The Model"
      ]
    },
    {
      "cell_type": "code",
      "metadata": {
        "id": "E86Ys9UGIXo8",
        "outputId": "736c7361-4a71-45bc-8dcc-2e749fc137c2",
        "colab": {
          "base_uri": "https://localhost:8080/",
          "height": 357
        }
      },
      "source": [
        "tf.keras.backend.clear_session()\n",
        "from tensorflow.keras.layers import Dense\n",
        "from tensorflow.keras import Input, Model\n",
        "\n",
        "inp = Input(shape=(x_train.shape[1]))\n",
        "x = Dense(512, activation='relu')(inp)\n",
        "x = Dense(256, activation='relu')(x)\n",
        "x = Dense(128, activation='relu')(x)\n",
        "x = Dense(64, activation='relu')(x)\n",
        "out = Dense(1)(x)\n",
        "\n",
        "model = Model(inputs=[inp], outputs=[out])\n",
        "model.compile(optimizer='adam', loss='mse', metrics=['mae'])\n",
        "model.summary()"
      ],
      "execution_count": null,
      "outputs": [
        {
          "output_type": "stream",
          "text": [
            "Model: \"functional_4\"\n",
            "_________________________________________________________________\n",
            "Layer (type)                 Output Shape              Param #   \n",
            "=================================================================\n",
            "input_3 (InputLayer)         [(None, 14)]              0         \n",
            "_________________________________________________________________\n",
            "dense_10 (Dense)             (None, 512)               7680      \n",
            "_________________________________________________________________\n",
            "dense_11 (Dense)             (None, 256)               131328    \n",
            "_________________________________________________________________\n",
            "dense_12 (Dense)             (None, 128)               32896     \n",
            "_________________________________________________________________\n",
            "dense_13 (Dense)             (None, 64)                8256      \n",
            "_________________________________________________________________\n",
            "dense_14 (Dense)             (None, 1)                 65        \n",
            "=================================================================\n",
            "Total params: 180,225\n",
            "Trainable params: 180,225\n",
            "Non-trainable params: 0\n",
            "_________________________________________________________________\n"
          ],
          "name": "stdout"
        }
      ]
    },
    {
      "cell_type": "markdown",
      "metadata": {
        "id": "suKSU8XYvi-s"
      },
      "source": [
        "# Training\n",
        "\n",
        "Since the data is synthetic we should not expect any kind of meaning in our results. But just running 10 epochs to demonstrate how to accomplish this with real data."
      ]
    },
    {
      "cell_type": "code",
      "metadata": {
        "id": "DYUTVPhoJT6v",
        "outputId": "34b34bd4-4fec-490d-c043-20755ee5fd81",
        "colab": {
          "base_uri": "https://localhost:8080/",
          "height": 357
        }
      },
      "source": [
        "history = model.fit(x_train, y_train, epochs=10, validation_data=(x_test, y_test))"
      ],
      "execution_count": null,
      "outputs": [
        {
          "output_type": "stream",
          "text": [
            "Epoch 1/10\n",
            "1663/1663 [==============================] - 7s 4ms/step - loss: 36.2417 - mae: 3.5798 - val_loss: 35.0276 - val_mae: 3.5725\n",
            "Epoch 2/10\n",
            "1663/1663 [==============================] - 7s 4ms/step - loss: 35.1941 - mae: 3.5139 - val_loss: 35.8047 - val_mae: 3.3381\n",
            "Epoch 3/10\n",
            "1663/1663 [==============================] - 7s 4ms/step - loss: 35.2045 - mae: 3.5098 - val_loss: 35.0267 - val_mae: 3.5578\n",
            "Epoch 4/10\n",
            "1663/1663 [==============================] - 7s 4ms/step - loss: 35.0808 - mae: 3.5012 - val_loss: 34.9816 - val_mae: 3.5025\n",
            "Epoch 5/10\n",
            "1663/1663 [==============================] - 7s 4ms/step - loss: 34.9721 - mae: 3.4949 - val_loss: 35.3738 - val_mae: 3.7100\n",
            "Epoch 6/10\n",
            "1663/1663 [==============================] - 7s 4ms/step - loss: 34.9603 - mae: 3.4952 - val_loss: 34.9381 - val_mae: 3.5747\n",
            "Epoch 7/10\n",
            "1663/1663 [==============================] - 7s 4ms/step - loss: 34.9490 - mae: 3.4960 - val_loss: 34.9946 - val_mae: 3.4306\n",
            "Epoch 8/10\n",
            "1663/1663 [==============================] - 7s 4ms/step - loss: 34.9030 - mae: 3.4894 - val_loss: 35.2953 - val_mae: 3.5720\n",
            "Epoch 9/10\n",
            "1663/1663 [==============================] - 7s 4ms/step - loss: 34.8623 - mae: 3.4876 - val_loss: 35.0117 - val_mae: 3.5648\n",
            "Epoch 10/10\n",
            "1663/1663 [==============================] - 7s 4ms/step - loss: 34.8388 - mae: 3.4882 - val_loss: 34.9865 - val_mae: 3.5719\n"
          ],
          "name": "stdout"
        }
      ]
    }
  ]
}