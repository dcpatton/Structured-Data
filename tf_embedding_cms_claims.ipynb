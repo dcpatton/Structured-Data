{
  "nbformat": 4,
  "nbformat_minor": 0,
  "metadata": {
    "colab": {
      "name": "tf_embedding_cms_claims.ipynb",
      "provenance": [],
      "collapsed_sections": [],
      "authorship_tag": "ABX9TyMB7pZfhxh1h/SBtgJGJOta",
      "include_colab_link": true
    },
    "kernelspec": {
      "name": "python3",
      "display_name": "Python 3"
    }
  },
  "cells": [
    {
      "cell_type": "markdown",
      "metadata": {
        "id": "view-in-github",
        "colab_type": "text"
      },
      "source": [
        "<a href=\"https://colab.research.google.com/github/dcpatton/Structured-Data/blob/main/tf_embedding_cms_claims.ipynb\" target=\"_parent\"><img src=\"https://colab.research.google.com/assets/colab-badge.svg\" alt=\"Open In Colab\"/></a>"
      ]
    },
    {
      "cell_type": "markdown",
      "metadata": {
        "id": "4lD2FpLu1k7Q"
      },
      "source": [
        "# Objective\n",
        "This notebook is a proof of concept. It shows an example of tf.feature_columns and in particular embedding columns (https://www.tensorflow.org/api_docs/python/tf/feature_column/embedding_column)"
      ]
    },
    {
      "cell_type": "code",
      "metadata": {
        "id": "tTUDyFIWuFSl",
        "outputId": "5e1b0742-3971-444f-b7d7-b91fb846eed0",
        "colab": {
          "base_uri": "https://localhost:8080/",
          "height": 35
        }
      },
      "source": [
        "import tensorflow as tf\n",
        "import pandas as pd\n",
        "pd.set_option('display.max_rows', 999)\n",
        "pd.set_option('max_info_columns', 200)\n",
        "import numpy as np\n",
        "import random\n",
        "import warnings\n",
        "warnings.filterwarnings(\"ignore\")\n",
        "\n",
        "seed=52\n",
        "tf.random.set_seed(seed)\n",
        "random.seed(seed)\n",
        "\n",
        "tf.__version__"
      ],
      "execution_count": null,
      "outputs": [
        {
          "output_type": "execute_result",
          "data": {
            "application/vnd.google.colaboratory.intrinsic+json": {
              "type": "string"
            },
            "text/plain": [
              "'2.3.0'"
            ]
          },
          "metadata": {
            "tags": []
          },
          "execution_count": 1
        }
      ]
    },
    {
      "cell_type": "markdown",
      "metadata": {
        "id": "qoU9uh6quLxF"
      },
      "source": [
        "# Get the Data\n",
        "\n",
        "The data can be downloaded from https://www.cms.gov/Research-Statistics-Data-and-Systems/Downloadable-Public-Use-Files/SynPUFs/DE_Syn_PUF. Here I retrieve it from my GCP storage."
      ]
    },
    {
      "cell_type": "code",
      "metadata": {
        "id": "TTPdpbVpubUr"
      },
      "source": [
        "from google.colab import auth\n",
        "auth.authenticate_user()"
      ],
      "execution_count": null,
      "outputs": []
    },
    {
      "cell_type": "code",
      "metadata": {
        "id": "b8qAY3CEuoGW",
        "outputId": "a40cea6a-ac68-4bb6-b947-c3bc3c5cfd44",
        "colab": {
          "base_uri": "https://localhost:8080/",
          "height": 68
        }
      },
      "source": [
        "!curl https://sdk.cloud.google.com >/dev/null"
      ],
      "execution_count": null,
      "outputs": [
        {
          "output_type": "stream",
          "text": [
            "  % Total    % Received % Xferd  Average Speed   Time    Time     Time  Current\n",
            "                                 Dload  Upload   Total   Spent    Left  Speed\n",
            "\r  0     0    0     0    0     0      0      0 --:--:-- --:--:-- --:--:--     0\r100   443  100   443    0     0  18458      0 --:--:-- --:--:-- --:--:-- 18458\n"
          ],
          "name": "stdout"
        }
      ]
    },
    {
      "cell_type": "code",
      "metadata": {
        "id": "9nMKkv7Rur56",
        "outputId": "8a5cd8c9-1220-4b08-fd47-6d2a38c89c27",
        "colab": {
          "base_uri": "https://localhost:8080/",
          "height": 765
        }
      },
      "source": [
        "!gcloud init --skip-diagnostics --account='dcpatton@gmail.com' --project='cms-de1' "
      ],
      "execution_count": null,
      "outputs": [
        {
          "output_type": "stream",
          "text": [
            "Welcome! This command will take you through the configuration of gcloud.\n",
            "\n",
            "Settings from your current configuration [default] are:\n",
            "component_manager:\n",
            "  disable_update_check: 'True'\n",
            "compute:\n",
            "  gce_metadata_read_timeout_sec: '0'\n",
            "core:\n",
            "  account: dcpatton@gmail.com\n",
            "  project: cms-de1\n",
            "\n",
            "Pick configuration to use:\n",
            " [1] Re-initialize this configuration [default] with new settings \n",
            " [2] Create a new configuration\n",
            "Please enter your numeric choice:  1\n",
            "\n",
            "Your current configuration has been set to: [default]\n",
            "\n",
            "You are logged in as: [dcpatton@gmail.com].\n",
            "\n",
            "Your current project has been set to: [cms-de1].\n",
            "\n",
            "Not setting default zone/region (this feature makes it easier to use\n",
            "[gcloud compute] by setting an appropriate default value for the\n",
            "--zone and --region flag).\n",
            "See https://cloud.google.com/compute/docs/gcloud-compute section on how to set\n",
            "default compute region and zone manually. If you would like [gcloud init] to be\n",
            "able to do this for you the next time you run it, make sure the\n",
            "Compute Engine API is enabled for your project on the\n",
            "https://console.developers.google.com/apis page.\n",
            "\n",
            "Your Google Cloud SDK is configured and ready to use!\n",
            "\n",
            "* Commands that require authentication will use dcpatton@gmail.com by default\n",
            "* Commands will reference project `cms-de1` by default\n",
            "Run `gcloud help config` to learn how to change individual settings\n",
            "\n",
            "This gcloud configuration is called [default]. You can create additional configurations if you work with multiple accounts and/or projects.\n",
            "Run `gcloud topic configurations` to learn more.\n",
            "\n",
            "Some things to try next:\n",
            "\n",
            "* Run `gcloud --help` to see the Cloud Platform services you can interact with. And run `gcloud help COMMAND` to get help on any gcloud command.\n",
            "* Run `gcloud topic --help` to learn about advanced features of the SDK like arg files and output formatting\n"
          ],
          "name": "stdout"
        }
      ]
    },
    {
      "cell_type": "code",
      "metadata": {
        "id": "XO-Te8HpurZm",
        "outputId": "6ce69d7b-77df-4c53-81c1-5fe2a069edbc",
        "colab": {
          "base_uri": "https://localhost:8080/",
          "height": 289
        }
      },
      "source": [
        "!gsutil cp gs://de-synpuf/*.zip ."
      ],
      "execution_count": null,
      "outputs": [
        {
          "output_type": "stream",
          "text": [
            "Copying gs://de-synpuf/176537_DE1_0_2010_Beneficiary_Summary_File_Sample_20.zip...\n",
            "Copying gs://de-synpuf/176541_DE1_0_2008_Beneficiary_Summary_File_Sample_1.zip...\n",
            "Copying gs://de-synpuf/176549_DE1_0_2008_to_2010_Inpatient_Claims_Sample_1.zip...\n",
            "Copying gs://de-synpuf/176600_DE1_0_2009_Beneficiary_Summary_File_Sample_1.zip...\n",
            "/ [4 files][ 12.8 MiB/ 12.8 MiB]                                                \n",
            "==> NOTE: You are performing a sequence of gsutil operations that may\n",
            "run significantly faster if you instead use gsutil -m cp ... Please\n",
            "see the -m section under \"gsutil help options\" for further information\n",
            "about when gsutil -m can be advantageous.\n",
            "\n",
            "Copying gs://de-synpuf/176616_DE1_0_2008_to_2010_Outpatient_Claims_Sample_1.zip...\n",
            "Copying gs://de-synpuf/DE1_0_2008_to_2010_Carrier_Claims_Sample_1A.zip...\n",
            "Copying gs://de-synpuf/DE1_0_2008_to_2010_Carrier_Claims_Sample_1B.zip...\n",
            "Copying gs://de-synpuf/DE1_0_2008_to_2010_Prescription_Drug_Events_Sample_1.zip...\n",
            "- [8 files][361.5 MiB/361.5 MiB]   18.0 MiB/s                                   \n",
            "Operation completed over 8 objects/361.5 MiB.                                    \n"
          ],
          "name": "stdout"
        }
      ]
    },
    {
      "cell_type": "markdown",
      "metadata": {
        "id": "2qMeNzARumSr"
      },
      "source": [
        "# Preprocess the data\n"
      ]
    },
    {
      "cell_type": "code",
      "metadata": {
        "id": "R7Fu9c_pyr9T",
        "outputId": "4c85ac1c-0352-455d-b682-4f71cefcd35b",
        "colab": {
          "base_uri": "https://localhost:8080/",
          "height": 51
        }
      },
      "source": [
        "!unzip 176549_DE1_0_2008_to_2010_Inpatient_Claims_Sample_1.zip"
      ],
      "execution_count": null,
      "outputs": [
        {
          "output_type": "stream",
          "text": [
            "Archive:  176549_DE1_0_2008_to_2010_Inpatient_Claims_Sample_1.zip\n",
            "  inflating: DE1_0_2008_to_2010_Inpatient_Claims_Sample_1.csv  \n"
          ],
          "name": "stdout"
        }
      ]
    },
    {
      "cell_type": "code",
      "metadata": {
        "id": "nYdviYhyur2P"
      },
      "source": [
        "claims_df = pd.read_csv('DE1_0_2008_to_2010_Inpatient_Claims_Sample_1.csv', parse_dates=['CLM_FROM_DT', 'CLM_THRU_DT'])"
      ],
      "execution_count": null,
      "outputs": []
    },
    {
      "cell_type": "code",
      "metadata": {
        "id": "tgzyp-LUFdsr",
        "outputId": "b16bb932-b906-47b9-cba0-b4a10ee4cf4c",
        "colab": {
          "base_uri": "https://localhost:8080/",
          "height": 119
        }
      },
      "source": [
        "!unzip 176541_DE1_0_2008_Beneficiary_Summary_File_Sample_1.zip\n",
        "!unzip 176600_DE1_0_2009_Beneficiary_Summary_File_Sample_1.zip\n",
        "!unzip 176537_DE1_0_2010_Beneficiary_Summary_File_Sample_20.zip"
      ],
      "execution_count": null,
      "outputs": [
        {
          "output_type": "stream",
          "text": [
            "Archive:  176541_DE1_0_2008_Beneficiary_Summary_File_Sample_1.zip\n",
            "  inflating: DE1_0_2008_Beneficiary_Summary_File_Sample_1.csv  \n",
            "Archive:  176600_DE1_0_2009_Beneficiary_Summary_File_Sample_1.zip\n",
            "  inflating: DE1_0_2009_Beneficiary_Summary_File_Sample_1.csv  \n",
            "Archive:  176537_DE1_0_2010_Beneficiary_Summary_File_Sample_20.zip\n",
            "  inflating: DE1_0_2010_Beneficiary_Summary_File_Sample_20.csv  \n"
          ],
          "name": "stdout"
        }
      ]
    },
    {
      "cell_type": "code",
      "metadata": {
        "id": "DWA0LuK0FPE_"
      },
      "source": [
        "summary_2008_df = pd.read_csv('DE1_0_2008_Beneficiary_Summary_File_Sample_1.csv', parse_dates=['BENE_BIRTH_DT'])\n",
        "summary_2009_df = pd.read_csv('DE1_0_2009_Beneficiary_Summary_File_Sample_1.csv', parse_dates=['BENE_BIRTH_DT'])\n",
        "summary_2010_df = pd.read_csv('DE1_0_2010_Beneficiary_Summary_File_Sample_20.csv', parse_dates=['BENE_BIRTH_DT'])"
      ],
      "execution_count": null,
      "outputs": []
    },
    {
      "cell_type": "markdown",
      "metadata": {
        "id": "oovAWjKSutR5"
      },
      "source": [
        "Combining the beneficiary data into a single dataframe."
      ]
    },
    {
      "cell_type": "code",
      "metadata": {
        "id": "WEnr5G4LerDK"
      },
      "source": [
        "summary_df = pd.merge(summary_2009_df, summary_2009_df, how='outer')\n",
        "summary_df = pd.merge(summary_df, summary_2010_df, how='outer')"
      ],
      "execution_count": null,
      "outputs": []
    },
    {
      "cell_type": "code",
      "metadata": {
        "id": "F8uQstumWcW2"
      },
      "source": [
        "# drop all lines with SEGMENT=2 because they contain no diagnosis codes nor procedure codes\n",
        "claims_df = claims_df[claims_df['SEGMENT']==1]"
      ],
      "execution_count": null,
      "outputs": []
    },
    {
      "cell_type": "code",
      "metadata": {
        "id": "3eL7InGFXto5"
      },
      "source": [
        "# set missing admitting diagnosis codes to first diagnosis code\n",
        "missing_df = claims_df[claims_df['ADMTNG_ICD9_DGNS_CD'].isna()]\n",
        "for idx, row in missing_df.iterrows():\n",
        "  claims_df.at[idx, 'ADMTNG_ICD9_DGNS_CD'] = row.ICD9_DGNS_CD_1"
      ],
      "execution_count": null,
      "outputs": []
    },
    {
      "cell_type": "code",
      "metadata": {
        "id": "Q3iwGqt7ntMZ"
      },
      "source": [
        "claims_df.at[26530, 'ADMTNG_ICD9_DGNS_CD'] = '8020' # set it to ICD9_DGNS_CD_2 value"
      ],
      "execution_count": null,
      "outputs": []
    },
    {
      "cell_type": "code",
      "metadata": {
        "id": "VQVhxtdfoFOA",
        "outputId": "e1cfba20-6249-4893-ce10-c9869bd38744",
        "colab": {
          "base_uri": "https://localhost:8080/",
          "height": 34
        }
      },
      "source": [
        "claims_df['ADMTNG_ICD9_DGNS_CD'].isna().sum()"
      ],
      "execution_count": null,
      "outputs": [
        {
          "output_type": "execute_result",
          "data": {
            "text/plain": [
              "0"
            ]
          },
          "metadata": {
            "tags": []
          },
          "execution_count": 14
        }
      ]
    },
    {
      "cell_type": "code",
      "metadata": {
        "id": "lAzQ_lRkuLR9",
        "outputId": "b030bd6f-22e5-4f0f-dc4c-3fc0b561c50f",
        "colab": {
          "base_uri": "https://localhost:8080/",
          "height": 85
        }
      },
      "source": [
        "claims_sub_df = claims_df[['DESYNPUF_ID', 'ADMTNG_ICD9_DGNS_CD','CLM_UTLZTN_DAY_CNT']]\n",
        "claims_sub_df.isna().sum()"
      ],
      "execution_count": null,
      "outputs": [
        {
          "output_type": "execute_result",
          "data": {
            "text/plain": [
              "DESYNPUF_ID            0\n",
              "ADMTNG_ICD9_DGNS_CD    0\n",
              "CLM_UTLZTN_DAY_CNT     0\n",
              "dtype: int64"
            ]
          },
          "metadata": {
            "tags": []
          },
          "execution_count": 15
        }
      ]
    },
    {
      "cell_type": "code",
      "metadata": {
        "id": "JY9F1zTRxH7m",
        "outputId": "709f14f2-d7eb-40ef-9859-5b9dc1daa6b1",
        "colab": {
          "base_uri": "https://localhost:8080/",
          "height": 272
        }
      },
      "source": [
        "summary_sub_df = summary_df[['DESYNPUF_ID', 'BENE_BIRTH_DT', 'BENE_SEX_IDENT_CD', 'SP_ALZHDMTA', 'SP_CHF', 'SP_CHRNKIDN', 'SP_CNCR', 'SP_COPD',\n",
        "                             'SP_DEPRESSN', 'SP_DIABETES', 'SP_ISCHMCHT', 'SP_OSTEOPRS', 'SP_RA_OA', 'SP_STRKETIA']]\n",
        "summary_sub_df.isna().sum()"
      ],
      "execution_count": null,
      "outputs": [
        {
          "output_type": "execute_result",
          "data": {
            "text/plain": [
              "DESYNPUF_ID          0\n",
              "BENE_BIRTH_DT        0\n",
              "BENE_SEX_IDENT_CD    0\n",
              "SP_ALZHDMTA          0\n",
              "SP_CHF               0\n",
              "SP_CHRNKIDN          0\n",
              "SP_CNCR              0\n",
              "SP_COPD              0\n",
              "SP_DEPRESSN          0\n",
              "SP_DIABETES          0\n",
              "SP_ISCHMCHT          0\n",
              "SP_OSTEOPRS          0\n",
              "SP_RA_OA             0\n",
              "SP_STRKETIA          0\n",
              "dtype: int64"
            ]
          },
          "metadata": {
            "tags": []
          },
          "execution_count": 16
        }
      ]
    },
    {
      "cell_type": "code",
      "metadata": {
        "id": "CvjZemdnyLGU",
        "outputId": "6f83b699-c454-43c7-ebe9-334dbf1b1e98",
        "colab": {
          "base_uri": "https://localhost:8080/",
          "height": 408
        }
      },
      "source": [
        "data_df = claims_sub_df.merge(summary_sub_df, on='DESYNPUF_ID')\n",
        "data_df.info()"
      ],
      "execution_count": null,
      "outputs": [
        {
          "output_type": "stream",
          "text": [
            "<class 'pandas.core.frame.DataFrame'>\n",
            "Int64Index: 66518 entries, 0 to 66517\n",
            "Data columns (total 16 columns):\n",
            " #   Column               Non-Null Count  Dtype         \n",
            "---  ------               --------------  -----         \n",
            " 0   DESYNPUF_ID          66518 non-null  object        \n",
            " 1   ADMTNG_ICD9_DGNS_CD  66518 non-null  object        \n",
            " 2   CLM_UTLZTN_DAY_CNT   66518 non-null  float64       \n",
            " 3   BENE_BIRTH_DT        66518 non-null  datetime64[ns]\n",
            " 4   BENE_SEX_IDENT_CD    66518 non-null  int64         \n",
            " 5   SP_ALZHDMTA          66518 non-null  int64         \n",
            " 6   SP_CHF               66518 non-null  int64         \n",
            " 7   SP_CHRNKIDN          66518 non-null  int64         \n",
            " 8   SP_CNCR              66518 non-null  int64         \n",
            " 9   SP_COPD              66518 non-null  int64         \n",
            " 10  SP_DEPRESSN          66518 non-null  int64         \n",
            " 11  SP_DIABETES          66518 non-null  int64         \n",
            " 12  SP_ISCHMCHT          66518 non-null  int64         \n",
            " 13  SP_OSTEOPRS          66518 non-null  int64         \n",
            " 14  SP_RA_OA             66518 non-null  int64         \n",
            " 15  SP_STRKETIA          66518 non-null  int64         \n",
            "dtypes: datetime64[ns](1), float64(1), int64(12), object(2)\n",
            "memory usage: 8.6+ MB\n"
          ],
          "name": "stdout"
        }
      ]
    },
    {
      "cell_type": "code",
      "metadata": {
        "id": "f0239PxbBSfG"
      },
      "source": [
        "data_df['year'] = pd.DatetimeIndex(data_df['BENE_BIRTH_DT']).year\n",
        "data_df['age'] = 2020-data_df['year']\n",
        "data_df.drop(['year','BENE_BIRTH_DT'], axis='columns', inplace=True)"
      ],
      "execution_count": null,
      "outputs": []
    },
    {
      "cell_type": "markdown",
      "metadata": {
        "id": "RlAUKR6RvIms"
      },
      "source": [
        "CLM_UTLZTN_DAY_CNT will be the target to predict and ADMTNG_ICD9_DGNS_CD will be the high cardinality categorical column we encode. Renaming them for convenience."
      ]
    },
    {
      "cell_type": "code",
      "metadata": {
        "id": "H-1x_nfhznh1",
        "outputId": "705cc4d4-8b82-45b6-a542-0ce3ee4f19f7",
        "colab": {
          "base_uri": "https://localhost:8080/",
          "height": 224
        }
      },
      "source": [
        "data_df = data_df.rename(columns={\"CLM_UTLZTN_DAY_CNT\": \"target\", \"ADMTNG_ICD9_DGNS_CD\": \"diagnosis\"})\n",
        "data_df.head()"
      ],
      "execution_count": null,
      "outputs": [
        {
          "output_type": "execute_result",
          "data": {
            "text/html": [
              "<div>\n",
              "<style scoped>\n",
              "    .dataframe tbody tr th:only-of-type {\n",
              "        vertical-align: middle;\n",
              "    }\n",
              "\n",
              "    .dataframe tbody tr th {\n",
              "        vertical-align: top;\n",
              "    }\n",
              "\n",
              "    .dataframe thead th {\n",
              "        text-align: right;\n",
              "    }\n",
              "</style>\n",
              "<table border=\"1\" class=\"dataframe\">\n",
              "  <thead>\n",
              "    <tr style=\"text-align: right;\">\n",
              "      <th></th>\n",
              "      <th>DESYNPUF_ID</th>\n",
              "      <th>diagnosis</th>\n",
              "      <th>target</th>\n",
              "      <th>BENE_SEX_IDENT_CD</th>\n",
              "      <th>SP_ALZHDMTA</th>\n",
              "      <th>SP_CHF</th>\n",
              "      <th>SP_CHRNKIDN</th>\n",
              "      <th>SP_CNCR</th>\n",
              "      <th>SP_COPD</th>\n",
              "      <th>SP_DEPRESSN</th>\n",
              "      <th>SP_DIABETES</th>\n",
              "      <th>SP_ISCHMCHT</th>\n",
              "      <th>SP_OSTEOPRS</th>\n",
              "      <th>SP_RA_OA</th>\n",
              "      <th>SP_STRKETIA</th>\n",
              "      <th>age</th>\n",
              "    </tr>\n",
              "  </thead>\n",
              "  <tbody>\n",
              "    <tr>\n",
              "      <th>0</th>\n",
              "      <td>00013D2EFD8E45D1</td>\n",
              "      <td>4580</td>\n",
              "      <td>1.0</td>\n",
              "      <td>1</td>\n",
              "      <td>2</td>\n",
              "      <td>2</td>\n",
              "      <td>2</td>\n",
              "      <td>2</td>\n",
              "      <td>2</td>\n",
              "      <td>2</td>\n",
              "      <td>2</td>\n",
              "      <td>2</td>\n",
              "      <td>2</td>\n",
              "      <td>2</td>\n",
              "      <td>2</td>\n",
              "      <td>97</td>\n",
              "    </tr>\n",
              "    <tr>\n",
              "      <th>1</th>\n",
              "      <td>00016F745862898F</td>\n",
              "      <td>7866</td>\n",
              "      <td>6.0</td>\n",
              "      <td>1</td>\n",
              "      <td>1</td>\n",
              "      <td>2</td>\n",
              "      <td>1</td>\n",
              "      <td>2</td>\n",
              "      <td>2</td>\n",
              "      <td>1</td>\n",
              "      <td>1</td>\n",
              "      <td>1</td>\n",
              "      <td>2</td>\n",
              "      <td>1</td>\n",
              "      <td>1</td>\n",
              "      <td>77</td>\n",
              "    </tr>\n",
              "    <tr>\n",
              "      <th>2</th>\n",
              "      <td>00016F745862898F</td>\n",
              "      <td>6186</td>\n",
              "      <td>2.0</td>\n",
              "      <td>1</td>\n",
              "      <td>1</td>\n",
              "      <td>2</td>\n",
              "      <td>1</td>\n",
              "      <td>2</td>\n",
              "      <td>2</td>\n",
              "      <td>1</td>\n",
              "      <td>1</td>\n",
              "      <td>1</td>\n",
              "      <td>2</td>\n",
              "      <td>1</td>\n",
              "      <td>1</td>\n",
              "      <td>77</td>\n",
              "    </tr>\n",
              "    <tr>\n",
              "      <th>3</th>\n",
              "      <td>00016F745862898F</td>\n",
              "      <td>29590</td>\n",
              "      <td>3.0</td>\n",
              "      <td>1</td>\n",
              "      <td>1</td>\n",
              "      <td>2</td>\n",
              "      <td>1</td>\n",
              "      <td>2</td>\n",
              "      <td>2</td>\n",
              "      <td>1</td>\n",
              "      <td>1</td>\n",
              "      <td>1</td>\n",
              "      <td>2</td>\n",
              "      <td>1</td>\n",
              "      <td>1</td>\n",
              "      <td>77</td>\n",
              "    </tr>\n",
              "    <tr>\n",
              "      <th>4</th>\n",
              "      <td>00016F745862898F</td>\n",
              "      <td>5849</td>\n",
              "      <td>5.0</td>\n",
              "      <td>1</td>\n",
              "      <td>1</td>\n",
              "      <td>2</td>\n",
              "      <td>1</td>\n",
              "      <td>2</td>\n",
              "      <td>2</td>\n",
              "      <td>1</td>\n",
              "      <td>1</td>\n",
              "      <td>1</td>\n",
              "      <td>2</td>\n",
              "      <td>1</td>\n",
              "      <td>1</td>\n",
              "      <td>77</td>\n",
              "    </tr>\n",
              "  </tbody>\n",
              "</table>\n",
              "</div>"
            ],
            "text/plain": [
              "        DESYNPUF_ID diagnosis  target  ...  SP_RA_OA  SP_STRKETIA  age\n",
              "0  00013D2EFD8E45D1      4580     1.0  ...         2            2   97\n",
              "1  00016F745862898F      7866     6.0  ...         1            1   77\n",
              "2  00016F745862898F      6186     2.0  ...         1            1   77\n",
              "3  00016F745862898F     29590     3.0  ...         1            1   77\n",
              "4  00016F745862898F      5849     5.0  ...         1            1   77\n",
              "\n",
              "[5 rows x 16 columns]"
            ]
          },
          "metadata": {
            "tags": []
          },
          "execution_count": 19
        }
      ]
    },
    {
      "cell_type": "code",
      "metadata": {
        "id": "Oz_SNxtDzIek",
        "outputId": "ce2e8074-499a-4c98-fd85-4cbc6fc3a8f9",
        "colab": {
          "base_uri": "https://localhost:8080/",
          "height": 34
        }
      },
      "source": [
        "# Note the high cardinality\n",
        "data_df.diagnosis.nunique()"
      ],
      "execution_count": null,
      "outputs": [
        {
          "output_type": "execute_result",
          "data": {
            "text/plain": [
              "2316"
            ]
          },
          "metadata": {
            "tags": []
          },
          "execution_count": 20
        }
      ]
    },
    {
      "cell_type": "code",
      "metadata": {
        "id": "vcZp-FKt0aC0",
        "outputId": "c20ecb91-a7ad-42ad-a418-0f4bd3f90261",
        "colab": {
          "base_uri": "https://localhost:8080/",
          "height": 391
        }
      },
      "source": [
        "data_df.drop(['DESYNPUF_ID'], axis='columns', inplace=True)\n",
        "data_df.info()"
      ],
      "execution_count": null,
      "outputs": [
        {
          "output_type": "stream",
          "text": [
            "<class 'pandas.core.frame.DataFrame'>\n",
            "Int64Index: 66518 entries, 0 to 66517\n",
            "Data columns (total 15 columns):\n",
            " #   Column             Non-Null Count  Dtype  \n",
            "---  ------             --------------  -----  \n",
            " 0   diagnosis          66518 non-null  object \n",
            " 1   target             66518 non-null  float64\n",
            " 2   BENE_SEX_IDENT_CD  66518 non-null  int64  \n",
            " 3   SP_ALZHDMTA        66518 non-null  int64  \n",
            " 4   SP_CHF             66518 non-null  int64  \n",
            " 5   SP_CHRNKIDN        66518 non-null  int64  \n",
            " 6   SP_CNCR            66518 non-null  int64  \n",
            " 7   SP_COPD            66518 non-null  int64  \n",
            " 8   SP_DEPRESSN        66518 non-null  int64  \n",
            " 9   SP_DIABETES        66518 non-null  int64  \n",
            " 10  SP_ISCHMCHT        66518 non-null  int64  \n",
            " 11  SP_OSTEOPRS        66518 non-null  int64  \n",
            " 12  SP_RA_OA           66518 non-null  int64  \n",
            " 13  SP_STRKETIA        66518 non-null  int64  \n",
            " 14  age                66518 non-null  int64  \n",
            "dtypes: float64(1), int64(13), object(1)\n",
            "memory usage: 8.1+ MB\n"
          ],
          "name": "stdout"
        }
      ]
    },
    {
      "cell_type": "code",
      "metadata": {
        "id": "0_aF0sD4Ggd-",
        "outputId": "fa6dc9f4-4e6a-43d0-ff4a-25aaac70e9e4",
        "colab": {
          "base_uri": "https://localhost:8080/",
          "height": 51
        }
      },
      "source": [
        "from sklearn.model_selection import train_test_split\n",
        "train_df, test_df = train_test_split(data_df, test_size=0.2, random_state=seed)\n",
        "print(train_df.shape)\n",
        "print(test_df.shape)"
      ],
      "execution_count": null,
      "outputs": [
        {
          "output_type": "stream",
          "text": [
            "(53214, 15)\n",
            "(13304, 15)\n"
          ],
          "name": "stdout"
        }
      ]
    },
    {
      "cell_type": "code",
      "metadata": {
        "id": "sUJl7pO83l3k"
      },
      "source": [
        "def df_to_dataset(dataframe, shuffle=True, batch_size=32):\n",
        "  dataframe = dataframe.copy()\n",
        "  labels = dataframe.pop('target')\n",
        "  ds = tf.data.Dataset.from_tensor_slices((dict(dataframe), labels))\n",
        "  if shuffle:\n",
        "    ds = ds.shuffle(buffer_size=len(dataframe))\n",
        "  ds = ds.batch(batch_size)\n",
        "  return ds"
      ],
      "execution_count": null,
      "outputs": []
    },
    {
      "cell_type": "markdown",
      "metadata": {
        "id": "PGAlPbbd8YYo"
      },
      "source": [
        "Here we are going to create embeddings for the diagnosis codes. These embeddings will be learned by the model."
      ]
    },
    {
      "cell_type": "code",
      "metadata": {
        "id": "0cKigztt3l6e"
      },
      "source": [
        "from tensorflow import feature_column\n",
        "\n",
        "feature_columns = []\n",
        "\n",
        "# numeric cols\n",
        "for header in ['age']:\n",
        "  feature_columns.append(feature_column.numeric_column(header))\n",
        "\n",
        "# indicator_columns\n",
        "indicator_column_names = ['BENE_SEX_IDENT_CD', 'SP_ALZHDMTA', 'SP_CHF', 'SP_CHRNKIDN', 'SP_CNCR',\n",
        "                          'SP_COPD', 'SP_DEPRESSN', 'SP_DIABETES', 'SP_ISCHMCHT', 'SP_OSTEOPRS', 'SP_RA_OA', 'SP_STRKETIA']\n",
        "for col_name in indicator_column_names:\n",
        "  categorical_column = feature_column.categorical_column_with_vocabulary_list(\n",
        "      col_name, data_df[col_name].unique())\n",
        "  indicator_column = feature_column.indicator_column(categorical_column)\n",
        "  feature_columns.append(indicator_column)\n",
        "\n",
        "# embedding columns\n",
        "diagnosis = feature_column.categorical_column_with_vocabulary_list(\n",
        "      'diagnosis', data_df.diagnosis.unique())\n",
        "diagnosis_embedding = feature_column.embedding_column(diagnosis, dimension=16)\n",
        "feature_columns.append(diagnosis_embedding)"
      ],
      "execution_count": null,
      "outputs": []
    },
    {
      "cell_type": "code",
      "metadata": {
        "id": "Xrmu87QJ55tF"
      },
      "source": [
        "feature_layer = tf.keras.layers.DenseFeatures(feature_columns)"
      ],
      "execution_count": null,
      "outputs": []
    },
    {
      "cell_type": "code",
      "metadata": {
        "id": "NOnYbkQp3l9Q"
      },
      "source": [
        "batch_size = 32\n",
        "train_ds = df_to_dataset(train_df, batch_size=batch_size)\n",
        "test_ds = df_to_dataset(test_df, shuffle=False, batch_size=batch_size)"
      ],
      "execution_count": null,
      "outputs": []
    },
    {
      "cell_type": "markdown",
      "metadata": {
        "id": "tWNwEJ3oIZPb"
      },
      "source": [
        "# The Model"
      ]
    },
    {
      "cell_type": "code",
      "metadata": {
        "id": "S_L1ZllE6dDy"
      },
      "source": [
        "tf.keras.backend.clear_session()\n",
        "from tensorflow.keras.layers import Dense\n",
        "\n",
        "model = tf.keras.Sequential([\n",
        "  feature_layer,\n",
        "  Dense(512, activation='relu'),\n",
        "  Dense(256, activation='relu'),\n",
        "  Dense(128, activation='relu'),\n",
        "  Dense(64, activation='relu'),\n",
        "  Dense(1)\n",
        "])\n",
        "\n",
        "model.compile(optimizer='adam', loss='mse', metrics=['mae'])"
      ],
      "execution_count": null,
      "outputs": []
    },
    {
      "cell_type": "markdown",
      "metadata": {
        "id": "suKSU8XYvi-s"
      },
      "source": [
        "# Training\n",
        "\n",
        "Since the data is synthetic we should not expect any kind of meaning in our results. But just running 10 epochs to demonstrate how to accomplish this with real data."
      ]
    },
    {
      "cell_type": "code",
      "metadata": {
        "id": "DYUTVPhoJT6v",
        "outputId": "ae5a533f-0dee-4c57-a0de-cdc34515eef5",
        "colab": {
          "base_uri": "https://localhost:8080/",
          "height": 479
        }
      },
      "source": [
        "history = model.fit(train_ds, epochs=10, validation_data=test_ds)"
      ],
      "execution_count": null,
      "outputs": [
        {
          "output_type": "stream",
          "text": [
            "Epoch 1/10\n",
            "WARNING:tensorflow:Layers in a Sequential model should only have a single input tensor, but we receive a <class 'dict'> input: {'diagnosis': <tf.Tensor 'ExpandDims_13:0' shape=(None, 1) dtype=string>, 'BENE_SEX_IDENT_CD': <tf.Tensor 'ExpandDims:0' shape=(None, 1) dtype=int64>, 'SP_ALZHDMTA': <tf.Tensor 'ExpandDims_1:0' shape=(None, 1) dtype=int64>, 'SP_CHF': <tf.Tensor 'ExpandDims_2:0' shape=(None, 1) dtype=int64>, 'SP_CHRNKIDN': <tf.Tensor 'ExpandDims_3:0' shape=(None, 1) dtype=int64>, 'SP_CNCR': <tf.Tensor 'ExpandDims_4:0' shape=(None, 1) dtype=int64>, 'SP_COPD': <tf.Tensor 'ExpandDims_5:0' shape=(None, 1) dtype=int64>, 'SP_DEPRESSN': <tf.Tensor 'ExpandDims_6:0' shape=(None, 1) dtype=int64>, 'SP_DIABETES': <tf.Tensor 'ExpandDims_7:0' shape=(None, 1) dtype=int64>, 'SP_ISCHMCHT': <tf.Tensor 'ExpandDims_8:0' shape=(None, 1) dtype=int64>, 'SP_OSTEOPRS': <tf.Tensor 'ExpandDims_9:0' shape=(None, 1) dtype=int64>, 'SP_RA_OA': <tf.Tensor 'ExpandDims_10:0' shape=(None, 1) dtype=int64>, 'SP_STRKETIA': <tf.Tensor 'ExpandDims_11:0' shape=(None, 1) dtype=int64>, 'age': <tf.Tensor 'ExpandDims_12:0' shape=(None, 1) dtype=int64>}\n",
            "Consider rewriting this model with the Functional API.\n",
            "WARNING:tensorflow:Layers in a Sequential model should only have a single input tensor, but we receive a <class 'dict'> input: {'diagnosis': <tf.Tensor 'ExpandDims_13:0' shape=(None, 1) dtype=string>, 'BENE_SEX_IDENT_CD': <tf.Tensor 'ExpandDims:0' shape=(None, 1) dtype=int64>, 'SP_ALZHDMTA': <tf.Tensor 'ExpandDims_1:0' shape=(None, 1) dtype=int64>, 'SP_CHF': <tf.Tensor 'ExpandDims_2:0' shape=(None, 1) dtype=int64>, 'SP_CHRNKIDN': <tf.Tensor 'ExpandDims_3:0' shape=(None, 1) dtype=int64>, 'SP_CNCR': <tf.Tensor 'ExpandDims_4:0' shape=(None, 1) dtype=int64>, 'SP_COPD': <tf.Tensor 'ExpandDims_5:0' shape=(None, 1) dtype=int64>, 'SP_DEPRESSN': <tf.Tensor 'ExpandDims_6:0' shape=(None, 1) dtype=int64>, 'SP_DIABETES': <tf.Tensor 'ExpandDims_7:0' shape=(None, 1) dtype=int64>, 'SP_ISCHMCHT': <tf.Tensor 'ExpandDims_8:0' shape=(None, 1) dtype=int64>, 'SP_OSTEOPRS': <tf.Tensor 'ExpandDims_9:0' shape=(None, 1) dtype=int64>, 'SP_RA_OA': <tf.Tensor 'ExpandDims_10:0' shape=(None, 1) dtype=int64>, 'SP_STRKETIA': <tf.Tensor 'ExpandDims_11:0' shape=(None, 1) dtype=int64>, 'age': <tf.Tensor 'ExpandDims_12:0' shape=(None, 1) dtype=int64>}\n",
            "Consider rewriting this model with the Functional API.\n",
            "1656/1663 [============================>.] - ETA: 0s - loss: 38.5566 - mae: 3.7038WARNING:tensorflow:Layers in a Sequential model should only have a single input tensor, but we receive a <class 'dict'> input: {'diagnosis': <tf.Tensor 'ExpandDims_13:0' shape=(None, 1) dtype=string>, 'BENE_SEX_IDENT_CD': <tf.Tensor 'ExpandDims:0' shape=(None, 1) dtype=int64>, 'SP_ALZHDMTA': <tf.Tensor 'ExpandDims_1:0' shape=(None, 1) dtype=int64>, 'SP_CHF': <tf.Tensor 'ExpandDims_2:0' shape=(None, 1) dtype=int64>, 'SP_CHRNKIDN': <tf.Tensor 'ExpandDims_3:0' shape=(None, 1) dtype=int64>, 'SP_CNCR': <tf.Tensor 'ExpandDims_4:0' shape=(None, 1) dtype=int64>, 'SP_COPD': <tf.Tensor 'ExpandDims_5:0' shape=(None, 1) dtype=int64>, 'SP_DEPRESSN': <tf.Tensor 'ExpandDims_6:0' shape=(None, 1) dtype=int64>, 'SP_DIABETES': <tf.Tensor 'ExpandDims_7:0' shape=(None, 1) dtype=int64>, 'SP_ISCHMCHT': <tf.Tensor 'ExpandDims_8:0' shape=(None, 1) dtype=int64>, 'SP_OSTEOPRS': <tf.Tensor 'ExpandDims_9:0' shape=(None, 1) dtype=int64>, 'SP_RA_OA': <tf.Tensor 'ExpandDims_10:0' shape=(None, 1) dtype=int64>, 'SP_STRKETIA': <tf.Tensor 'ExpandDims_11:0' shape=(None, 1) dtype=int64>, 'age': <tf.Tensor 'ExpandDims_12:0' shape=(None, 1) dtype=int64>}\n",
            "Consider rewriting this model with the Functional API.\n",
            "1663/1663 [==============================] - 10s 6ms/step - loss: 38.5292 - mae: 3.7043 - val_loss: 34.9919 - val_mae: 3.4955\n",
            "Epoch 2/10\n",
            "1663/1663 [==============================] - 10s 6ms/step - loss: 36.6765 - mae: 3.5703 - val_loss: 34.8009 - val_mae: 3.4284\n",
            "Epoch 3/10\n",
            "1663/1663 [==============================] - 10s 6ms/step - loss: 36.0536 - mae: 3.5374 - val_loss: 34.8867 - val_mae: 3.6406\n",
            "Epoch 4/10\n",
            "1663/1663 [==============================] - 10s 6ms/step - loss: 35.6937 - mae: 3.5180 - val_loss: 34.7140 - val_mae: 3.4603\n",
            "Epoch 5/10\n",
            "1663/1663 [==============================] - 10s 6ms/step - loss: 35.4512 - mae: 3.5016 - val_loss: 35.4432 - val_mae: 3.3546\n",
            "Epoch 6/10\n",
            "1663/1663 [==============================] - 10s 6ms/step - loss: 35.3462 - mae: 3.4995 - val_loss: 35.1116 - val_mae: 3.6709\n",
            "Epoch 7/10\n",
            "1663/1663 [==============================] - 10s 6ms/step - loss: 35.1833 - mae: 3.4867 - val_loss: 35.2584 - val_mae: 3.7069\n",
            "Epoch 8/10\n",
            "1663/1663 [==============================] - 10s 6ms/step - loss: 35.1103 - mae: 3.4811 - val_loss: 35.2006 - val_mae: 3.3707\n",
            "Epoch 9/10\n",
            "1663/1663 [==============================] - 10s 6ms/step - loss: 34.9558 - mae: 3.4740 - val_loss: 35.8537 - val_mae: 3.8705\n",
            "Epoch 10/10\n",
            "1663/1663 [==============================] - 10s 6ms/step - loss: 34.9153 - mae: 3.4726 - val_loss: 35.0189 - val_mae: 3.4670\n"
          ],
          "name": "stdout"
        }
      ]
    }
  ]
}